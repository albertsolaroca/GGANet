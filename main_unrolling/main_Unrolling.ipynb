{
 "cells": [
  {
   "cell_type": "markdown",
   "source": [
    "## Imports"
   ],
   "metadata": {
    "collapsed": false
   }
  },
  {
   "cell_type": "code",
   "execution_count": 12,
   "outputs": [],
   "source": [
    "import pandas as pd\n",
    "import numpy as np\n",
    "import math\n",
    "from sklearn.model_selection import ParameterGrid\n",
    "from sklearn.metrics import r2_score\n",
    "\n",
    "import sys\n",
    "import pickle\n",
    "import wandb\n",
    "import yaml\n",
    "\n",
    "import torch\n",
    "import torch.optim as optim\n",
    "import torch_geometric\n",
    "from torch_geometric.utils import to_networkx\n",
    "import torch.nn as nn\n",
    "from torch.nn import Sequential, Linear\n",
    "import networkx as nx\n",
    "\n",
    "from utils.miscellaneous import read_config\n",
    "from utils.miscellaneous import create_folder_structure_MLPvsGNN\n",
    "from utils.miscellaneous import initalize_random_generators\n",
    "\n",
    "from training.train import training\n",
    "from training.test import testing\n",
    "\n",
    "from utils.visualization import plot_R2, plot_loss\n",
    "from matplotlib\timport pyplot as plt"
   ],
   "metadata": {
    "collapsed": false,
    "ExecuteTime": {
     "end_time": "2023-09-11T11:45:04.627708400Z",
     "start_time": "2023-09-11T11:45:04.548440400Z"
    }
   }
  },
  {
   "cell_type": "markdown",
   "source": [
    "### Parse configuration file + initializations\n"
   ],
   "metadata": {
    "collapsed": false
   }
  },
  {
   "cell_type": "code",
   "execution_count": 13,
   "outputs": [
    {
     "name": "stdout",
     "output_type": "stream",
     "text": [
      "Creating folder: ./experiments/unrolling_WDN0092\n",
      "cpu\n"
     ]
    }
   ],
   "source": [
    "# read config files\n",
    "cfg = read_config(\"config_unrolling.yaml\")\n",
    "# create folder for result\n",
    "exp_name = cfg['exp_name']\n",
    "data_folder = cfg['data_folder']\n",
    "results_folder = create_folder_structure_MLPvsGNN(cfg, parent_folder='./experiments')\n",
    "\n",
    "\n",
    "all_wdn_names = cfg['networks']\n",
    "initalize_random_generators(cfg, count=0)\n",
    "\n",
    "# initialize pytorch device\n",
    "device = torch.device('cuda:0' if torch.cuda.is_available() else 'cpu')\n",
    "print(device)\n",
    "#torch.set_num_threads(12)"
   ],
   "metadata": {
    "collapsed": false,
    "ExecuteTime": {
     "end_time": "2023-09-11T11:45:04.627708400Z",
     "start_time": "2023-09-11T11:45:04.565208600Z"
    }
   }
  },
  {
   "cell_type": "code",
   "execution_count": 14,
   "outputs": [],
   "source": [
    "# TO DO: at the moment I am not using the parsed values for batch size and num_epochs ;\n",
    "# I am not using alpha as well because the loss has no \"smoothness\" penalty (yet)\n",
    "batch_size = cfg['trainParams']['batch_size']\n",
    "alpha = cfg['lossParams']['alpha']\n",
    "res_columns = ['train_loss', 'valid_loss','test_loss','max_train_loss', 'max_valid_loss','max_test_loss', 'min_train_loss', 'min_valid_loss','min_test_loss','r2_train', 'r2_valid',\n",
    "\t\t\t   'r2_test','total_params','total_time','test_time']"
   ],
   "metadata": {
    "collapsed": false,
    "ExecuteTime": {
     "end_time": "2023-09-11T11:45:04.627708400Z",
     "start_time": "2023-09-11T11:45:04.596460600Z"
    }
   }
  },
  {
   "cell_type": "markdown",
   "source": [
    "# Functions"
   ],
   "metadata": {
    "collapsed": false
   }
  },
  {
   "cell_type": "code",
   "execution_count": 15,
   "outputs": [],
   "source": [
    "from sklearn.preprocessing import MinMaxScaler\n",
    "from sklearn.base import BaseEstimator,TransformerMixin\n",
    "\n",
    "class PowerLogTransformer(BaseEstimator,TransformerMixin):\n",
    "\tdef __init__(self,log_transform=False,power=4,reverse=True):\n",
    "\t\tif log_transform == True:\n",
    "\t\t\tself.log_transform = log_transform\n",
    "\t\t\tself.power = None\n",
    "\t\telse:\n",
    "\t\t\tself.power = power\n",
    "\t\t\tself.log_transform = None\n",
    "\t\tself.reverse=reverse\n",
    "\t\tself.max_ = None\n",
    "\t\tself.min_ = None\n",
    "\n",
    "\tdef fit(self,X,y=None):\n",
    "\t\tself.max_ = np.max(X)\n",
    "\t\tself.min_ = np.min(X)\n",
    "\t\treturn self\n",
    "\n",
    "\tdef transform(self,X):\n",
    "\t\tif self.log_transform==True:\n",
    "\t\t\tif self.reverse == True:\n",
    "\t\t\t\treturn np.log1p(self.max_-X)\n",
    "\t\t\telse:\n",
    "\t\t\t\treturn np.log1p(X-self.min_)\n",
    "\t\telse:\n",
    "\t\t\tif self.reverse == True:\n",
    "\t\t\t\treturn (self.max_-X)**(1/self.power )\n",
    "\t\t\telse:\n",
    "\t\t\t\treturn (X-self.min_)**(1/self.power )\n",
    "\n",
    "\tdef inverse_transform(self,X):\n",
    "\t\tif self.log_transform==True:\n",
    "\t\t\tif self.reverse == True:\n",
    "\t\t\t\treturn (self.max_ - np.exp(X))\n",
    "\t\t\telse:\n",
    "\t\t\t\treturn (np.exp(X) + self.min_)\n",
    "\t\telse:\n",
    "\t\t\tif self.reverse == True:\n",
    "\t\t\t\treturn (self.max_ - X**self.power )\n",
    "\t\t\telse:\n",
    "\t\t\t\treturn (X**self.power + self.min_)\n",
    "\n",
    "\n",
    "class GraphNormalizer:\n",
    "\tdef __init__(self, x_feat_names=['head', 'base_demand'],\n",
    "\t\t\t\t ea_feat_names=['diameter', 'length', 'roughness'], output='pressure'):\n",
    "\t\t# store\n",
    "\t\tself.x_feat_names = x_feat_names\n",
    "\t\tself.ea_feat_names = ea_feat_names\n",
    "\t\tself.output = output\n",
    "\n",
    "\t\t# create separate scaler for each feature (can be improved, e.g., you can fit a scaler for multiple columns)\n",
    "\t\tself.scalers = {}\n",
    "\t\tfor feat in self.x_feat_names:\n",
    "\t\t\tif feat == 'elevation':\n",
    "\t\t\t\tself.scalers[feat] = PowerLogTransformer(log_transform=True, reverse=False)\n",
    "\t\t\telse:\n",
    "\t\t\t\tself.scalers[feat] = MinMaxScaler()\n",
    "\t\tself.scalers[output] = PowerLogTransformer(log_transform=True, reverse=True)\n",
    "\t\tfor feat in self.ea_feat_names:\n",
    "\t\t\tif feat == 'length':\n",
    "\t\t\t\tself.scalers[feat] = PowerLogTransformer(log_transform=True, reverse=False)\n",
    "\t\t\telse:\n",
    "\t\t\t\tself.scalers[feat] = MinMaxScaler()\n",
    "\n",
    "\tdef fit(self, graphs):\n",
    "\t\t''' Fit the scalers on an array of x and ea features\n",
    "        '''\n",
    "\t\tx, y, ea = from_graphs_to_pandas(graphs)\n",
    "\t\tfor ix, feat in enumerate(self.x_feat_names):\n",
    "\t\t\tself.scalers[feat] = self.scalers[feat].fit(x[:, ix].reshape(-1, 1))\n",
    "\t\tself.scalers[self.output] = self.scalers[self.output].fit(y.reshape(-1, 1))\n",
    "\t\tfor ix, feat in enumerate(self.ea_feat_names):\n",
    "\t\t\tself.scalers[feat] = self.scalers[feat].fit(ea[:, ix].reshape(-1, 1))\n",
    "\t\treturn self\n",
    "\n",
    "\tdef transform(self, graph):\n",
    "\t\t''' Transform graph based on normalizer\n",
    "        '''\n",
    "\t\tgraph = graph.clone()\n",
    "\t\tfor ix, feat in enumerate(self.x_feat_names):\n",
    "\t\t\ttemp = graph.x[:, ix].numpy().reshape(-1, 1)\n",
    "\t\t\tgraph.x[:, ix] = torch.tensor(self.scalers[feat].transform(temp).reshape(-1))\n",
    "\t\tfor ix, feat in enumerate(self.ea_feat_names):\n",
    "\t\t\ttemp = graph.edge_attr[:, ix].numpy().reshape(-1, 1)\n",
    "\t\t\tgraph.edge_attr[:, ix] = torch.tensor(self.scalers[feat].transform(temp).reshape(-1))\n",
    "\t\tgraph.y = torch.tensor(self.scalers[self.output].transform(graph.y.numpy().reshape(-1, 1)).reshape(-1))\n",
    "\t\treturn graph\n",
    "\n",
    "\tdef inverse_transform(self, graph):\n",
    "\t\t''' Perform inverse transformation to return original features\n",
    "        '''\n",
    "\t\tgraph = graph.clone()\n",
    "\t\tfor ix, feat in enumerate(self.x_feat_names):\n",
    "\t\t\ttemp = graph.x[:, ix].numpy().reshape(-1, 1)\n",
    "\t\t\tgraph.x[:, ix] = torch.tensor(self.scalers[feat].inverse_transform(temp).reshape(-1))\n",
    "\t\tfor ix, feat in enumerate(self.ea_feat_names):\n",
    "\t\t\ttemp = graph.edge_attr[:, ix].numpy().reshape(-1, 1)\n",
    "\t\t\tgraph.edge_attr[:, ix] = torch.tensor(self.scalers[feat].inverse_transform(temp).reshape(-1))\n",
    "\t\tgraph.y = torch.tensor(self.scalers[self.output].inverse_transform(graph.y.numpy().reshape(-1, 1)).reshape(-1))\n",
    "\t\treturn graph\n",
    "\n",
    "\tdef transform_array(self, z, feat_name):\n",
    "\t\t'''\n",
    "            This is for MLP dataset; it can be done better (the entire thing, from raw data to datasets)\n",
    "        '''\n",
    "\t\treturn torch.tensor(self.scalers[feat_name].transform(z).reshape(-1))\n",
    "\n",
    "\tdef inverse_transform_array(self, z, feat_name):\n",
    "\t\t'''\n",
    "            This is for MLP dataset; it can be done better (the entire thing, from raw data to datasets)\n",
    "        '''\n",
    "\t\treturn torch.tensor(self.scalers[feat_name].inverse_transform(z).reshape(-1))\n",
    "\n",
    "def from_graphs_to_pandas(graphs, l_x=3, l_ea=3):\n",
    "\tx = []\n",
    "\ty = []\n",
    "\tea = []\n",
    "\tfor i, graph in enumerate(graphs):\n",
    "\t\tx.append(graph.x.numpy())\n",
    "\t\ty.append(graph.y.reshape(-1, 1).numpy())\n",
    "\t\tea.append(graph.edge_attr.numpy())\n",
    "\treturn np.concatenate(x, axis=0), np.concatenate(y, axis=0), np.concatenate(ea, axis=0)\n"
   ],
   "metadata": {
    "collapsed": false,
    "ExecuteTime": {
     "end_time": "2023-09-11T11:45:04.643336200Z",
     "start_time": "2023-09-11T11:45:04.627708400Z"
    }
   }
  },
  {
   "cell_type": "code",
   "execution_count": 16,
   "outputs": [],
   "source": [
    "# constant indexes for node and edge features\n",
    "HEAD_INDEX = 0 # Elevation + base head + initial level\n",
    "BASEDEMAND_INDEX = 1 \n",
    "TYPE_INDEX = 2 \n",
    "NODE_DIAMETER_INDEX = 3 # Needed for tanks\n",
    "DIAMETER_INDEX = 0 \n",
    "LENGTH_INDEX = 1 \n",
    "ROUGHNESS_INDEX = 2 \n",
    "FLOW_INDEX = 3 \n",
    "\n",
    "def load_raw_dataset(wdn_name, data_folder):\n",
    "\t'''\n",
    "\tLoad tra/val/data for a water distribution network datasets\n",
    "\t-------\n",
    "\twdn_name : string\n",
    "\t\tprefix of pickle files to open\n",
    "\tdata_folder : string\n",
    "\t\tpath to datasets\n",
    "\t'''\n",
    "\n",
    "\tdata_tra = pickle.load(open(f'{data_folder}/train/{wdn_name}.p', \"rb\"))\n",
    "\tdata_val = pickle.load(open(f'{data_folder}/valid/{wdn_name}.p', \"rb\"))\n",
    "\tdata_tst = pickle.load(open(f'{data_folder}/test/{wdn_name}.p', \"rb\"))\n",
    "\n",
    "\treturn data_tra, data_val, data_tst\n",
    "\n",
    "def create_dataset(database, normalizer=None, HW_rough_minmax=[60, 150], output='pressure'):\n",
    "\t'''\n",
    "\tCreates working datasets dataset from the pickle databases\n",
    "\t------\n",
    "\tdatabase : list\n",
    "\t\teach element in the list is a pickle file containing Data objects\n",
    "\tnormalization: dict\n",
    "\t\tnormalize the dataset using mean and std\n",
    "\t'''\n",
    "\t# Roughness info (Hazen-Williams) / TODO: remove the hard_coding\n",
    "\tminR = HW_rough_minmax[0]\n",
    "\tmaxR = HW_rough_minmax[1]\n",
    "\n",
    "\tgraphs = []\n",
    "\n",
    "\tfor i in database:\n",
    "\t\t\n",
    "\t\tprint(\"Dataset is\", i)\n",
    "\t\tgraph = torch_geometric.data.Data()\n",
    "\n",
    "\t\t# Node attributes\n",
    "\t\t# min_elevation = min(i.elevation[i.type_1H == 0])\n",
    "\t\t\n",
    "\t\t# The head below is junctions plus reservoirs (plus tanks when implemented)\n",
    "\t\thead = i.pressure + i.base_head + i.elevation + i.initial_level\n",
    "\t\t\n",
    "\t\t# type_1H is equal to 1 when the node is a reservoir and 2 when its a tank\n",
    "\t\t\n",
    "\t\t# We want to make the tuple that constructs a node of any type\n",
    "\t\tgraph.x = torch.stack((i.elevation+i.base_head+i.initial_level, i.base_demand, i.type_1H, i.node_diameter), dim=1).float()\n",
    "\n",
    "\t\t# Position and ID\n",
    "\t\tgraph.pos = i.pos\n",
    "\t\tgraph.ID = i.ID\n",
    "\n",
    "\t\t# Edge index (Adjacency matrix)\n",
    "\t\tgraph.edge_index = i.edge_index\n",
    "\n",
    "\t\t# Edge attributes\n",
    "\t\tdiameter = i.diameter\n",
    "\t\tlength = i.length\n",
    "\t\troughness = i.roughness\n",
    "\t\tgraph.edge_attr = torch.stack((diameter, length, roughness), dim=1).float()\n",
    "\n",
    "\t\t# Graph output (head)\n",
    "\t\tif output == 'head':\n",
    "\t\t\tgraph.y  = head[i.type_1H == 0].reshape(-1, 1)\n",
    "\t\telse:\n",
    "\t\t\tgraph.y = i.pressure[i.type_1H == 0].reshape(-1, 1)\n",
    "\t\t\n",
    "\t\t# normalization\n",
    "\t\tif normalizer is not None:\n",
    "\t\t\tgraph = normalizer.transform(graph)\n",
    "\t\t\n",
    "\t\tgraphs.append(graph)\n",
    "\tA12 = nx.incidence_matrix(to_networkx(graphs[0]), oriented=True).toarray().transpose()\n",
    "\treturn graphs, A12\n",
    "\n",
    "def create_dataset_MLP_from_graphs(graphs, features=['nodal_demands', 'base_heads','diameter','roughness','length', 'nodal_diameters'],no_res_out=True):\n",
    "\n",
    "\t# index edges to avoid duplicates: this considers all graphs to be UNDIRECTED!\n",
    "\tix_edge = graphs[0].edge_index.numpy().T\n",
    "\tix_edge = (ix_edge[:, 0] < ix_edge[:, 1])\n",
    "\n",
    "\t# position of reservoirs, and tanks\n",
    "\t# reservoir type is 1, tank is 2\n",
    "\tix_junct = graphs[0].x[:,TYPE_INDEX].numpy()==0\n",
    "\tix_res = graphs[0].x[:,TYPE_INDEX].numpy()==1\n",
    "\tix_tank = graphs[0].x[:,TYPE_INDEX].numpy()==2\n",
    "\tindices = []\n",
    "\tfor ix_feat, feature in enumerate(features):\n",
    "\t\tfor ix_item, item in enumerate(graphs):\n",
    "\t\t\tif feature == 'diameter':\n",
    "\t\t\t\tx_ = item.edge_attr[ix_edge,DIAMETER_INDEX]\n",
    "\t\t\telif feature == 'roughness':\n",
    "\t\t\t\t# remove reservoirs\n",
    "\t\t\t\tx_ = item.edge_attr[ix_edge,ROUGHNESS_INDEX]\n",
    "\t\t\telif feature == 'length':\n",
    "\t\t\t\t# remove reservoirs\n",
    "\t\t\t\tx_ = item.edge_attr[ix_edge,LENGTH_INDEX]\n",
    "\t\t\telif feature == 'nodal_demands':\n",
    "\t\t\t\t# remove reservoirs\n",
    "\t\t\t\tx_ = item.x[ix_junct,BASEDEMAND_INDEX]\n",
    "\t\t\telif feature == 'nodal_diameters':\n",
    "\t\t\t\t# Only get diameters for \n",
    "\t\t\t\tx_ = item.x[ix_tank,NODE_DIAMETER_INDEX]\n",
    "\t\t\telif feature == 'base_heads':\n",
    "\t\t\t\tx_ = item.x[ix_res,HEAD_INDEX]\n",
    "\t\t\telse:\n",
    "\t\t\t\traise ValueError(f'Feature {feature} not supported.')\n",
    "\t\t\t\n",
    "\t\t\tif ix_item == 0:\n",
    "\t\t\t\tx = x_\n",
    "\t\t\telse:\n",
    "\t\t\t\tx = torch.cat((x, x_), dim=0)\n",
    "\t\t\n",
    "\t\n",
    "\t\tif ix_feat == 0:\n",
    "\t\t\tX = x.reshape(len(graphs), -1)\n",
    "\t\telse:\n",
    "\t\t\tX = torch.cat((X, x.reshape(len(graphs), -1)), dim=1)\n",
    "\t\tindices.append(X.shape[1])\n",
    "\t\t\n",
    "\tfor ix_item, item in enumerate(graphs):\n",
    "\t\t# remove reservoirs from y as well\n",
    "\t\tif ix_item == 0:\n",
    "\t\t\tif no_res_out == True:\n",
    "\t\t\t\ty = item.y\n",
    "\t\t\telse:\n",
    "\t\t\t\ty = item.y[ix_junct]\n",
    "\t\telse:\n",
    "\t\t\tif no_res_out == True:\n",
    "\t\t\t\ty = torch.cat((y, item.y), dim=0)\n",
    "\t\t\telse:\n",
    "\t\t\t\ty = torch.cat((y, item.y[ix_junct]), dim=0)\n",
    "\ty = y.reshape(len(graphs), -1)\n",
    "\n",
    "\tprint(\"Num inputs\", X.shape[1])\t\n",
    "\treturn torch.utils.data.TensorDataset(X, y), X.shape[1], indices\n",
    "\n",
    "def create_incidence_matrices(graphs,incidence_matrix):\n",
    "\n",
    "\t# position of reservoirs\n",
    "\n",
    "\tix_junct = graphs[0].x[:,TYPE_INDEX].numpy()==0\n",
    "\tix_edge = graphs[0].edge_index.numpy().T\n",
    "\tix_edge = (ix_edge[:, 0] < ix_edge[:, 1])\n",
    "\tincidence_matrix = incidence_matrix[ix_edge,:]\n",
    "\t# The A12 incidence matrix is definitely only junctions, but should the A10 include tanks?\n",
    "\tA10 = incidence_matrix[:, ~ix_junct]\n",
    "\tA12 = incidence_matrix[:, ix_junct]\n",
    "\tA12[np.where(A10 == 1),:] *= -1\n",
    "\tA10[np.where(A10 == 1),:] *= -1\n",
    "\treturn A10, A12"
   ],
   "metadata": {
    "collapsed": false,
    "ExecuteTime": {
     "end_time": "2023-09-11T11:45:04.705829300Z",
     "start_time": "2023-09-11T11:45:04.658958800Z"
    }
   }
  },
  {
   "cell_type": "markdown",
   "source": [
    "## Models\n",
    "I will be Creating different models as follows:\n",
    "\n",
    "* A simple MLP\n",
    "* An unrolled version of Heads, Flows, Initial Head, base_demands, static features and calculating a D block\n",
    "* An unrolled version with the estimation of D and incidence matrices\n"
   ],
   "metadata": {
    "collapsed": false
   }
  },
  {
   "cell_type": "code",
   "execution_count": 17,
   "outputs": [],
   "source": [
    "class MLP(nn.Module):\n",
    "\tdef __init__(self, num_outputs, hid_channels, indices, num_layers=6):\n",
    "\t\tsuper(MLP, self).__init__()\n",
    "\t\ttorch.manual_seed(42)\n",
    "\t\tself.hid_channels = hid_channels\n",
    "\t\tself.indices = indices\n",
    "\t\t# This is the number of inflows in the network. It is obtained by subtracting all (demands + heads) from all (edges + demands + heads). This gives the number of edges in the network which is equal to the number of flows. \n",
    "\t\tself.num_flows = indices[2] - indices[1]\n",
    "\n",
    "\t\tlayers = [Linear(indices[-1], hid_channels),\n",
    "\t\t\t\t  nn.ReLU()]\n",
    "\n",
    "\t\tfor l in range(num_layers-1):\n",
    "\t\t\tlayers += [Linear(hid_channels, hid_channels),\n",
    "\t\t\t\t\t   nn.ReLU()]\n",
    "\n",
    "\t\tlayers += [Linear(hid_channels, num_outputs)]\n",
    "\n",
    "\t\tself.main = nn.Sequential(*layers)\n",
    "\n",
    "\tdef forward(self, x):\n",
    "\n",
    "\t\tx = self.main(x)\n",
    "\n",
    "\t\treturn x"
   ],
   "metadata": {
    "collapsed": false,
    "ExecuteTime": {
     "end_time": "2023-09-11T11:45:04.705829300Z",
     "start_time": "2023-09-11T11:45:04.674583400Z"
    }
   }
  },
  {
   "cell_type": "code",
   "execution_count": 18,
   "outputs": [],
   "source": [
    "class BaselineUnrolling(nn.Module):\n",
    "\tdef __init__(self,num_outputs, indices, A12, A10, num_blocks):\n",
    "\t\tsuper(BaselineUnrolling, self).__init__()\n",
    "\t\ttorch.manual_seed(42)\n",
    "\t\tself.indices = indices\n",
    "\t\tself.num_heads = indices[0]\n",
    "\t\tself.num_flows = indices[2]-indices[1]\n",
    "\t\tself.num_blocks = num_blocks\n",
    "\t\tself.n = 1.852\n",
    "\n",
    "\t\tself.device = torch.device('cuda:0' if torch.cuda.is_available() else 'cpu')\n",
    "\n",
    "\t\tself.A12 = torch.from_numpy(A12).to(self.device)\n",
    "\t\tself.A10 = torch.from_numpy(A10).to(self.device)\n",
    "\t\t\n",
    "\t\t# Reference reminder\n",
    "\t\t# indices[0] = junctions (without heads)\n",
    "\t\t# indices[1] = junctions + heads\n",
    "\t\t# indices[2] = junctions + heads + edges (diameter)\n",
    "\t\t# indices[3] = junctions + heads + edges (diameter) + edges (length)\n",
    "\t\t# indices[4] = junctions + heads + edges (diameter) + edges (length) + edges (roughness)\n",
    "\t\t# Which means\n",
    "\t\t# indices[2] - indices[1] = number of edges\n",
    "\t\t# indices[1] - indices[0] = number of heads\n",
    "\t\t# indices[4] - indices[2] = 2 * number of edges\n",
    "\t\t\n",
    "\n",
    "\t\tself.hidQ0_H = Linear(indices[2]-indices[1], self.num_heads)\n",
    "\t\tself.hidh0_Q = Linear(indices[1]-indices[0], self.num_flows)\n",
    "\t\tself.hidh0_H = Linear(indices[1]-indices[0], self.num_heads)\n",
    "\t\tself.hidq_Q =  Linear(indices[0], self.num_flows)\n",
    "\t\tself.hid_S = Sequential(Linear(indices[4] - indices[2], self.num_flows),\n",
    "\t\t\t\t\t\t   nn.ReLU())\n",
    "\n",
    "\t\tself.hid_HF = nn.ModuleList()\n",
    "\t\tself.hid_FH = nn.ModuleList()\n",
    "\t\tself.resQ = nn.ModuleList()\n",
    "\t\tself.hidA_q = nn.ModuleList()\n",
    "\t\tself.hidD_H = nn.ModuleList()\n",
    "\n",
    "\t\tfor i in range(num_blocks):\n",
    "\t\t\tself.hid_HF.append(Sequential(Linear(self.num_heads,self.num_flows), nn.ReLU()))\n",
    "\t\t\tself.hid_FH.append(Sequential(Linear(self.num_flows, self.num_heads),\n",
    "\t\t\t\t\t\t   nn.ReLU()))\n",
    "\t\t\tself.resQ.append(Sequential(Linear(self.num_flows,self.num_heads),\n",
    "\t\t\t\t\t\t   nn.ReLU()))\n",
    "\t\t\tself.hidA_q.append(Sequential(Linear(self.num_flows,self.num_flows),\n",
    "\t\t\t\t\t\t   nn.ReLU()))\n",
    "\t\t\tself.hidD_H.append(Linear(self.num_flows,self.num_heads))\n",
    "\n",
    "\t\tself.out = Linear(self.num_heads, num_outputs)\n",
    "\n",
    "\tdef compute_A11(self,r,q):\n",
    "\t\treturn torch.diag_embed(torch.mul(r,torch.pow(torch.abs(q),self.n-1)).flatten(start_dim=1))\n",
    "\n",
    "\tdef compute_D_inverse(self,r,q):\n",
    "\t\treturn torch.diag_embed(torch.div(1,torch.mul(self.n,torch.mul(r,torch.pow(torch.abs(q),self.n-1))).flatten(start_dim=1)))\n",
    "\n",
    "\tdef forward(self, x):\n",
    "\n",
    "\t\ts, h0, d,c,l = torch.unsqueeze(x[:,:self.indices[0]],dim=2), \\\n",
    "\t\t\t\t\t\t\t   torch.unsqueeze(x[:,self.indices[0]:self.indices[1]],dim=2), \\\n",
    "\t\t\t\t\t\t\t   x[:,self.indices[1]:self.indices[2]].double().view(-1,self.num_flows,1),\\\n",
    "\t\t\t\t\t\t\t\tx[:,self.indices[2]:self.indices[3]].double().view(-1,self.num_flows,1),\\\n",
    "\t\t\t\t\t\t\t\tx[:,self.indices[3]:].double().view(-1,self.num_flows,1)\n",
    "\n",
    "\t\tq =  torch.mul(math.pi/4, torch.pow(d,2)).view(-1,self.num_flows)\n",
    "\n",
    "\t\tfor i in range(self.num_blocks-1):\n",
    "\t\t\th = self.hid_FH[i](q)\n",
    "\t\t\tq = q - self.hid_HF[i](h)\n",
    "\n",
    "\t\treturn self.out(h)"
   ],
   "metadata": {
    "collapsed": false,
    "ExecuteTime": {
     "end_time": "2023-09-11T11:45:04.705829300Z",
     "start_time": "2023-09-11T11:45:04.690215500Z"
    }
   }
  },
  {
   "cell_type": "code",
   "execution_count": 19,
   "outputs": [],
   "source": [
    "class UnrollingModel(nn.Module):\n",
    "\tdef __init__(self, num_outputs, indices, num_blocks):\n",
    "\t\tsuper(UnrollingModel, self).__init__()\n",
    "\t\ttorch.manual_seed(42)\n",
    "\t\tself.indices = indices\n",
    "\t\tself.num_heads = indices[0]\n",
    "\t\tself.num_flows = indices[2]-indices[1]\n",
    "\t\tself.num_blocks = num_blocks\n",
    "\n",
    "\t\tself.hidq0_h = Linear(indices[2]-indices[1], self.num_heads)\n",
    "\t\tself.hidh0_q = Linear(indices[1]-indices[0], self.num_flows)\n",
    "\t\tself.hidh0_h = Linear(indices[1]-indices[0], self.num_heads)\n",
    "\t\tself.hids_q =  Linear(indices[0], self.num_flows)\n",
    "\t\tself.hid_S = Sequential(Linear(indices[4] - indices[2], self.num_flows),\n",
    "\t\t\t\t\t\t   nn.ReLU())\n",
    "\n",
    "\t\tself.hid_hf = nn.ModuleList()\n",
    "\t\tself.hid_fh = nn.ModuleList()\n",
    "\t\tself.resq = nn.ModuleList()\n",
    "\t\tself.hidA_q = nn.ModuleList()\n",
    "\t\tself.hidD_h = nn.ModuleList()\n",
    "\n",
    "\t\tfor i in range(num_blocks):\n",
    "\t\t\tself.hid_hf.append(Sequential(Linear(self.num_heads,self.num_flows), nn.PReLU()))\n",
    "\t\t\tself.hid_fh.append(Sequential(Linear(self.num_flows, self.num_heads),\n",
    "\t\t\t\t\t\t   nn.ReLU()))\n",
    "\t\t\tself.resq.append(Sequential(Linear(self.num_flows,self.num_heads),\n",
    "\t\t\t\t\t\t   nn.ReLU()))\n",
    "\t\t\tself.hidA_q.append(Sequential(Linear(self.num_flows,self.num_flows)))\n",
    "\t\t\tself.hidD_h.append(Sequential(Linear(self.num_flows,self.num_heads),\n",
    "\t\t\t\t\t\t\t   nn.ReLU()))\n",
    "\n",
    "\t\tself.out = Linear(self.num_flows, num_outputs)\n",
    "\n",
    "\tdef forward(self, x):\n",
    "\n",
    "\t\ts, h0, q, hid_S = x[:,:self.indices[0]], x[:,self.indices[0]:self.indices[1]], x[:,self.indices[1]:self.indices[2]], x[:,self.indices[2]:]\n",
    "\t\tres_h0_q, res_s_q, res_q_h, res_h0_h, res_S_q = self.hidh0_q(h0), self.hids_q(s), self.hidq0_h(q), self.hidh0_h(h0), self.hid_S(hid_S)\n",
    "\n",
    "\t\tfor i in range(self.num_blocks-1):\n",
    "\n",
    "\t\t\tA_q = self.hidA_q[i](torch.mul(q, res_S_q))\n",
    "\t\t\tD_h = self.hidD_h[i](A_q)\n",
    "\t\t\thid_x = torch.mul(A_q,torch.sum(torch.stack([q, res_s_q, res_h0_q]),dim=0))\n",
    "\t\t\th = self.hid_fh[i](hid_x)\n",
    "\t\t\thid_x = self.hid_hf[i](torch.mul(torch.sum(torch.stack([h,res_h0_h,res_q_h]),dim=0), D_h))\n",
    "\t\t\tq = torch.sub(q,hid_x)\n",
    "\t\t\tres_q_h = self.resq[i](q)\n",
    "\n",
    "\t\treturn self.out(q)"
   ],
   "metadata": {
    "collapsed": false,
    "ExecuteTime": {
     "end_time": "2023-09-11T11:45:04.724531600Z",
     "start_time": "2023-09-11T11:45:04.705829300Z"
    }
   }
  },
  {
   "cell_type": "markdown",
   "source": [
    "## Running experiments"
   ],
   "metadata": {
    "collapsed": false
   }
  },
  {
   "cell_type": "code",
   "execution_count": 20,
   "outputs": [
    {
     "name": "stdout",
     "output_type": "stream",
     "text": [
      "\n",
      "Working with FOS_tank_1000, network 1 of 1\n",
      "Dataset is Data(edge_index=[2, 118], pos=[38, 2], type=[38], ID=[38], type_1H=[38], base_demand=[38], elevation=[38], base_head=[38], initial_level=[38], node_diameter=[38], edge_type=[118], name='FOS_tank', diameter=[118], length=[118], roughness=[118], diameters=[59], pressure=[38])\n",
      "Dataset is Data(edge_index=[2, 118], pos=[38, 2], type=[38], ID=[38], type_1H=[38], base_demand=[38], elevation=[38], base_head=[38], initial_level=[38], node_diameter=[38], edge_type=[118], name='FOS_tank', diameter=[118], length=[118], roughness=[118], diameters=[59], pressure=[38])\n",
      "Dataset is Data(edge_index=[2, 118], pos=[38, 2], type=[38], ID=[38], type_1H=[38], base_demand=[38], elevation=[38], base_head=[38], initial_level=[38], node_diameter=[38], edge_type=[118], name='FOS_tank', diameter=[118], length=[118], roughness=[118], diameters=[59], pressure=[38])\n",
      "Dataset is Data(edge_index=[2, 118], pos=[38, 2], type=[38], ID=[38], type_1H=[38], base_demand=[38], elevation=[38], base_head=[38], initial_level=[38], node_diameter=[38], edge_type=[118], name='FOS_tank', diameter=[118], length=[118], roughness=[118], diameters=[59], pressure=[38])\n",
      "Dataset is Data(edge_index=[2, 118], pos=[38, 2], type=[38], ID=[38], type_1H=[38], base_demand=[38], elevation=[38], base_head=[38], initial_level=[38], node_diameter=[38], edge_type=[118], name='FOS_tank', diameter=[118], length=[118], roughness=[118], diameters=[59], pressure=[38])\n",
      "Dataset is Data(edge_index=[2, 118], pos=[38, 2], type=[38], ID=[38], type_1H=[38], base_demand=[38], elevation=[38], base_head=[38], initial_level=[38], node_diameter=[38], edge_type=[118], name='FOS_tank', diameter=[118], length=[118], roughness=[118], diameters=[59], pressure=[38])\n",
      "Dataset is Data(edge_index=[2, 118], pos=[38, 2], type=[38], ID=[38], type_1H=[38], base_demand=[38], elevation=[38], base_head=[38], initial_level=[38], node_diameter=[38], edge_type=[118], name='FOS_tank', diameter=[118], length=[118], roughness=[118], diameters=[59], pressure=[38])\n",
      "Dataset is Data(edge_index=[2, 118], pos=[38, 2], type=[38], ID=[38], type_1H=[38], base_demand=[38], elevation=[38], base_head=[38], initial_level=[38], node_diameter=[38], edge_type=[118], name='FOS_tank', diameter=[118], length=[118], roughness=[118], diameters=[59], pressure=[38])\n",
      "Dataset is Data(edge_index=[2, 118], pos=[38, 2], type=[38], ID=[38], type_1H=[38], base_demand=[38], elevation=[38], base_head=[38], initial_level=[38], node_diameter=[38], edge_type=[118], name='FOS_tank', diameter=[118], length=[118], roughness=[118], diameters=[59], pressure=[38])\n",
      "Dataset is Data(edge_index=[2, 118], pos=[38, 2], type=[38], ID=[38], type_1H=[38], base_demand=[38], elevation=[38], base_head=[38], initial_level=[38], node_diameter=[38], edge_type=[118], name='FOS_tank', diameter=[118], length=[118], roughness=[118], diameters=[59], pressure=[38])\n",
      "Dataset is Data(edge_index=[2, 118], pos=[38, 2], type=[38], ID=[38], type_1H=[38], base_demand=[38], elevation=[38], base_head=[38], initial_level=[38], node_diameter=[38], edge_type=[118], name='FOS_tank', diameter=[118], length=[118], roughness=[118], diameters=[59], pressure=[38])\n",
      "Dataset is Data(edge_index=[2, 118], pos=[38, 2], type=[38], ID=[38], type_1H=[38], base_demand=[38], elevation=[38], base_head=[38], initial_level=[38], node_diameter=[38], edge_type=[118], name='FOS_tank', diameter=[118], length=[118], roughness=[118], diameters=[59], pressure=[38])\n",
      "Dataset is Data(edge_index=[2, 118], pos=[38, 2], type=[38], ID=[38], type_1H=[38], base_demand=[38], elevation=[38], base_head=[38], initial_level=[38], node_diameter=[38], edge_type=[118], name='FOS_tank', diameter=[118], length=[118], roughness=[118], diameters=[59], pressure=[38])\n",
      "Dataset is Data(edge_index=[2, 118], pos=[38, 2], type=[38], ID=[38], type_1H=[38], base_demand=[38], elevation=[38], base_head=[38], initial_level=[38], node_diameter=[38], edge_type=[118], name='FOS_tank', diameter=[118], length=[118], roughness=[118], diameters=[59], pressure=[38])\n",
      "Dataset is Data(edge_index=[2, 118], pos=[38, 2], type=[38], ID=[38], type_1H=[38], base_demand=[38], elevation=[38], base_head=[38], initial_level=[38], node_diameter=[38], edge_type=[118], name='FOS_tank', diameter=[118], length=[118], roughness=[118], diameters=[59], pressure=[38])\n",
      "Dataset is Data(edge_index=[2, 118], pos=[38, 2], type=[38], ID=[38], type_1H=[38], base_demand=[38], elevation=[38], base_head=[38], initial_level=[38], node_diameter=[38], edge_type=[118], name='FOS_tank', diameter=[118], length=[118], roughness=[118], diameters=[59], pressure=[38])\n",
      "Dataset is Data(edge_index=[2, 118], pos=[38, 2], type=[38], ID=[38], type_1H=[38], base_demand=[38], elevation=[38], base_head=[38], initial_level=[38], node_diameter=[38], edge_type=[118], name='FOS_tank', diameter=[118], length=[118], roughness=[118], diameters=[59], pressure=[38])\n",
      "Dataset is Data(edge_index=[2, 118], pos=[38, 2], type=[38], ID=[38], type_1H=[38], base_demand=[38], elevation=[38], base_head=[38], initial_level=[38], node_diameter=[38], edge_type=[118], name='FOS_tank', diameter=[118], length=[118], roughness=[118], diameters=[59], pressure=[38])\n",
      "Dataset is Data(edge_index=[2, 118], pos=[38, 2], type=[38], ID=[38], type_1H=[38], base_demand=[38], elevation=[38], base_head=[38], initial_level=[38], node_diameter=[38], edge_type=[118], name='FOS_tank', diameter=[118], length=[118], roughness=[118], diameters=[59], pressure=[38])\n",
      "Dataset is Data(edge_index=[2, 118], pos=[38, 2], type=[38], ID=[38], type_1H=[38], base_demand=[38], elevation=[38], base_head=[38], initial_level=[38], node_diameter=[38], edge_type=[118], name='FOS_tank', diameter=[118], length=[118], roughness=[118], diameters=[59], pressure=[38])\n",
      "Dataset is Data(edge_index=[2, 118], pos=[38, 2], type=[38], ID=[38], type_1H=[38], base_demand=[38], elevation=[38], base_head=[38], initial_level=[38], node_diameter=[38], edge_type=[118], name='FOS_tank', diameter=[118], length=[118], roughness=[118], diameters=[59], pressure=[38])\n",
      "Dataset is Data(edge_index=[2, 118], pos=[38, 2], type=[38], ID=[38], type_1H=[38], base_demand=[38], elevation=[38], base_head=[38], initial_level=[38], node_diameter=[38], edge_type=[118], name='FOS_tank', diameter=[118], length=[118], roughness=[118], diameters=[59], pressure=[38])\n",
      "Dataset is Data(edge_index=[2, 118], pos=[38, 2], type=[38], ID=[38], type_1H=[38], base_demand=[38], elevation=[38], base_head=[38], initial_level=[38], node_diameter=[38], edge_type=[118], name='FOS_tank', diameter=[118], length=[118], roughness=[118], diameters=[59], pressure=[38])\n",
      "Dataset is Data(edge_index=[2, 118], pos=[38, 2], type=[38], ID=[38], type_1H=[38], base_demand=[38], elevation=[38], base_head=[38], initial_level=[38], node_diameter=[38], edge_type=[118], name='FOS_tank', diameter=[118], length=[118], roughness=[118], diameters=[59], pressure=[38])\n",
      "Dataset is Data(edge_index=[2, 118], pos=[38, 2], type=[38], ID=[38], type_1H=[38], base_demand=[38], elevation=[38], base_head=[38], initial_level=[38], node_diameter=[38], edge_type=[118], name='FOS_tank', diameter=[118], length=[118], roughness=[118], diameters=[59], pressure=[38])\n",
      "Dataset is Data(edge_index=[2, 118], pos=[38, 2], type=[38], ID=[38], type_1H=[38], base_demand=[38], elevation=[38], base_head=[38], initial_level=[38], node_diameter=[38], edge_type=[118], name='FOS_tank', diameter=[118], length=[118], roughness=[118], diameters=[59], pressure=[38])\n",
      "Dataset is Data(edge_index=[2, 118], pos=[38, 2], type=[38], ID=[38], type_1H=[38], base_demand=[38], elevation=[38], base_head=[38], initial_level=[38], node_diameter=[38], edge_type=[118], name='FOS_tank', diameter=[118], length=[118], roughness=[118], diameters=[59], pressure=[38])\n",
      "Dataset is Data(edge_index=[2, 118], pos=[38, 2], type=[38], ID=[38], type_1H=[38], base_demand=[38], elevation=[38], base_head=[38], initial_level=[38], node_diameter=[38], edge_type=[118], name='FOS_tank', diameter=[118], length=[118], roughness=[118], diameters=[59], pressure=[38])\n",
      "Dataset is Data(edge_index=[2, 118], pos=[38, 2], type=[38], ID=[38], type_1H=[38], base_demand=[38], elevation=[38], base_head=[38], initial_level=[38], node_diameter=[38], edge_type=[118], name='FOS_tank', diameter=[118], length=[118], roughness=[118], diameters=[59], pressure=[38])\n",
      "Dataset is Data(edge_index=[2, 118], pos=[38, 2], type=[38], ID=[38], type_1H=[38], base_demand=[38], elevation=[38], base_head=[38], initial_level=[38], node_diameter=[38], edge_type=[118], name='FOS_tank', diameter=[118], length=[118], roughness=[118], diameters=[59], pressure=[38])\n",
      "Dataset is Data(edge_index=[2, 118], pos=[38, 2], type=[38], ID=[38], type_1H=[38], base_demand=[38], elevation=[38], base_head=[38], initial_level=[38], node_diameter=[38], edge_type=[118], name='FOS_tank', diameter=[118], length=[118], roughness=[118], diameters=[59], pressure=[38])\n",
      "Dataset is Data(edge_index=[2, 118], pos=[38, 2], type=[38], ID=[38], type_1H=[38], base_demand=[38], elevation=[38], base_head=[38], initial_level=[38], node_diameter=[38], edge_type=[118], name='FOS_tank', diameter=[118], length=[118], roughness=[118], diameters=[59], pressure=[38])\n",
      "Dataset is Data(edge_index=[2, 118], pos=[38, 2], type=[38], ID=[38], type_1H=[38], base_demand=[38], elevation=[38], base_head=[38], initial_level=[38], node_diameter=[38], edge_type=[118], name='FOS_tank', diameter=[118], length=[118], roughness=[118], diameters=[59], pressure=[38])\n",
      "Dataset is Data(edge_index=[2, 118], pos=[38, 2], type=[38], ID=[38], type_1H=[38], base_demand=[38], elevation=[38], base_head=[38], initial_level=[38], node_diameter=[38], edge_type=[118], name='FOS_tank', diameter=[118], length=[118], roughness=[118], diameters=[59], pressure=[38])\n",
      "Dataset is Data(edge_index=[2, 118], pos=[38, 2], type=[38], ID=[38], type_1H=[38], base_demand=[38], elevation=[38], base_head=[38], initial_level=[38], node_diameter=[38], edge_type=[118], name='FOS_tank', diameter=[118], length=[118], roughness=[118], diameters=[59], pressure=[38])\n",
      "Dataset is Data(edge_index=[2, 118], pos=[38, 2], type=[38], ID=[38], type_1H=[38], base_demand=[38], elevation=[38], base_head=[38], initial_level=[38], node_diameter=[38], edge_type=[118], name='FOS_tank', diameter=[118], length=[118], roughness=[118], diameters=[59], pressure=[38])\n",
      "Dataset is Data(edge_index=[2, 118], pos=[38, 2], type=[38], ID=[38], type_1H=[38], base_demand=[38], elevation=[38], base_head=[38], initial_level=[38], node_diameter=[38], edge_type=[118], name='FOS_tank', diameter=[118], length=[118], roughness=[118], diameters=[59], pressure=[38])\n",
      "Dataset is Data(edge_index=[2, 118], pos=[38, 2], type=[38], ID=[38], type_1H=[38], base_demand=[38], elevation=[38], base_head=[38], initial_level=[38], node_diameter=[38], edge_type=[118], name='FOS_tank', diameter=[118], length=[118], roughness=[118], diameters=[59], pressure=[38])\n",
      "Dataset is Data(edge_index=[2, 118], pos=[38, 2], type=[38], ID=[38], type_1H=[38], base_demand=[38], elevation=[38], base_head=[38], initial_level=[38], node_diameter=[38], edge_type=[118], name='FOS_tank', diameter=[118], length=[118], roughness=[118], diameters=[59], pressure=[38])\n",
      "Dataset is Data(edge_index=[2, 118], pos=[38, 2], type=[38], ID=[38], type_1H=[38], base_demand=[38], elevation=[38], base_head=[38], initial_level=[38], node_diameter=[38], edge_type=[118], name='FOS_tank', diameter=[118], length=[118], roughness=[118], diameters=[59], pressure=[38])\n",
      "Dataset is Data(edge_index=[2, 118], pos=[38, 2], type=[38], ID=[38], type_1H=[38], base_demand=[38], elevation=[38], base_head=[38], initial_level=[38], node_diameter=[38], edge_type=[118], name='FOS_tank', diameter=[118], length=[118], roughness=[118], diameters=[59], pressure=[38])\n",
      "Dataset is Data(edge_index=[2, 118], pos=[38, 2], type=[38], ID=[38], type_1H=[38], base_demand=[38], elevation=[38], base_head=[38], initial_level=[38], node_diameter=[38], edge_type=[118], name='FOS_tank', diameter=[118], length=[118], roughness=[118], diameters=[59], pressure=[38])\n",
      "Dataset is Data(edge_index=[2, 118], pos=[38, 2], type=[38], ID=[38], type_1H=[38], base_demand=[38], elevation=[38], base_head=[38], initial_level=[38], node_diameter=[38], edge_type=[118], name='FOS_tank', diameter=[118], length=[118], roughness=[118], diameters=[59], pressure=[38])\n",
      "Dataset is Data(edge_index=[2, 118], pos=[38, 2], type=[38], ID=[38], type_1H=[38], base_demand=[38], elevation=[38], base_head=[38], initial_level=[38], node_diameter=[38], edge_type=[118], name='FOS_tank', diameter=[118], length=[118], roughness=[118], diameters=[59], pressure=[38])\n",
      "Dataset is Data(edge_index=[2, 118], pos=[38, 2], type=[38], ID=[38], type_1H=[38], base_demand=[38], elevation=[38], base_head=[38], initial_level=[38], node_diameter=[38], edge_type=[118], name='FOS_tank', diameter=[118], length=[118], roughness=[118], diameters=[59], pressure=[38])\n",
      "Dataset is Data(edge_index=[2, 118], pos=[38, 2], type=[38], ID=[38], type_1H=[38], base_demand=[38], elevation=[38], base_head=[38], initial_level=[38], node_diameter=[38], edge_type=[118], name='FOS_tank', diameter=[118], length=[118], roughness=[118], diameters=[59], pressure=[38])\n",
      "Dataset is Data(edge_index=[2, 118], pos=[38, 2], type=[38], ID=[38], type_1H=[38], base_demand=[38], elevation=[38], base_head=[38], initial_level=[38], node_diameter=[38], edge_type=[118], name='FOS_tank', diameter=[118], length=[118], roughness=[118], diameters=[59], pressure=[38])\n",
      "Dataset is Data(edge_index=[2, 118], pos=[38, 2], type=[38], ID=[38], type_1H=[38], base_demand=[38], elevation=[38], base_head=[38], initial_level=[38], node_diameter=[38], edge_type=[118], name='FOS_tank', diameter=[118], length=[118], roughness=[118], diameters=[59], pressure=[38])\n",
      "Dataset is Data(edge_index=[2, 118], pos=[38, 2], type=[38], ID=[38], type_1H=[38], base_demand=[38], elevation=[38], base_head=[38], initial_level=[38], node_diameter=[38], edge_type=[118], name='FOS_tank', diameter=[118], length=[118], roughness=[118], diameters=[59], pressure=[38])\n",
      "Dataset is Data(edge_index=[2, 118], pos=[38, 2], type=[38], ID=[38], type_1H=[38], base_demand=[38], elevation=[38], base_head=[38], initial_level=[38], node_diameter=[38], edge_type=[118], name='FOS_tank', diameter=[118], length=[118], roughness=[118], diameters=[59], pressure=[38])\n",
      "Dataset is Data(edge_index=[2, 118], pos=[38, 2], type=[38], ID=[38], type_1H=[38], base_demand=[38], elevation=[38], base_head=[38], initial_level=[38], node_diameter=[38], edge_type=[118], name='FOS_tank', diameter=[118], length=[118], roughness=[118], diameters=[59], pressure=[38])\n",
      "Dataset is Data(edge_index=[2, 118], pos=[38, 2], type=[38], ID=[38], type_1H=[38], base_demand=[38], elevation=[38], base_head=[38], initial_level=[38], node_diameter=[38], edge_type=[118], name='FOS_tank', diameter=[118], length=[118], roughness=[118], diameters=[59], pressure=[38])\n",
      "Dataset is Data(edge_index=[2, 118], pos=[38, 2], type=[38], ID=[38], type_1H=[38], base_demand=[38], elevation=[38], base_head=[38], initial_level=[38], node_diameter=[38], edge_type=[118], name='FOS_tank', diameter=[118], length=[118], roughness=[118], diameters=[59], pressure=[38])\n",
      "Dataset is Data(edge_index=[2, 118], pos=[38, 2], type=[38], ID=[38], type_1H=[38], base_demand=[38], elevation=[38], base_head=[38], initial_level=[38], node_diameter=[38], edge_type=[118], name='FOS_tank', diameter=[118], length=[118], roughness=[118], diameters=[59], pressure=[38])\n",
      "Dataset is Data(edge_index=[2, 118], pos=[38, 2], type=[38], ID=[38], type_1H=[38], base_demand=[38], elevation=[38], base_head=[38], initial_level=[38], node_diameter=[38], edge_type=[118], name='FOS_tank', diameter=[118], length=[118], roughness=[118], diameters=[59], pressure=[38])\n",
      "Dataset is Data(edge_index=[2, 118], pos=[38, 2], type=[38], ID=[38], type_1H=[38], base_demand=[38], elevation=[38], base_head=[38], initial_level=[38], node_diameter=[38], edge_type=[118], name='FOS_tank', diameter=[118], length=[118], roughness=[118], diameters=[59], pressure=[38])\n",
      "Dataset is Data(edge_index=[2, 118], pos=[38, 2], type=[38], ID=[38], type_1H=[38], base_demand=[38], elevation=[38], base_head=[38], initial_level=[38], node_diameter=[38], edge_type=[118], name='FOS_tank', diameter=[118], length=[118], roughness=[118], diameters=[59], pressure=[38])\n",
      "Dataset is Data(edge_index=[2, 118], pos=[38, 2], type=[38], ID=[38], type_1H=[38], base_demand=[38], elevation=[38], base_head=[38], initial_level=[38], node_diameter=[38], edge_type=[118], name='FOS_tank', diameter=[118], length=[118], roughness=[118], diameters=[59], pressure=[38])\n",
      "Dataset is Data(edge_index=[2, 118], pos=[38, 2], type=[38], ID=[38], type_1H=[38], base_demand=[38], elevation=[38], base_head=[38], initial_level=[38], node_diameter=[38], edge_type=[118], name='FOS_tank', diameter=[118], length=[118], roughness=[118], diameters=[59], pressure=[38])\n",
      "Dataset is Data(edge_index=[2, 118], pos=[38, 2], type=[38], ID=[38], type_1H=[38], base_demand=[38], elevation=[38], base_head=[38], initial_level=[38], node_diameter=[38], edge_type=[118], name='FOS_tank', diameter=[118], length=[118], roughness=[118], diameters=[59], pressure=[38])\n",
      "Dataset is Data(edge_index=[2, 118], pos=[38, 2], type=[38], ID=[38], type_1H=[38], base_demand=[38], elevation=[38], base_head=[38], initial_level=[38], node_diameter=[38], edge_type=[118], name='FOS_tank', diameter=[118], length=[118], roughness=[118], diameters=[59], pressure=[38])\n",
      "Dataset is Data(edge_index=[2, 118], pos=[38, 2], type=[38], ID=[38], type_1H=[38], base_demand=[38], elevation=[38], base_head=[38], initial_level=[38], node_diameter=[38], edge_type=[118], name='FOS_tank', diameter=[118], length=[118], roughness=[118], diameters=[59], pressure=[38])\n",
      "Dataset is Data(edge_index=[2, 118], pos=[38, 2], type=[38], ID=[38], type_1H=[38], base_demand=[38], elevation=[38], base_head=[38], initial_level=[38], node_diameter=[38], edge_type=[118], name='FOS_tank', diameter=[118], length=[118], roughness=[118], diameters=[59], pressure=[38])\n",
      "Dataset is Data(edge_index=[2, 118], pos=[38, 2], type=[38], ID=[38], type_1H=[38], base_demand=[38], elevation=[38], base_head=[38], initial_level=[38], node_diameter=[38], edge_type=[118], name='FOS_tank', diameter=[118], length=[118], roughness=[118], diameters=[59], pressure=[38])\n",
      "Dataset is Data(edge_index=[2, 118], pos=[38, 2], type=[38], ID=[38], type_1H=[38], base_demand=[38], elevation=[38], base_head=[38], initial_level=[38], node_diameter=[38], edge_type=[118], name='FOS_tank', diameter=[118], length=[118], roughness=[118], diameters=[59], pressure=[38])\n",
      "Dataset is Data(edge_index=[2, 118], pos=[38, 2], type=[38], ID=[38], type_1H=[38], base_demand=[38], elevation=[38], base_head=[38], initial_level=[38], node_diameter=[38], edge_type=[118], name='FOS_tank', diameter=[118], length=[118], roughness=[118], diameters=[59], pressure=[38])\n",
      "Dataset is Data(edge_index=[2, 118], pos=[38, 2], type=[38], ID=[38], type_1H=[38], base_demand=[38], elevation=[38], base_head=[38], initial_level=[38], node_diameter=[38], edge_type=[118], name='FOS_tank', diameter=[118], length=[118], roughness=[118], diameters=[59], pressure=[38])\n",
      "Dataset is Data(edge_index=[2, 118], pos=[38, 2], type=[38], ID=[38], type_1H=[38], base_demand=[38], elevation=[38], base_head=[38], initial_level=[38], node_diameter=[38], edge_type=[118], name='FOS_tank', diameter=[118], length=[118], roughness=[118], diameters=[59], pressure=[38])\n",
      "Dataset is Data(edge_index=[2, 118], pos=[38, 2], type=[38], ID=[38], type_1H=[38], base_demand=[38], elevation=[38], base_head=[38], initial_level=[38], node_diameter=[38], edge_type=[118], name='FOS_tank', diameter=[118], length=[118], roughness=[118], diameters=[59], pressure=[38])\n",
      "Dataset is Data(edge_index=[2, 118], pos=[38, 2], type=[38], ID=[38], type_1H=[38], base_demand=[38], elevation=[38], base_head=[38], initial_level=[38], node_diameter=[38], edge_type=[118], name='FOS_tank', diameter=[118], length=[118], roughness=[118], diameters=[59], pressure=[38])\n",
      "Dataset is Data(edge_index=[2, 118], pos=[38, 2], type=[38], ID=[38], type_1H=[38], base_demand=[38], elevation=[38], base_head=[38], initial_level=[38], node_diameter=[38], edge_type=[118], name='FOS_tank', diameter=[118], length=[118], roughness=[118], diameters=[59], pressure=[38])\n",
      "Dataset is Data(edge_index=[2, 118], pos=[38, 2], type=[38], ID=[38], type_1H=[38], base_demand=[38], elevation=[38], base_head=[38], initial_level=[38], node_diameter=[38], edge_type=[118], name='FOS_tank', diameter=[118], length=[118], roughness=[118], diameters=[59], pressure=[38])\n",
      "Dataset is Data(edge_index=[2, 118], pos=[38, 2], type=[38], ID=[38], type_1H=[38], base_demand=[38], elevation=[38], base_head=[38], initial_level=[38], node_diameter=[38], edge_type=[118], name='FOS_tank', diameter=[118], length=[118], roughness=[118], diameters=[59], pressure=[38])\n",
      "Dataset is Data(edge_index=[2, 118], pos=[38, 2], type=[38], ID=[38], type_1H=[38], base_demand=[38], elevation=[38], base_head=[38], initial_level=[38], node_diameter=[38], edge_type=[118], name='FOS_tank', diameter=[118], length=[118], roughness=[118], diameters=[59], pressure=[38])\n",
      "Dataset is Data(edge_index=[2, 118], pos=[38, 2], type=[38], ID=[38], type_1H=[38], base_demand=[38], elevation=[38], base_head=[38], initial_level=[38], node_diameter=[38], edge_type=[118], name='FOS_tank', diameter=[118], length=[118], roughness=[118], diameters=[59], pressure=[38])\n",
      "Dataset is Data(edge_index=[2, 118], pos=[38, 2], type=[38], ID=[38], type_1H=[38], base_demand=[38], elevation=[38], base_head=[38], initial_level=[38], node_diameter=[38], edge_type=[118], name='FOS_tank', diameter=[118], length=[118], roughness=[118], diameters=[59], pressure=[38])\n",
      "Dataset is Data(edge_index=[2, 118], pos=[38, 2], type=[38], ID=[38], type_1H=[38], base_demand=[38], elevation=[38], base_head=[38], initial_level=[38], node_diameter=[38], edge_type=[118], name='FOS_tank', diameter=[118], length=[118], roughness=[118], diameters=[59], pressure=[38])\n",
      "Dataset is Data(edge_index=[2, 118], pos=[38, 2], type=[38], ID=[38], type_1H=[38], base_demand=[38], elevation=[38], base_head=[38], initial_level=[38], node_diameter=[38], edge_type=[118], name='FOS_tank', diameter=[118], length=[118], roughness=[118], diameters=[59], pressure=[38])\n",
      "Dataset is Data(edge_index=[2, 118], pos=[38, 2], type=[38], ID=[38], type_1H=[38], base_demand=[38], elevation=[38], base_head=[38], initial_level=[38], node_diameter=[38], edge_type=[118], name='FOS_tank', diameter=[118], length=[118], roughness=[118], diameters=[59], pressure=[38])\n",
      "Dataset is Data(edge_index=[2, 118], pos=[38, 2], type=[38], ID=[38], type_1H=[38], base_demand=[38], elevation=[38], base_head=[38], initial_level=[38], node_diameter=[38], edge_type=[118], name='FOS_tank', diameter=[118], length=[118], roughness=[118], diameters=[59], pressure=[38])\n",
      "Dataset is Data(edge_index=[2, 118], pos=[38, 2], type=[38], ID=[38], type_1H=[38], base_demand=[38], elevation=[38], base_head=[38], initial_level=[38], node_diameter=[38], edge_type=[118], name='FOS_tank', diameter=[118], length=[118], roughness=[118], diameters=[59], pressure=[38])\n",
      "Dataset is Data(edge_index=[2, 118], pos=[38, 2], type=[38], ID=[38], type_1H=[38], base_demand=[38], elevation=[38], base_head=[38], initial_level=[38], node_diameter=[38], edge_type=[118], name='FOS_tank', diameter=[118], length=[118], roughness=[118], diameters=[59], pressure=[38])\n",
      "Dataset is Data(edge_index=[2, 118], pos=[38, 2], type=[38], ID=[38], type_1H=[38], base_demand=[38], elevation=[38], base_head=[38], initial_level=[38], node_diameter=[38], edge_type=[118], name='FOS_tank', diameter=[118], length=[118], roughness=[118], diameters=[59], pressure=[38])\n",
      "Dataset is Data(edge_index=[2, 118], pos=[38, 2], type=[38], ID=[38], type_1H=[38], base_demand=[38], elevation=[38], base_head=[38], initial_level=[38], node_diameter=[38], edge_type=[118], name='FOS_tank', diameter=[118], length=[118], roughness=[118], diameters=[59], pressure=[38])\n",
      "Dataset is Data(edge_index=[2, 118], pos=[38, 2], type=[38], ID=[38], type_1H=[38], base_demand=[38], elevation=[38], base_head=[38], initial_level=[38], node_diameter=[38], edge_type=[118], name='FOS_tank', diameter=[118], length=[118], roughness=[118], diameters=[59], pressure=[38])\n",
      "Dataset is Data(edge_index=[2, 118], pos=[38, 2], type=[38], ID=[38], type_1H=[38], base_demand=[38], elevation=[38], base_head=[38], initial_level=[38], node_diameter=[38], edge_type=[118], name='FOS_tank', diameter=[118], length=[118], roughness=[118], diameters=[59], pressure=[38])\n",
      "Dataset is Data(edge_index=[2, 118], pos=[38, 2], type=[38], ID=[38], type_1H=[38], base_demand=[38], elevation=[38], base_head=[38], initial_level=[38], node_diameter=[38], edge_type=[118], name='FOS_tank', diameter=[118], length=[118], roughness=[118], diameters=[59], pressure=[38])\n",
      "Dataset is Data(edge_index=[2, 118], pos=[38, 2], type=[38], ID=[38], type_1H=[38], base_demand=[38], elevation=[38], base_head=[38], initial_level=[38], node_diameter=[38], edge_type=[118], name='FOS_tank', diameter=[118], length=[118], roughness=[118], diameters=[59], pressure=[38])\n",
      "Dataset is Data(edge_index=[2, 118], pos=[38, 2], type=[38], ID=[38], type_1H=[38], base_demand=[38], elevation=[38], base_head=[38], initial_level=[38], node_diameter=[38], edge_type=[118], name='FOS_tank', diameter=[118], length=[118], roughness=[118], diameters=[59], pressure=[38])\n",
      "Dataset is Data(edge_index=[2, 118], pos=[38, 2], type=[38], ID=[38], type_1H=[38], base_demand=[38], elevation=[38], base_head=[38], initial_level=[38], node_diameter=[38], edge_type=[118], name='FOS_tank', diameter=[118], length=[118], roughness=[118], diameters=[59], pressure=[38])\n",
      "Dataset is Data(edge_index=[2, 118], pos=[38, 2], type=[38], ID=[38], type_1H=[38], base_demand=[38], elevation=[38], base_head=[38], initial_level=[38], node_diameter=[38], edge_type=[118], name='FOS_tank', diameter=[118], length=[118], roughness=[118], diameters=[59], pressure=[38])\n",
      "Dataset is Data(edge_index=[2, 118], pos=[38, 2], type=[38], ID=[38], type_1H=[38], base_demand=[38], elevation=[38], base_head=[38], initial_level=[38], node_diameter=[38], edge_type=[118], name='FOS_tank', diameter=[118], length=[118], roughness=[118], diameters=[59], pressure=[38])\n",
      "Dataset is Data(edge_index=[2, 118], pos=[38, 2], type=[38], ID=[38], type_1H=[38], base_demand=[38], elevation=[38], base_head=[38], initial_level=[38], node_diameter=[38], edge_type=[118], name='FOS_tank', diameter=[118], length=[118], roughness=[118], diameters=[59], pressure=[38])\n",
      "Dataset is Data(edge_index=[2, 118], pos=[38, 2], type=[38], ID=[38], type_1H=[38], base_demand=[38], elevation=[38], base_head=[38], initial_level=[38], node_diameter=[38], edge_type=[118], name='FOS_tank', diameter=[118], length=[118], roughness=[118], diameters=[59], pressure=[38])\n",
      "Dataset is Data(edge_index=[2, 118], pos=[38, 2], type=[38], ID=[38], type_1H=[38], base_demand=[38], elevation=[38], base_head=[38], initial_level=[38], node_diameter=[38], edge_type=[118], name='FOS_tank', diameter=[118], length=[118], roughness=[118], diameters=[59], pressure=[38])\n",
      "Dataset is Data(edge_index=[2, 118], pos=[38, 2], type=[38], ID=[38], type_1H=[38], base_demand=[38], elevation=[38], base_head=[38], initial_level=[38], node_diameter=[38], edge_type=[118], name='FOS_tank', diameter=[118], length=[118], roughness=[118], diameters=[59], pressure=[38])\n",
      "Dataset is Data(edge_index=[2, 118], pos=[38, 2], type=[38], ID=[38], type_1H=[38], base_demand=[38], elevation=[38], base_head=[38], initial_level=[38], node_diameter=[38], edge_type=[118], name='FOS_tank', diameter=[118], length=[118], roughness=[118], diameters=[59], pressure=[38])\n",
      "Dataset is Data(edge_index=[2, 118], pos=[38, 2], type=[38], ID=[38], type_1H=[38], base_demand=[38], elevation=[38], base_head=[38], initial_level=[38], node_diameter=[38], edge_type=[118], name='FOS_tank', diameter=[118], length=[118], roughness=[118], diameters=[59], pressure=[38])\n",
      "Dataset is Data(edge_index=[2, 118], pos=[38, 2], type=[38], ID=[38], type_1H=[38], base_demand=[38], elevation=[38], base_head=[38], initial_level=[38], node_diameter=[38], edge_type=[118], name='FOS_tank', diameter=[118], length=[118], roughness=[118], diameters=[59], pressure=[38])\n",
      "Dataset is Data(edge_index=[2, 118], pos=[38, 2], type=[38], ID=[38], type_1H=[38], base_demand=[38], elevation=[38], base_head=[38], initial_level=[38], node_diameter=[38], edge_type=[118], name='FOS_tank', diameter=[118], length=[118], roughness=[118], diameters=[59], pressure=[38])\n",
      "Dataset is Data(edge_index=[2, 118], pos=[38, 2], type=[38], ID=[38], type_1H=[38], base_demand=[38], elevation=[38], base_head=[38], initial_level=[38], node_diameter=[38], edge_type=[118], name='FOS_tank', diameter=[118], length=[118], roughness=[118], diameters=[59], pressure=[38])\n",
      "Dataset is Data(edge_index=[2, 118], pos=[38, 2], type=[38], ID=[38], type_1H=[38], base_demand=[38], elevation=[38], base_head=[38], initial_level=[38], node_diameter=[38], edge_type=[118], name='FOS_tank', diameter=[118], length=[118], roughness=[118], diameters=[59], pressure=[38])\n",
      "Dataset is Data(edge_index=[2, 118], pos=[38, 2], type=[38], ID=[38], type_1H=[38], base_demand=[38], elevation=[38], base_head=[38], initial_level=[38], node_diameter=[38], edge_type=[118], name='FOS_tank', diameter=[118], length=[118], roughness=[118], diameters=[59], pressure=[38])\n",
      "Dataset is Data(edge_index=[2, 118], pos=[38, 2], type=[38], ID=[38], type_1H=[38], base_demand=[38], elevation=[38], base_head=[38], initial_level=[38], node_diameter=[38], edge_type=[118], name='FOS_tank', diameter=[118], length=[118], roughness=[118], diameters=[59], pressure=[38])\n",
      "Dataset is Data(edge_index=[2, 118], pos=[38, 2], type=[38], ID=[38], type_1H=[38], base_demand=[38], elevation=[38], base_head=[38], initial_level=[38], node_diameter=[38], edge_type=[118], name='FOS_tank', diameter=[118], length=[118], roughness=[118], diameters=[59], pressure=[38])\n",
      "Dataset is Data(edge_index=[2, 118], pos=[38, 2], type=[38], ID=[38], type_1H=[38], base_demand=[38], elevation=[38], base_head=[38], initial_level=[38], node_diameter=[38], edge_type=[118], name='FOS_tank', diameter=[118], length=[118], roughness=[118], diameters=[59], pressure=[38])\n",
      "Dataset is Data(edge_index=[2, 118], pos=[38, 2], type=[38], ID=[38], type_1H=[38], base_demand=[38], elevation=[38], base_head=[38], initial_level=[38], node_diameter=[38], edge_type=[118], name='FOS_tank', diameter=[118], length=[118], roughness=[118], diameters=[59], pressure=[38])\n",
      "Dataset is Data(edge_index=[2, 118], pos=[38, 2], type=[38], ID=[38], type_1H=[38], base_demand=[38], elevation=[38], base_head=[38], initial_level=[38], node_diameter=[38], edge_type=[118], name='FOS_tank', diameter=[118], length=[118], roughness=[118], diameters=[59], pressure=[38])\n",
      "Dataset is Data(edge_index=[2, 118], pos=[38, 2], type=[38], ID=[38], type_1H=[38], base_demand=[38], elevation=[38], base_head=[38], initial_level=[38], node_diameter=[38], edge_type=[118], name='FOS_tank', diameter=[118], length=[118], roughness=[118], diameters=[59], pressure=[38])\n",
      "Dataset is Data(edge_index=[2, 118], pos=[38, 2], type=[38], ID=[38], type_1H=[38], base_demand=[38], elevation=[38], base_head=[38], initial_level=[38], node_diameter=[38], edge_type=[118], name='FOS_tank', diameter=[118], length=[118], roughness=[118], diameters=[59], pressure=[38])\n",
      "Dataset is Data(edge_index=[2, 118], pos=[38, 2], type=[38], ID=[38], type_1H=[38], base_demand=[38], elevation=[38], base_head=[38], initial_level=[38], node_diameter=[38], edge_type=[118], name='FOS_tank', diameter=[118], length=[118], roughness=[118], diameters=[59], pressure=[38])\n",
      "Dataset is Data(edge_index=[2, 118], pos=[38, 2], type=[38], ID=[38], type_1H=[38], base_demand=[38], elevation=[38], base_head=[38], initial_level=[38], node_diameter=[38], edge_type=[118], name='FOS_tank', diameter=[118], length=[118], roughness=[118], diameters=[59], pressure=[38])\n",
      "Dataset is Data(edge_index=[2, 118], pos=[38, 2], type=[38], ID=[38], type_1H=[38], base_demand=[38], elevation=[38], base_head=[38], initial_level=[38], node_diameter=[38], edge_type=[118], name='FOS_tank', diameter=[118], length=[118], roughness=[118], diameters=[59], pressure=[38])\n",
      "Dataset is Data(edge_index=[2, 118], pos=[38, 2], type=[38], ID=[38], type_1H=[38], base_demand=[38], elevation=[38], base_head=[38], initial_level=[38], node_diameter=[38], edge_type=[118], name='FOS_tank', diameter=[118], length=[118], roughness=[118], diameters=[59], pressure=[38])\n",
      "Dataset is Data(edge_index=[2, 118], pos=[38, 2], type=[38], ID=[38], type_1H=[38], base_demand=[38], elevation=[38], base_head=[38], initial_level=[38], node_diameter=[38], edge_type=[118], name='FOS_tank', diameter=[118], length=[118], roughness=[118], diameters=[59], pressure=[38])\n",
      "Dataset is Data(edge_index=[2, 118], pos=[38, 2], type=[38], ID=[38], type_1H=[38], base_demand=[38], elevation=[38], base_head=[38], initial_level=[38], node_diameter=[38], edge_type=[118], name='FOS_tank', diameter=[118], length=[118], roughness=[118], diameters=[59], pressure=[38])\n",
      "Dataset is Data(edge_index=[2, 118], pos=[38, 2], type=[38], ID=[38], type_1H=[38], base_demand=[38], elevation=[38], base_head=[38], initial_level=[38], node_diameter=[38], edge_type=[118], name='FOS_tank', diameter=[118], length=[118], roughness=[118], diameters=[59], pressure=[38])\n",
      "Dataset is Data(edge_index=[2, 118], pos=[38, 2], type=[38], ID=[38], type_1H=[38], base_demand=[38], elevation=[38], base_head=[38], initial_level=[38], node_diameter=[38], edge_type=[118], name='FOS_tank', diameter=[118], length=[118], roughness=[118], diameters=[59], pressure=[38])\n",
      "Dataset is Data(edge_index=[2, 118], pos=[38, 2], type=[38], ID=[38], type_1H=[38], base_demand=[38], elevation=[38], base_head=[38], initial_level=[38], node_diameter=[38], edge_type=[118], name='FOS_tank', diameter=[118], length=[118], roughness=[118], diameters=[59], pressure=[38])\n",
      "Dataset is Data(edge_index=[2, 118], pos=[38, 2], type=[38], ID=[38], type_1H=[38], base_demand=[38], elevation=[38], base_head=[38], initial_level=[38], node_diameter=[38], edge_type=[118], name='FOS_tank', diameter=[118], length=[118], roughness=[118], diameters=[59], pressure=[38])\n",
      "Dataset is Data(edge_index=[2, 118], pos=[38, 2], type=[38], ID=[38], type_1H=[38], base_demand=[38], elevation=[38], base_head=[38], initial_level=[38], node_diameter=[38], edge_type=[118], name='FOS_tank', diameter=[118], length=[118], roughness=[118], diameters=[59], pressure=[38])\n",
      "Dataset is Data(edge_index=[2, 118], pos=[38, 2], type=[38], ID=[38], type_1H=[38], base_demand=[38], elevation=[38], base_head=[38], initial_level=[38], node_diameter=[38], edge_type=[118], name='FOS_tank', diameter=[118], length=[118], roughness=[118], diameters=[59], pressure=[38])\n",
      "Dataset is Data(edge_index=[2, 118], pos=[38, 2], type=[38], ID=[38], type_1H=[38], base_demand=[38], elevation=[38], base_head=[38], initial_level=[38], node_diameter=[38], edge_type=[118], name='FOS_tank', diameter=[118], length=[118], roughness=[118], diameters=[59], pressure=[38])\n",
      "Dataset is Data(edge_index=[2, 118], pos=[38, 2], type=[38], ID=[38], type_1H=[38], base_demand=[38], elevation=[38], base_head=[38], initial_level=[38], node_diameter=[38], edge_type=[118], name='FOS_tank', diameter=[118], length=[118], roughness=[118], diameters=[59], pressure=[38])\n",
      "Dataset is Data(edge_index=[2, 118], pos=[38, 2], type=[38], ID=[38], type_1H=[38], base_demand=[38], elevation=[38], base_head=[38], initial_level=[38], node_diameter=[38], edge_type=[118], name='FOS_tank', diameter=[118], length=[118], roughness=[118], diameters=[59], pressure=[38])\n",
      "Dataset is Data(edge_index=[2, 118], pos=[38, 2], type=[38], ID=[38], type_1H=[38], base_demand=[38], elevation=[38], base_head=[38], initial_level=[38], node_diameter=[38], edge_type=[118], name='FOS_tank', diameter=[118], length=[118], roughness=[118], diameters=[59], pressure=[38])\n",
      "Dataset is Data(edge_index=[2, 118], pos=[38, 2], type=[38], ID=[38], type_1H=[38], base_demand=[38], elevation=[38], base_head=[38], initial_level=[38], node_diameter=[38], edge_type=[118], name='FOS_tank', diameter=[118], length=[118], roughness=[118], diameters=[59], pressure=[38])\n",
      "Dataset is Data(edge_index=[2, 118], pos=[38, 2], type=[38], ID=[38], type_1H=[38], base_demand=[38], elevation=[38], base_head=[38], initial_level=[38], node_diameter=[38], edge_type=[118], name='FOS_tank', diameter=[118], length=[118], roughness=[118], diameters=[59], pressure=[38])\n",
      "Dataset is Data(edge_index=[2, 118], pos=[38, 2], type=[38], ID=[38], type_1H=[38], base_demand=[38], elevation=[38], base_head=[38], initial_level=[38], node_diameter=[38], edge_type=[118], name='FOS_tank', diameter=[118], length=[118], roughness=[118], diameters=[59], pressure=[38])\n",
      "Dataset is Data(edge_index=[2, 118], pos=[38, 2], type=[38], ID=[38], type_1H=[38], base_demand=[38], elevation=[38], base_head=[38], initial_level=[38], node_diameter=[38], edge_type=[118], name='FOS_tank', diameter=[118], length=[118], roughness=[118], diameters=[59], pressure=[38])\n",
      "Dataset is Data(edge_index=[2, 118], pos=[38, 2], type=[38], ID=[38], type_1H=[38], base_demand=[38], elevation=[38], base_head=[38], initial_level=[38], node_diameter=[38], edge_type=[118], name='FOS_tank', diameter=[118], length=[118], roughness=[118], diameters=[59], pressure=[38])\n",
      "Dataset is Data(edge_index=[2, 118], pos=[38, 2], type=[38], ID=[38], type_1H=[38], base_demand=[38], elevation=[38], base_head=[38], initial_level=[38], node_diameter=[38], edge_type=[118], name='FOS_tank', diameter=[118], length=[118], roughness=[118], diameters=[59], pressure=[38])\n",
      "Dataset is Data(edge_index=[2, 118], pos=[38, 2], type=[38], ID=[38], type_1H=[38], base_demand=[38], elevation=[38], base_head=[38], initial_level=[38], node_diameter=[38], edge_type=[118], name='FOS_tank', diameter=[118], length=[118], roughness=[118], diameters=[59], pressure=[38])\n",
      "Dataset is Data(edge_index=[2, 118], pos=[38, 2], type=[38], ID=[38], type_1H=[38], base_demand=[38], elevation=[38], base_head=[38], initial_level=[38], node_diameter=[38], edge_type=[118], name='FOS_tank', diameter=[118], length=[118], roughness=[118], diameters=[59], pressure=[38])\n",
      "Dataset is Data(edge_index=[2, 118], pos=[38, 2], type=[38], ID=[38], type_1H=[38], base_demand=[38], elevation=[38], base_head=[38], initial_level=[38], node_diameter=[38], edge_type=[118], name='FOS_tank', diameter=[118], length=[118], roughness=[118], diameters=[59], pressure=[38])\n",
      "Dataset is Data(edge_index=[2, 118], pos=[38, 2], type=[38], ID=[38], type_1H=[38], base_demand=[38], elevation=[38], base_head=[38], initial_level=[38], node_diameter=[38], edge_type=[118], name='FOS_tank', diameter=[118], length=[118], roughness=[118], diameters=[59], pressure=[38])\n",
      "Dataset is Data(edge_index=[2, 118], pos=[38, 2], type=[38], ID=[38], type_1H=[38], base_demand=[38], elevation=[38], base_head=[38], initial_level=[38], node_diameter=[38], edge_type=[118], name='FOS_tank', diameter=[118], length=[118], roughness=[118], diameters=[59], pressure=[38])\n",
      "Dataset is Data(edge_index=[2, 118], pos=[38, 2], type=[38], ID=[38], type_1H=[38], base_demand=[38], elevation=[38], base_head=[38], initial_level=[38], node_diameter=[38], edge_type=[118], name='FOS_tank', diameter=[118], length=[118], roughness=[118], diameters=[59], pressure=[38])\n",
      "Dataset is Data(edge_index=[2, 118], pos=[38, 2], type=[38], ID=[38], type_1H=[38], base_demand=[38], elevation=[38], base_head=[38], initial_level=[38], node_diameter=[38], edge_type=[118], name='FOS_tank', diameter=[118], length=[118], roughness=[118], diameters=[59], pressure=[38])\n",
      "Dataset is Data(edge_index=[2, 118], pos=[38, 2], type=[38], ID=[38], type_1H=[38], base_demand=[38], elevation=[38], base_head=[38], initial_level=[38], node_diameter=[38], edge_type=[118], name='FOS_tank', diameter=[118], length=[118], roughness=[118], diameters=[59], pressure=[38])\n",
      "Dataset is Data(edge_index=[2, 118], pos=[38, 2], type=[38], ID=[38], type_1H=[38], base_demand=[38], elevation=[38], base_head=[38], initial_level=[38], node_diameter=[38], edge_type=[118], name='FOS_tank', diameter=[118], length=[118], roughness=[118], diameters=[59], pressure=[38])\n",
      "Dataset is Data(edge_index=[2, 118], pos=[38, 2], type=[38], ID=[38], type_1H=[38], base_demand=[38], elevation=[38], base_head=[38], initial_level=[38], node_diameter=[38], edge_type=[118], name='FOS_tank', diameter=[118], length=[118], roughness=[118], diameters=[59], pressure=[38])\n",
      "Dataset is Data(edge_index=[2, 118], pos=[38, 2], type=[38], ID=[38], type_1H=[38], base_demand=[38], elevation=[38], base_head=[38], initial_level=[38], node_diameter=[38], edge_type=[118], name='FOS_tank', diameter=[118], length=[118], roughness=[118], diameters=[59], pressure=[38])\n",
      "Dataset is Data(edge_index=[2, 118], pos=[38, 2], type=[38], ID=[38], type_1H=[38], base_demand=[38], elevation=[38], base_head=[38], initial_level=[38], node_diameter=[38], edge_type=[118], name='FOS_tank', diameter=[118], length=[118], roughness=[118], diameters=[59], pressure=[38])\n",
      "Dataset is Data(edge_index=[2, 118], pos=[38, 2], type=[38], ID=[38], type_1H=[38], base_demand=[38], elevation=[38], base_head=[38], initial_level=[38], node_diameter=[38], edge_type=[118], name='FOS_tank', diameter=[118], length=[118], roughness=[118], diameters=[59], pressure=[38])\n",
      "Dataset is Data(edge_index=[2, 118], pos=[38, 2], type=[38], ID=[38], type_1H=[38], base_demand=[38], elevation=[38], base_head=[38], initial_level=[38], node_diameter=[38], edge_type=[118], name='FOS_tank', diameter=[118], length=[118], roughness=[118], diameters=[59], pressure=[38])\n",
      "Dataset is Data(edge_index=[2, 118], pos=[38, 2], type=[38], ID=[38], type_1H=[38], base_demand=[38], elevation=[38], base_head=[38], initial_level=[38], node_diameter=[38], edge_type=[118], name='FOS_tank', diameter=[118], length=[118], roughness=[118], diameters=[59], pressure=[38])\n",
      "Dataset is Data(edge_index=[2, 118], pos=[38, 2], type=[38], ID=[38], type_1H=[38], base_demand=[38], elevation=[38], base_head=[38], initial_level=[38], node_diameter=[38], edge_type=[118], name='FOS_tank', diameter=[118], length=[118], roughness=[118], diameters=[59], pressure=[38])\n",
      "Dataset is Data(edge_index=[2, 118], pos=[38, 2], type=[38], ID=[38], type_1H=[38], base_demand=[38], elevation=[38], base_head=[38], initial_level=[38], node_diameter=[38], edge_type=[118], name='FOS_tank', diameter=[118], length=[118], roughness=[118], diameters=[59], pressure=[38])\n",
      "Dataset is Data(edge_index=[2, 118], pos=[38, 2], type=[38], ID=[38], type_1H=[38], base_demand=[38], elevation=[38], base_head=[38], initial_level=[38], node_diameter=[38], edge_type=[118], name='FOS_tank', diameter=[118], length=[118], roughness=[118], diameters=[59], pressure=[38])\n",
      "Dataset is Data(edge_index=[2, 118], pos=[38, 2], type=[38], ID=[38], type_1H=[38], base_demand=[38], elevation=[38], base_head=[38], initial_level=[38], node_diameter=[38], edge_type=[118], name='FOS_tank', diameter=[118], length=[118], roughness=[118], diameters=[59], pressure=[38])\n",
      "Dataset is Data(edge_index=[2, 118], pos=[38, 2], type=[38], ID=[38], type_1H=[38], base_demand=[38], elevation=[38], base_head=[38], initial_level=[38], node_diameter=[38], edge_type=[118], name='FOS_tank', diameter=[118], length=[118], roughness=[118], diameters=[59], pressure=[38])\n",
      "Dataset is Data(edge_index=[2, 118], pos=[38, 2], type=[38], ID=[38], type_1H=[38], base_demand=[38], elevation=[38], base_head=[38], initial_level=[38], node_diameter=[38], edge_type=[118], name='FOS_tank', diameter=[118], length=[118], roughness=[118], diameters=[59], pressure=[38])\n",
      "Dataset is Data(edge_index=[2, 118], pos=[38, 2], type=[38], ID=[38], type_1H=[38], base_demand=[38], elevation=[38], base_head=[38], initial_level=[38], node_diameter=[38], edge_type=[118], name='FOS_tank', diameter=[118], length=[118], roughness=[118], diameters=[59], pressure=[38])\n",
      "Dataset is Data(edge_index=[2, 118], pos=[38, 2], type=[38], ID=[38], type_1H=[38], base_demand=[38], elevation=[38], base_head=[38], initial_level=[38], node_diameter=[38], edge_type=[118], name='FOS_tank', diameter=[118], length=[118], roughness=[118], diameters=[59], pressure=[38])\n",
      "Dataset is Data(edge_index=[2, 118], pos=[38, 2], type=[38], ID=[38], type_1H=[38], base_demand=[38], elevation=[38], base_head=[38], initial_level=[38], node_diameter=[38], edge_type=[118], name='FOS_tank', diameter=[118], length=[118], roughness=[118], diameters=[59], pressure=[38])\n",
      "Dataset is Data(edge_index=[2, 118], pos=[38, 2], type=[38], ID=[38], type_1H=[38], base_demand=[38], elevation=[38], base_head=[38], initial_level=[38], node_diameter=[38], edge_type=[118], name='FOS_tank', diameter=[118], length=[118], roughness=[118], diameters=[59], pressure=[38])\n",
      "Dataset is Data(edge_index=[2, 118], pos=[38, 2], type=[38], ID=[38], type_1H=[38], base_demand=[38], elevation=[38], base_head=[38], initial_level=[38], node_diameter=[38], edge_type=[118], name='FOS_tank', diameter=[118], length=[118], roughness=[118], diameters=[59], pressure=[38])\n",
      "Dataset is Data(edge_index=[2, 118], pos=[38, 2], type=[38], ID=[38], type_1H=[38], base_demand=[38], elevation=[38], base_head=[38], initial_level=[38], node_diameter=[38], edge_type=[118], name='FOS_tank', diameter=[118], length=[118], roughness=[118], diameters=[59], pressure=[38])\n",
      "Dataset is Data(edge_index=[2, 118], pos=[38, 2], type=[38], ID=[38], type_1H=[38], base_demand=[38], elevation=[38], base_head=[38], initial_level=[38], node_diameter=[38], edge_type=[118], name='FOS_tank', diameter=[118], length=[118], roughness=[118], diameters=[59], pressure=[38])\n",
      "Dataset is Data(edge_index=[2, 118], pos=[38, 2], type=[38], ID=[38], type_1H=[38], base_demand=[38], elevation=[38], base_head=[38], initial_level=[38], node_diameter=[38], edge_type=[118], name='FOS_tank', diameter=[118], length=[118], roughness=[118], diameters=[59], pressure=[38])\n",
      "Dataset is Data(edge_index=[2, 118], pos=[38, 2], type=[38], ID=[38], type_1H=[38], base_demand=[38], elevation=[38], base_head=[38], initial_level=[38], node_diameter=[38], edge_type=[118], name='FOS_tank', diameter=[118], length=[118], roughness=[118], diameters=[59], pressure=[38])\n",
      "Dataset is Data(edge_index=[2, 118], pos=[38, 2], type=[38], ID=[38], type_1H=[38], base_demand=[38], elevation=[38], base_head=[38], initial_level=[38], node_diameter=[38], edge_type=[118], name='FOS_tank', diameter=[118], length=[118], roughness=[118], diameters=[59], pressure=[38])\n",
      "Dataset is Data(edge_index=[2, 118], pos=[38, 2], type=[38], ID=[38], type_1H=[38], base_demand=[38], elevation=[38], base_head=[38], initial_level=[38], node_diameter=[38], edge_type=[118], name='FOS_tank', diameter=[118], length=[118], roughness=[118], diameters=[59], pressure=[38])\n",
      "Dataset is Data(edge_index=[2, 118], pos=[38, 2], type=[38], ID=[38], type_1H=[38], base_demand=[38], elevation=[38], base_head=[38], initial_level=[38], node_diameter=[38], edge_type=[118], name='FOS_tank', diameter=[118], length=[118], roughness=[118], diameters=[59], pressure=[38])\n",
      "Dataset is Data(edge_index=[2, 118], pos=[38, 2], type=[38], ID=[38], type_1H=[38], base_demand=[38], elevation=[38], base_head=[38], initial_level=[38], node_diameter=[38], edge_type=[118], name='FOS_tank', diameter=[118], length=[118], roughness=[118], diameters=[59], pressure=[38])\n",
      "Dataset is Data(edge_index=[2, 118], pos=[38, 2], type=[38], ID=[38], type_1H=[38], base_demand=[38], elevation=[38], base_head=[38], initial_level=[38], node_diameter=[38], edge_type=[118], name='FOS_tank', diameter=[118], length=[118], roughness=[118], diameters=[59], pressure=[38])\n",
      "Dataset is Data(edge_index=[2, 118], pos=[38, 2], type=[38], ID=[38], type_1H=[38], base_demand=[38], elevation=[38], base_head=[38], initial_level=[38], node_diameter=[38], edge_type=[118], name='FOS_tank', diameter=[118], length=[118], roughness=[118], diameters=[59], pressure=[38])\n",
      "Dataset is Data(edge_index=[2, 118], pos=[38, 2], type=[38], ID=[38], type_1H=[38], base_demand=[38], elevation=[38], base_head=[38], initial_level=[38], node_diameter=[38], edge_type=[118], name='FOS_tank', diameter=[118], length=[118], roughness=[118], diameters=[59], pressure=[38])\n",
      "Dataset is Data(edge_index=[2, 118], pos=[38, 2], type=[38], ID=[38], type_1H=[38], base_demand=[38], elevation=[38], base_head=[38], initial_level=[38], node_diameter=[38], edge_type=[118], name='FOS_tank', diameter=[118], length=[118], roughness=[118], diameters=[59], pressure=[38])\n",
      "Dataset is Data(edge_index=[2, 118], pos=[38, 2], type=[38], ID=[38], type_1H=[38], base_demand=[38], elevation=[38], base_head=[38], initial_level=[38], node_diameter=[38], edge_type=[118], name='FOS_tank', diameter=[118], length=[118], roughness=[118], diameters=[59], pressure=[38])\n",
      "Dataset is Data(edge_index=[2, 118], pos=[38, 2], type=[38], ID=[38], type_1H=[38], base_demand=[38], elevation=[38], base_head=[38], initial_level=[38], node_diameter=[38], edge_type=[118], name='FOS_tank', diameter=[118], length=[118], roughness=[118], diameters=[59], pressure=[38])\n",
      "Dataset is Data(edge_index=[2, 118], pos=[38, 2], type=[38], ID=[38], type_1H=[38], base_demand=[38], elevation=[38], base_head=[38], initial_level=[38], node_diameter=[38], edge_type=[118], name='FOS_tank', diameter=[118], length=[118], roughness=[118], diameters=[59], pressure=[38])\n",
      "Dataset is Data(edge_index=[2, 118], pos=[38, 2], type=[38], ID=[38], type_1H=[38], base_demand=[38], elevation=[38], base_head=[38], initial_level=[38], node_diameter=[38], edge_type=[118], name='FOS_tank', diameter=[118], length=[118], roughness=[118], diameters=[59], pressure=[38])\n",
      "Dataset is Data(edge_index=[2, 118], pos=[38, 2], type=[38], ID=[38], type_1H=[38], base_demand=[38], elevation=[38], base_head=[38], initial_level=[38], node_diameter=[38], edge_type=[118], name='FOS_tank', diameter=[118], length=[118], roughness=[118], diameters=[59], pressure=[38])\n",
      "Dataset is Data(edge_index=[2, 118], pos=[38, 2], type=[38], ID=[38], type_1H=[38], base_demand=[38], elevation=[38], base_head=[38], initial_level=[38], node_diameter=[38], edge_type=[118], name='FOS_tank', diameter=[118], length=[118], roughness=[118], diameters=[59], pressure=[38])\n",
      "Dataset is Data(edge_index=[2, 118], pos=[38, 2], type=[38], ID=[38], type_1H=[38], base_demand=[38], elevation=[38], base_head=[38], initial_level=[38], node_diameter=[38], edge_type=[118], name='FOS_tank', diameter=[118], length=[118], roughness=[118], diameters=[59], pressure=[38])\n",
      "Dataset is Data(edge_index=[2, 118], pos=[38, 2], type=[38], ID=[38], type_1H=[38], base_demand=[38], elevation=[38], base_head=[38], initial_level=[38], node_diameter=[38], edge_type=[118], name='FOS_tank', diameter=[118], length=[118], roughness=[118], diameters=[59], pressure=[38])\n",
      "Dataset is Data(edge_index=[2, 118], pos=[38, 2], type=[38], ID=[38], type_1H=[38], base_demand=[38], elevation=[38], base_head=[38], initial_level=[38], node_diameter=[38], edge_type=[118], name='FOS_tank', diameter=[118], length=[118], roughness=[118], diameters=[59], pressure=[38])\n",
      "Dataset is Data(edge_index=[2, 118], pos=[38, 2], type=[38], ID=[38], type_1H=[38], base_demand=[38], elevation=[38], base_head=[38], initial_level=[38], node_diameter=[38], edge_type=[118], name='FOS_tank', diameter=[118], length=[118], roughness=[118], diameters=[59], pressure=[38])\n",
      "Dataset is Data(edge_index=[2, 118], pos=[38, 2], type=[38], ID=[38], type_1H=[38], base_demand=[38], elevation=[38], base_head=[38], initial_level=[38], node_diameter=[38], edge_type=[118], name='FOS_tank', diameter=[118], length=[118], roughness=[118], diameters=[59], pressure=[38])\n",
      "Dataset is Data(edge_index=[2, 118], pos=[38, 2], type=[38], ID=[38], type_1H=[38], base_demand=[38], elevation=[38], base_head=[38], initial_level=[38], node_diameter=[38], edge_type=[118], name='FOS_tank', diameter=[118], length=[118], roughness=[118], diameters=[59], pressure=[38])\n",
      "Dataset is Data(edge_index=[2, 118], pos=[38, 2], type=[38], ID=[38], type_1H=[38], base_demand=[38], elevation=[38], base_head=[38], initial_level=[38], node_diameter=[38], edge_type=[118], name='FOS_tank', diameter=[118], length=[118], roughness=[118], diameters=[59], pressure=[38])\n",
      "Dataset is Data(edge_index=[2, 118], pos=[38, 2], type=[38], ID=[38], type_1H=[38], base_demand=[38], elevation=[38], base_head=[38], initial_level=[38], node_diameter=[38], edge_type=[118], name='FOS_tank', diameter=[118], length=[118], roughness=[118], diameters=[59], pressure=[38])\n",
      "Dataset is Data(edge_index=[2, 118], pos=[38, 2], type=[38], ID=[38], type_1H=[38], base_demand=[38], elevation=[38], base_head=[38], initial_level=[38], node_diameter=[38], edge_type=[118], name='FOS_tank', diameter=[118], length=[118], roughness=[118], diameters=[59], pressure=[38])\n",
      "Dataset is Data(edge_index=[2, 118], pos=[38, 2], type=[38], ID=[38], type_1H=[38], base_demand=[38], elevation=[38], base_head=[38], initial_level=[38], node_diameter=[38], edge_type=[118], name='FOS_tank', diameter=[118], length=[118], roughness=[118], diameters=[59], pressure=[38])\n",
      "Dataset is Data(edge_index=[2, 118], pos=[38, 2], type=[38], ID=[38], type_1H=[38], base_demand=[38], elevation=[38], base_head=[38], initial_level=[38], node_diameter=[38], edge_type=[118], name='FOS_tank', diameter=[118], length=[118], roughness=[118], diameters=[59], pressure=[38])\n",
      "Dataset is Data(edge_index=[2, 118], pos=[38, 2], type=[38], ID=[38], type_1H=[38], base_demand=[38], elevation=[38], base_head=[38], initial_level=[38], node_diameter=[38], edge_type=[118], name='FOS_tank', diameter=[118], length=[118], roughness=[118], diameters=[59], pressure=[38])\n",
      "Dataset is Data(edge_index=[2, 118], pos=[38, 2], type=[38], ID=[38], type_1H=[38], base_demand=[38], elevation=[38], base_head=[38], initial_level=[38], node_diameter=[38], edge_type=[118], name='FOS_tank', diameter=[118], length=[118], roughness=[118], diameters=[59], pressure=[38])\n",
      "Dataset is Data(edge_index=[2, 118], pos=[38, 2], type=[38], ID=[38], type_1H=[38], base_demand=[38], elevation=[38], base_head=[38], initial_level=[38], node_diameter=[38], edge_type=[118], name='FOS_tank', diameter=[118], length=[118], roughness=[118], diameters=[59], pressure=[38])\n",
      "Dataset is Data(edge_index=[2, 118], pos=[38, 2], type=[38], ID=[38], type_1H=[38], base_demand=[38], elevation=[38], base_head=[38], initial_level=[38], node_diameter=[38], edge_type=[118], name='FOS_tank', diameter=[118], length=[118], roughness=[118], diameters=[59], pressure=[38])\n",
      "Dataset is Data(edge_index=[2, 118], pos=[38, 2], type=[38], ID=[38], type_1H=[38], base_demand=[38], elevation=[38], base_head=[38], initial_level=[38], node_diameter=[38], edge_type=[118], name='FOS_tank', diameter=[118], length=[118], roughness=[118], diameters=[59], pressure=[38])\n",
      "Dataset is Data(edge_index=[2, 118], pos=[38, 2], type=[38], ID=[38], type_1H=[38], base_demand=[38], elevation=[38], base_head=[38], initial_level=[38], node_diameter=[38], edge_type=[118], name='FOS_tank', diameter=[118], length=[118], roughness=[118], diameters=[59], pressure=[38])\n",
      "Dataset is Data(edge_index=[2, 118], pos=[38, 2], type=[38], ID=[38], type_1H=[38], base_demand=[38], elevation=[38], base_head=[38], initial_level=[38], node_diameter=[38], edge_type=[118], name='FOS_tank', diameter=[118], length=[118], roughness=[118], diameters=[59], pressure=[38])\n",
      "Dataset is Data(edge_index=[2, 118], pos=[38, 2], type=[38], ID=[38], type_1H=[38], base_demand=[38], elevation=[38], base_head=[38], initial_level=[38], node_diameter=[38], edge_type=[118], name='FOS_tank', diameter=[118], length=[118], roughness=[118], diameters=[59], pressure=[38])\n",
      "Dataset is Data(edge_index=[2, 118], pos=[38, 2], type=[38], ID=[38], type_1H=[38], base_demand=[38], elevation=[38], base_head=[38], initial_level=[38], node_diameter=[38], edge_type=[118], name='FOS_tank', diameter=[118], length=[118], roughness=[118], diameters=[59], pressure=[38])\n",
      "Dataset is Data(edge_index=[2, 118], pos=[38, 2], type=[38], ID=[38], type_1H=[38], base_demand=[38], elevation=[38], base_head=[38], initial_level=[38], node_diameter=[38], edge_type=[118], name='FOS_tank', diameter=[118], length=[118], roughness=[118], diameters=[59], pressure=[38])\n",
      "Dataset is Data(edge_index=[2, 118], pos=[38, 2], type=[38], ID=[38], type_1H=[38], base_demand=[38], elevation=[38], base_head=[38], initial_level=[38], node_diameter=[38], edge_type=[118], name='FOS_tank', diameter=[118], length=[118], roughness=[118], diameters=[59], pressure=[38])\n",
      "Dataset is Data(edge_index=[2, 118], pos=[38, 2], type=[38], ID=[38], type_1H=[38], base_demand=[38], elevation=[38], base_head=[38], initial_level=[38], node_diameter=[38], edge_type=[118], name='FOS_tank', diameter=[118], length=[118], roughness=[118], diameters=[59], pressure=[38])\n",
      "Dataset is Data(edge_index=[2, 118], pos=[38, 2], type=[38], ID=[38], type_1H=[38], base_demand=[38], elevation=[38], base_head=[38], initial_level=[38], node_diameter=[38], edge_type=[118], name='FOS_tank', diameter=[118], length=[118], roughness=[118], diameters=[59], pressure=[38])\n",
      "Dataset is Data(edge_index=[2, 118], pos=[38, 2], type=[38], ID=[38], type_1H=[38], base_demand=[38], elevation=[38], base_head=[38], initial_level=[38], node_diameter=[38], edge_type=[118], name='FOS_tank', diameter=[118], length=[118], roughness=[118], diameters=[59], pressure=[38])\n",
      "Dataset is Data(edge_index=[2, 118], pos=[38, 2], type=[38], ID=[38], type_1H=[38], base_demand=[38], elevation=[38], base_head=[38], initial_level=[38], node_diameter=[38], edge_type=[118], name='FOS_tank', diameter=[118], length=[118], roughness=[118], diameters=[59], pressure=[38])\n",
      "Dataset is Data(edge_index=[2, 118], pos=[38, 2], type=[38], ID=[38], type_1H=[38], base_demand=[38], elevation=[38], base_head=[38], initial_level=[38], node_diameter=[38], edge_type=[118], name='FOS_tank', diameter=[118], length=[118], roughness=[118], diameters=[59], pressure=[38])\n",
      "Dataset is Data(edge_index=[2, 118], pos=[38, 2], type=[38], ID=[38], type_1H=[38], base_demand=[38], elevation=[38], base_head=[38], initial_level=[38], node_diameter=[38], edge_type=[118], name='FOS_tank', diameter=[118], length=[118], roughness=[118], diameters=[59], pressure=[38])\n",
      "Dataset is Data(edge_index=[2, 118], pos=[38, 2], type=[38], ID=[38], type_1H=[38], base_demand=[38], elevation=[38], base_head=[38], initial_level=[38], node_diameter=[38], edge_type=[118], name='FOS_tank', diameter=[118], length=[118], roughness=[118], diameters=[59], pressure=[38])\n",
      "Dataset is Data(edge_index=[2, 118], pos=[38, 2], type=[38], ID=[38], type_1H=[38], base_demand=[38], elevation=[38], base_head=[38], initial_level=[38], node_diameter=[38], edge_type=[118], name='FOS_tank', diameter=[118], length=[118], roughness=[118], diameters=[59], pressure=[38])\n",
      "Dataset is Data(edge_index=[2, 118], pos=[38, 2], type=[38], ID=[38], type_1H=[38], base_demand=[38], elevation=[38], base_head=[38], initial_level=[38], node_diameter=[38], edge_type=[118], name='FOS_tank', diameter=[118], length=[118], roughness=[118], diameters=[59], pressure=[38])\n",
      "Dataset is Data(edge_index=[2, 118], pos=[38, 2], type=[38], ID=[38], type_1H=[38], base_demand=[38], elevation=[38], base_head=[38], initial_level=[38], node_diameter=[38], edge_type=[118], name='FOS_tank', diameter=[118], length=[118], roughness=[118], diameters=[59], pressure=[38])\n",
      "Dataset is Data(edge_index=[2, 118], pos=[38, 2], type=[38], ID=[38], type_1H=[38], base_demand=[38], elevation=[38], base_head=[38], initial_level=[38], node_diameter=[38], edge_type=[118], name='FOS_tank', diameter=[118], length=[118], roughness=[118], diameters=[59], pressure=[38])\n",
      "Dataset is Data(edge_index=[2, 118], pos=[38, 2], type=[38], ID=[38], type_1H=[38], base_demand=[38], elevation=[38], base_head=[38], initial_level=[38], node_diameter=[38], edge_type=[118], name='FOS_tank', diameter=[118], length=[118], roughness=[118], diameters=[59], pressure=[38])\n",
      "Dataset is Data(edge_index=[2, 118], pos=[38, 2], type=[38], ID=[38], type_1H=[38], base_demand=[38], elevation=[38], base_head=[38], initial_level=[38], node_diameter=[38], edge_type=[118], name='FOS_tank', diameter=[118], length=[118], roughness=[118], diameters=[59], pressure=[38])\n",
      "Dataset is Data(edge_index=[2, 118], pos=[38, 2], type=[38], ID=[38], type_1H=[38], base_demand=[38], elevation=[38], base_head=[38], initial_level=[38], node_diameter=[38], edge_type=[118], name='FOS_tank', diameter=[118], length=[118], roughness=[118], diameters=[59], pressure=[38])\n",
      "Dataset is Data(edge_index=[2, 118], pos=[38, 2], type=[38], ID=[38], type_1H=[38], base_demand=[38], elevation=[38], base_head=[38], initial_level=[38], node_diameter=[38], edge_type=[118], name='FOS_tank', diameter=[118], length=[118], roughness=[118], diameters=[59], pressure=[38])\n",
      "Dataset is Data(edge_index=[2, 118], pos=[38, 2], type=[38], ID=[38], type_1H=[38], base_demand=[38], elevation=[38], base_head=[38], initial_level=[38], node_diameter=[38], edge_type=[118], name='FOS_tank', diameter=[118], length=[118], roughness=[118], diameters=[59], pressure=[38])\n",
      "Dataset is Data(edge_index=[2, 118], pos=[38, 2], type=[38], ID=[38], type_1H=[38], base_demand=[38], elevation=[38], base_head=[38], initial_level=[38], node_diameter=[38], edge_type=[118], name='FOS_tank', diameter=[118], length=[118], roughness=[118], diameters=[59], pressure=[38])\n",
      "Dataset is Data(edge_index=[2, 118], pos=[38, 2], type=[38], ID=[38], type_1H=[38], base_demand=[38], elevation=[38], base_head=[38], initial_level=[38], node_diameter=[38], edge_type=[118], name='FOS_tank', diameter=[118], length=[118], roughness=[118], diameters=[59], pressure=[38])\n",
      "Num inputs 215\n",
      "Num inputs 215\n",
      "Num inputs 215\n",
      "MLP: training combination 1 of 1\n"
     ]
    },
    {
     "name": "stderr",
     "output_type": "stream",
     "text": [
      " 14%|█▍        | 31/215 [00:00<00:00, 220.43it/s]"
     ]
    },
    {
     "name": "stdout",
     "output_type": "stream",
     "text": [
      "Learning rate is divided by  2 to: 0.0005\n",
      "Early Stopping\n"
     ]
    },
    {
     "name": "stderr",
     "output_type": "stream",
     "text": [
      "\n"
     ]
    }
   ],
   "source": [
    "for ix_wdn, wdn in enumerate(all_wdn_names):\n",
    "\tprint(f'\\nWorking with {wdn}, network {ix_wdn+1} of {len(all_wdn_names)}')\n",
    "\n",
    "\t# retrieve wntr data\n",
    "\ttra_database, val_database, tst_database = load_raw_dataset(wdn, data_folder)\n",
    "\t# reduce training data\n",
    "\t# tra_database = tra_database[:int(len(tra_database)*cfg['tra_prc'])]\n",
    "\tif cfg['tra_num'] < len(tra_database):\n",
    "\t\ttra_database = tra_database[:cfg['tra_num']]\n",
    "\n",
    "\t# remove PES anomaly\n",
    "\tif wdn == 'PES':\n",
    "\t\tif len(tra_database)>4468:\n",
    "\t\t\tdel tra_database[4468]\n",
    "\t\t\tprint('Removed PES anomaly')\n",
    "\t\t\tprint('Check',tra_database[4468].pressure.mean())\n",
    "\n",
    "\t# get GRAPH datasets    \n",
    "\t# later on we should change this and use normal scalers from scikit\n",
    "\ttra_dataset, A12_bar = create_dataset(tra_database)\n",
    "\t\n",
    "\tgn = GraphNormalizer()\n",
    "\tgn = gn.fit(tra_dataset)\n",
    "\t# The normalization messed with the 1H_type since we want unique IDs\n",
    "\ttra_dataset, _ = create_dataset(tra_database,normalizer=gn)\n",
    "\t\n",
    "\t\n",
    "\tval_dataset,_ = create_dataset(val_database,normalizer=gn)\n",
    "\ttst_dataset,_ = create_dataset(tst_database,normalizer=gn)\n",
    "\tnode_size, edge_size = tra_dataset[0].x.size(-1), tra_dataset[0].edge_attr.size(-1)\n",
    "\t# number of nodes\n",
    "\tn_nodes=(tra_database[0].type_1H == 0).numpy().sum() # remove reservoirs\n",
    "\t# dataloader\n",
    "\t# transform dataset for MLP\n",
    "\t# We begin with the MLP versions, when I want to add GNNs, check Riccardo's code\n",
    "\tA10,A12 = create_incidence_matrices(tra_dataset, A12_bar)\n",
    "\ttra_dataset_MLP, num_inputs, indices = create_dataset_MLP_from_graphs(tra_dataset)\n",
    "\tval_dataset_MLP = create_dataset_MLP_from_graphs(val_dataset)[0]\n",
    "\ttst_dataset_MLP = create_dataset_MLP_from_graphs(tst_dataset)[0]\n",
    "\ttra_loader = torch.utils.data.DataLoader(tra_dataset_MLP,\n",
    "\t\t\t\t\t\t\t\t\t\t\t batch_size=batch_size, shuffle=True, pin_memory=True)\n",
    "\tval_loader = torch.utils.data.DataLoader(val_dataset_MLP,\n",
    "\t\t\t\t\t\t\t\t\t\t\t batch_size=batch_size, shuffle=False, pin_memory=True)\n",
    "\ttst_loader = torch.utils.data.DataLoader(tst_dataset_MLP,\n",
    "\t\t\t\t\t\t\t\t\t\t\t batch_size=batch_size, shuffle=False, pin_memory=True)\n",
    "\t# loop through different algorithms\n",
    "\tn_epochs = num_inputs\n",
    "\tfor algorithm in cfg['algorithms']:\n",
    "\n",
    "\t\thyperParams = cfg['hyperParams'][algorithm]\n",
    "\t\tall_combinations = ParameterGrid(hyperParams)\n",
    "\n",
    "\t\t# create results dataframe\n",
    "\t\tresults_df = pd.DataFrame(list(all_combinations))\n",
    "\t\tresults_df = pd.concat([results_df,\n",
    "\t\t\t\t\t\t\t\tpd.DataFrame(index=np.arange(len(all_combinations)),\n",
    "\t\t\t\t\t\t\t\t\t\t  columns=list(res_columns))],axis=1)\n",
    "\n",
    "\t\tfor i, combination in enumerate(all_combinations):\n",
    "\t\t\tprint(f'{algorithm}: training combination {i+1} of {len(all_combinations)}\\n')\n",
    "\t\t\tcombination['indices'] = indices\n",
    "\t\t\tcombination['num_outputs'] = n_nodes\n",
    "\t\t\tif algorithm == 'UnrollingMLP' or algorithm == 'BaselineUnrolling':\n",
    "\t\t\t\tcombination['A12'] = A12\n",
    "\t\t\t\tcombination['A10'] = A10\n",
    "\n",
    "\t\t\twandb.config = combination\n",
    "\n",
    "\t\t\t# model creation\n",
    "\t\t\tmodel = getattr(sys.modules[__name__], algorithm)(**combination).double().to(device)\n",
    "\t\t\t\n",
    "\t\t\t# get combination dictionary to determine how are indices made\n",
    "\t\t\t# print(\"Model\", model, combination) \n",
    "\t\t\t\n",
    "\t\t\ttotal_parameters = sum(p.numel() for p in model.parameters())\n",
    "\n",
    "\t\t\t# model optimizer\n",
    "\t\t\toptimizer = optim.Adam(params=model.parameters(), **cfg['adamParams'])\n",
    "\n",
    "\t\t\t# training\n",
    "\t\t\tmodel, tra_losses, val_losses, elapsed_time = training(model, optimizer, tra_loader, val_loader,\n",
    "\t\t\t\t\t\t\t\t\t\t\t\t\t\t\t\t\tpatience=10, report_freq=0, n_epochs=n_epochs,\n",
    "\t\t\t\t\t\t\t\t\t\t\t\t\t\t\t\t   alpha=alpha, lr_rate=2, lr_epoch=20,\n",
    "\t\t\t\t\t\t\t\t\t\t\t\t\t\t\t   normalization=None, path = f'{results_folder}/{wdn}/{algorithm}/')\n",
    "\t\t\tplot_loss(tra_losses,val_losses,f'{results_folder}/{wdn}/{algorithm}/loss/{i}')\n",
    "\t\t\tplot_R2(model,val_loader,f'{results_folder}/{wdn}/{algorithm}/R2/{i}', normalization=gn)\n",
    "\t\t\t# store training history and model\n",
    "\t\t\tpd.DataFrame(data = np.array([tra_losses, val_losses]).T).to_csv(\n",
    "\t\t\t\tf'{results_folder}/{wdn}/{algorithm}/hist/{i}.csv')\n",
    "\t\t\ttorch.save(model, f'{results_folder}/{wdn}/{algorithm}/models/{i}.csv')\n",
    "\n",
    "\t\t\t# compute and store predictions, compute r2 scores\n",
    "\t\t\tlosses = {}\n",
    "\t\t\tmax_losses = {}\n",
    "\t\t\tmin_losses = {}\n",
    "\t\t\tr2_scores = {}\n",
    "\t\t\tfor split, loader in zip(['training','validation','testing'],[tra_loader,val_loader,tst_loader]):\n",
    "\t\t\t\tlosses[split], max_losses[split], min_losses[split], pred, real, test_time = testing(model, loader, normalization=gn)\n",
    "\t\t\t\tr2_scores[split] = r2_score(real, pred)\n",
    "\t\t\t\tif i == 0:\n",
    "\t\t\t\t\tpd.DataFrame(data=real.reshape(-1,n_nodes)).to_csv(\n",
    "\t\t\t\t\t\tf'{results_folder}/{wdn}/{algorithm}/pred/{split}/real.csv') # save real obs\n",
    "\t\t\t\tpd.DataFrame(data=pred.reshape(-1,n_nodes)).to_csv(\n",
    "\t\t\t\t\tf'{results_folder}/{wdn}/{algorithm}/pred/{split}/{i}.csv')\n",
    "\n",
    "\t\t\t# store results\n",
    "\t\t\tresults_df.loc[i,res_columns] = (losses['training'], losses['validation'], losses['testing'],\n",
    "\t\t\t\t\t\t\t\t\t\t\t max_losses['training'], max_losses['validation'], max_losses['testing'],\n",
    "\t\t\t\t\t\t\t\t\t\t\t min_losses['training'], min_losses['validation'], min_losses['testing'],\n",
    "\t\t\t\t\t\t\t\t\t\t\t r2_scores['training'], r2_scores['validation'], r2_scores['testing'],\n",
    "\t\t\t\t\t\t\t\t\t\t\t total_parameters, elapsed_time,test_time)\n",
    "\t\t# save graph normalizer\n",
    "\t\twith open(f'{results_folder}/{wdn}/{algorithm}/gn.pickle', 'wb') as handle:\n",
    "\t\t     pickle.dump(gn, handle, protocol=pickle.HIGHEST_PROTOCOL)\n",
    "\n",
    "\t\twith open(f'{results_folder}/{wdn}/{algorithm}/model.pickle', 'wb') as handle:\n",
    "\t\t\ttorch.save(model, handle)\n",
    "\t\tresults_df.to_csv(f'{results_folder}/{wdn}/{algorithm}/results_{algorithm}.csv')"
   ],
   "metadata": {
    "collapsed": false,
    "ExecuteTime": {
     "end_time": "2023-09-11T11:45:06.218989900Z",
     "start_time": "2023-09-11T11:45:04.724531600Z"
    }
   }
  },
  {
   "cell_type": "code",
   "execution_count": 21,
   "outputs": [
    {
     "data": {
      "application/vnd.plotly.v1+json": {
       "data": [
        {
         "hovertemplate": "%{text}",
         "marker": {
          "cmax": 1,
          "cmin": 0,
          "color": [
           1.5171313285827637,
           1.5661768913269043,
           1.3192023038864136,
           1.0636096000671387,
           0.505918562412262,
           1.7617851495742798,
           2.11903715133667,
           1.9347362518310547,
           1.8276934623718262,
           1.4580167531967163,
           1.3714088201522827,
           1.1080496311187744,
           0.8405503630638123,
           1.1044912338256836,
           1.3592716455459595,
           1.5447757244110107,
           1.7720212936401367,
           1.4428671598434448,
           1.1875824928283691,
           1.175445556640625,
           1.1694066524505615,
           1.4632526636123657,
           1.531156301498413,
           2.069988489151001,
           1.5734771490097046,
           1.306416630744934,
           1.4455852508544922,
           1.7976826429367065,
           1.581396460533142,
           1.4898228645324707,
           1.4428977966308594,
           1.466369390487671,
           1.554714322090149,
           1.5753482580184937,
           1.7290246486663818,
           1.8087661266326904
          ],
          "colorbar": {
           "ticklabelposition": "outside",
           "x": -0.05
          },
          "colorscale": [
           [
            0.0,
            "rgb(255,255,217)"
           ],
           [
            0.125,
            "rgb(237,248,177)"
           ],
           [
            0.25,
            "rgb(199,233,180)"
           ],
           [
            0.375,
            "rgb(127,205,187)"
           ],
           [
            0.5,
            "rgb(65,182,196)"
           ],
           [
            0.625,
            "rgb(29,145,192)"
           ],
           [
            0.75,
            "rgb(34,94,168)"
           ],
           [
            0.875,
            "rgb(37,52,148)"
           ],
           [
            1.0,
            "rgb(8,29,88)"
           ]
          ],
          "line": {
           "color": "DarkSlateGrey",
           "width": 1
          },
          "showscale": true,
          "size": [
           1.0112128257751465,
           1.060258388519287,
           0.8132837414741516,
           0.5576910376548767,
           0.0,
           1.255866527557373,
           1.6131186485290527,
           1.4288177490234375,
           1.321774959564209,
           0.9520981907844543,
           0.8654902577400208,
           0.6021310687065125,
           0.3346318006515503,
           0.5985726714134216,
           0.8533530831336975,
           1.0388572216033936,
           1.2661027908325195,
           0.9369485974311829,
           0.6816639304161072,
           0.669526994228363,
           0.6634880900382996,
           0.9573341012001038,
           1.025237798690796,
           1.5640699863433838,
           1.0675585269927979,
           0.8004980683326721,
           0.9396666884422302,
           1.2917640209197998,
           1.0754778385162354,
           0.9839043021202087,
           0.9369792342185974,
           0.9604508280754089,
           1.0487957000732422,
           1.069429636001587,
           1.2231061458587646,
           1.3028476238250732
          ],
          "sizemin": 1,
          "sizeref": 1.059518575668335
         },
         "mode": "markers",
         "name": "coordinates",
         "showlegend": false,
         "text": [
          "<b><br> Node ID: </b> 0 <br> <b>Value:</b> 1.52",
          "<b><br> Node ID: </b> 1 <br> <b>Value:</b> 1.57",
          "<b><br> Node ID: </b> 2 <br> <b>Value:</b> 1.32",
          "<b><br> Node ID: </b> 3 <br> <b>Value:</b> 1.06",
          "<b><br> Node ID: </b> 4 <br> <b>Value:</b> 0.51",
          "<b><br> Node ID: </b> 5 <br> <b>Value:</b> 1.76",
          "<b><br> Node ID: </b> 6 <br> <b>Value:</b> 2.12",
          "<b><br> Node ID: </b> 7 <br> <b>Value:</b> 1.93",
          "<b><br> Node ID: </b> 8 <br> <b>Value:</b> 1.83",
          "<b><br> Node ID: </b> 9 <br> <b>Value:</b> 1.46",
          "<b><br> Node ID: </b> 10 <br> <b>Value:</b> 1.37",
          "<b><br> Node ID: </b> 11 <br> <b>Value:</b> 1.11",
          "<b><br> Node ID: </b> 12 <br> <b>Value:</b> 0.84",
          "<b><br> Node ID: </b> 13 <br> <b>Value:</b> 1.10",
          "<b><br> Node ID: </b> 14 <br> <b>Value:</b> 1.36",
          "<b><br> Node ID: </b> 15 <br> <b>Value:</b> 1.54",
          "<b><br> Node ID: </b> 16 <br> <b>Value:</b> 1.77",
          "<b><br> Node ID: </b> 17 <br> <b>Value:</b> 1.44",
          "<b><br> Node ID: </b> 18 <br> <b>Value:</b> 1.19",
          "<b><br> Node ID: </b> 19 <br> <b>Value:</b> 1.18",
          "<b><br> Node ID: </b> 20 <br> <b>Value:</b> 1.17",
          "<b><br> Node ID: </b> 21 <br> <b>Value:</b> 1.46",
          "<b><br> Node ID: </b> 22 <br> <b>Value:</b> 1.53",
          "<b><br> Node ID: </b> 23 <br> <b>Value:</b> 2.07",
          "<b><br> Node ID: </b> 24 <br> <b>Value:</b> 1.57",
          "<b><br> Node ID: </b> 25 <br> <b>Value:</b> 1.31",
          "<b><br> Node ID: </b> 26 <br> <b>Value:</b> 1.45",
          "<b><br> Node ID: </b> 27 <br> <b>Value:</b> 1.80",
          "<b><br> Node ID: </b> 28 <br> <b>Value:</b> 1.58",
          "<b><br> Node ID: </b> 29 <br> <b>Value:</b> 1.49",
          "<b><br> Node ID: </b> 30 <br> <b>Value:</b> 1.44",
          "<b><br> Node ID: </b> 31 <br> <b>Value:</b> 1.47",
          "<b><br> Node ID: </b> 32 <br> <b>Value:</b> 1.55",
          "<b><br> Node ID: </b> 33 <br> <b>Value:</b> 1.58",
          "<b><br> Node ID: </b> 34 <br> <b>Value:</b> 1.73",
          "<b><br> Node ID: </b> 35 <br> <b>Value:</b> 1.81"
         ],
         "x": [
          7111.64990234375,
          5679.60986328125,
          4862.4599609375,
          2750.81005859375,
          1852.75,
          1974.1099853515625,
          1974.1099853515625,
          4235.43994140625,
          6411.81005859375,
          5412.6201171875,
          4510.52001953125,
          3033.97998046875,
          2301.780029296875,
          2944.97998046875,
          3786.409912109375,
          4830.10009765625,
          7099.509765625,
          5505.66015625,
          3563.919921875,
          3167.47998046875,
          2730.580078125,
          3511.330078125,
          4097.89990234375,
          3337.3798828125,
          4530.740234375,
          4215.2099609375,
          5194.169921875,
          5218.4501953125,
          5622.97998046875,
          5950.64990234375,
          6614.080078125,
          5380.259765625,
          6318.77001953125,
          6549.35009765625,
          6585.759765625,
          7152.10009765625,
          7669.89990234375,
          7658.6181640625
         ],
         "y": [
          7532.35986328125,
          9538.830078125,
          9538.830078125,
          9474.1103515625,
          8357.6103515625,
          6076.0498046875,
          5149.68017578125,
          5076.85986328125,
          5093.0400390625,
          7888.35009765625,
          8264.5595703125,
          9243.5302734375,
          8078.47998046875,
          7669.89990234375,
          7139.97021484375,
          6480.580078125,
          8438.509765625,
          8450.650390625,
          8839.0,
          7532.35986328125,
          7285.60009765625,
          6666.669921875,
          6286.41015625,
          5121.35986328125,
          6011.330078125,
          7783.169921875,
          7055.02001953125,
          5089.0,
          5999.18994140625,
          5796.93017578125,
          7621.35986328125,
          7544.5,
          7281.5498046875,
          7212.77978515625,
          6092.22998046875,
          6104.3701171875,
          7783.169921875,
          6853.64013671875
         ],
         "type": "scatter",
         "uid": "9bae4d85-a0a1-41fb-9d02-86c58ff7d345",
         "xaxis": "x",
         "yaxis": "y"
        },
        {
         "line": {
          "width": 3
         },
         "marker": {
          "color": "#00A6D6",
          "size": 4
         },
         "mode": "lines+markers",
         "name": "real",
         "x": [
          0,
          1,
          2,
          3,
          4,
          5,
          6,
          7,
          8,
          9,
          10,
          11,
          12,
          13,
          14,
          15,
          16,
          17,
          18,
          19,
          20,
          21,
          22,
          23,
          24,
          25,
          26,
          27,
          28,
          29,
          30,
          31,
          32,
          33,
          34,
          35,
          36,
          37,
          38,
          39,
          40,
          41,
          42,
          43,
          44,
          45,
          46,
          47,
          48,
          49,
          50,
          51,
          52,
          53,
          54,
          55,
          56,
          57,
          58,
          59,
          60,
          61,
          62,
          63,
          64,
          65,
          66,
          67,
          68,
          69,
          70,
          71,
          72,
          73,
          74,
          75,
          76,
          77,
          78,
          79,
          80,
          81,
          82,
          83,
          84,
          85,
          86,
          87,
          88,
          89,
          90,
          91,
          92,
          93,
          94,
          95,
          96,
          97,
          98,
          99
         ],
         "y": [
          1.5171313285827637,
          1.517080307006836,
          1.5187156200408936,
          1.5171740055084229,
          1.5188359022140503,
          1.5191006660461426,
          2.113466262817383,
          1.5608338117599487,
          1.5174659490585327,
          1.5172903537750244,
          1.5171171426773071,
          1.5203983783721924,
          1.5172643661499023,
          1.5305595397949219,
          1.5177268981933594,
          1.518892765045166,
          1.5172233581542969,
          1.517155647277832,
          1.5214861631393433,
          1.573737382888794,
          1.5172518491744995,
          1.5190130472183228,
          1.5175679922103882,
          1.517096996307373,
          1.6112931966781616,
          1.5185092687606812,
          1.5180245637893677,
          1.5682142972946167,
          3.483633041381836,
          1.5174307823181152,
          1.5835354328155518,
          1.5180370807647705,
          1.5587692260742188,
          1.6373430490493774,
          1.5177435874938965,
          1.5171966552734375,
          1.5171496868133545,
          1.5177494287490845,
          1.5199387073516846,
          1.5256677865982056,
          1.5186830759048462,
          1.5172785520553589,
          1.528088092803955,
          1.517155647277832,
          1.5197476148605347,
          1.5175821781158447,
          1.5176148414611816,
          1.5182912349700928,
          1.5520539283752441,
          2.660773515701294,
          1.5217984914779663,
          1.5181139707565308,
          1.5170786380767822,
          1.5171254873275757,
          1.5172008275985718,
          1.5182527303695679,
          1.5180187225341797,
          2.2992184162139893,
          1.5172535181045532,
          1.5269354581832886,
          1.5171840190887451,
          1.5227000713348389,
          1.518599510192871,
          1.5171313285827637,
          1.518106460571289,
          1.5185075998306274,
          1.5173739194869995,
          1.7977054119110107,
          1.517382264137268,
          1.5174165964126587,
          1.5238293409347534,
          1.5180470943450928,
          1.517531156539917,
          1.517484426498413,
          1.5174576044082642,
          1.5199161767959595,
          1.5194830894470215,
          1.5189169645309448,
          1.6033778190612793,
          1.5173680782318115,
          1.520241618156433,
          1.5174601078033447,
          1.5273149013519287,
          1.517086148262024,
          1.5174717903137207,
          1.5172535181045532,
          1.5303986072540283,
          1.5201481580734253,
          1.5172233581542969,
          1.5177143812179565,
          1.5179693698883057,
          1.5172275304794312,
          1.5172066688537598,
          1.5185911655426025,
          1.5179510116577148,
          1.5202299356460571,
          1.5195198059082031,
          1.517551302909851,
          1.5171765089035034,
          1.5176331996917725
         ],
         "type": "scatter",
         "uid": "410609de-4c17-4019-9ad2-6a05b93dcdf0",
         "xaxis": "x2",
         "yaxis": "y2"
        },
        {
         "line": {
          "width": 3
         },
         "marker": {
          "color": "#6F1D77",
          "size": 4
         },
         "mode": "lines+markers",
         "name": "Our model",
         "x": [
          0,
          1,
          2,
          3,
          4,
          5,
          6,
          7,
          8,
          9,
          10,
          11,
          12,
          13,
          14,
          15,
          16,
          17,
          18,
          19,
          20,
          21,
          22,
          23,
          24,
          25,
          26,
          27,
          28,
          29,
          30,
          31,
          32,
          33,
          34,
          35,
          36,
          37,
          38,
          39,
          40,
          41,
          42,
          43,
          44,
          45,
          46,
          47,
          48,
          49,
          50,
          51,
          52,
          53,
          54,
          55,
          56,
          57,
          58,
          59,
          60,
          61,
          62,
          63,
          64,
          65,
          66,
          67,
          68,
          69,
          70,
          71,
          72,
          73,
          74,
          75,
          76,
          77,
          78,
          79,
          80,
          81,
          82,
          83,
          84,
          85,
          86,
          87,
          88,
          89,
          90,
          91,
          92,
          93,
          94,
          95,
          96,
          97,
          98,
          99
         ],
         "y": [
          1.5915238218063468,
          1.6030803098309316,
          1.5805473271113173,
          1.596975234834073,
          1.6096902110499158,
          1.578330338336776,
          1.5866594646717629,
          1.5933865938914227,
          1.5835205027730745,
          1.6096964937050922,
          1.5851542977980906,
          1.584648240112126,
          1.5874609765528267,
          1.6019263914929271,
          1.5834665776818053,
          1.591041659439437,
          1.5968026094880912,
          1.5993463231449878,
          1.5891699967349266,
          1.5975752782151724,
          1.5889208181943957,
          1.5991245745885692,
          1.6011597320224418,
          1.5888935907710842,
          1.5807824897595846,
          1.6011128947982953,
          1.5876254868455801,
          1.5837882706576263,
          1.582304807741027,
          1.594385449604445,
          1.5767374897909916,
          1.5818872085704612,
          1.5856048995524057,
          1.5824543258424033,
          1.5943122423537297,
          1.5754042688015744,
          1.5966907172746934,
          1.5930281510373765,
          1.5953410702065907,
          1.5882760517080912,
          1.5920020856627182,
          1.5960806229239592,
          1.5829727301026686,
          1.5853097143500632,
          1.5946699683405996,
          1.59542383499397,
          1.580234985237765,
          1.588045847062513,
          1.5752343305583405,
          1.5937231811565364,
          1.5731733298890132,
          1.5822708040357727,
          1.614457083370053,
          1.585439628850543,
          1.590474205066818,
          1.6021420928837278,
          1.5870508000000787,
          1.5900238302787826,
          1.59570298237895,
          1.5923310163302504,
          1.6064622293381967,
          1.5937475866491386,
          1.6026017082178592,
          1.5909629489298713,
          1.5713627237265482,
          1.5841823791429852,
          1.5998555090003768,
          1.576215452894395,
          1.5727918499327393,
          1.5790994175513826,
          1.5892134403514289,
          1.5861418905331963,
          1.5912425481939918,
          1.599293185072249,
          1.5914886623338012,
          1.5904359379513504,
          1.5777677618580765,
          1.5881519108059297,
          1.5793954235031147,
          1.583438132583873,
          1.579377374851227,
          1.5646816192472077,
          1.6019212269514296,
          1.5895274986648598,
          1.5960411906342495,
          1.591063526690149,
          1.5996112257347521,
          1.582708486701278,
          1.5797817193233359,
          1.5743203429913561,
          1.5906280344315529,
          1.5904708439029345,
          1.5791525909478688,
          1.5764268393892633,
          1.5902348846794552,
          1.5917715835060708,
          1.577807218374827,
          1.5971853295652823,
          1.6012176505898552,
          1.5710348561356509
         ],
         "type": "scatter",
         "uid": "8bd07989-e532-49c7-9883-d4853ef91959",
         "xaxis": "x2",
         "yaxis": "y2"
        },
        {
         "hoverinfo": "none",
         "line": {
          "color": "#888",
          "width": 0.5
         },
         "mode": "lines",
         "showlegend": false,
         "x": [
          7111.64990234375,
          7099.509765625,
          null,
          7111.64990234375,
          6614.080078125,
          null,
          7111.64990234375,
          7152.10009765625,
          null,
          7111.64990234375,
          7669.89990234375,
          null,
          5679.60986328125,
          4862.4599609375,
          null,
          5679.60986328125,
          5505.66015625,
          null,
          5679.60986328125,
          7099.509765625,
          null,
          4862.4599609375,
          5679.60986328125,
          null,
          4862.4599609375,
          2750.81005859375,
          null,
          4862.4599609375,
          4510.52001953125,
          null,
          2750.81005859375,
          4862.4599609375,
          null,
          2750.81005859375,
          1852.75,
          null,
          2750.81005859375,
          3033.97998046875,
          null,
          1852.75,
          2750.81005859375,
          null,
          1852.75,
          1974.1099853515625,
          null,
          1852.75,
          2301.780029296875,
          null,
          1974.1099853515625,
          1852.75,
          null,
          1974.1099853515625,
          1974.1099853515625,
          null,
          1974.1099853515625,
          2730.580078125,
          null,
          1974.1099853515625,
          1974.1099853515625,
          null,
          1974.1099853515625,
          3337.3798828125,
          null,
          1974.1099853515625,
          3511.330078125,
          null,
          4235.43994140625,
          5218.4501953125,
          null,
          4235.43994140625,
          3337.3798828125,
          null,
          4235.43994140625,
          4530.740234375,
          null,
          6411.81005859375,
          7152.10009765625,
          null,
          6411.81005859375,
          5218.4501953125,
          null,
          6411.81005859375,
          5950.64990234375,
          null,
          5412.6201171875,
          4510.52001953125,
          null,
          5412.6201171875,
          5380.259765625,
          null,
          5412.6201171875,
          5505.66015625,
          null,
          5412.6201171875,
          6614.080078125,
          null,
          4510.52001953125,
          4862.4599609375,
          null,
          4510.52001953125,
          5412.6201171875,
          null,
          4510.52001953125,
          3563.919921875,
          null,
          4510.52001953125,
          4215.2099609375,
          null,
          3033.97998046875,
          2750.81005859375,
          null,
          3033.97998046875,
          2301.780029296875,
          null,
          3033.97998046875,
          3563.919921875,
          null,
          2301.780029296875,
          1852.75,
          null,
          2301.780029296875,
          3033.97998046875,
          null,
          2301.780029296875,
          2944.97998046875,
          null,
          2944.97998046875,
          2301.780029296875,
          null,
          2944.97998046875,
          3167.47998046875,
          null,
          2944.97998046875,
          2730.580078125,
          null,
          3786.409912109375,
          3511.330078125,
          null,
          3786.409912109375,
          4830.10009765625,
          null,
          3786.409912109375,
          3167.47998046875,
          null,
          3786.409912109375,
          4215.2099609375,
          null,
          4830.10009765625,
          3786.409912109375,
          null,
          4830.10009765625,
          4530.740234375,
          null,
          4830.10009765625,
          5622.97998046875,
          null,
          4830.10009765625,
          5194.169921875,
          null,
          7099.509765625,
          7111.64990234375,
          null,
          7099.509765625,
          5679.60986328125,
          null,
          7099.509765625,
          5505.66015625,
          null,
          5505.66015625,
          5679.60986328125,
          null,
          5505.66015625,
          5412.6201171875,
          null,
          5505.66015625,
          7099.509765625,
          null,
          3563.919921875,
          4510.52001953125,
          null,
          3563.919921875,
          3033.97998046875,
          null,
          3563.919921875,
          3167.47998046875,
          null,
          3167.47998046875,
          2944.97998046875,
          null,
          3167.47998046875,
          3786.409912109375,
          null,
          3167.47998046875,
          3563.919921875,
          null,
          2730.580078125,
          1974.1099853515625,
          null,
          2730.580078125,
          2944.97998046875,
          null,
          2730.580078125,
          3511.330078125,
          null,
          3511.330078125,
          1974.1099853515625,
          null,
          3511.330078125,
          3786.409912109375,
          null,
          3511.330078125,
          2730.580078125,
          null,
          3511.330078125,
          4097.89990234375,
          null,
          4097.89990234375,
          3511.330078125,
          null,
          4097.89990234375,
          4530.740234375,
          null,
          4097.89990234375,
          3337.3798828125,
          null,
          3337.3798828125,
          1974.1099853515625,
          null,
          3337.3798828125,
          4235.43994140625,
          null,
          3337.3798828125,
          4097.89990234375,
          null,
          4530.740234375,
          4235.43994140625,
          null,
          4530.740234375,
          4830.10009765625,
          null,
          4530.740234375,
          4097.89990234375,
          null,
          4215.2099609375,
          4510.52001953125,
          null,
          4215.2099609375,
          3786.409912109375,
          null,
          4215.2099609375,
          5194.169921875,
          null,
          5194.169921875,
          4830.10009765625,
          null,
          5194.169921875,
          4215.2099609375,
          null,
          5194.169921875,
          5380.259765625,
          null,
          5218.4501953125,
          4235.43994140625,
          null,
          5218.4501953125,
          6411.81005859375,
          null,
          5218.4501953125,
          5622.97998046875,
          null,
          5622.97998046875,
          4830.10009765625,
          null,
          5622.97998046875,
          5218.4501953125,
          null,
          5622.97998046875,
          5950.64990234375,
          null,
          5622.97998046875,
          6318.77001953125,
          null,
          5950.64990234375,
          6411.81005859375,
          null,
          5950.64990234375,
          5622.97998046875,
          null,
          5950.64990234375,
          6585.759765625,
          null,
          6614.080078125,
          7111.64990234375,
          null,
          6614.080078125,
          5412.6201171875,
          null,
          6614.080078125,
          6549.35009765625,
          null,
          5380.259765625,
          5412.6201171875,
          null,
          5380.259765625,
          5194.169921875,
          null,
          5380.259765625,
          6318.77001953125,
          null,
          6318.77001953125,
          5622.97998046875,
          null,
          6318.77001953125,
          5380.259765625,
          null,
          6318.77001953125,
          6549.35009765625,
          null,
          6549.35009765625,
          6614.080078125,
          null,
          6549.35009765625,
          6318.77001953125,
          null,
          6549.35009765625,
          6585.759765625,
          null,
          6585.759765625,
          5950.64990234375,
          null,
          6585.759765625,
          6549.35009765625,
          null,
          6585.759765625,
          7152.10009765625,
          null,
          7152.10009765625,
          7111.64990234375,
          null,
          7152.10009765625,
          6411.81005859375,
          null,
          7152.10009765625,
          6585.759765625,
          null,
          7152.10009765625,
          7658.6181640625,
          null,
          7669.89990234375,
          7111.64990234375,
          null,
          7658.6181640625,
          7152.10009765625,
          null
         ],
         "y": [
          7532.35986328125,
          8438.509765625,
          null,
          7532.35986328125,
          7621.35986328125,
          null,
          7532.35986328125,
          6104.3701171875,
          null,
          7532.35986328125,
          7783.169921875,
          null,
          9538.830078125,
          9538.830078125,
          null,
          9538.830078125,
          8450.650390625,
          null,
          9538.830078125,
          8438.509765625,
          null,
          9538.830078125,
          9538.830078125,
          null,
          9538.830078125,
          9474.1103515625,
          null,
          9538.830078125,
          8264.5595703125,
          null,
          9474.1103515625,
          9538.830078125,
          null,
          9474.1103515625,
          8357.6103515625,
          null,
          9474.1103515625,
          9243.5302734375,
          null,
          8357.6103515625,
          9474.1103515625,
          null,
          8357.6103515625,
          6076.0498046875,
          null,
          8357.6103515625,
          8078.47998046875,
          null,
          6076.0498046875,
          8357.6103515625,
          null,
          6076.0498046875,
          5149.68017578125,
          null,
          6076.0498046875,
          7285.60009765625,
          null,
          5149.68017578125,
          6076.0498046875,
          null,
          5149.68017578125,
          5121.35986328125,
          null,
          5149.68017578125,
          6666.669921875,
          null,
          5076.85986328125,
          5089.0,
          null,
          5076.85986328125,
          5121.35986328125,
          null,
          5076.85986328125,
          6011.330078125,
          null,
          5093.0400390625,
          6104.3701171875,
          null,
          5093.0400390625,
          5089.0,
          null,
          5093.0400390625,
          5796.93017578125,
          null,
          7888.35009765625,
          8264.5595703125,
          null,
          7888.35009765625,
          7544.5,
          null,
          7888.35009765625,
          8450.650390625,
          null,
          7888.35009765625,
          7621.35986328125,
          null,
          8264.5595703125,
          9538.830078125,
          null,
          8264.5595703125,
          7888.35009765625,
          null,
          8264.5595703125,
          8839.0,
          null,
          8264.5595703125,
          7783.169921875,
          null,
          9243.5302734375,
          9474.1103515625,
          null,
          9243.5302734375,
          8078.47998046875,
          null,
          9243.5302734375,
          8839.0,
          null,
          8078.47998046875,
          8357.6103515625,
          null,
          8078.47998046875,
          9243.5302734375,
          null,
          8078.47998046875,
          7669.89990234375,
          null,
          7669.89990234375,
          8078.47998046875,
          null,
          7669.89990234375,
          7532.35986328125,
          null,
          7669.89990234375,
          7285.60009765625,
          null,
          7139.97021484375,
          6666.669921875,
          null,
          7139.97021484375,
          6480.580078125,
          null,
          7139.97021484375,
          7532.35986328125,
          null,
          7139.97021484375,
          7783.169921875,
          null,
          6480.580078125,
          7139.97021484375,
          null,
          6480.580078125,
          6011.330078125,
          null,
          6480.580078125,
          5999.18994140625,
          null,
          6480.580078125,
          7055.02001953125,
          null,
          8438.509765625,
          7532.35986328125,
          null,
          8438.509765625,
          9538.830078125,
          null,
          8438.509765625,
          8450.650390625,
          null,
          8450.650390625,
          9538.830078125,
          null,
          8450.650390625,
          7888.35009765625,
          null,
          8450.650390625,
          8438.509765625,
          null,
          8839.0,
          8264.5595703125,
          null,
          8839.0,
          9243.5302734375,
          null,
          8839.0,
          7532.35986328125,
          null,
          7532.35986328125,
          7669.89990234375,
          null,
          7532.35986328125,
          7139.97021484375,
          null,
          7532.35986328125,
          8839.0,
          null,
          7285.60009765625,
          6076.0498046875,
          null,
          7285.60009765625,
          7669.89990234375,
          null,
          7285.60009765625,
          6666.669921875,
          null,
          6666.669921875,
          5149.68017578125,
          null,
          6666.669921875,
          7139.97021484375,
          null,
          6666.669921875,
          7285.60009765625,
          null,
          6666.669921875,
          6286.41015625,
          null,
          6286.41015625,
          6666.669921875,
          null,
          6286.41015625,
          6011.330078125,
          null,
          6286.41015625,
          5121.35986328125,
          null,
          5121.35986328125,
          5149.68017578125,
          null,
          5121.35986328125,
          5076.85986328125,
          null,
          5121.35986328125,
          6286.41015625,
          null,
          6011.330078125,
          5076.85986328125,
          null,
          6011.330078125,
          6480.580078125,
          null,
          6011.330078125,
          6286.41015625,
          null,
          7783.169921875,
          8264.5595703125,
          null,
          7783.169921875,
          7139.97021484375,
          null,
          7783.169921875,
          7055.02001953125,
          null,
          7055.02001953125,
          6480.580078125,
          null,
          7055.02001953125,
          7783.169921875,
          null,
          7055.02001953125,
          7544.5,
          null,
          5089.0,
          5076.85986328125,
          null,
          5089.0,
          5093.0400390625,
          null,
          5089.0,
          5999.18994140625,
          null,
          5999.18994140625,
          6480.580078125,
          null,
          5999.18994140625,
          5089.0,
          null,
          5999.18994140625,
          5796.93017578125,
          null,
          5999.18994140625,
          7281.5498046875,
          null,
          5796.93017578125,
          5093.0400390625,
          null,
          5796.93017578125,
          5999.18994140625,
          null,
          5796.93017578125,
          6092.22998046875,
          null,
          7621.35986328125,
          7532.35986328125,
          null,
          7621.35986328125,
          7888.35009765625,
          null,
          7621.35986328125,
          7212.77978515625,
          null,
          7544.5,
          7888.35009765625,
          null,
          7544.5,
          7055.02001953125,
          null,
          7544.5,
          7281.5498046875,
          null,
          7281.5498046875,
          5999.18994140625,
          null,
          7281.5498046875,
          7544.5,
          null,
          7281.5498046875,
          7212.77978515625,
          null,
          7212.77978515625,
          7621.35986328125,
          null,
          7212.77978515625,
          7281.5498046875,
          null,
          7212.77978515625,
          6092.22998046875,
          null,
          6092.22998046875,
          5796.93017578125,
          null,
          6092.22998046875,
          7212.77978515625,
          null,
          6092.22998046875,
          6104.3701171875,
          null,
          6104.3701171875,
          7532.35986328125,
          null,
          6104.3701171875,
          5093.0400390625,
          null,
          6104.3701171875,
          6092.22998046875,
          null,
          6104.3701171875,
          6853.64013671875,
          null,
          7783.169921875,
          7532.35986328125,
          null,
          6853.64013671875,
          6104.3701171875,
          null
         ],
         "type": "scatter",
         "uid": "1edb4924-adf5-4c6f-b43a-56fa39b16ff4",
         "xaxis": "x",
         "yaxis": "y"
        },
        {
         "marker": {
          "color": "midnightblue",
          "line": {
           "width": 2
          },
          "size": 15,
          "symbol": "x-open"
         },
         "showlegend": false,
         "x": [
          7111.64990234375
         ],
         "y": [
          7532.35986328125
         ],
         "type": "scatter",
         "uid": "c8a7e278-d0be-440e-828f-d27461c48f6b",
         "xaxis": "x",
         "yaxis": "y"
        }
       ],
       "layout": {
        "annotations": [
         {
          "font": {
           "size": 16
          },
          "showarrow": false,
          "text": " ",
          "x": 0.14444444444444446,
          "xanchor": "center",
          "xref": "paper",
          "y": 1.0,
          "yanchor": "bottom",
          "yref": "paper"
         },
         {
          "font": {
           "size": 16
          },
          "showarrow": false,
          "text": "Comparison of hydraulic heads",
          "x": 0.6777777777777778,
          "xanchor": "center",
          "xref": "paper",
          "y": 1.0,
          "yanchor": "bottom",
          "yref": "paper"
         }
        ],
        "template": {
         "data": {
          "barpolar": [
           {
            "marker": {
             "line": {
              "color": "#E5ECF6",
              "width": 0.5
             },
             "pattern": {
              "fillmode": "overlay",
              "size": 10,
              "solidity": 0.2
             }
            },
            "type": "barpolar"
           }
          ],
          "bar": [
           {
            "error_x": {
             "color": "#2a3f5f"
            },
            "error_y": {
             "color": "#2a3f5f"
            },
            "marker": {
             "line": {
              "color": "#E5ECF6",
              "width": 0.5
             },
             "pattern": {
              "fillmode": "overlay",
              "size": 10,
              "solidity": 0.2
             }
            },
            "type": "bar"
           }
          ],
          "carpet": [
           {
            "aaxis": {
             "endlinecolor": "#2a3f5f",
             "gridcolor": "white",
             "linecolor": "white",
             "minorgridcolor": "white",
             "startlinecolor": "#2a3f5f"
            },
            "baxis": {
             "endlinecolor": "#2a3f5f",
             "gridcolor": "white",
             "linecolor": "white",
             "minorgridcolor": "white",
             "startlinecolor": "#2a3f5f"
            },
            "type": "carpet"
           }
          ],
          "choropleth": [
           {
            "colorbar": {
             "outlinewidth": 0,
             "ticks": ""
            },
            "type": "choropleth"
           }
          ],
          "contourcarpet": [
           {
            "colorbar": {
             "outlinewidth": 0,
             "ticks": ""
            },
            "type": "contourcarpet"
           }
          ],
          "contour": [
           {
            "colorbar": {
             "outlinewidth": 0,
             "ticks": ""
            },
            "colorscale": [
             [
              0.0,
              "#0d0887"
             ],
             [
              0.1111111111111111,
              "#46039f"
             ],
             [
              0.2222222222222222,
              "#7201a8"
             ],
             [
              0.3333333333333333,
              "#9c179e"
             ],
             [
              0.4444444444444444,
              "#bd3786"
             ],
             [
              0.5555555555555556,
              "#d8576b"
             ],
             [
              0.6666666666666666,
              "#ed7953"
             ],
             [
              0.7777777777777778,
              "#fb9f3a"
             ],
             [
              0.8888888888888888,
              "#fdca26"
             ],
             [
              1.0,
              "#f0f921"
             ]
            ],
            "type": "contour"
           }
          ],
          "heatmapgl": [
           {
            "colorbar": {
             "outlinewidth": 0,
             "ticks": ""
            },
            "colorscale": [
             [
              0.0,
              "#0d0887"
             ],
             [
              0.1111111111111111,
              "#46039f"
             ],
             [
              0.2222222222222222,
              "#7201a8"
             ],
             [
              0.3333333333333333,
              "#9c179e"
             ],
             [
              0.4444444444444444,
              "#bd3786"
             ],
             [
              0.5555555555555556,
              "#d8576b"
             ],
             [
              0.6666666666666666,
              "#ed7953"
             ],
             [
              0.7777777777777778,
              "#fb9f3a"
             ],
             [
              0.8888888888888888,
              "#fdca26"
             ],
             [
              1.0,
              "#f0f921"
             ]
            ],
            "type": "heatmapgl"
           }
          ],
          "heatmap": [
           {
            "colorbar": {
             "outlinewidth": 0,
             "ticks": ""
            },
            "colorscale": [
             [
              0.0,
              "#0d0887"
             ],
             [
              0.1111111111111111,
              "#46039f"
             ],
             [
              0.2222222222222222,
              "#7201a8"
             ],
             [
              0.3333333333333333,
              "#9c179e"
             ],
             [
              0.4444444444444444,
              "#bd3786"
             ],
             [
              0.5555555555555556,
              "#d8576b"
             ],
             [
              0.6666666666666666,
              "#ed7953"
             ],
             [
              0.7777777777777778,
              "#fb9f3a"
             ],
             [
              0.8888888888888888,
              "#fdca26"
             ],
             [
              1.0,
              "#f0f921"
             ]
            ],
            "type": "heatmap"
           }
          ],
          "histogram2dcontour": [
           {
            "colorbar": {
             "outlinewidth": 0,
             "ticks": ""
            },
            "colorscale": [
             [
              0.0,
              "#0d0887"
             ],
             [
              0.1111111111111111,
              "#46039f"
             ],
             [
              0.2222222222222222,
              "#7201a8"
             ],
             [
              0.3333333333333333,
              "#9c179e"
             ],
             [
              0.4444444444444444,
              "#bd3786"
             ],
             [
              0.5555555555555556,
              "#d8576b"
             ],
             [
              0.6666666666666666,
              "#ed7953"
             ],
             [
              0.7777777777777778,
              "#fb9f3a"
             ],
             [
              0.8888888888888888,
              "#fdca26"
             ],
             [
              1.0,
              "#f0f921"
             ]
            ],
            "type": "histogram2dcontour"
           }
          ],
          "histogram2d": [
           {
            "colorbar": {
             "outlinewidth": 0,
             "ticks": ""
            },
            "colorscale": [
             [
              0.0,
              "#0d0887"
             ],
             [
              0.1111111111111111,
              "#46039f"
             ],
             [
              0.2222222222222222,
              "#7201a8"
             ],
             [
              0.3333333333333333,
              "#9c179e"
             ],
             [
              0.4444444444444444,
              "#bd3786"
             ],
             [
              0.5555555555555556,
              "#d8576b"
             ],
             [
              0.6666666666666666,
              "#ed7953"
             ],
             [
              0.7777777777777778,
              "#fb9f3a"
             ],
             [
              0.8888888888888888,
              "#fdca26"
             ],
             [
              1.0,
              "#f0f921"
             ]
            ],
            "type": "histogram2d"
           }
          ],
          "histogram": [
           {
            "marker": {
             "pattern": {
              "fillmode": "overlay",
              "size": 10,
              "solidity": 0.2
             }
            },
            "type": "histogram"
           }
          ],
          "mesh3d": [
           {
            "colorbar": {
             "outlinewidth": 0,
             "ticks": ""
            },
            "type": "mesh3d"
           }
          ],
          "parcoords": [
           {
            "line": {
             "colorbar": {
              "outlinewidth": 0,
              "ticks": ""
             }
            },
            "type": "parcoords"
           }
          ],
          "pie": [
           {
            "automargin": true,
            "type": "pie"
           }
          ],
          "scatter3d": [
           {
            "line": {
             "colorbar": {
              "outlinewidth": 0,
              "ticks": ""
             }
            },
            "marker": {
             "colorbar": {
              "outlinewidth": 0,
              "ticks": ""
             }
            },
            "type": "scatter3d"
           }
          ],
          "scattercarpet": [
           {
            "marker": {
             "colorbar": {
              "outlinewidth": 0,
              "ticks": ""
             }
            },
            "type": "scattercarpet"
           }
          ],
          "scattergeo": [
           {
            "marker": {
             "colorbar": {
              "outlinewidth": 0,
              "ticks": ""
             }
            },
            "type": "scattergeo"
           }
          ],
          "scattergl": [
           {
            "marker": {
             "colorbar": {
              "outlinewidth": 0,
              "ticks": ""
             }
            },
            "type": "scattergl"
           }
          ],
          "scattermapbox": [
           {
            "marker": {
             "colorbar": {
              "outlinewidth": 0,
              "ticks": ""
             }
            },
            "type": "scattermapbox"
           }
          ],
          "scatterpolargl": [
           {
            "marker": {
             "colorbar": {
              "outlinewidth": 0,
              "ticks": ""
             }
            },
            "type": "scatterpolargl"
           }
          ],
          "scatterpolar": [
           {
            "marker": {
             "colorbar": {
              "outlinewidth": 0,
              "ticks": ""
             }
            },
            "type": "scatterpolar"
           }
          ],
          "scatter": [
           {
            "fillpattern": {
             "fillmode": "overlay",
             "size": 10,
             "solidity": 0.2
            },
            "type": "scatter"
           }
          ],
          "scatterternary": [
           {
            "marker": {
             "colorbar": {
              "outlinewidth": 0,
              "ticks": ""
             }
            },
            "type": "scatterternary"
           }
          ],
          "surface": [
           {
            "colorbar": {
             "outlinewidth": 0,
             "ticks": ""
            },
            "colorscale": [
             [
              0.0,
              "#0d0887"
             ],
             [
              0.1111111111111111,
              "#46039f"
             ],
             [
              0.2222222222222222,
              "#7201a8"
             ],
             [
              0.3333333333333333,
              "#9c179e"
             ],
             [
              0.4444444444444444,
              "#bd3786"
             ],
             [
              0.5555555555555556,
              "#d8576b"
             ],
             [
              0.6666666666666666,
              "#ed7953"
             ],
             [
              0.7777777777777778,
              "#fb9f3a"
             ],
             [
              0.8888888888888888,
              "#fdca26"
             ],
             [
              1.0,
              "#f0f921"
             ]
            ],
            "type": "surface"
           }
          ],
          "table": [
           {
            "cells": {
             "fill": {
              "color": "#EBF0F8"
             },
             "line": {
              "color": "white"
             }
            },
            "header": {
             "fill": {
              "color": "#C8D4E3"
             },
             "line": {
              "color": "white"
             }
            },
            "type": "table"
           }
          ]
         },
         "layout": {
          "annotationdefaults": {
           "arrowcolor": "#2a3f5f",
           "arrowhead": 0,
           "arrowwidth": 1
          },
          "autotypenumbers": "strict",
          "coloraxis": {
           "colorbar": {
            "outlinewidth": 0,
            "ticks": ""
           }
          },
          "colorscale": {
           "diverging": [
            [
             0,
             "#8e0152"
            ],
            [
             0.1,
             "#c51b7d"
            ],
            [
             0.2,
             "#de77ae"
            ],
            [
             0.3,
             "#f1b6da"
            ],
            [
             0.4,
             "#fde0ef"
            ],
            [
             0.5,
             "#f7f7f7"
            ],
            [
             0.6,
             "#e6f5d0"
            ],
            [
             0.7,
             "#b8e186"
            ],
            [
             0.8,
             "#7fbc41"
            ],
            [
             0.9,
             "#4d9221"
            ],
            [
             1,
             "#276419"
            ]
           ],
           "sequential": [
            [
             0.0,
             "#0d0887"
            ],
            [
             0.1111111111111111,
             "#46039f"
            ],
            [
             0.2222222222222222,
             "#7201a8"
            ],
            [
             0.3333333333333333,
             "#9c179e"
            ],
            [
             0.4444444444444444,
             "#bd3786"
            ],
            [
             0.5555555555555556,
             "#d8576b"
            ],
            [
             0.6666666666666666,
             "#ed7953"
            ],
            [
             0.7777777777777778,
             "#fb9f3a"
            ],
            [
             0.8888888888888888,
             "#fdca26"
            ],
            [
             1.0,
             "#f0f921"
            ]
           ],
           "sequentialminus": [
            [
             0.0,
             "#0d0887"
            ],
            [
             0.1111111111111111,
             "#46039f"
            ],
            [
             0.2222222222222222,
             "#7201a8"
            ],
            [
             0.3333333333333333,
             "#9c179e"
            ],
            [
             0.4444444444444444,
             "#bd3786"
            ],
            [
             0.5555555555555556,
             "#d8576b"
            ],
            [
             0.6666666666666666,
             "#ed7953"
            ],
            [
             0.7777777777777778,
             "#fb9f3a"
            ],
            [
             0.8888888888888888,
             "#fdca26"
            ],
            [
             1.0,
             "#f0f921"
            ]
           ]
          },
          "colorway": [
           "#636efa",
           "#EF553B",
           "#00cc96",
           "#ab63fa",
           "#FFA15A",
           "#19d3f3",
           "#FF6692",
           "#B6E880",
           "#FF97FF",
           "#FECB52"
          ],
          "font": {
           "color": "#2a3f5f"
          },
          "geo": {
           "bgcolor": "white",
           "lakecolor": "white",
           "landcolor": "#E5ECF6",
           "showlakes": true,
           "showland": true,
           "subunitcolor": "white"
          },
          "hoverlabel": {
           "align": "left"
          },
          "hovermode": "closest",
          "mapbox": {
           "style": "light"
          },
          "paper_bgcolor": "white",
          "plot_bgcolor": "#E5ECF6",
          "polar": {
           "angularaxis": {
            "gridcolor": "white",
            "linecolor": "white",
            "ticks": ""
           },
           "bgcolor": "#E5ECF6",
           "radialaxis": {
            "gridcolor": "white",
            "linecolor": "white",
            "ticks": ""
           }
          },
          "scene": {
           "xaxis": {
            "backgroundcolor": "#E5ECF6",
            "gridcolor": "white",
            "gridwidth": 2,
            "linecolor": "white",
            "showbackground": true,
            "ticks": "",
            "zerolinecolor": "white"
           },
           "yaxis": {
            "backgroundcolor": "#E5ECF6",
            "gridcolor": "white",
            "gridwidth": 2,
            "linecolor": "white",
            "showbackground": true,
            "ticks": "",
            "zerolinecolor": "white"
           },
           "zaxis": {
            "backgroundcolor": "#E5ECF6",
            "gridcolor": "white",
            "gridwidth": 2,
            "linecolor": "white",
            "showbackground": true,
            "ticks": "",
            "zerolinecolor": "white"
           }
          },
          "shapedefaults": {
           "line": {
            "color": "#2a3f5f"
           }
          },
          "ternary": {
           "aaxis": {
            "gridcolor": "white",
            "linecolor": "white",
            "ticks": ""
           },
           "baxis": {
            "gridcolor": "white",
            "linecolor": "white",
            "ticks": ""
           },
           "bgcolor": "#E5ECF6",
           "caxis": {
            "gridcolor": "white",
            "linecolor": "white",
            "ticks": ""
           }
          },
          "title": {
           "x": 0.05
          },
          "xaxis": {
           "automargin": true,
           "gridcolor": "white",
           "linecolor": "white",
           "ticks": "",
           "title": {
            "standoff": 15
           },
           "zerolinecolor": "white",
           "zerolinewidth": 2
          },
          "yaxis": {
           "automargin": true,
           "gridcolor": "white",
           "linecolor": "white",
           "ticks": "",
           "title": {
            "standoff": 15
           },
           "zerolinecolor": "white",
           "zerolinewidth": 2
          }
         }
        },
        "xaxis": {
         "anchor": "y",
         "domain": [
          0.0,
          0.2888888888888889
         ],
         "showticklabels": false
        },
        "yaxis": {
         "anchor": "x",
         "domain": [
          0.0,
          1.0
         ],
         "scaleanchor": "x",
         "scaleratio": 1,
         "showticklabels": false
        },
        "xaxis2": {
         "anchor": "y2",
         "domain": [
          0.35555555555555557,
          1.0
         ],
         "title": {
          "text": "Node"
         }
        },
        "yaxis2": {
         "anchor": "x2",
         "domain": [
          0.0,
          1.0
         ],
         "title": {
          "text": "Head [masl]"
         }
        },
        "width": 1600,
        "height": 800,
        "title": {
         "text": "Distribution of real Head"
        }
       },
       "config": {
        "plotlyServerURL": "https://plot.ly"
       }
      },
      "text/html": "<div>                            <div id=\"a1365db9-9523-4b2c-ba20-ca6da4570e17\" class=\"plotly-graph-div\" style=\"height:800px; width:1600px;\"></div>            <script type=\"text/javascript\">                require([\"plotly\"], function(Plotly) {                    window.PLOTLYENV=window.PLOTLYENV || {};                                    if (document.getElementById(\"a1365db9-9523-4b2c-ba20-ca6da4570e17\")) {                    Plotly.newPlot(                        \"a1365db9-9523-4b2c-ba20-ca6da4570e17\",                        [{\"hovertemplate\":\"%{text}\",\"marker\":{\"cmax\":1,\"cmin\":0,\"color\":[1.5171313285827637,1.5661768913269043,1.3192023038864136,1.0636096000671387,0.505918562412262,1.7617851495742798,2.11903715133667,1.9347362518310547,1.8276934623718262,1.4580167531967163,1.3714088201522827,1.1080496311187744,0.8405503630638123,1.1044912338256836,1.3592716455459595,1.5447757244110107,1.7720212936401367,1.4428671598434448,1.1875824928283691,1.175445556640625,1.1694066524505615,1.4632526636123657,1.531156301498413,2.069988489151001,1.5734771490097046,1.306416630744934,1.4455852508544922,1.7976826429367065,1.581396460533142,1.4898228645324707,1.4428977966308594,1.466369390487671,1.554714322090149,1.5753482580184937,1.7290246486663818,1.8087661266326904],\"colorbar\":{\"ticklabelposition\":\"outside\",\"x\":-0.05},\"colorscale\":[[0.0,\"rgb(255,255,217)\"],[0.125,\"rgb(237,248,177)\"],[0.25,\"rgb(199,233,180)\"],[0.375,\"rgb(127,205,187)\"],[0.5,\"rgb(65,182,196)\"],[0.625,\"rgb(29,145,192)\"],[0.75,\"rgb(34,94,168)\"],[0.875,\"rgb(37,52,148)\"],[1.0,\"rgb(8,29,88)\"]],\"line\":{\"color\":\"DarkSlateGrey\",\"width\":1},\"showscale\":true,\"size\":[1.0112128257751465,1.060258388519287,0.8132837414741516,0.5576910376548767,0.0,1.255866527557373,1.6131186485290527,1.4288177490234375,1.321774959564209,0.9520981907844543,0.8654902577400208,0.6021310687065125,0.3346318006515503,0.5985726714134216,0.8533530831336975,1.0388572216033936,1.2661027908325195,0.9369485974311829,0.6816639304161072,0.669526994228363,0.6634880900382996,0.9573341012001038,1.025237798690796,1.5640699863433838,1.0675585269927979,0.8004980683326721,0.9396666884422302,1.2917640209197998,1.0754778385162354,0.9839043021202087,0.9369792342185974,0.9604508280754089,1.0487957000732422,1.069429636001587,1.2231061458587646,1.3028476238250732],\"sizemin\":1,\"sizeref\":1.059518575668335},\"mode\":\"markers\",\"name\":\"coordinates\",\"showlegend\":false,\"text\":[\"\\u003cb\\u003e\\u003cbr\\u003e Node ID: \\u003c\\u002fb\\u003e 0 \\u003cbr\\u003e \\u003cb\\u003eValue:\\u003c\\u002fb\\u003e 1.52\",\"\\u003cb\\u003e\\u003cbr\\u003e Node ID: \\u003c\\u002fb\\u003e 1 \\u003cbr\\u003e \\u003cb\\u003eValue:\\u003c\\u002fb\\u003e 1.57\",\"\\u003cb\\u003e\\u003cbr\\u003e Node ID: \\u003c\\u002fb\\u003e 2 \\u003cbr\\u003e \\u003cb\\u003eValue:\\u003c\\u002fb\\u003e 1.32\",\"\\u003cb\\u003e\\u003cbr\\u003e Node ID: \\u003c\\u002fb\\u003e 3 \\u003cbr\\u003e \\u003cb\\u003eValue:\\u003c\\u002fb\\u003e 1.06\",\"\\u003cb\\u003e\\u003cbr\\u003e Node ID: \\u003c\\u002fb\\u003e 4 \\u003cbr\\u003e \\u003cb\\u003eValue:\\u003c\\u002fb\\u003e 0.51\",\"\\u003cb\\u003e\\u003cbr\\u003e Node ID: \\u003c\\u002fb\\u003e 5 \\u003cbr\\u003e \\u003cb\\u003eValue:\\u003c\\u002fb\\u003e 1.76\",\"\\u003cb\\u003e\\u003cbr\\u003e Node ID: \\u003c\\u002fb\\u003e 6 \\u003cbr\\u003e \\u003cb\\u003eValue:\\u003c\\u002fb\\u003e 2.12\",\"\\u003cb\\u003e\\u003cbr\\u003e Node ID: \\u003c\\u002fb\\u003e 7 \\u003cbr\\u003e \\u003cb\\u003eValue:\\u003c\\u002fb\\u003e 1.93\",\"\\u003cb\\u003e\\u003cbr\\u003e Node ID: \\u003c\\u002fb\\u003e 8 \\u003cbr\\u003e \\u003cb\\u003eValue:\\u003c\\u002fb\\u003e 1.83\",\"\\u003cb\\u003e\\u003cbr\\u003e Node ID: \\u003c\\u002fb\\u003e 9 \\u003cbr\\u003e \\u003cb\\u003eValue:\\u003c\\u002fb\\u003e 1.46\",\"\\u003cb\\u003e\\u003cbr\\u003e Node ID: \\u003c\\u002fb\\u003e 10 \\u003cbr\\u003e \\u003cb\\u003eValue:\\u003c\\u002fb\\u003e 1.37\",\"\\u003cb\\u003e\\u003cbr\\u003e Node ID: \\u003c\\u002fb\\u003e 11 \\u003cbr\\u003e \\u003cb\\u003eValue:\\u003c\\u002fb\\u003e 1.11\",\"\\u003cb\\u003e\\u003cbr\\u003e Node ID: \\u003c\\u002fb\\u003e 12 \\u003cbr\\u003e \\u003cb\\u003eValue:\\u003c\\u002fb\\u003e 0.84\",\"\\u003cb\\u003e\\u003cbr\\u003e Node ID: \\u003c\\u002fb\\u003e 13 \\u003cbr\\u003e \\u003cb\\u003eValue:\\u003c\\u002fb\\u003e 1.10\",\"\\u003cb\\u003e\\u003cbr\\u003e Node ID: \\u003c\\u002fb\\u003e 14 \\u003cbr\\u003e \\u003cb\\u003eValue:\\u003c\\u002fb\\u003e 1.36\",\"\\u003cb\\u003e\\u003cbr\\u003e Node ID: \\u003c\\u002fb\\u003e 15 \\u003cbr\\u003e \\u003cb\\u003eValue:\\u003c\\u002fb\\u003e 1.54\",\"\\u003cb\\u003e\\u003cbr\\u003e Node ID: \\u003c\\u002fb\\u003e 16 \\u003cbr\\u003e \\u003cb\\u003eValue:\\u003c\\u002fb\\u003e 1.77\",\"\\u003cb\\u003e\\u003cbr\\u003e Node ID: \\u003c\\u002fb\\u003e 17 \\u003cbr\\u003e \\u003cb\\u003eValue:\\u003c\\u002fb\\u003e 1.44\",\"\\u003cb\\u003e\\u003cbr\\u003e Node ID: \\u003c\\u002fb\\u003e 18 \\u003cbr\\u003e \\u003cb\\u003eValue:\\u003c\\u002fb\\u003e 1.19\",\"\\u003cb\\u003e\\u003cbr\\u003e Node ID: \\u003c\\u002fb\\u003e 19 \\u003cbr\\u003e \\u003cb\\u003eValue:\\u003c\\u002fb\\u003e 1.18\",\"\\u003cb\\u003e\\u003cbr\\u003e Node ID: \\u003c\\u002fb\\u003e 20 \\u003cbr\\u003e \\u003cb\\u003eValue:\\u003c\\u002fb\\u003e 1.17\",\"\\u003cb\\u003e\\u003cbr\\u003e Node ID: \\u003c\\u002fb\\u003e 21 \\u003cbr\\u003e \\u003cb\\u003eValue:\\u003c\\u002fb\\u003e 1.46\",\"\\u003cb\\u003e\\u003cbr\\u003e Node ID: \\u003c\\u002fb\\u003e 22 \\u003cbr\\u003e \\u003cb\\u003eValue:\\u003c\\u002fb\\u003e 1.53\",\"\\u003cb\\u003e\\u003cbr\\u003e Node ID: \\u003c\\u002fb\\u003e 23 \\u003cbr\\u003e \\u003cb\\u003eValue:\\u003c\\u002fb\\u003e 2.07\",\"\\u003cb\\u003e\\u003cbr\\u003e Node ID: \\u003c\\u002fb\\u003e 24 \\u003cbr\\u003e \\u003cb\\u003eValue:\\u003c\\u002fb\\u003e 1.57\",\"\\u003cb\\u003e\\u003cbr\\u003e Node ID: \\u003c\\u002fb\\u003e 25 \\u003cbr\\u003e \\u003cb\\u003eValue:\\u003c\\u002fb\\u003e 1.31\",\"\\u003cb\\u003e\\u003cbr\\u003e Node ID: \\u003c\\u002fb\\u003e 26 \\u003cbr\\u003e \\u003cb\\u003eValue:\\u003c\\u002fb\\u003e 1.45\",\"\\u003cb\\u003e\\u003cbr\\u003e Node ID: \\u003c\\u002fb\\u003e 27 \\u003cbr\\u003e \\u003cb\\u003eValue:\\u003c\\u002fb\\u003e 1.80\",\"\\u003cb\\u003e\\u003cbr\\u003e Node ID: \\u003c\\u002fb\\u003e 28 \\u003cbr\\u003e \\u003cb\\u003eValue:\\u003c\\u002fb\\u003e 1.58\",\"\\u003cb\\u003e\\u003cbr\\u003e Node ID: \\u003c\\u002fb\\u003e 29 \\u003cbr\\u003e \\u003cb\\u003eValue:\\u003c\\u002fb\\u003e 1.49\",\"\\u003cb\\u003e\\u003cbr\\u003e Node ID: \\u003c\\u002fb\\u003e 30 \\u003cbr\\u003e \\u003cb\\u003eValue:\\u003c\\u002fb\\u003e 1.44\",\"\\u003cb\\u003e\\u003cbr\\u003e Node ID: \\u003c\\u002fb\\u003e 31 \\u003cbr\\u003e \\u003cb\\u003eValue:\\u003c\\u002fb\\u003e 1.47\",\"\\u003cb\\u003e\\u003cbr\\u003e Node ID: \\u003c\\u002fb\\u003e 32 \\u003cbr\\u003e \\u003cb\\u003eValue:\\u003c\\u002fb\\u003e 1.55\",\"\\u003cb\\u003e\\u003cbr\\u003e Node ID: \\u003c\\u002fb\\u003e 33 \\u003cbr\\u003e \\u003cb\\u003eValue:\\u003c\\u002fb\\u003e 1.58\",\"\\u003cb\\u003e\\u003cbr\\u003e Node ID: \\u003c\\u002fb\\u003e 34 \\u003cbr\\u003e \\u003cb\\u003eValue:\\u003c\\u002fb\\u003e 1.73\",\"\\u003cb\\u003e\\u003cbr\\u003e Node ID: \\u003c\\u002fb\\u003e 35 \\u003cbr\\u003e \\u003cb\\u003eValue:\\u003c\\u002fb\\u003e 1.81\"],\"x\":[7111.64990234375,5679.60986328125,4862.4599609375,2750.81005859375,1852.75,1974.1099853515625,1974.1099853515625,4235.43994140625,6411.81005859375,5412.6201171875,4510.52001953125,3033.97998046875,2301.780029296875,2944.97998046875,3786.409912109375,4830.10009765625,7099.509765625,5505.66015625,3563.919921875,3167.47998046875,2730.580078125,3511.330078125,4097.89990234375,3337.3798828125,4530.740234375,4215.2099609375,5194.169921875,5218.4501953125,5622.97998046875,5950.64990234375,6614.080078125,5380.259765625,6318.77001953125,6549.35009765625,6585.759765625,7152.10009765625,7669.89990234375,7658.6181640625],\"y\":[7532.35986328125,9538.830078125,9538.830078125,9474.1103515625,8357.6103515625,6076.0498046875,5149.68017578125,5076.85986328125,5093.0400390625,7888.35009765625,8264.5595703125,9243.5302734375,8078.47998046875,7669.89990234375,7139.97021484375,6480.580078125,8438.509765625,8450.650390625,8839.0,7532.35986328125,7285.60009765625,6666.669921875,6286.41015625,5121.35986328125,6011.330078125,7783.169921875,7055.02001953125,5089.0,5999.18994140625,5796.93017578125,7621.35986328125,7544.5,7281.5498046875,7212.77978515625,6092.22998046875,6104.3701171875,7783.169921875,6853.64013671875],\"type\":\"scatter\",\"uid\":\"9bae4d85-a0a1-41fb-9d02-86c58ff7d345\",\"xaxis\":\"x\",\"yaxis\":\"y\"},{\"line\":{\"width\":3},\"marker\":{\"color\":\"#00A6D6\",\"size\":4},\"mode\":\"lines+markers\",\"name\":\"real\",\"x\":[0,1,2,3,4,5,6,7,8,9,10,11,12,13,14,15,16,17,18,19,20,21,22,23,24,25,26,27,28,29,30,31,32,33,34,35,36,37,38,39,40,41,42,43,44,45,46,47,48,49,50,51,52,53,54,55,56,57,58,59,60,61,62,63,64,65,66,67,68,69,70,71,72,73,74,75,76,77,78,79,80,81,82,83,84,85,86,87,88,89,90,91,92,93,94,95,96,97,98,99],\"y\":[1.5171313285827637,1.517080307006836,1.5187156200408936,1.5171740055084229,1.5188359022140503,1.5191006660461426,2.113466262817383,1.5608338117599487,1.5174659490585327,1.5172903537750244,1.5171171426773071,1.5203983783721924,1.5172643661499023,1.5305595397949219,1.5177268981933594,1.518892765045166,1.5172233581542969,1.517155647277832,1.5214861631393433,1.573737382888794,1.5172518491744995,1.5190130472183228,1.5175679922103882,1.517096996307373,1.6112931966781616,1.5185092687606812,1.5180245637893677,1.5682142972946167,3.483633041381836,1.5174307823181152,1.5835354328155518,1.5180370807647705,1.5587692260742188,1.6373430490493774,1.5177435874938965,1.5171966552734375,1.5171496868133545,1.5177494287490845,1.5199387073516846,1.5256677865982056,1.5186830759048462,1.5172785520553589,1.528088092803955,1.517155647277832,1.5197476148605347,1.5175821781158447,1.5176148414611816,1.5182912349700928,1.5520539283752441,2.660773515701294,1.5217984914779663,1.5181139707565308,1.5170786380767822,1.5171254873275757,1.5172008275985718,1.5182527303695679,1.5180187225341797,2.2992184162139893,1.5172535181045532,1.5269354581832886,1.5171840190887451,1.5227000713348389,1.518599510192871,1.5171313285827637,1.518106460571289,1.5185075998306274,1.5173739194869995,1.7977054119110107,1.517382264137268,1.5174165964126587,1.5238293409347534,1.5180470943450928,1.517531156539917,1.517484426498413,1.5174576044082642,1.5199161767959595,1.5194830894470215,1.5189169645309448,1.6033778190612793,1.5173680782318115,1.520241618156433,1.5174601078033447,1.5273149013519287,1.517086148262024,1.5174717903137207,1.5172535181045532,1.5303986072540283,1.5201481580734253,1.5172233581542969,1.5177143812179565,1.5179693698883057,1.5172275304794312,1.5172066688537598,1.5185911655426025,1.5179510116577148,1.5202299356460571,1.5195198059082031,1.517551302909851,1.5171765089035034,1.5176331996917725],\"type\":\"scatter\",\"uid\":\"410609de-4c17-4019-9ad2-6a05b93dcdf0\",\"xaxis\":\"x2\",\"yaxis\":\"y2\"},{\"line\":{\"width\":3},\"marker\":{\"color\":\"#6F1D77\",\"size\":4},\"mode\":\"lines+markers\",\"name\":\"Our model\",\"x\":[0,1,2,3,4,5,6,7,8,9,10,11,12,13,14,15,16,17,18,19,20,21,22,23,24,25,26,27,28,29,30,31,32,33,34,35,36,37,38,39,40,41,42,43,44,45,46,47,48,49,50,51,52,53,54,55,56,57,58,59,60,61,62,63,64,65,66,67,68,69,70,71,72,73,74,75,76,77,78,79,80,81,82,83,84,85,86,87,88,89,90,91,92,93,94,95,96,97,98,99],\"y\":[1.5915238218063468,1.6030803098309316,1.5805473271113173,1.596975234834073,1.6096902110499158,1.578330338336776,1.5866594646717629,1.5933865938914227,1.5835205027730745,1.6096964937050922,1.5851542977980906,1.584648240112126,1.5874609765528267,1.6019263914929271,1.5834665776818053,1.591041659439437,1.5968026094880912,1.5993463231449878,1.5891699967349266,1.5975752782151724,1.5889208181943957,1.5991245745885692,1.6011597320224418,1.5888935907710842,1.5807824897595846,1.6011128947982953,1.5876254868455801,1.5837882706576263,1.582304807741027,1.594385449604445,1.5767374897909916,1.5818872085704612,1.5856048995524057,1.5824543258424033,1.5943122423537297,1.5754042688015744,1.5966907172746934,1.5930281510373765,1.5953410702065907,1.5882760517080912,1.5920020856627182,1.5960806229239592,1.5829727301026686,1.5853097143500632,1.5946699683405996,1.59542383499397,1.580234985237765,1.588045847062513,1.5752343305583405,1.5937231811565364,1.5731733298890132,1.5822708040357727,1.614457083370053,1.585439628850543,1.590474205066818,1.6021420928837278,1.5870508000000787,1.5900238302787826,1.59570298237895,1.5923310163302504,1.6064622293381967,1.5937475866491386,1.6026017082178592,1.5909629489298713,1.5713627237265482,1.5841823791429852,1.5998555090003768,1.576215452894395,1.5727918499327393,1.5790994175513826,1.5892134403514289,1.5861418905331963,1.5912425481939918,1.599293185072249,1.5914886623338012,1.5904359379513504,1.5777677618580765,1.5881519108059297,1.5793954235031147,1.583438132583873,1.579377374851227,1.5646816192472077,1.6019212269514296,1.5895274986648598,1.5960411906342495,1.591063526690149,1.5996112257347521,1.582708486701278,1.5797817193233359,1.5743203429913561,1.5906280344315529,1.5904708439029345,1.5791525909478688,1.5764268393892633,1.5902348846794552,1.5917715835060708,1.577807218374827,1.5971853295652823,1.6012176505898552,1.5710348561356509],\"type\":\"scatter\",\"uid\":\"8bd07989-e532-49c7-9883-d4853ef91959\",\"xaxis\":\"x2\",\"yaxis\":\"y2\"},{\"hoverinfo\":\"none\",\"line\":{\"color\":\"#888\",\"width\":0.5},\"mode\":\"lines\",\"showlegend\":false,\"x\":[7111.64990234375,7099.509765625,null,7111.64990234375,6614.080078125,null,7111.64990234375,7152.10009765625,null,7111.64990234375,7669.89990234375,null,5679.60986328125,4862.4599609375,null,5679.60986328125,5505.66015625,null,5679.60986328125,7099.509765625,null,4862.4599609375,5679.60986328125,null,4862.4599609375,2750.81005859375,null,4862.4599609375,4510.52001953125,null,2750.81005859375,4862.4599609375,null,2750.81005859375,1852.75,null,2750.81005859375,3033.97998046875,null,1852.75,2750.81005859375,null,1852.75,1974.1099853515625,null,1852.75,2301.780029296875,null,1974.1099853515625,1852.75,null,1974.1099853515625,1974.1099853515625,null,1974.1099853515625,2730.580078125,null,1974.1099853515625,1974.1099853515625,null,1974.1099853515625,3337.3798828125,null,1974.1099853515625,3511.330078125,null,4235.43994140625,5218.4501953125,null,4235.43994140625,3337.3798828125,null,4235.43994140625,4530.740234375,null,6411.81005859375,7152.10009765625,null,6411.81005859375,5218.4501953125,null,6411.81005859375,5950.64990234375,null,5412.6201171875,4510.52001953125,null,5412.6201171875,5380.259765625,null,5412.6201171875,5505.66015625,null,5412.6201171875,6614.080078125,null,4510.52001953125,4862.4599609375,null,4510.52001953125,5412.6201171875,null,4510.52001953125,3563.919921875,null,4510.52001953125,4215.2099609375,null,3033.97998046875,2750.81005859375,null,3033.97998046875,2301.780029296875,null,3033.97998046875,3563.919921875,null,2301.780029296875,1852.75,null,2301.780029296875,3033.97998046875,null,2301.780029296875,2944.97998046875,null,2944.97998046875,2301.780029296875,null,2944.97998046875,3167.47998046875,null,2944.97998046875,2730.580078125,null,3786.409912109375,3511.330078125,null,3786.409912109375,4830.10009765625,null,3786.409912109375,3167.47998046875,null,3786.409912109375,4215.2099609375,null,4830.10009765625,3786.409912109375,null,4830.10009765625,4530.740234375,null,4830.10009765625,5622.97998046875,null,4830.10009765625,5194.169921875,null,7099.509765625,7111.64990234375,null,7099.509765625,5679.60986328125,null,7099.509765625,5505.66015625,null,5505.66015625,5679.60986328125,null,5505.66015625,5412.6201171875,null,5505.66015625,7099.509765625,null,3563.919921875,4510.52001953125,null,3563.919921875,3033.97998046875,null,3563.919921875,3167.47998046875,null,3167.47998046875,2944.97998046875,null,3167.47998046875,3786.409912109375,null,3167.47998046875,3563.919921875,null,2730.580078125,1974.1099853515625,null,2730.580078125,2944.97998046875,null,2730.580078125,3511.330078125,null,3511.330078125,1974.1099853515625,null,3511.330078125,3786.409912109375,null,3511.330078125,2730.580078125,null,3511.330078125,4097.89990234375,null,4097.89990234375,3511.330078125,null,4097.89990234375,4530.740234375,null,4097.89990234375,3337.3798828125,null,3337.3798828125,1974.1099853515625,null,3337.3798828125,4235.43994140625,null,3337.3798828125,4097.89990234375,null,4530.740234375,4235.43994140625,null,4530.740234375,4830.10009765625,null,4530.740234375,4097.89990234375,null,4215.2099609375,4510.52001953125,null,4215.2099609375,3786.409912109375,null,4215.2099609375,5194.169921875,null,5194.169921875,4830.10009765625,null,5194.169921875,4215.2099609375,null,5194.169921875,5380.259765625,null,5218.4501953125,4235.43994140625,null,5218.4501953125,6411.81005859375,null,5218.4501953125,5622.97998046875,null,5622.97998046875,4830.10009765625,null,5622.97998046875,5218.4501953125,null,5622.97998046875,5950.64990234375,null,5622.97998046875,6318.77001953125,null,5950.64990234375,6411.81005859375,null,5950.64990234375,5622.97998046875,null,5950.64990234375,6585.759765625,null,6614.080078125,7111.64990234375,null,6614.080078125,5412.6201171875,null,6614.080078125,6549.35009765625,null,5380.259765625,5412.6201171875,null,5380.259765625,5194.169921875,null,5380.259765625,6318.77001953125,null,6318.77001953125,5622.97998046875,null,6318.77001953125,5380.259765625,null,6318.77001953125,6549.35009765625,null,6549.35009765625,6614.080078125,null,6549.35009765625,6318.77001953125,null,6549.35009765625,6585.759765625,null,6585.759765625,5950.64990234375,null,6585.759765625,6549.35009765625,null,6585.759765625,7152.10009765625,null,7152.10009765625,7111.64990234375,null,7152.10009765625,6411.81005859375,null,7152.10009765625,6585.759765625,null,7152.10009765625,7658.6181640625,null,7669.89990234375,7111.64990234375,null,7658.6181640625,7152.10009765625,null],\"y\":[7532.35986328125,8438.509765625,null,7532.35986328125,7621.35986328125,null,7532.35986328125,6104.3701171875,null,7532.35986328125,7783.169921875,null,9538.830078125,9538.830078125,null,9538.830078125,8450.650390625,null,9538.830078125,8438.509765625,null,9538.830078125,9538.830078125,null,9538.830078125,9474.1103515625,null,9538.830078125,8264.5595703125,null,9474.1103515625,9538.830078125,null,9474.1103515625,8357.6103515625,null,9474.1103515625,9243.5302734375,null,8357.6103515625,9474.1103515625,null,8357.6103515625,6076.0498046875,null,8357.6103515625,8078.47998046875,null,6076.0498046875,8357.6103515625,null,6076.0498046875,5149.68017578125,null,6076.0498046875,7285.60009765625,null,5149.68017578125,6076.0498046875,null,5149.68017578125,5121.35986328125,null,5149.68017578125,6666.669921875,null,5076.85986328125,5089.0,null,5076.85986328125,5121.35986328125,null,5076.85986328125,6011.330078125,null,5093.0400390625,6104.3701171875,null,5093.0400390625,5089.0,null,5093.0400390625,5796.93017578125,null,7888.35009765625,8264.5595703125,null,7888.35009765625,7544.5,null,7888.35009765625,8450.650390625,null,7888.35009765625,7621.35986328125,null,8264.5595703125,9538.830078125,null,8264.5595703125,7888.35009765625,null,8264.5595703125,8839.0,null,8264.5595703125,7783.169921875,null,9243.5302734375,9474.1103515625,null,9243.5302734375,8078.47998046875,null,9243.5302734375,8839.0,null,8078.47998046875,8357.6103515625,null,8078.47998046875,9243.5302734375,null,8078.47998046875,7669.89990234375,null,7669.89990234375,8078.47998046875,null,7669.89990234375,7532.35986328125,null,7669.89990234375,7285.60009765625,null,7139.97021484375,6666.669921875,null,7139.97021484375,6480.580078125,null,7139.97021484375,7532.35986328125,null,7139.97021484375,7783.169921875,null,6480.580078125,7139.97021484375,null,6480.580078125,6011.330078125,null,6480.580078125,5999.18994140625,null,6480.580078125,7055.02001953125,null,8438.509765625,7532.35986328125,null,8438.509765625,9538.830078125,null,8438.509765625,8450.650390625,null,8450.650390625,9538.830078125,null,8450.650390625,7888.35009765625,null,8450.650390625,8438.509765625,null,8839.0,8264.5595703125,null,8839.0,9243.5302734375,null,8839.0,7532.35986328125,null,7532.35986328125,7669.89990234375,null,7532.35986328125,7139.97021484375,null,7532.35986328125,8839.0,null,7285.60009765625,6076.0498046875,null,7285.60009765625,7669.89990234375,null,7285.60009765625,6666.669921875,null,6666.669921875,5149.68017578125,null,6666.669921875,7139.97021484375,null,6666.669921875,7285.60009765625,null,6666.669921875,6286.41015625,null,6286.41015625,6666.669921875,null,6286.41015625,6011.330078125,null,6286.41015625,5121.35986328125,null,5121.35986328125,5149.68017578125,null,5121.35986328125,5076.85986328125,null,5121.35986328125,6286.41015625,null,6011.330078125,5076.85986328125,null,6011.330078125,6480.580078125,null,6011.330078125,6286.41015625,null,7783.169921875,8264.5595703125,null,7783.169921875,7139.97021484375,null,7783.169921875,7055.02001953125,null,7055.02001953125,6480.580078125,null,7055.02001953125,7783.169921875,null,7055.02001953125,7544.5,null,5089.0,5076.85986328125,null,5089.0,5093.0400390625,null,5089.0,5999.18994140625,null,5999.18994140625,6480.580078125,null,5999.18994140625,5089.0,null,5999.18994140625,5796.93017578125,null,5999.18994140625,7281.5498046875,null,5796.93017578125,5093.0400390625,null,5796.93017578125,5999.18994140625,null,5796.93017578125,6092.22998046875,null,7621.35986328125,7532.35986328125,null,7621.35986328125,7888.35009765625,null,7621.35986328125,7212.77978515625,null,7544.5,7888.35009765625,null,7544.5,7055.02001953125,null,7544.5,7281.5498046875,null,7281.5498046875,5999.18994140625,null,7281.5498046875,7544.5,null,7281.5498046875,7212.77978515625,null,7212.77978515625,7621.35986328125,null,7212.77978515625,7281.5498046875,null,7212.77978515625,6092.22998046875,null,6092.22998046875,5796.93017578125,null,6092.22998046875,7212.77978515625,null,6092.22998046875,6104.3701171875,null,6104.3701171875,7532.35986328125,null,6104.3701171875,5093.0400390625,null,6104.3701171875,6092.22998046875,null,6104.3701171875,6853.64013671875,null,7783.169921875,7532.35986328125,null,6853.64013671875,6104.3701171875,null],\"type\":\"scatter\",\"uid\":\"1edb4924-adf5-4c6f-b43a-56fa39b16ff4\",\"xaxis\":\"x\",\"yaxis\":\"y\"},{\"marker\":{\"color\":\"midnightblue\",\"line\":{\"width\":2},\"size\":15,\"symbol\":\"x-open\"},\"showlegend\":false,\"x\":[7111.64990234375],\"y\":[7532.35986328125],\"type\":\"scatter\",\"uid\":\"c8a7e278-d0be-440e-828f-d27461c48f6b\",\"xaxis\":\"x\",\"yaxis\":\"y\"}],                        {\"annotations\":[{\"font\":{\"size\":16},\"showarrow\":false,\"text\":\" \",\"x\":0.14444444444444446,\"xanchor\":\"center\",\"xref\":\"paper\",\"y\":1.0,\"yanchor\":\"bottom\",\"yref\":\"paper\"},{\"font\":{\"size\":16},\"showarrow\":false,\"text\":\"Comparison of hydraulic heads\",\"x\":0.6777777777777778,\"xanchor\":\"center\",\"xref\":\"paper\",\"y\":1.0,\"yanchor\":\"bottom\",\"yref\":\"paper\"}],\"template\":{\"data\":{\"barpolar\":[{\"marker\":{\"line\":{\"color\":\"#E5ECF6\",\"width\":0.5},\"pattern\":{\"fillmode\":\"overlay\",\"size\":10,\"solidity\":0.2}},\"type\":\"barpolar\"}],\"bar\":[{\"error_x\":{\"color\":\"#2a3f5f\"},\"error_y\":{\"color\":\"#2a3f5f\"},\"marker\":{\"line\":{\"color\":\"#E5ECF6\",\"width\":0.5},\"pattern\":{\"fillmode\":\"overlay\",\"size\":10,\"solidity\":0.2}},\"type\":\"bar\"}],\"carpet\":[{\"aaxis\":{\"endlinecolor\":\"#2a3f5f\",\"gridcolor\":\"white\",\"linecolor\":\"white\",\"minorgridcolor\":\"white\",\"startlinecolor\":\"#2a3f5f\"},\"baxis\":{\"endlinecolor\":\"#2a3f5f\",\"gridcolor\":\"white\",\"linecolor\":\"white\",\"minorgridcolor\":\"white\",\"startlinecolor\":\"#2a3f5f\"},\"type\":\"carpet\"}],\"choropleth\":[{\"colorbar\":{\"outlinewidth\":0,\"ticks\":\"\"},\"type\":\"choropleth\"}],\"contourcarpet\":[{\"colorbar\":{\"outlinewidth\":0,\"ticks\":\"\"},\"type\":\"contourcarpet\"}],\"contour\":[{\"colorbar\":{\"outlinewidth\":0,\"ticks\":\"\"},\"colorscale\":[[0.0,\"#0d0887\"],[0.1111111111111111,\"#46039f\"],[0.2222222222222222,\"#7201a8\"],[0.3333333333333333,\"#9c179e\"],[0.4444444444444444,\"#bd3786\"],[0.5555555555555556,\"#d8576b\"],[0.6666666666666666,\"#ed7953\"],[0.7777777777777778,\"#fb9f3a\"],[0.8888888888888888,\"#fdca26\"],[1.0,\"#f0f921\"]],\"type\":\"contour\"}],\"heatmapgl\":[{\"colorbar\":{\"outlinewidth\":0,\"ticks\":\"\"},\"colorscale\":[[0.0,\"#0d0887\"],[0.1111111111111111,\"#46039f\"],[0.2222222222222222,\"#7201a8\"],[0.3333333333333333,\"#9c179e\"],[0.4444444444444444,\"#bd3786\"],[0.5555555555555556,\"#d8576b\"],[0.6666666666666666,\"#ed7953\"],[0.7777777777777778,\"#fb9f3a\"],[0.8888888888888888,\"#fdca26\"],[1.0,\"#f0f921\"]],\"type\":\"heatmapgl\"}],\"heatmap\":[{\"colorbar\":{\"outlinewidth\":0,\"ticks\":\"\"},\"colorscale\":[[0.0,\"#0d0887\"],[0.1111111111111111,\"#46039f\"],[0.2222222222222222,\"#7201a8\"],[0.3333333333333333,\"#9c179e\"],[0.4444444444444444,\"#bd3786\"],[0.5555555555555556,\"#d8576b\"],[0.6666666666666666,\"#ed7953\"],[0.7777777777777778,\"#fb9f3a\"],[0.8888888888888888,\"#fdca26\"],[1.0,\"#f0f921\"]],\"type\":\"heatmap\"}],\"histogram2dcontour\":[{\"colorbar\":{\"outlinewidth\":0,\"ticks\":\"\"},\"colorscale\":[[0.0,\"#0d0887\"],[0.1111111111111111,\"#46039f\"],[0.2222222222222222,\"#7201a8\"],[0.3333333333333333,\"#9c179e\"],[0.4444444444444444,\"#bd3786\"],[0.5555555555555556,\"#d8576b\"],[0.6666666666666666,\"#ed7953\"],[0.7777777777777778,\"#fb9f3a\"],[0.8888888888888888,\"#fdca26\"],[1.0,\"#f0f921\"]],\"type\":\"histogram2dcontour\"}],\"histogram2d\":[{\"colorbar\":{\"outlinewidth\":0,\"ticks\":\"\"},\"colorscale\":[[0.0,\"#0d0887\"],[0.1111111111111111,\"#46039f\"],[0.2222222222222222,\"#7201a8\"],[0.3333333333333333,\"#9c179e\"],[0.4444444444444444,\"#bd3786\"],[0.5555555555555556,\"#d8576b\"],[0.6666666666666666,\"#ed7953\"],[0.7777777777777778,\"#fb9f3a\"],[0.8888888888888888,\"#fdca26\"],[1.0,\"#f0f921\"]],\"type\":\"histogram2d\"}],\"histogram\":[{\"marker\":{\"pattern\":{\"fillmode\":\"overlay\",\"size\":10,\"solidity\":0.2}},\"type\":\"histogram\"}],\"mesh3d\":[{\"colorbar\":{\"outlinewidth\":0,\"ticks\":\"\"},\"type\":\"mesh3d\"}],\"parcoords\":[{\"line\":{\"colorbar\":{\"outlinewidth\":0,\"ticks\":\"\"}},\"type\":\"parcoords\"}],\"pie\":[{\"automargin\":true,\"type\":\"pie\"}],\"scatter3d\":[{\"line\":{\"colorbar\":{\"outlinewidth\":0,\"ticks\":\"\"}},\"marker\":{\"colorbar\":{\"outlinewidth\":0,\"ticks\":\"\"}},\"type\":\"scatter3d\"}],\"scattercarpet\":[{\"marker\":{\"colorbar\":{\"outlinewidth\":0,\"ticks\":\"\"}},\"type\":\"scattercarpet\"}],\"scattergeo\":[{\"marker\":{\"colorbar\":{\"outlinewidth\":0,\"ticks\":\"\"}},\"type\":\"scattergeo\"}],\"scattergl\":[{\"marker\":{\"colorbar\":{\"outlinewidth\":0,\"ticks\":\"\"}},\"type\":\"scattergl\"}],\"scattermapbox\":[{\"marker\":{\"colorbar\":{\"outlinewidth\":0,\"ticks\":\"\"}},\"type\":\"scattermapbox\"}],\"scatterpolargl\":[{\"marker\":{\"colorbar\":{\"outlinewidth\":0,\"ticks\":\"\"}},\"type\":\"scatterpolargl\"}],\"scatterpolar\":[{\"marker\":{\"colorbar\":{\"outlinewidth\":0,\"ticks\":\"\"}},\"type\":\"scatterpolar\"}],\"scatter\":[{\"fillpattern\":{\"fillmode\":\"overlay\",\"size\":10,\"solidity\":0.2},\"type\":\"scatter\"}],\"scatterternary\":[{\"marker\":{\"colorbar\":{\"outlinewidth\":0,\"ticks\":\"\"}},\"type\":\"scatterternary\"}],\"surface\":[{\"colorbar\":{\"outlinewidth\":0,\"ticks\":\"\"},\"colorscale\":[[0.0,\"#0d0887\"],[0.1111111111111111,\"#46039f\"],[0.2222222222222222,\"#7201a8\"],[0.3333333333333333,\"#9c179e\"],[0.4444444444444444,\"#bd3786\"],[0.5555555555555556,\"#d8576b\"],[0.6666666666666666,\"#ed7953\"],[0.7777777777777778,\"#fb9f3a\"],[0.8888888888888888,\"#fdca26\"],[1.0,\"#f0f921\"]],\"type\":\"surface\"}],\"table\":[{\"cells\":{\"fill\":{\"color\":\"#EBF0F8\"},\"line\":{\"color\":\"white\"}},\"header\":{\"fill\":{\"color\":\"#C8D4E3\"},\"line\":{\"color\":\"white\"}},\"type\":\"table\"}]},\"layout\":{\"annotationdefaults\":{\"arrowcolor\":\"#2a3f5f\",\"arrowhead\":0,\"arrowwidth\":1},\"autotypenumbers\":\"strict\",\"coloraxis\":{\"colorbar\":{\"outlinewidth\":0,\"ticks\":\"\"}},\"colorscale\":{\"diverging\":[[0,\"#8e0152\"],[0.1,\"#c51b7d\"],[0.2,\"#de77ae\"],[0.3,\"#f1b6da\"],[0.4,\"#fde0ef\"],[0.5,\"#f7f7f7\"],[0.6,\"#e6f5d0\"],[0.7,\"#b8e186\"],[0.8,\"#7fbc41\"],[0.9,\"#4d9221\"],[1,\"#276419\"]],\"sequential\":[[0.0,\"#0d0887\"],[0.1111111111111111,\"#46039f\"],[0.2222222222222222,\"#7201a8\"],[0.3333333333333333,\"#9c179e\"],[0.4444444444444444,\"#bd3786\"],[0.5555555555555556,\"#d8576b\"],[0.6666666666666666,\"#ed7953\"],[0.7777777777777778,\"#fb9f3a\"],[0.8888888888888888,\"#fdca26\"],[1.0,\"#f0f921\"]],\"sequentialminus\":[[0.0,\"#0d0887\"],[0.1111111111111111,\"#46039f\"],[0.2222222222222222,\"#7201a8\"],[0.3333333333333333,\"#9c179e\"],[0.4444444444444444,\"#bd3786\"],[0.5555555555555556,\"#d8576b\"],[0.6666666666666666,\"#ed7953\"],[0.7777777777777778,\"#fb9f3a\"],[0.8888888888888888,\"#fdca26\"],[1.0,\"#f0f921\"]]},\"colorway\":[\"#636efa\",\"#EF553B\",\"#00cc96\",\"#ab63fa\",\"#FFA15A\",\"#19d3f3\",\"#FF6692\",\"#B6E880\",\"#FF97FF\",\"#FECB52\"],\"font\":{\"color\":\"#2a3f5f\"},\"geo\":{\"bgcolor\":\"white\",\"lakecolor\":\"white\",\"landcolor\":\"#E5ECF6\",\"showlakes\":true,\"showland\":true,\"subunitcolor\":\"white\"},\"hoverlabel\":{\"align\":\"left\"},\"hovermode\":\"closest\",\"mapbox\":{\"style\":\"light\"},\"paper_bgcolor\":\"white\",\"plot_bgcolor\":\"#E5ECF6\",\"polar\":{\"angularaxis\":{\"gridcolor\":\"white\",\"linecolor\":\"white\",\"ticks\":\"\"},\"bgcolor\":\"#E5ECF6\",\"radialaxis\":{\"gridcolor\":\"white\",\"linecolor\":\"white\",\"ticks\":\"\"}},\"scene\":{\"xaxis\":{\"backgroundcolor\":\"#E5ECF6\",\"gridcolor\":\"white\",\"gridwidth\":2,\"linecolor\":\"white\",\"showbackground\":true,\"ticks\":\"\",\"zerolinecolor\":\"white\"},\"yaxis\":{\"backgroundcolor\":\"#E5ECF6\",\"gridcolor\":\"white\",\"gridwidth\":2,\"linecolor\":\"white\",\"showbackground\":true,\"ticks\":\"\",\"zerolinecolor\":\"white\"},\"zaxis\":{\"backgroundcolor\":\"#E5ECF6\",\"gridcolor\":\"white\",\"gridwidth\":2,\"linecolor\":\"white\",\"showbackground\":true,\"ticks\":\"\",\"zerolinecolor\":\"white\"}},\"shapedefaults\":{\"line\":{\"color\":\"#2a3f5f\"}},\"ternary\":{\"aaxis\":{\"gridcolor\":\"white\",\"linecolor\":\"white\",\"ticks\":\"\"},\"baxis\":{\"gridcolor\":\"white\",\"linecolor\":\"white\",\"ticks\":\"\"},\"bgcolor\":\"#E5ECF6\",\"caxis\":{\"gridcolor\":\"white\",\"linecolor\":\"white\",\"ticks\":\"\"}},\"title\":{\"x\":0.05},\"xaxis\":{\"automargin\":true,\"gridcolor\":\"white\",\"linecolor\":\"white\",\"ticks\":\"\",\"title\":{\"standoff\":15},\"zerolinecolor\":\"white\",\"zerolinewidth\":2},\"yaxis\":{\"automargin\":true,\"gridcolor\":\"white\",\"linecolor\":\"white\",\"ticks\":\"\",\"title\":{\"standoff\":15},\"zerolinecolor\":\"white\",\"zerolinewidth\":2}}},\"xaxis\":{\"anchor\":\"y\",\"domain\":[0.0,0.2888888888888889],\"showticklabels\":false},\"yaxis\":{\"anchor\":\"x\",\"domain\":[0.0,1.0],\"scaleanchor\":\"x\",\"scaleratio\":1,\"showticklabels\":false},\"xaxis2\":{\"anchor\":\"y2\",\"domain\":[0.35555555555555557,1.0],\"title\":{\"text\":\"Node\"}},\"yaxis2\":{\"anchor\":\"x2\",\"domain\":[0.0,1.0],\"title\":{\"text\":\"Head [masl]\"}},\"width\":1600,\"height\":800,\"title\":{\"text\":\"Distribution of real Head\"}},                        {\"responsive\": true}                    ).then(function(){\n                            \nvar gd = document.getElementById('a1365db9-9523-4b2c-ba20-ca6da4570e17');\nvar x = new MutationObserver(function (mutations, observer) {{\n        var display = window.getComputedStyle(gd).display;\n        if (!display || display === 'none') {{\n            console.log([gd, 'removed!']);\n            Plotly.purge(gd);\n            observer.disconnect();\n        }}\n}});\n\n// Listen for the removal of the full notebook cells\nvar notebookContainer = gd.closest('#notebook-container');\nif (notebookContainer) {{\n    x.observe(notebookContainer, {childList: true});\n}}\n\n// Listen for the clearing of the current output cell\nvar outputEl = gd.closest('.output');\nif (outputEl) {{\n    x.observe(outputEl, {childList: true});\n}}\n\n                        })                };                });            </script>        </div>"
     },
     "metadata": {},
     "output_type": "display_data"
    },
    {
     "data": {
      "text/plain": "VBox(children=(Dropdown(description='Property:   ', index=3, options=('Predicted Head', 'real Head', 'Error', …",
      "application/vnd.jupyter.widget-view+json": {
       "version_major": 2,
       "version_minor": 0,
       "model_id": "b522763f0db94e0dbc6622a79f5b83a1"
      }
     },
     "metadata": {},
     "output_type": "display_data"
    }
   ],
   "source": [
    "from utils.Dashboard import Dashboard\n",
    "from IPython.display import display\n",
    "\n",
    "_,_,_, pred, real, time = testing(model, val_loader)\n",
    "d = Dashboard(pd.DataFrame(real.reshape(-1,n_nodes)),pd.DataFrame(pred.reshape(-1,n_nodes)),to_networkx(val_dataset[0],node_attrs=['pos']))\n",
    "f = d.display_results()\n",
    "display(f)"
   ],
   "metadata": {
    "collapsed": false,
    "ExecuteTime": {
     "end_time": "2023-09-11T11:45:06.344016300Z",
     "start_time": "2023-09-11T11:45:06.218989900Z"
    }
   }
  },
  {
   "cell_type": "code",
   "execution_count": 22,
   "outputs": [
    {
     "ename": "FileNotFoundError",
     "evalue": "[Errno 2] No such file or directory: './experiments/unrolling_WDN0020/PES/MLP/pred/testing/real.csv'",
     "output_type": "error",
     "traceback": [
      "\u001B[1;31m---------------------------------------------------------------------------\u001B[0m",
      "\u001B[1;31mFileNotFoundError\u001B[0m                         Traceback (most recent call last)",
      "\u001B[1;32m~\\AppData\\Local\\Temp/ipykernel_7804/1426656018.py\u001B[0m in \u001B[0;36m<module>\u001B[1;34m\u001B[0m\n\u001B[1;32m----> 1\u001B[1;33m \u001B[0mreal\u001B[0m \u001B[1;33m=\u001B[0m \u001B[0mpd\u001B[0m\u001B[1;33m.\u001B[0m\u001B[0mread_csv\u001B[0m\u001B[1;33m(\u001B[0m\u001B[1;34mf'./experiments/unrolling_WDN0020/PES/MLP/pred/testing/real.csv'\u001B[0m\u001B[1;33m)\u001B[0m\u001B[1;33m.\u001B[0m\u001B[0mdrop\u001B[0m\u001B[1;33m(\u001B[0m\u001B[0mcolumns\u001B[0m\u001B[1;33m=\u001B[0m\u001B[1;33m[\u001B[0m\u001B[1;34m'Unnamed: 0'\u001B[0m\u001B[1;33m]\u001B[0m\u001B[1;33m)\u001B[0m\u001B[1;33m\u001B[0m\u001B[1;33m\u001B[0m\u001B[0m\n\u001B[0m\u001B[0;32m      2\u001B[0m \u001B[0mmlp_pred\u001B[0m \u001B[1;33m=\u001B[0m \u001B[0mpd\u001B[0m\u001B[1;33m.\u001B[0m\u001B[0mread_csv\u001B[0m\u001B[1;33m(\u001B[0m\u001B[1;34mf'./experiments/unrolling_WDN0020/PES/MLP/pred/testing/6.csv'\u001B[0m\u001B[1;33m)\u001B[0m\u001B[1;33m.\u001B[0m\u001B[0mdrop\u001B[0m\u001B[1;33m(\u001B[0m\u001B[0mcolumns\u001B[0m\u001B[1;33m=\u001B[0m\u001B[1;33m[\u001B[0m\u001B[1;34m'Unnamed: 0'\u001B[0m\u001B[1;33m]\u001B[0m\u001B[1;33m)\u001B[0m\u001B[1;33m\u001B[0m\u001B[1;33m\u001B[0m\u001B[0m\n\u001B[0;32m      3\u001B[0m \u001B[0munrolling_pred\u001B[0m \u001B[1;33m=\u001B[0m  \u001B[0mpd\u001B[0m\u001B[1;33m.\u001B[0m\u001B[0mread_csv\u001B[0m\u001B[1;33m(\u001B[0m\u001B[1;34mf'./experiments/unrolling_WDN0020/PES/UnrollingModel/pred/testing/1.csv'\u001B[0m\u001B[1;33m)\u001B[0m\u001B[1;33m.\u001B[0m\u001B[0mdrop\u001B[0m\u001B[1;33m(\u001B[0m\u001B[0mcolumns\u001B[0m\u001B[1;33m=\u001B[0m\u001B[1;33m[\u001B[0m\u001B[1;34m'Unnamed: 0'\u001B[0m\u001B[1;33m]\u001B[0m\u001B[1;33m)\u001B[0m\u001B[1;33m\u001B[0m\u001B[1;33m\u001B[0m\u001B[0m\n",
      "\u001B[1;32m~\\anaconda3\\lib\\site-packages\\pandas\\util\\_decorators.py\u001B[0m in \u001B[0;36mwrapper\u001B[1;34m(*args, **kwargs)\u001B[0m\n\u001B[0;32m    209\u001B[0m                 \u001B[1;32melse\u001B[0m\u001B[1;33m:\u001B[0m\u001B[1;33m\u001B[0m\u001B[1;33m\u001B[0m\u001B[0m\n\u001B[0;32m    210\u001B[0m                     \u001B[0mkwargs\u001B[0m\u001B[1;33m[\u001B[0m\u001B[0mnew_arg_name\u001B[0m\u001B[1;33m]\u001B[0m \u001B[1;33m=\u001B[0m \u001B[0mnew_arg_value\u001B[0m\u001B[1;33m\u001B[0m\u001B[1;33m\u001B[0m\u001B[0m\n\u001B[1;32m--> 211\u001B[1;33m             \u001B[1;32mreturn\u001B[0m \u001B[0mfunc\u001B[0m\u001B[1;33m(\u001B[0m\u001B[1;33m*\u001B[0m\u001B[0margs\u001B[0m\u001B[1;33m,\u001B[0m \u001B[1;33m**\u001B[0m\u001B[0mkwargs\u001B[0m\u001B[1;33m)\u001B[0m\u001B[1;33m\u001B[0m\u001B[1;33m\u001B[0m\u001B[0m\n\u001B[0m\u001B[0;32m    212\u001B[0m \u001B[1;33m\u001B[0m\u001B[0m\n\u001B[0;32m    213\u001B[0m         \u001B[1;32mreturn\u001B[0m \u001B[0mcast\u001B[0m\u001B[1;33m(\u001B[0m\u001B[0mF\u001B[0m\u001B[1;33m,\u001B[0m \u001B[0mwrapper\u001B[0m\u001B[1;33m)\u001B[0m\u001B[1;33m\u001B[0m\u001B[1;33m\u001B[0m\u001B[0m\n",
      "\u001B[1;32m~\\anaconda3\\lib\\site-packages\\pandas\\util\\_decorators.py\u001B[0m in \u001B[0;36mwrapper\u001B[1;34m(*args, **kwargs)\u001B[0m\n\u001B[0;32m    329\u001B[0m                     \u001B[0mstacklevel\u001B[0m\u001B[1;33m=\u001B[0m\u001B[0mfind_stack_level\u001B[0m\u001B[1;33m(\u001B[0m\u001B[1;33m)\u001B[0m\u001B[1;33m,\u001B[0m\u001B[1;33m\u001B[0m\u001B[1;33m\u001B[0m\u001B[0m\n\u001B[0;32m    330\u001B[0m                 )\n\u001B[1;32m--> 331\u001B[1;33m             \u001B[1;32mreturn\u001B[0m \u001B[0mfunc\u001B[0m\u001B[1;33m(\u001B[0m\u001B[1;33m*\u001B[0m\u001B[0margs\u001B[0m\u001B[1;33m,\u001B[0m \u001B[1;33m**\u001B[0m\u001B[0mkwargs\u001B[0m\u001B[1;33m)\u001B[0m\u001B[1;33m\u001B[0m\u001B[1;33m\u001B[0m\u001B[0m\n\u001B[0m\u001B[0;32m    332\u001B[0m \u001B[1;33m\u001B[0m\u001B[0m\n\u001B[0;32m    333\u001B[0m         \u001B[1;31m# error: \"Callable[[VarArg(Any), KwArg(Any)], Any]\" has no\u001B[0m\u001B[1;33m\u001B[0m\u001B[1;33m\u001B[0m\u001B[0m\n",
      "\u001B[1;32m~\\anaconda3\\lib\\site-packages\\pandas\\io\\parsers\\readers.py\u001B[0m in \u001B[0;36mread_csv\u001B[1;34m(filepath_or_buffer, sep, delimiter, header, names, index_col, usecols, squeeze, prefix, mangle_dupe_cols, dtype, engine, converters, true_values, false_values, skipinitialspace, skiprows, skipfooter, nrows, na_values, keep_default_na, na_filter, verbose, skip_blank_lines, parse_dates, infer_datetime_format, keep_date_col, date_parser, dayfirst, cache_dates, iterator, chunksize, compression, thousands, decimal, lineterminator, quotechar, quoting, doublequote, escapechar, comment, encoding, encoding_errors, dialect, error_bad_lines, warn_bad_lines, on_bad_lines, delim_whitespace, low_memory, memory_map, float_precision, storage_options)\u001B[0m\n\u001B[0;32m    948\u001B[0m     \u001B[0mkwds\u001B[0m\u001B[1;33m.\u001B[0m\u001B[0mupdate\u001B[0m\u001B[1;33m(\u001B[0m\u001B[0mkwds_defaults\u001B[0m\u001B[1;33m)\u001B[0m\u001B[1;33m\u001B[0m\u001B[1;33m\u001B[0m\u001B[0m\n\u001B[0;32m    949\u001B[0m \u001B[1;33m\u001B[0m\u001B[0m\n\u001B[1;32m--> 950\u001B[1;33m     \u001B[1;32mreturn\u001B[0m \u001B[0m_read\u001B[0m\u001B[1;33m(\u001B[0m\u001B[0mfilepath_or_buffer\u001B[0m\u001B[1;33m,\u001B[0m \u001B[0mkwds\u001B[0m\u001B[1;33m)\u001B[0m\u001B[1;33m\u001B[0m\u001B[1;33m\u001B[0m\u001B[0m\n\u001B[0m\u001B[0;32m    951\u001B[0m \u001B[1;33m\u001B[0m\u001B[0m\n\u001B[0;32m    952\u001B[0m \u001B[1;33m\u001B[0m\u001B[0m\n",
      "\u001B[1;32m~\\anaconda3\\lib\\site-packages\\pandas\\io\\parsers\\readers.py\u001B[0m in \u001B[0;36m_read\u001B[1;34m(filepath_or_buffer, kwds)\u001B[0m\n\u001B[0;32m    603\u001B[0m \u001B[1;33m\u001B[0m\u001B[0m\n\u001B[0;32m    604\u001B[0m     \u001B[1;31m# Create the parser.\u001B[0m\u001B[1;33m\u001B[0m\u001B[1;33m\u001B[0m\u001B[0m\n\u001B[1;32m--> 605\u001B[1;33m     \u001B[0mparser\u001B[0m \u001B[1;33m=\u001B[0m \u001B[0mTextFileReader\u001B[0m\u001B[1;33m(\u001B[0m\u001B[0mfilepath_or_buffer\u001B[0m\u001B[1;33m,\u001B[0m \u001B[1;33m**\u001B[0m\u001B[0mkwds\u001B[0m\u001B[1;33m)\u001B[0m\u001B[1;33m\u001B[0m\u001B[1;33m\u001B[0m\u001B[0m\n\u001B[0m\u001B[0;32m    606\u001B[0m \u001B[1;33m\u001B[0m\u001B[0m\n\u001B[0;32m    607\u001B[0m     \u001B[1;32mif\u001B[0m \u001B[0mchunksize\u001B[0m \u001B[1;32mor\u001B[0m \u001B[0miterator\u001B[0m\u001B[1;33m:\u001B[0m\u001B[1;33m\u001B[0m\u001B[1;33m\u001B[0m\u001B[0m\n",
      "\u001B[1;32m~\\anaconda3\\lib\\site-packages\\pandas\\io\\parsers\\readers.py\u001B[0m in \u001B[0;36m__init__\u001B[1;34m(self, f, engine, **kwds)\u001B[0m\n\u001B[0;32m   1440\u001B[0m \u001B[1;33m\u001B[0m\u001B[0m\n\u001B[0;32m   1441\u001B[0m         \u001B[0mself\u001B[0m\u001B[1;33m.\u001B[0m\u001B[0mhandles\u001B[0m\u001B[1;33m:\u001B[0m \u001B[0mIOHandles\u001B[0m \u001B[1;33m|\u001B[0m \u001B[1;32mNone\u001B[0m \u001B[1;33m=\u001B[0m \u001B[1;32mNone\u001B[0m\u001B[1;33m\u001B[0m\u001B[1;33m\u001B[0m\u001B[0m\n\u001B[1;32m-> 1442\u001B[1;33m         \u001B[0mself\u001B[0m\u001B[1;33m.\u001B[0m\u001B[0m_engine\u001B[0m \u001B[1;33m=\u001B[0m \u001B[0mself\u001B[0m\u001B[1;33m.\u001B[0m\u001B[0m_make_engine\u001B[0m\u001B[1;33m(\u001B[0m\u001B[0mf\u001B[0m\u001B[1;33m,\u001B[0m \u001B[0mself\u001B[0m\u001B[1;33m.\u001B[0m\u001B[0mengine\u001B[0m\u001B[1;33m)\u001B[0m\u001B[1;33m\u001B[0m\u001B[1;33m\u001B[0m\u001B[0m\n\u001B[0m\u001B[0;32m   1443\u001B[0m \u001B[1;33m\u001B[0m\u001B[0m\n\u001B[0;32m   1444\u001B[0m     \u001B[1;32mdef\u001B[0m \u001B[0mclose\u001B[0m\u001B[1;33m(\u001B[0m\u001B[0mself\u001B[0m\u001B[1;33m)\u001B[0m \u001B[1;33m->\u001B[0m \u001B[1;32mNone\u001B[0m\u001B[1;33m:\u001B[0m\u001B[1;33m\u001B[0m\u001B[1;33m\u001B[0m\u001B[0m\n",
      "\u001B[1;32m~\\anaconda3\\lib\\site-packages\\pandas\\io\\parsers\\readers.py\u001B[0m in \u001B[0;36m_make_engine\u001B[1;34m(self, f, engine)\u001B[0m\n\u001B[0;32m   1733\u001B[0m                 \u001B[1;32mif\u001B[0m \u001B[1;34m\"b\"\u001B[0m \u001B[1;32mnot\u001B[0m \u001B[1;32min\u001B[0m \u001B[0mmode\u001B[0m\u001B[1;33m:\u001B[0m\u001B[1;33m\u001B[0m\u001B[1;33m\u001B[0m\u001B[0m\n\u001B[0;32m   1734\u001B[0m                     \u001B[0mmode\u001B[0m \u001B[1;33m+=\u001B[0m \u001B[1;34m\"b\"\u001B[0m\u001B[1;33m\u001B[0m\u001B[1;33m\u001B[0m\u001B[0m\n\u001B[1;32m-> 1735\u001B[1;33m             self.handles = get_handle(\n\u001B[0m\u001B[0;32m   1736\u001B[0m                 \u001B[0mf\u001B[0m\u001B[1;33m,\u001B[0m\u001B[1;33m\u001B[0m\u001B[1;33m\u001B[0m\u001B[0m\n\u001B[0;32m   1737\u001B[0m                 \u001B[0mmode\u001B[0m\u001B[1;33m,\u001B[0m\u001B[1;33m\u001B[0m\u001B[1;33m\u001B[0m\u001B[0m\n",
      "\u001B[1;32m~\\anaconda3\\lib\\site-packages\\pandas\\io\\common.py\u001B[0m in \u001B[0;36mget_handle\u001B[1;34m(path_or_buf, mode, encoding, compression, memory_map, is_text, errors, storage_options)\u001B[0m\n\u001B[0;32m    854\u001B[0m         \u001B[1;32mif\u001B[0m \u001B[0mioargs\u001B[0m\u001B[1;33m.\u001B[0m\u001B[0mencoding\u001B[0m \u001B[1;32mand\u001B[0m \u001B[1;34m\"b\"\u001B[0m \u001B[1;32mnot\u001B[0m \u001B[1;32min\u001B[0m \u001B[0mioargs\u001B[0m\u001B[1;33m.\u001B[0m\u001B[0mmode\u001B[0m\u001B[1;33m:\u001B[0m\u001B[1;33m\u001B[0m\u001B[1;33m\u001B[0m\u001B[0m\n\u001B[0;32m    855\u001B[0m             \u001B[1;31m# Encoding\u001B[0m\u001B[1;33m\u001B[0m\u001B[1;33m\u001B[0m\u001B[0m\n\u001B[1;32m--> 856\u001B[1;33m             handle = open(\n\u001B[0m\u001B[0;32m    857\u001B[0m                 \u001B[0mhandle\u001B[0m\u001B[1;33m,\u001B[0m\u001B[1;33m\u001B[0m\u001B[1;33m\u001B[0m\u001B[0m\n\u001B[0;32m    858\u001B[0m                 \u001B[0mioargs\u001B[0m\u001B[1;33m.\u001B[0m\u001B[0mmode\u001B[0m\u001B[1;33m,\u001B[0m\u001B[1;33m\u001B[0m\u001B[1;33m\u001B[0m\u001B[0m\n",
      "\u001B[1;31mFileNotFoundError\u001B[0m: [Errno 2] No such file or directory: './experiments/unrolling_WDN0020/PES/MLP/pred/testing/real.csv'"
     ]
    }
   ],
   "source": [
    "real = pd.read_csv(f'./experiments/unrolling_WDN0020/PES/MLP/pred/testing/real.csv').drop(columns=['Unnamed: 0'])\n",
    "mlp_pred = pd.read_csv(f'./experiments/unrolling_WDN0020/PES/MLP/pred/testing/6.csv').drop(columns=['Unnamed: 0'])\n",
    "unrolling_pred =  pd.read_csv(f'./experiments/unrolling_WDN0020/PES/UnrollingModel/pred/testing/1.csv').drop(columns=['Unnamed: 0'])"
   ],
   "metadata": {
    "collapsed": false,
    "ExecuteTime": {
     "end_time": "2023-09-11T11:45:06.379151100Z",
     "start_time": "2023-09-11T11:45:06.344016300Z"
    }
   }
  },
  {
   "cell_type": "code",
   "execution_count": null,
   "outputs": [],
   "source": [
    "import matplotlib.pyplot as plt\n",
    "\n",
    "res = real.sub(mlp_pred).pow(2).sum(axis=0)\n",
    "tot = real.sub(mlp_pred.mean(axis=0)).pow(2).sum(axis=0)\n",
    "r2_mlp = 1 - res/tot\n",
    "res = real.sub(unrolling_pred).pow(2).sum(axis=0)\n",
    "tot = real.sub(unrolling_pred.mean(axis=0)).pow(2).sum(axis=0)\n",
    "r2_unrolling = 1 - res/tot\n",
    "r2s = pd.concat([r2_mlp,r2_unrolling],axis=1).rename(columns={0:'MLP',1:'AU-MLP'})\n",
    "fig, ax = plt.subplots()\n",
    "r2s.plot.box(ax=ax)\n",
    "ax.set_title(\"$R^2$ Scores Comparison for PES\")\n",
    "ax.set_ylabel('$R^2$ Score')\n",
    "plt.show()"
   ],
   "metadata": {
    "collapsed": false,
    "ExecuteTime": {
     "start_time": "2023-09-11T11:45:06.378151900Z"
    }
   }
  },
  {
   "cell_type": "code",
   "execution_count": null,
   "outputs": [],
   "source": [
    "model = torch.load(f'{results_folder}/{wdn}/{algorithm}/model.pickle')"
   ],
   "metadata": {
    "collapsed": false,
    "ExecuteTime": {
     "end_time": "2023-09-11T11:45:06.382149600Z",
     "start_time": "2023-09-11T11:45:06.380151200Z"
    }
   }
  }
 ],
 "metadata": {
  "kernelspec": {
   "display_name": "Python 3",
   "language": "python",
   "name": "python3"
  },
  "language_info": {
   "codemirror_mode": {
    "name": "ipython",
    "version": 2
   },
   "file_extension": ".py",
   "mimetype": "text/x-python",
   "name": "python",
   "nbconvert_exporter": "python",
   "pygments_lexer": "ipython2",
   "version": "2.7.6"
  }
 },
 "nbformat": 4,
 "nbformat_minor": 0
}
