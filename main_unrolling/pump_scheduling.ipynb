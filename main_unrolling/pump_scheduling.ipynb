{
 "cells": [
  {
   "cell_type": "code",
   "execution_count": 1,
   "metadata": {
    "collapsed": true,
    "ExecuteTime": {
     "end_time": "2023-12-15T14:04:50.226942100Z",
     "start_time": "2023-12-15T14:04:45.046928300Z"
    }
   },
   "outputs": [],
   "source": [
    "from matplotlib import pyplot as plt\n",
    "import pysimdeum\n",
    "\n",
    "import wntr\n",
    "import time\n",
    "from pump_scheduling.objective_function import calculate_objective_function, calculate_objective_function_mm, run_WNTR_model, run_metamodel\n",
    "import numpy as np"
   ]
  },
  {
   "cell_type": "markdown",
   "source": [
    "# Optimizing pump schedule function\n",
    "\n",
    "### For optimization of pumps to work the pump pattern ID needs to be 'pump_' + the pump name\n",
    "### Pattern Values are then assigned in order "
   ],
   "metadata": {
    "collapsed": false
   }
  },
  {
   "cell_type": "code",
   "execution_count": 2,
   "outputs": [],
   "source": [
    "def optimize_pump_schedule_WNTR(network_file, new_pump_pattern_values):\n",
    "    \n",
    "    # Pre-set electricity pattern values to calculate cost\n",
    "    electricity_pattern_values = [0.065, 0.06, 0.045, 0.047, 0.049, 0.07, 0.085, 0.09, 0.14, 0.19, 0.1, 0.11, 0.125, 0.095, 0.085, 0.08, 0.087, 0.087, 0.09, 0.09, 0.083, 0.18, 0.06, 0.04] \n",
    "    # in $/kWh\n",
    "    #https://www.researchgate.net/publication/238041923_A_mixed_integer_linear_formulation_for_microgrid_economic_scheduling/figures\n",
    "\n",
    "    # Run the model with the pump pattern values specified\n",
    "    output = run_WNTR_model(network_file, new_pump_pattern_values, electricity_pattern_values)\n",
    "    \n",
    "    # Calculate the objective function, which is the total energy, cost and minimum pressure per node during the run\n",
    "    \n",
    "    results = calculate_objective_function(output['wn'], output['result'])\n",
    "    \n",
    "    total_energy = results[0]\n",
    "    total_cost = results[1]\n",
    "    nodal_pressures = results[2]\n",
    "    minimum_pressure_required = [5 for i in range(len(nodal_pressures))]\n",
    "    \n",
    "    pressure_surplus = [-nodal_pressures[j] + minimum_pressure_required[j] for j in range(len(nodal_pressures))]\n",
    "\n",
    "    return [total_energy, total_cost], pressure_surplus\n",
    "\n",
    "def optimize_pump_schedule_metamodel(network_file, new_pump_pattern_values):\n",
    "    \n",
    "    # Pre-set electricity pattern values to calculate cost\n",
    "    electricity_pattern_values = [0.065, 0.06, 0.045, 0.047, 0.049, 0.07, 0.085, 0.09, 0.14, 0.19, 0.1, 0.11, 0.125, 0.095, 0.085, 0.08, 0.087, 0.087, 0.09, 0.09, 0.083, 0.18, 0.06, 0.04] \n",
    "    # in $/kWh\n",
    "    #https://www.researchgate.net/publication/238041923_A_mixed_integer_linear_formulation_for_microgrid_economic_scheduling/figures\n",
    "\n",
    "    # Run the model with the pump pattern values specified\n",
    "    output, node_idx, pumps_idx, names = run_metamodel(network_file, new_pump_pattern_values, electricity_pattern_values)\n",
    "    print(output.shape)\n",
    "    # Calculate the objective function, which is the total energy, cost and minimum pressure per node during the run\n",
    "    \n",
    "    total_energy, total_cost, nodal_pressures = calculate_objective_function_mm(network_file, output, node_idx, names)\n",
    "  \n",
    "    minimum_pressure_required = [5 for i in range(len(nodal_pressures))]\n",
    "    \n",
    "    pressure_surplus = [-nodal_pressures[j] + minimum_pressure_required[j] for j in range(len(nodal_pressures))]\n",
    "\n",
    "    return [total_energy, total_cost], pressure_surplus"
   ],
   "metadata": {
    "collapsed": false,
    "ExecuteTime": {
     "end_time": "2023-12-15T14:04:50.242755500Z",
     "start_time": "2023-12-15T14:04:50.236076800Z"
    }
   }
  },
  {
   "cell_type": "code",
   "execution_count": 3,
   "outputs": [
    {
     "name": "stdout",
     "output_type": "stream",
     "text": [
      "\n",
      "Working with FOS_pump_sched_flow_single\n",
      "torch.Size([24, 38])\n"
     ]
    },
    {
     "data": {
      "text/plain": "([0.0, 0.0],\n [tensor(1.7197),\n  tensor(0.0192),\n  tensor(0.3514),\n  tensor(1.1014),\n  tensor(9.7446),\n  tensor(2.7736),\n  tensor(-16.9647),\n  tensor(2.3408),\n  tensor(2.1335),\n  tensor(-1.3422),\n  tensor(1.0330),\n  tensor(-0.5417),\n  tensor(3.8035),\n  tensor(1.7781),\n  tensor(0.1215),\n  tensor(0.3204),\n  tensor(1.4274),\n  tensor(0.1717),\n  tensor(0.8748),\n  tensor(0.6214),\n  tensor(1.8387),\n  tensor(0.8475),\n  tensor(1.6800),\n  tensor(2.4537),\n  tensor(-0.3054),\n  tensor(-0.4152),\n  tensor(0.0073),\n  tensor(2.2745),\n  tensor(-0.4699),\n  tensor(1.5041),\n  tensor(0.9088),\n  tensor(0.2584),\n  tensor(-0.6684),\n  tensor(0.3538),\n  tensor(2.5029),\n  tensor(1.5996),\n  tensor(-13.8692)])"
     },
     "execution_count": 3,
     "metadata": {},
     "output_type": "execute_result"
    }
   ],
   "source": [
    "# optimize_pump_schedule_WNTR('../data_generation/networks/FOS_pump_sched_flow.inp', [[1]*24])\n",
    "optimize_pump_schedule_metamodel('FOS_pump_sched_flow_single', [[1]*24])"
   ],
   "metadata": {
    "collapsed": false,
    "ExecuteTime": {
     "end_time": "2023-12-15T14:04:50.357558Z",
     "start_time": "2023-12-15T14:04:50.246006900Z"
    }
   }
  },
  {
   "cell_type": "markdown",
   "source": [
    "## Working networks"
   ],
   "metadata": {
    "collapsed": false
   }
  },
  {
   "cell_type": "markdown",
   "source": [
    "| Network name                       | Pump List | Pump Pattern List |\n",
    "|------------------------------------|-----------|-------------------|\n",
    "| Net1_modified                      | 9         | Plong             |\n",
    "| Anytown_revised_continuous_pumppat | P78       | PUMP              |\n",
    "| Custom_net                         | 5         | P5                |"
   ],
   "metadata": {
    "collapsed": false
   }
  },
  {
   "cell_type": "code",
   "execution_count": 4,
   "outputs": [
    {
     "ename": "FileNotFoundError",
     "evalue": "[Errno 2] No such file or directory: '../data_generation/networks/FOS_pump_sched_3_0.inp'",
     "output_type": "error",
     "traceback": [
      "\u001B[1;31m---------------------------------------------------------------------------\u001B[0m",
      "\u001B[1;31mFileNotFoundError\u001B[0m                         Traceback (most recent call last)",
      "Cell \u001B[1;32mIn[4], line 43\u001B[0m\n\u001B[0;32m     39\u001B[0m     junctions \u001B[38;5;241m=\u001B[39m \u001B[38;5;28mlen\u001B[39m(wn\u001B[38;5;241m.\u001B[39mjunction_name_list)\n\u001B[0;32m     40\u001B[0m     \u001B[38;5;28;01mreturn\u001B[39;00m SchedulePump(network_file\u001B[38;5;241m=\u001B[39minput_file, n_var\u001B[38;5;241m=\u001B[39mtime_discrete, n_ieq_constr\u001B[38;5;241m=\u001B[39mjunctions)\n\u001B[1;32m---> 43\u001B[0m problem \u001B[38;5;241m=\u001B[39m \u001B[43mmake_problem\u001B[49m\u001B[43m(\u001B[49m\u001B[38;5;124;43m'\u001B[39;49m\u001B[38;5;124;43m../data_generation/networks/FOS_pump_sched_3_0.inp\u001B[39;49m\u001B[38;5;124;43m'\u001B[39;49m\u001B[43m)\u001B[49m\n",
      "Cell \u001B[1;32mIn[4], line 37\u001B[0m, in \u001B[0;36mmake_problem\u001B[1;34m(input_file)\u001B[0m\n\u001B[0;32m     36\u001B[0m \u001B[38;5;28;01mdef\u001B[39;00m \u001B[38;5;21mmake_problem\u001B[39m(input_file):\n\u001B[1;32m---> 37\u001B[0m     wn \u001B[38;5;241m=\u001B[39m \u001B[43mwntr\u001B[49m\u001B[38;5;241;43m.\u001B[39;49m\u001B[43mnetwork\u001B[49m\u001B[38;5;241;43m.\u001B[39;49m\u001B[43mWaterNetworkModel\u001B[49m\u001B[43m(\u001B[49m\u001B[43minput_file\u001B[49m\u001B[43m)\u001B[49m\n\u001B[0;32m     38\u001B[0m     time_discrete \u001B[38;5;241m=\u001B[39m \u001B[38;5;28mint\u001B[39m(wn\u001B[38;5;241m.\u001B[39moptions\u001B[38;5;241m.\u001B[39mtime\u001B[38;5;241m.\u001B[39mduration\u001B[38;5;241m/\u001B[39mwn\u001B[38;5;241m.\u001B[39moptions\u001B[38;5;241m.\u001B[39mtime\u001B[38;5;241m.\u001B[39mpattern_timestep)\n\u001B[0;32m     39\u001B[0m     junctions \u001B[38;5;241m=\u001B[39m \u001B[38;5;28mlen\u001B[39m(wn\u001B[38;5;241m.\u001B[39mjunction_name_list)\n",
      "File \u001B[1;32m~\\anaconda3\\lib\\site-packages\\wntr-1.0.0-py3.9-win-amd64.egg\\wntr\\network\\model.py:95\u001B[0m, in \u001B[0;36mWaterNetworkModel.__init__\u001B[1;34m(self, inp_file_name)\u001B[0m\n\u001B[0;32m     93\u001B[0m \u001B[38;5;28mself\u001B[39m\u001B[38;5;241m.\u001B[39m_inpfile \u001B[38;5;241m=\u001B[39m \u001B[38;5;28;01mNone\u001B[39;00m\n\u001B[0;32m     94\u001B[0m \u001B[38;5;28;01mif\u001B[39;00m inp_file_name:\n\u001B[1;32m---> 95\u001B[0m     \u001B[43mread_inpfile\u001B[49m\u001B[43m(\u001B[49m\u001B[43minp_file_name\u001B[49m\u001B[43m,\u001B[49m\u001B[43m \u001B[49m\u001B[43mappend\u001B[49m\u001B[38;5;241;43m=\u001B[39;49m\u001B[38;5;28;43mself\u001B[39;49m\u001B[43m)\u001B[49m\n\u001B[0;32m     97\u001B[0m \u001B[38;5;66;03m# To be deleted and/or renamed and/or moved\u001B[39;00m\n\u001B[0;32m     98\u001B[0m \u001B[38;5;66;03m# Time parameters\u001B[39;00m\n\u001B[0;32m     99\u001B[0m \u001B[38;5;28mself\u001B[39m\u001B[38;5;241m.\u001B[39msim_time \u001B[38;5;241m=\u001B[39m \u001B[38;5;241m0.0\u001B[39m\n",
      "File \u001B[1;32m~\\anaconda3\\lib\\site-packages\\wntr-1.0.0-py3.9-win-amd64.egg\\wntr\\network\\io.py:532\u001B[0m, in \u001B[0;36mread_inpfile\u001B[1;34m(filename, append)\u001B[0m\n\u001B[0;32m    515\u001B[0m \u001B[38;5;250m\u001B[39m\u001B[38;5;124;03m\"\"\"\u001B[39;00m\n\u001B[0;32m    516\u001B[0m \u001B[38;5;124;03mCreate or append a WaterNetworkModel from an EPANET INP file\u001B[39;00m\n\u001B[0;32m    517\u001B[0m \n\u001B[1;32m   (...)\u001B[0m\n\u001B[0;32m    529\u001B[0m \u001B[38;5;124;03m\u001B[39;00m\n\u001B[0;32m    530\u001B[0m \u001B[38;5;124;03m\"\"\"\u001B[39;00m\n\u001B[0;32m    531\u001B[0m inpfile \u001B[38;5;241m=\u001B[39m wntr\u001B[38;5;241m.\u001B[39mepanet\u001B[38;5;241m.\u001B[39mInpFile()\n\u001B[1;32m--> 532\u001B[0m wn \u001B[38;5;241m=\u001B[39m \u001B[43minpfile\u001B[49m\u001B[38;5;241;43m.\u001B[39;49m\u001B[43mread\u001B[49m\u001B[43m(\u001B[49m\u001B[43mfilename\u001B[49m\u001B[43m,\u001B[49m\u001B[43m \u001B[49m\u001B[43mwn\u001B[49m\u001B[38;5;241;43m=\u001B[39;49m\u001B[43mappend\u001B[49m\u001B[43m)\u001B[49m\n\u001B[0;32m    533\u001B[0m wn\u001B[38;5;241m.\u001B[39m_inpfile \u001B[38;5;241m=\u001B[39m inpfile\n\u001B[0;32m    535\u001B[0m \u001B[38;5;28;01mreturn\u001B[39;00m wn\n",
      "File \u001B[1;32m~\\anaconda3\\lib\\site-packages\\wntr-1.0.0-py3.9-win-amd64.egg\\wntr\\epanet\\io.py:285\u001B[0m, in \u001B[0;36mInpFile.read\u001B[1;34m(self, inp_files, wn)\u001B[0m\n\u001B[0;32m    283\u001B[0m lnum \u001B[38;5;241m=\u001B[39m \u001B[38;5;241m0\u001B[39m\n\u001B[0;32m    284\u001B[0m edata \u001B[38;5;241m=\u001B[39m {\u001B[38;5;124m'\u001B[39m\u001B[38;5;124mfname\u001B[39m\u001B[38;5;124m'\u001B[39m: filename}\n\u001B[1;32m--> 285\u001B[0m \u001B[38;5;28;01mwith\u001B[39;00m \u001B[43mio\u001B[49m\u001B[38;5;241;43m.\u001B[39;49m\u001B[43mopen\u001B[49m\u001B[43m(\u001B[49m\u001B[43mfilename\u001B[49m\u001B[43m,\u001B[49m\u001B[43m \u001B[49m\u001B[38;5;124;43m'\u001B[39;49m\u001B[38;5;124;43mr\u001B[39;49m\u001B[38;5;124;43m'\u001B[39;49m\u001B[43m,\u001B[49m\u001B[43m \u001B[49m\u001B[43mencoding\u001B[49m\u001B[38;5;241;43m=\u001B[39;49m\u001B[38;5;124;43m'\u001B[39;49m\u001B[38;5;124;43mutf-8\u001B[39;49m\u001B[38;5;124;43m'\u001B[39;49m\u001B[43m)\u001B[49m \u001B[38;5;28;01mas\u001B[39;00m f:\n\u001B[0;32m    286\u001B[0m   \u001B[38;5;28;01mfor\u001B[39;00m line \u001B[38;5;129;01min\u001B[39;00m f:\n\u001B[0;32m    287\u001B[0m       lnum \u001B[38;5;241m+\u001B[39m\u001B[38;5;241m=\u001B[39m \u001B[38;5;241m1\u001B[39m\n",
      "\u001B[1;31mFileNotFoundError\u001B[0m: [Errno 2] No such file or directory: '../data_generation/networks/FOS_pump_sched_3_0.inp'"
     ]
    }
   ],
   "source": [
    "from pymoo.core.problem import ElementwiseProblem\n",
    "from pymoo.algorithms.soo.nonconvex.ga import GA\n",
    "from pymoo.problems import get_problem\n",
    "from pymoo.termination import get_termination\n",
    "from pymoo.optimize import minimize\n",
    "from pymoo.operators.mutation.bitflip import BitflipMutation\n",
    "from pymoo.operators.crossover.pntx import TwoPointCrossover\n",
    "from pymoo.algorithms.moo.nsga2 import NSGA2\n",
    "\n",
    "\n",
    "from pymoo.operators.sampling.rnd import BinaryRandomSampling\n",
    "\n",
    "\n",
    "class SchedulePump(ElementwiseProblem):\n",
    "\n",
    "    def __init__(self, network_file, n_var=24, n_ieq_constr=36):\n",
    "        super().__init__(n_var=n_var,\n",
    "                         n_obj=2,\n",
    "                         n_ieq_constr=n_ieq_constr,\n",
    "                         xl=0,\n",
    "                         xu=1,\n",
    "                         vtype=bool)\n",
    "        \n",
    "        self.network_file=network_file\n",
    "\n",
    "    def _evaluate(self, x, out, *args, **kwargs):\n",
    "        # Minimization function\n",
    "        evaluation = optimize_pump_schedule_WNTR(self.network_file, [x])\n",
    "        \n",
    "        # The objective of the function. Total energy to minimize\n",
    "        out[\"F\"] = [evaluation[0][0], evaluation[0][1]]\n",
    "        \n",
    "        # The constraints of the function, as in pressure violations per node\n",
    "        out[\"G\"] = evaluation[1]\n",
    "\n",
    "def make_problem(input_file):\n",
    "    wn = wntr.network.WaterNetworkModel(input_file)\n",
    "    time_discrete = int(wn.options.time.duration/wn.options.time.pattern_timestep)\n",
    "    junctions = len(wn.junction_name_list)\n",
    "    return SchedulePump(network_file=input_file, n_var=time_discrete, n_ieq_constr=junctions)\n",
    "\n",
    "\n",
    "problem = make_problem('../data_generation/networks/FOS_pump_sched_3_0.inp')"
   ],
   "metadata": {
    "collapsed": false,
    "ExecuteTime": {
     "end_time": "2023-12-15T14:04:52.555740900Z",
     "start_time": "2023-12-15T14:04:50.363257600Z"
    }
   }
  },
  {
   "cell_type": "code",
   "execution_count": null,
   "outputs": [],
   "source": [
    "algorithm = NSGA2(pop_size=100,\n",
    "                  sampling=BinaryRandomSampling(),\n",
    "                  # crossover=TwoPointCrossover(),\n",
    "                  mutation=BitflipMutation(),\n",
    "                  eliminate_duplicates=True)\n",
    "\n",
    "termination = get_termination(\"n_gen\", 10)\n",
    "\n",
    "res = minimize(problem,\n",
    "               algorithm,\n",
    "               termination,\n",
    "               seed=1,\n",
    "               verbose=True)\n"
   ],
   "metadata": {
    "collapsed": false,
    "ExecuteTime": {
     "start_time": "2023-12-15T14:04:52.554632400Z"
    }
   }
  },
  {
   "cell_type": "code",
   "execution_count": null,
   "outputs": [],
   "source": [
    "print(\"Best solution found: %s\" % res.X.astype(int))\n",
    "print(\"Function value: %s\" % res.F)\n",
    "print(\"Constraint violation: %s\" % res.CV)"
   ],
   "metadata": {
    "collapsed": false,
    "ExecuteTime": {
     "start_time": "2023-12-15T14:04:52.556818600Z"
    }
   }
  },
  {
   "cell_type": "code",
   "execution_count": null,
   "outputs": [],
   "source": [],
   "metadata": {
    "collapsed": false,
    "ExecuteTime": {
     "start_time": "2023-12-15T14:04:52.558940900Z"
    }
   }
  }
 ],
 "metadata": {
  "kernelspec": {
   "display_name": "Python 3",
   "language": "python",
   "name": "python3"
  },
  "language_info": {
   "codemirror_mode": {
    "name": "ipython",
    "version": 2
   },
   "file_extension": ".py",
   "mimetype": "text/x-python",
   "name": "python",
   "nbconvert_exporter": "python",
   "pygments_lexer": "ipython2",
   "version": "2.7.6"
  }
 },
 "nbformat": 4,
 "nbformat_minor": 0
}
