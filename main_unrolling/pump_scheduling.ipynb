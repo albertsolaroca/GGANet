{
 "cells": [
  {
   "cell_type": "code",
   "execution_count": 1,
   "metadata": {
    "collapsed": true,
    "ExecuteTime": {
     "end_time": "2023-12-07T11:40:39.372095600Z",
     "start_time": "2023-12-07T11:40:33.850229Z"
    }
   },
   "outputs": [],
   "source": [
    "from matplotlib import pyplot as plt\n",
    "import pysimdeum\n",
    "\n",
    "import wntr\n",
    "import time\n",
    "from pump_scheduling.objective_function import calculate_objective_function, run_WNTR_model, run_metamodel\n",
    "import numpy as np"
   ]
  },
  {
   "cell_type": "markdown",
   "source": [
    "# Optimizing pump schedule function\n",
    "\n",
    "### For optimization of pumps to work the pump pattern ID needs to be 'pump_' + the pump name\n",
    "### Pattern Values are then assigned in order "
   ],
   "metadata": {
    "collapsed": false
   }
  },
  {
   "cell_type": "code",
   "execution_count": 2,
   "outputs": [],
   "source": [
    "def optimize_pump_schedule_WNTR(network_file, new_pump_pattern_values):\n",
    "    \n",
    "    # Pre-set electricity pattern values to calculate cost\n",
    "    electricity_pattern_values = [0.065, 0.06, 0.045, 0.047, 0.049, 0.07, 0.085, 0.09, 0.14, 0.19, 0.1, 0.11, 0.125, 0.095, 0.085, 0.08, 0.087, 0.087, 0.09, 0.09, 0.083, 0.18, 0.06, 0.04] \n",
    "    # in $/kWh\n",
    "    #https://www.researchgate.net/publication/238041923_A_mixed_integer_linear_formulation_for_microgrid_economic_scheduling/figures\n",
    "\n",
    "    # Run the model with the pump pattern values specified\n",
    "    output = run_WNTR_model(network_file, new_pump_pattern_values, electricity_pattern_values)\n",
    "    \n",
    "    # Calculate the objective function, which is the total energy, cost and minimum pressure per node during the run\n",
    "    \n",
    "    results = calculate_objective_function(output['wn'], output['result'], output['critical_nodes'], output['wn'].pump_name_list)\n",
    "    \n",
    "    total_energy = results[0]\n",
    "    total_cost = results[1]\n",
    "    nodal_pressures = results[2]\n",
    "    minimum_pressure_required = [5 for i in range(len(nodal_pressures))]\n",
    "    \n",
    "    pressure_surplus = [-nodal_pressures[j] + minimum_pressure_required[j] for j in range(len(nodal_pressures))]\n",
    "\n",
    "    return [total_energy, total_cost], pressure_surplus\n",
    "\n",
    "def optimize_pump_schedule_metamodel(network_file, new_pump_pattern_values):\n",
    "    \n",
    "    # Pre-set electricity pattern values to calculate cost\n",
    "    electricity_pattern_values = [0.065, 0.06, 0.045, 0.047, 0.049, 0.07, 0.085, 0.09, 0.14, 0.19, 0.1, 0.11, 0.125, 0.095, 0.085, 0.08, 0.087, 0.087, 0.09, 0.09, 0.083, 0.18, 0.06, 0.04] \n",
    "    # in $/kWh\n",
    "    #https://www.researchgate.net/publication/238041923_A_mixed_integer_linear_formulation_for_microgrid_economic_scheduling/figures\n",
    "\n",
    "    # Run the model with the pump pattern values specified\n",
    "    output = run_metamodel(network_file, new_pump_pattern_values, electricity_pattern_values)\n",
    "    \n",
    "    # Calculate the objective function, which is the total energy, cost and minimum pressure per node during the run\n",
    "    \n",
    "    results = calculate_objective_function(output['wn'], output['result'], output['critical_nodes'], output['wn'].pump_name_list)\n",
    "    \n",
    "    total_energy = results[0]\n",
    "    total_cost = results[1]\n",
    "    nodal_pressures = results[2]\n",
    "    minimum_pressure_required = [5 for i in range(len(nodal_pressures))]\n",
    "    \n",
    "    pressure_surplus = [-nodal_pressures[j] + minimum_pressure_required[j] for j in range(len(nodal_pressures))]\n",
    "\n",
    "    return [total_energy, total_cost], pressure_surplus"
   ],
   "metadata": {
    "collapsed": false,
    "ExecuteTime": {
     "end_time": "2023-12-07T11:40:39.387690100Z",
     "start_time": "2023-12-07T11:40:39.372095600Z"
    }
   }
  },
  {
   "cell_type": "code",
   "execution_count": 3,
   "outputs": [
    {
     "name": "stdout",
     "output_type": "stream",
     "text": [
      "\n",
      "Working with FOS_pump_sched_3\n"
     ]
    },
    {
     "ename": "KeyboardInterrupt",
     "evalue": "",
     "output_type": "error",
     "traceback": [
      "\u001B[1;31m---------------------------------------------------------------------------\u001B[0m",
      "\u001B[1;31mKeyboardInterrupt\u001B[0m                         Traceback (most recent call last)",
      "Cell \u001B[1;32mIn[3], line 2\u001B[0m\n\u001B[0;32m      1\u001B[0m \u001B[38;5;66;03m# optimize_pump_schedule_WNTR('../data_generation/networks/FOS_pump.inp', [[1]*24])\u001B[39;00m\n\u001B[1;32m----> 2\u001B[0m \u001B[43moptimize_pump_schedule_metamodel\u001B[49m\u001B[43m(\u001B[49m\u001B[38;5;124;43m'\u001B[39;49m\u001B[38;5;124;43mFOS_pump_sched_3\u001B[39;49m\u001B[38;5;124;43m'\u001B[39;49m\u001B[43m,\u001B[49m\u001B[43m \u001B[49m\u001B[43m[\u001B[49m\u001B[43m[\u001B[49m\u001B[38;5;241;43m1\u001B[39;49m\u001B[43m]\u001B[49m\u001B[38;5;241;43m*\u001B[39;49m\u001B[38;5;241;43m24\u001B[39;49m\u001B[43m]\u001B[49m\u001B[43m)\u001B[49m\n",
      "Cell \u001B[1;32mIn[2], line 32\u001B[0m, in \u001B[0;36moptimize_pump_schedule_metamodel\u001B[1;34m(network_file, new_pump_pattern_values)\u001B[0m\n\u001B[0;32m     27\u001B[0m electricity_pattern_values \u001B[38;5;241m=\u001B[39m [\u001B[38;5;241m0.065\u001B[39m, \u001B[38;5;241m0.06\u001B[39m, \u001B[38;5;241m0.045\u001B[39m, \u001B[38;5;241m0.047\u001B[39m, \u001B[38;5;241m0.049\u001B[39m, \u001B[38;5;241m0.07\u001B[39m, \u001B[38;5;241m0.085\u001B[39m, \u001B[38;5;241m0.09\u001B[39m, \u001B[38;5;241m0.14\u001B[39m, \u001B[38;5;241m0.19\u001B[39m, \u001B[38;5;241m0.1\u001B[39m, \u001B[38;5;241m0.11\u001B[39m, \u001B[38;5;241m0.125\u001B[39m, \u001B[38;5;241m0.095\u001B[39m, \u001B[38;5;241m0.085\u001B[39m, \u001B[38;5;241m0.08\u001B[39m, \u001B[38;5;241m0.087\u001B[39m, \u001B[38;5;241m0.087\u001B[39m, \u001B[38;5;241m0.09\u001B[39m, \u001B[38;5;241m0.09\u001B[39m, \u001B[38;5;241m0.083\u001B[39m, \u001B[38;5;241m0.18\u001B[39m, \u001B[38;5;241m0.06\u001B[39m, \u001B[38;5;241m0.04\u001B[39m] \n\u001B[0;32m     28\u001B[0m \u001B[38;5;66;03m# in $/kWh\u001B[39;00m\n\u001B[0;32m     29\u001B[0m \u001B[38;5;66;03m#https://www.researchgate.net/publication/238041923_A_mixed_integer_linear_formulation_for_microgrid_economic_scheduling/figures\u001B[39;00m\n\u001B[0;32m     30\u001B[0m \n\u001B[0;32m     31\u001B[0m \u001B[38;5;66;03m# Run the model with the pump pattern values specified\u001B[39;00m\n\u001B[1;32m---> 32\u001B[0m output \u001B[38;5;241m=\u001B[39m \u001B[43mrun_metamodel\u001B[49m\u001B[43m(\u001B[49m\u001B[43mnetwork_file\u001B[49m\u001B[43m,\u001B[49m\u001B[43m \u001B[49m\u001B[43mnew_pump_pattern_values\u001B[49m\u001B[43m,\u001B[49m\u001B[43m \u001B[49m\u001B[43melectricity_pattern_values\u001B[49m\u001B[43m)\u001B[49m\n\u001B[0;32m     34\u001B[0m \u001B[38;5;66;03m# Calculate the objective function, which is the total energy, cost and minimum pressure per node during the run\u001B[39;00m\n\u001B[0;32m     36\u001B[0m results \u001B[38;5;241m=\u001B[39m calculate_objective_function(output[\u001B[38;5;124m'\u001B[39m\u001B[38;5;124mwn\u001B[39m\u001B[38;5;124m'\u001B[39m], output[\u001B[38;5;124m'\u001B[39m\u001B[38;5;124mresult\u001B[39m\u001B[38;5;124m'\u001B[39m], output[\u001B[38;5;124m'\u001B[39m\u001B[38;5;124mcritical_nodes\u001B[39m\u001B[38;5;124m'\u001B[39m], output[\u001B[38;5;124m'\u001B[39m\u001B[38;5;124mwn\u001B[39m\u001B[38;5;124m'\u001B[39m]\u001B[38;5;241m.\u001B[39mpump_name_list)\n",
      "File \u001B[1;32mC:\\Uni\\Thesis\\Albert\\GGNet\\pump_scheduling\\objective_function.py:143\u001B[0m, in \u001B[0;36mrun_metamodel\u001B[1;34m(network_name, new_pattern_values, electricity_values)\u001B[0m\n\u001B[0;32m    135\u001B[0m output \u001B[38;5;241m=\u001B[39m gn\u001B[38;5;241m.\u001B[39minverse_transform_array(output_norm, \u001B[38;5;124m'\u001B[39m\u001B[38;5;124mpressure\u001B[39m\u001B[38;5;124m'\u001B[39m, reshape\u001B[38;5;241m=\u001B[39m\u001B[38;5;28;01mFalse\u001B[39;00m)\n\u001B[0;32m    137\u001B[0m \u001B[38;5;66;03m# result = simulate_network(wn)\u001B[39;00m\n\u001B[0;32m    138\u001B[0m \u001B[38;5;66;03m#\u001B[39;00m\n\u001B[0;32m    139\u001B[0m \u001B[38;5;66;03m# critical_nodes = get_junction_nodes(wn)\u001B[39;00m\n\u001B[0;32m    140\u001B[0m \u001B[38;5;66;03m#\u001B[39;00m\n\u001B[0;32m    141\u001B[0m \u001B[38;5;66;03m# output = {'wn': wn, 'result': result, 'critical_nodes': critical_nodes}\u001B[39;00m\n\u001B[1;32m--> 143\u001B[0m \u001B[38;5;28;01mreturn\u001B[39;00m \u001B[38;5;28;01mNone\u001B[39;00m\n",
      "File \u001B[1;32mC:\\Uni\\Thesis\\Albert\\GGNet\\pump_scheduling\\objective_function.py:143\u001B[0m, in \u001B[0;36mrun_metamodel\u001B[1;34m(network_name, new_pattern_values, electricity_values)\u001B[0m\n\u001B[0;32m    135\u001B[0m output \u001B[38;5;241m=\u001B[39m gn\u001B[38;5;241m.\u001B[39minverse_transform_array(output_norm, \u001B[38;5;124m'\u001B[39m\u001B[38;5;124mpressure\u001B[39m\u001B[38;5;124m'\u001B[39m, reshape\u001B[38;5;241m=\u001B[39m\u001B[38;5;28;01mFalse\u001B[39;00m)\n\u001B[0;32m    137\u001B[0m \u001B[38;5;66;03m# result = simulate_network(wn)\u001B[39;00m\n\u001B[0;32m    138\u001B[0m \u001B[38;5;66;03m#\u001B[39;00m\n\u001B[0;32m    139\u001B[0m \u001B[38;5;66;03m# critical_nodes = get_junction_nodes(wn)\u001B[39;00m\n\u001B[0;32m    140\u001B[0m \u001B[38;5;66;03m#\u001B[39;00m\n\u001B[0;32m    141\u001B[0m \u001B[38;5;66;03m# output = {'wn': wn, 'result': result, 'critical_nodes': critical_nodes}\u001B[39;00m\n\u001B[1;32m--> 143\u001B[0m \u001B[38;5;28;01mreturn\u001B[39;00m \u001B[38;5;28;01mNone\u001B[39;00m\n",
      "File \u001B[1;32m_pydevd_bundle\\pydevd_cython_win32_39_64.pyx:1179\u001B[0m, in \u001B[0;36m_pydevd_bundle.pydevd_cython_win32_39_64.SafeCallWrapper.__call__\u001B[1;34m()\u001B[0m\n",
      "File \u001B[1;32m_pydevd_bundle\\pydevd_cython_win32_39_64.pyx:620\u001B[0m, in \u001B[0;36m_pydevd_bundle.pydevd_cython_win32_39_64.PyDBFrame.trace_dispatch\u001B[1;34m()\u001B[0m\n",
      "File \u001B[1;32m_pydevd_bundle\\pydevd_cython_win32_39_64.pyx:1095\u001B[0m, in \u001B[0;36m_pydevd_bundle.pydevd_cython_win32_39_64.PyDBFrame.trace_dispatch\u001B[1;34m()\u001B[0m\n",
      "File \u001B[1;32m_pydevd_bundle\\pydevd_cython_win32_39_64.pyx:1057\u001B[0m, in \u001B[0;36m_pydevd_bundle.pydevd_cython_win32_39_64.PyDBFrame.trace_dispatch\u001B[1;34m()\u001B[0m\n",
      "File \u001B[1;32m_pydevd_bundle\\pydevd_cython_win32_39_64.pyx:317\u001B[0m, in \u001B[0;36m_pydevd_bundle.pydevd_cython_win32_39_64.PyDBFrame.do_wait_suspend\u001B[1;34m()\u001B[0m\n",
      "File \u001B[1;32mC:\\Program Files\\JetBrains\\PyCharm 2022.1\\plugins\\python\\helpers\\pydev\\pydevd.py:1160\u001B[0m, in \u001B[0;36mPyDB.do_wait_suspend\u001B[1;34m(self, thread, frame, event, arg, send_suspend_message, is_unhandled_exception)\u001B[0m\n\u001B[0;32m   1157\u001B[0m         from_this_thread\u001B[38;5;241m.\u001B[39mappend(frame_id)\n\u001B[0;32m   1159\u001B[0m \u001B[38;5;28;01mwith\u001B[39;00m \u001B[38;5;28mself\u001B[39m\u001B[38;5;241m.\u001B[39m_threads_suspended_single_notification\u001B[38;5;241m.\u001B[39mnotify_thread_suspended(thread_id, stop_reason):\n\u001B[1;32m-> 1160\u001B[0m     \u001B[38;5;28;43mself\u001B[39;49m\u001B[38;5;241;43m.\u001B[39;49m\u001B[43m_do_wait_suspend\u001B[49m\u001B[43m(\u001B[49m\u001B[43mthread\u001B[49m\u001B[43m,\u001B[49m\u001B[43m \u001B[49m\u001B[43mframe\u001B[49m\u001B[43m,\u001B[49m\u001B[43m \u001B[49m\u001B[43mevent\u001B[49m\u001B[43m,\u001B[49m\u001B[43m \u001B[49m\u001B[43marg\u001B[49m\u001B[43m,\u001B[49m\u001B[43m \u001B[49m\u001B[43msuspend_type\u001B[49m\u001B[43m,\u001B[49m\u001B[43m \u001B[49m\u001B[43mfrom_this_thread\u001B[49m\u001B[43m)\u001B[49m\n",
      "File \u001B[1;32mC:\\Program Files\\JetBrains\\PyCharm 2022.1\\plugins\\python\\helpers\\pydev\\pydevd.py:1175\u001B[0m, in \u001B[0;36mPyDB._do_wait_suspend\u001B[1;34m(self, thread, frame, event, arg, suspend_type, from_this_thread)\u001B[0m\n\u001B[0;32m   1172\u001B[0m             \u001B[38;5;28mself\u001B[39m\u001B[38;5;241m.\u001B[39m_call_mpl_hook()\n\u001B[0;32m   1174\u001B[0m         \u001B[38;5;28mself\u001B[39m\u001B[38;5;241m.\u001B[39mprocess_internal_commands()\n\u001B[1;32m-> 1175\u001B[0m         \u001B[43mtime\u001B[49m\u001B[38;5;241;43m.\u001B[39;49m\u001B[43msleep\u001B[49m\u001B[43m(\u001B[49m\u001B[38;5;241;43m0.01\u001B[39;49m\u001B[43m)\u001B[49m\n\u001B[0;32m   1177\u001B[0m \u001B[38;5;28mself\u001B[39m\u001B[38;5;241m.\u001B[39mcancel_async_evaluation(get_current_thread_id(thread), \u001B[38;5;28mstr\u001B[39m(\u001B[38;5;28mid\u001B[39m(frame)))\n\u001B[0;32m   1179\u001B[0m \u001B[38;5;66;03m# process any stepping instructions\u001B[39;00m\n",
      "\u001B[1;31mKeyboardInterrupt\u001B[0m: "
     ]
    }
   ],
   "source": [
    "# optimize_pump_schedule_WNTR('../data_generation/networks/FOS_pump.inp', [[1]*24])\n",
    "optimize_pump_schedule_metamodel('FOS_pump_sched_3', [[1]*24])"
   ],
   "metadata": {
    "collapsed": false,
    "ExecuteTime": {
     "end_time": "2023-12-07T11:47:34.661462100Z",
     "start_time": "2023-12-07T11:40:39.682075200Z"
    }
   }
  },
  {
   "cell_type": "markdown",
   "source": [
    "## Working networks"
   ],
   "metadata": {
    "collapsed": false
   }
  },
  {
   "cell_type": "markdown",
   "source": [
    "| Network name                       | Pump List | Pump Pattern List |\n",
    "|------------------------------------|-----------|-------------------|\n",
    "| Net1_modified                      | 9         | Plong             |\n",
    "| Anytown_revised_continuous_pumppat | P78       | PUMP              |\n",
    "| Custom_net                         | 5         | P5                |"
   ],
   "metadata": {
    "collapsed": false
   }
  },
  {
   "cell_type": "code",
   "execution_count": 4,
   "outputs": [],
   "source": [
    "from pymoo.core.problem import ElementwiseProblem\n",
    "from pymoo.algorithms.soo.nonconvex.ga import GA\n",
    "from pymoo.problems import get_problem\n",
    "from pymoo.termination import get_termination\n",
    "from pymoo.optimize import minimize\n",
    "from pymoo.operators.mutation.bitflip import BitflipMutation\n",
    "from pymoo.operators.crossover.pntx import TwoPointCrossover\n",
    "from pymoo.algorithms.moo.nsga2 import NSGA2\n",
    "\n",
    "\n",
    "from pymoo.operators.sampling.rnd import BinaryRandomSampling\n",
    "\n",
    "\n",
    "class SchedulePump(ElementwiseProblem):\n",
    "\n",
    "    def __init__(self, network_file, n_var=24, n_ieq_constr=36):\n",
    "        super().__init__(n_var=n_var,\n",
    "                         n_obj=2,\n",
    "                         n_ieq_constr=n_ieq_constr,\n",
    "                         xl=0,\n",
    "                         xu=1,\n",
    "                         vtype=bool)\n",
    "        \n",
    "        self.network_file=network_file\n",
    "\n",
    "    def _evaluate(self, x, out, *args, **kwargs):\n",
    "        # Minimization function\n",
    "        evaluation = optimize_pump_schedule_WNTR(self.network_file, [x])\n",
    "        \n",
    "        # The objective of the function. Total energy to minimize\n",
    "        out[\"F\"] = [evaluation[0][0], evaluation[0][1]]\n",
    "        \n",
    "        # The constraints of the function, as in pressure violations per node\n",
    "        out[\"G\"] = evaluation[1]\n",
    "\n",
    "def make_problem(input_file):\n",
    "    wn = wntr.network.WaterNetworkModel(input_file)\n",
    "    time_discrete = int(wn.options.time.duration/wn.options.time.pattern_timestep)\n",
    "    junctions = len(wn.junction_name_list)\n",
    "    return SchedulePump(network_file=input_file, n_var=time_discrete, n_ieq_constr=junctions)\n",
    "\n",
    "\n",
    "problem = make_problem('../data_generation/networks/FOS_pump_sched_3_0.inp')"
   ],
   "metadata": {
    "collapsed": false,
    "ExecuteTime": {
     "end_time": "2023-12-07T09:15:59.200408200Z",
     "start_time": "2023-12-07T09:15:58.873082300Z"
    }
   }
  },
  {
   "cell_type": "code",
   "execution_count": 5,
   "outputs": [
    {
     "name": "stdout",
     "output_type": "stream",
     "text": [
      "==========================================================================================\n",
      "n_gen  |  n_eval  | n_nds  |     cv_min    |     cv_avg    |      eps      |   indicator  \n",
      "==========================================================================================\n",
      "     1 |      100 |      1 |  5.887939E+03 |  8.032136E+04 |             - |             -\n",
      "     2 |      200 |      1 |  1.821600E+03 |  5.087903E+04 |             - |             -\n",
      "     3 |      300 |      1 |  1.804325E+03 |  2.133952E+04 |             - |             -\n",
      "     4 |      400 |      1 |  0.000000E+00 |  1.371964E+04 |             - |             -\n",
      "     5 |      500 |      1 |  0.000000E+00 |  7.902834E+03 |  1.699923E+02 |         ideal\n",
      "     6 |      600 |      2 |  0.000000E+00 |  2.492118E+03 |  1.0000000000 |         ideal\n",
      "     7 |      700 |      1 |  0.000000E+00 |  1.374700E+03 |  2.190298E+02 |         ideal\n",
      "     8 |      800 |      1 |  0.000000E+00 |  1.032387E+03 |  0.000000E+00 |             f\n",
      "     9 |      900 |      1 |  0.000000E+00 |  8.280712E+02 |  0.000000E+00 |             f\n",
      "    10 |     1000 |      1 |  0.000000E+00 |  6.310874E+02 |  0.000000E+00 |             f\n",
      "    11 |     1100 |      1 |  0.000000E+00 |  5.695416E+02 |  0.000000E+00 |             f\n",
      "    12 |     1200 |      1 |  0.000000E+00 |  5.258789E+02 |  0.000000E+00 |             f\n",
      "    13 |     1300 |      1 |  0.000000E+00 |  4.750097E+02 |  0.000000E+00 |             f\n",
      "    14 |     1400 |      1 |  0.000000E+00 |  4.434643E+02 |  0.000000E+00 |             f\n",
      "    15 |     1500 |      1 |  0.000000E+00 |  4.113463E+02 |  0.000000E+00 |             f\n",
      "    16 |     1600 |      1 |  0.000000E+00 |  3.782060E+02 |  0.000000E+00 |             f\n",
      "    17 |     1700 |      1 |  0.000000E+00 |  3.641616E+02 |  0.000000E+00 |             f\n"
     ]
    },
    {
     "ename": "KeyboardInterrupt",
     "evalue": "",
     "output_type": "error",
     "traceback": [
      "\u001B[1;31m---------------------------------------------------------------------------\u001B[0m",
      "\u001B[1;31mKeyboardInterrupt\u001B[0m                         Traceback (most recent call last)",
      "Cell \u001B[1;32mIn[5], line 9\u001B[0m\n\u001B[0;32m      1\u001B[0m algorithm \u001B[38;5;241m=\u001B[39m NSGA2(pop_size\u001B[38;5;241m=\u001B[39m\u001B[38;5;241m100\u001B[39m,\n\u001B[0;32m      2\u001B[0m                   sampling\u001B[38;5;241m=\u001B[39mBinaryRandomSampling(),\n\u001B[0;32m      3\u001B[0m                   \u001B[38;5;66;03m# crossover=TwoPointCrossover(),\u001B[39;00m\n\u001B[0;32m      4\u001B[0m                   mutation\u001B[38;5;241m=\u001B[39mBitflipMutation(),\n\u001B[0;32m      5\u001B[0m                   eliminate_duplicates\u001B[38;5;241m=\u001B[39m\u001B[38;5;28;01mTrue\u001B[39;00m)\n\u001B[0;32m      7\u001B[0m termination \u001B[38;5;241m=\u001B[39m get_termination(\u001B[38;5;124m\"\u001B[39m\u001B[38;5;124mn_gen\u001B[39m\u001B[38;5;124m\"\u001B[39m, \u001B[38;5;241m20\u001B[39m)\n\u001B[1;32m----> 9\u001B[0m res \u001B[38;5;241m=\u001B[39m \u001B[43mminimize\u001B[49m\u001B[43m(\u001B[49m\u001B[43mproblem\u001B[49m\u001B[43m,\u001B[49m\n\u001B[0;32m     10\u001B[0m \u001B[43m               \u001B[49m\u001B[43malgorithm\u001B[49m\u001B[43m,\u001B[49m\n\u001B[0;32m     11\u001B[0m \u001B[43m               \u001B[49m\u001B[43mtermination\u001B[49m\u001B[43m,\u001B[49m\n\u001B[0;32m     12\u001B[0m \u001B[43m               \u001B[49m\u001B[43mseed\u001B[49m\u001B[38;5;241;43m=\u001B[39;49m\u001B[38;5;241;43m1\u001B[39;49m\u001B[43m,\u001B[49m\n\u001B[0;32m     13\u001B[0m \u001B[43m               \u001B[49m\u001B[43mverbose\u001B[49m\u001B[38;5;241;43m=\u001B[39;49m\u001B[38;5;28;43;01mTrue\u001B[39;49;00m\u001B[43m)\u001B[49m\n",
      "File \u001B[1;32m~\\anaconda3\\lib\\site-packages\\pymoo\\optimize.py:67\u001B[0m, in \u001B[0;36mminimize\u001B[1;34m(problem, algorithm, termination, copy_algorithm, copy_termination, **kwargs)\u001B[0m\n\u001B[0;32m     64\u001B[0m     algorithm\u001B[38;5;241m.\u001B[39msetup(problem, \u001B[38;5;241m*\u001B[39m\u001B[38;5;241m*\u001B[39mkwargs)\n\u001B[0;32m     66\u001B[0m \u001B[38;5;66;03m# actually execute the algorithm\u001B[39;00m\n\u001B[1;32m---> 67\u001B[0m res \u001B[38;5;241m=\u001B[39m \u001B[43malgorithm\u001B[49m\u001B[38;5;241;43m.\u001B[39;49m\u001B[43mrun\u001B[49m\u001B[43m(\u001B[49m\u001B[43m)\u001B[49m\n\u001B[0;32m     69\u001B[0m \u001B[38;5;66;03m# store the deep copied algorithm in the result object\u001B[39;00m\n\u001B[0;32m     70\u001B[0m res\u001B[38;5;241m.\u001B[39malgorithm \u001B[38;5;241m=\u001B[39m algorithm\n",
      "File \u001B[1;32m~\\anaconda3\\lib\\site-packages\\pymoo\\core\\algorithm.py:141\u001B[0m, in \u001B[0;36mAlgorithm.run\u001B[1;34m(self)\u001B[0m\n\u001B[0;32m    139\u001B[0m \u001B[38;5;28;01mdef\u001B[39;00m \u001B[38;5;21mrun\u001B[39m(\u001B[38;5;28mself\u001B[39m):\n\u001B[0;32m    140\u001B[0m     \u001B[38;5;28;01mwhile\u001B[39;00m \u001B[38;5;28mself\u001B[39m\u001B[38;5;241m.\u001B[39mhas_next():\n\u001B[1;32m--> 141\u001B[0m         \u001B[38;5;28;43mself\u001B[39;49m\u001B[38;5;241;43m.\u001B[39;49m\u001B[43mnext\u001B[49m\u001B[43m(\u001B[49m\u001B[43m)\u001B[49m\n\u001B[0;32m    142\u001B[0m     \u001B[38;5;28;01mreturn\u001B[39;00m \u001B[38;5;28mself\u001B[39m\u001B[38;5;241m.\u001B[39mresult()\n",
      "File \u001B[1;32m~\\anaconda3\\lib\\site-packages\\pymoo\\core\\algorithm.py:161\u001B[0m, in \u001B[0;36mAlgorithm.next\u001B[1;34m(self)\u001B[0m\n\u001B[0;32m    159\u001B[0m \u001B[38;5;66;03m# call the advance with them after evaluation\u001B[39;00m\n\u001B[0;32m    160\u001B[0m \u001B[38;5;28;01mif\u001B[39;00m infills \u001B[38;5;129;01mis\u001B[39;00m \u001B[38;5;129;01mnot\u001B[39;00m \u001B[38;5;28;01mNone\u001B[39;00m:\n\u001B[1;32m--> 161\u001B[0m     \u001B[38;5;28;43mself\u001B[39;49m\u001B[38;5;241;43m.\u001B[39;49m\u001B[43mevaluator\u001B[49m\u001B[38;5;241;43m.\u001B[39;49m\u001B[43meval\u001B[49m\u001B[43m(\u001B[49m\u001B[38;5;28;43mself\u001B[39;49m\u001B[38;5;241;43m.\u001B[39;49m\u001B[43mproblem\u001B[49m\u001B[43m,\u001B[49m\u001B[43m \u001B[49m\u001B[43minfills\u001B[49m\u001B[43m,\u001B[49m\u001B[43m \u001B[49m\u001B[43malgorithm\u001B[49m\u001B[38;5;241;43m=\u001B[39;49m\u001B[38;5;28;43mself\u001B[39;49m\u001B[43m)\u001B[49m\n\u001B[0;32m    162\u001B[0m     \u001B[38;5;28mself\u001B[39m\u001B[38;5;241m.\u001B[39madvance(infills\u001B[38;5;241m=\u001B[39minfills)\n\u001B[0;32m    164\u001B[0m \u001B[38;5;66;03m# if the algorithm does not follow the infill-advance scheme just call advance\u001B[39;00m\n\u001B[0;32m    165\u001B[0m \u001B[38;5;28;01melse\u001B[39;00m:\n",
      "File \u001B[1;32m~\\anaconda3\\lib\\site-packages\\pymoo\\core\\evaluator.py:69\u001B[0m, in \u001B[0;36mEvaluator.eval\u001B[1;34m(self, problem, pop, skip_already_evaluated, evaluate_values_of, count_evals, **kwargs)\u001B[0m\n\u001B[0;32m     65\u001B[0m \u001B[38;5;66;03m# evaluate the solutions (if there are any)\u001B[39;00m\n\u001B[0;32m     66\u001B[0m \u001B[38;5;28;01mif\u001B[39;00m \u001B[38;5;28mlen\u001B[39m(I) \u001B[38;5;241m>\u001B[39m \u001B[38;5;241m0\u001B[39m:\n\u001B[0;32m     67\u001B[0m \n\u001B[0;32m     68\u001B[0m     \u001B[38;5;66;03m# do the actual evaluation - call the sub-function to set the corresponding values to the population\u001B[39;00m\n\u001B[1;32m---> 69\u001B[0m     \u001B[38;5;28mself\u001B[39m\u001B[38;5;241m.\u001B[39m_eval(problem, pop[I], evaluate_values_of, \u001B[38;5;241m*\u001B[39m\u001B[38;5;241m*\u001B[39mkwargs)\n\u001B[0;32m     71\u001B[0m \u001B[38;5;66;03m# update the function evaluation counter\u001B[39;00m\n\u001B[0;32m     72\u001B[0m \u001B[38;5;28;01mif\u001B[39;00m count_evals:\n",
      "File \u001B[1;32m~\\anaconda3\\lib\\site-packages\\pymoo\\core\\evaluator.py:90\u001B[0m, in \u001B[0;36mEvaluator._eval\u001B[1;34m(self, problem, pop, evaluate_values_of, **kwargs)\u001B[0m\n\u001B[0;32m     87\u001B[0m X \u001B[38;5;241m=\u001B[39m pop\u001B[38;5;241m.\u001B[39mget(\u001B[38;5;124m\"\u001B[39m\u001B[38;5;124mX\u001B[39m\u001B[38;5;124m\"\u001B[39m)\n\u001B[0;32m     89\u001B[0m \u001B[38;5;66;03m# call the problem to evaluate the solutions\u001B[39;00m\n\u001B[1;32m---> 90\u001B[0m out \u001B[38;5;241m=\u001B[39m problem\u001B[38;5;241m.\u001B[39mevaluate(X, return_values_of\u001B[38;5;241m=\u001B[39mevaluate_values_of, return_as_dictionary\u001B[38;5;241m=\u001B[39m\u001B[38;5;28;01mTrue\u001B[39;00m, \u001B[38;5;241m*\u001B[39m\u001B[38;5;241m*\u001B[39mkwargs)\n\u001B[0;32m     92\u001B[0m \u001B[38;5;66;03m# for each of the attributes set it to the problem\u001B[39;00m\n\u001B[0;32m     93\u001B[0m \u001B[38;5;28;01mfor\u001B[39;00m key, val \u001B[38;5;129;01min\u001B[39;00m out\u001B[38;5;241m.\u001B[39mitems():\n",
      "File \u001B[1;32m~\\anaconda3\\lib\\site-packages\\pymoo\\core\\problem.py:187\u001B[0m, in \u001B[0;36mProblem.evaluate\u001B[1;34m(self, X, return_values_of, return_as_dictionary, *args, **kwargs)\u001B[0m\n\u001B[0;32m    184\u001B[0m     only_single_value \u001B[38;5;241m=\u001B[39m \u001B[38;5;129;01mnot\u001B[39;00m (\u001B[38;5;28misinstance\u001B[39m(X, \u001B[38;5;28mlist\u001B[39m) \u001B[38;5;129;01mor\u001B[39;00m \u001B[38;5;28misinstance\u001B[39m(X, np\u001B[38;5;241m.\u001B[39mndarray))\n\u001B[0;32m    186\u001B[0m \u001B[38;5;66;03m# this is where the actual evaluation takes place\u001B[39;00m\n\u001B[1;32m--> 187\u001B[0m _out \u001B[38;5;241m=\u001B[39m \u001B[38;5;28mself\u001B[39m\u001B[38;5;241m.\u001B[39mdo(X, return_values_of, \u001B[38;5;241m*\u001B[39margs, \u001B[38;5;241m*\u001B[39m\u001B[38;5;241m*\u001B[39mkwargs)\n\u001B[0;32m    189\u001B[0m out \u001B[38;5;241m=\u001B[39m {}\n\u001B[0;32m    190\u001B[0m \u001B[38;5;28;01mfor\u001B[39;00m k, v \u001B[38;5;129;01min\u001B[39;00m _out\u001B[38;5;241m.\u001B[39mitems():\n\u001B[0;32m    191\u001B[0m \n\u001B[0;32m    192\u001B[0m     \u001B[38;5;66;03m# copy it to a numpy array (it might be one of jax at this point)\u001B[39;00m\n",
      "File \u001B[1;32m~\\anaconda3\\lib\\site-packages\\pymoo\\core\\problem.py:227\u001B[0m, in \u001B[0;36mProblem.do\u001B[1;34m(self, X, return_values_of, *args, **kwargs)\u001B[0m\n\u001B[0;32m    225\u001B[0m \u001B[38;5;66;03m# do the function evaluation\u001B[39;00m\n\u001B[0;32m    226\u001B[0m \u001B[38;5;28;01mif\u001B[39;00m \u001B[38;5;28mself\u001B[39m\u001B[38;5;241m.\u001B[39melementwise:\n\u001B[1;32m--> 227\u001B[0m     \u001B[38;5;28mself\u001B[39m\u001B[38;5;241m.\u001B[39m_evaluate_elementwise(X, out, \u001B[38;5;241m*\u001B[39margs, \u001B[38;5;241m*\u001B[39m\u001B[38;5;241m*\u001B[39mkwargs)\n\u001B[0;32m    228\u001B[0m \u001B[38;5;28;01melse\u001B[39;00m:\n\u001B[0;32m    229\u001B[0m     \u001B[38;5;28mself\u001B[39m\u001B[38;5;241m.\u001B[39m_evaluate_vectorized(X, out, \u001B[38;5;241m*\u001B[39margs, \u001B[38;5;241m*\u001B[39m\u001B[38;5;241m*\u001B[39mkwargs)\n",
      "File \u001B[1;32m~\\anaconda3\\lib\\site-packages\\pymoo\\core\\problem.py:245\u001B[0m, in \u001B[0;36mProblem._evaluate_elementwise\u001B[1;34m(self, X, out, *args, **kwargs)\u001B[0m\n\u001B[0;32m    242\u001B[0m f \u001B[38;5;241m=\u001B[39m \u001B[38;5;28mself\u001B[39m\u001B[38;5;241m.\u001B[39melementwise_func(\u001B[38;5;28mself\u001B[39m, args, kwargs)\n\u001B[0;32m    244\u001B[0m \u001B[38;5;66;03m# execute the runner\u001B[39;00m\n\u001B[1;32m--> 245\u001B[0m elems \u001B[38;5;241m=\u001B[39m \u001B[38;5;28;43mself\u001B[39;49m\u001B[38;5;241;43m.\u001B[39;49m\u001B[43melementwise_runner\u001B[49m\u001B[43m(\u001B[49m\u001B[43mf\u001B[49m\u001B[43m,\u001B[49m\u001B[43m \u001B[49m\u001B[43mX\u001B[49m\u001B[43m)\u001B[49m\n\u001B[0;32m    247\u001B[0m \u001B[38;5;66;03m# for each evaluation call\u001B[39;00m\n\u001B[0;32m    248\u001B[0m \u001B[38;5;28;01mfor\u001B[39;00m elem \u001B[38;5;129;01min\u001B[39;00m elems:\n\u001B[0;32m    249\u001B[0m \n\u001B[0;32m    250\u001B[0m     \u001B[38;5;66;03m# for each key stored for this evaluation\u001B[39;00m\n",
      "File \u001B[1;32m~\\anaconda3\\lib\\site-packages\\pymoo\\core\\problem.py:27\u001B[0m, in \u001B[0;36mLoopedElementwiseEvaluation.__call__\u001B[1;34m(self, f, X)\u001B[0m\n\u001B[0;32m     26\u001B[0m \u001B[38;5;28;01mdef\u001B[39;00m \u001B[38;5;21m__call__\u001B[39m(\u001B[38;5;28mself\u001B[39m, f, X):\n\u001B[1;32m---> 27\u001B[0m     \u001B[38;5;28;01mreturn\u001B[39;00m [f(x) \u001B[38;5;28;01mfor\u001B[39;00m x \u001B[38;5;129;01min\u001B[39;00m X]\n",
      "File \u001B[1;32m~\\anaconda3\\lib\\site-packages\\pymoo\\core\\problem.py:27\u001B[0m, in \u001B[0;36m<listcomp>\u001B[1;34m(.0)\u001B[0m\n\u001B[0;32m     26\u001B[0m \u001B[38;5;28;01mdef\u001B[39;00m \u001B[38;5;21m__call__\u001B[39m(\u001B[38;5;28mself\u001B[39m, f, X):\n\u001B[1;32m---> 27\u001B[0m     \u001B[38;5;28;01mreturn\u001B[39;00m [\u001B[43mf\u001B[49m\u001B[43m(\u001B[49m\u001B[43mx\u001B[49m\u001B[43m)\u001B[49m \u001B[38;5;28;01mfor\u001B[39;00m x \u001B[38;5;129;01min\u001B[39;00m X]\n",
      "File \u001B[1;32m~\\anaconda3\\lib\\site-packages\\pymoo\\core\\problem.py:20\u001B[0m, in \u001B[0;36mElementwiseEvaluationFunction.__call__\u001B[1;34m(self, x)\u001B[0m\n\u001B[0;32m     18\u001B[0m \u001B[38;5;28;01mdef\u001B[39;00m \u001B[38;5;21m__call__\u001B[39m(\u001B[38;5;28mself\u001B[39m, x):\n\u001B[0;32m     19\u001B[0m     out \u001B[38;5;241m=\u001B[39m \u001B[38;5;28mdict\u001B[39m()\n\u001B[1;32m---> 20\u001B[0m     \u001B[38;5;28mself\u001B[39m\u001B[38;5;241m.\u001B[39mproblem\u001B[38;5;241m.\u001B[39m_evaluate(x, out, \u001B[38;5;241m*\u001B[39m\u001B[38;5;28mself\u001B[39m\u001B[38;5;241m.\u001B[39margs, \u001B[38;5;241m*\u001B[39m\u001B[38;5;241m*\u001B[39m\u001B[38;5;28mself\u001B[39m\u001B[38;5;241m.\u001B[39mkwargs)\n\u001B[0;32m     21\u001B[0m     \u001B[38;5;28;01mreturn\u001B[39;00m out\n",
      "Cell \u001B[1;32mIn[4], line 28\u001B[0m, in \u001B[0;36mSchedulePump._evaluate\u001B[1;34m(self, x, out, *args, **kwargs)\u001B[0m\n\u001B[0;32m     26\u001B[0m \u001B[38;5;28;01mdef\u001B[39;00m \u001B[38;5;21m_evaluate\u001B[39m(\u001B[38;5;28mself\u001B[39m, x, out, \u001B[38;5;241m*\u001B[39margs, \u001B[38;5;241m*\u001B[39m\u001B[38;5;241m*\u001B[39mkwargs):\n\u001B[0;32m     27\u001B[0m     \u001B[38;5;66;03m# Minimization function\u001B[39;00m\n\u001B[1;32m---> 28\u001B[0m     evaluation \u001B[38;5;241m=\u001B[39m \u001B[43moptimize_pump_schedule_WNTR\u001B[49m\u001B[43m(\u001B[49m\u001B[38;5;28;43mself\u001B[39;49m\u001B[38;5;241;43m.\u001B[39;49m\u001B[43mnetwork_file\u001B[49m\u001B[43m,\u001B[49m\u001B[43m \u001B[49m\u001B[43m[\u001B[49m\u001B[43mx\u001B[49m\u001B[43m]\u001B[49m\u001B[43m)\u001B[49m\n\u001B[0;32m     30\u001B[0m     \u001B[38;5;66;03m# The objective of the function. Total energy to minimize\u001B[39;00m\n\u001B[0;32m     31\u001B[0m     out[\u001B[38;5;124m\"\u001B[39m\u001B[38;5;124mF\u001B[39m\u001B[38;5;124m\"\u001B[39m] \u001B[38;5;241m=\u001B[39m [evaluation[\u001B[38;5;241m0\u001B[39m][\u001B[38;5;241m0\u001B[39m], evaluation[\u001B[38;5;241m0\u001B[39m][\u001B[38;5;241m1\u001B[39m]]\n",
      "Cell \u001B[1;32mIn[2], line 13\u001B[0m, in \u001B[0;36moptimize_pump_schedule_WNTR\u001B[1;34m(network_file, new_pump_pattern_values)\u001B[0m\n\u001B[0;32m      9\u001B[0m output \u001B[38;5;241m=\u001B[39m run_WNTR_model(network_file, new_pump_pattern_values, electricity_pattern_values)\n\u001B[0;32m     11\u001B[0m \u001B[38;5;66;03m# Calculate the objective function, which is the total energy, cost and minimum pressure per node during the run\u001B[39;00m\n\u001B[1;32m---> 13\u001B[0m results \u001B[38;5;241m=\u001B[39m \u001B[43mcalculate_objective_function\u001B[49m\u001B[43m(\u001B[49m\u001B[43moutput\u001B[49m\u001B[43m[\u001B[49m\u001B[38;5;124;43m'\u001B[39;49m\u001B[38;5;124;43mwn\u001B[39;49m\u001B[38;5;124;43m'\u001B[39;49m\u001B[43m]\u001B[49m\u001B[43m,\u001B[49m\u001B[43m \u001B[49m\u001B[43moutput\u001B[49m\u001B[43m[\u001B[49m\u001B[38;5;124;43m'\u001B[39;49m\u001B[38;5;124;43mresult\u001B[39;49m\u001B[38;5;124;43m'\u001B[39;49m\u001B[43m]\u001B[49m\u001B[43m,\u001B[49m\u001B[43m \u001B[49m\u001B[43moutput\u001B[49m\u001B[43m[\u001B[49m\u001B[38;5;124;43m'\u001B[39;49m\u001B[38;5;124;43mcritical_nodes\u001B[39;49m\u001B[38;5;124;43m'\u001B[39;49m\u001B[43m]\u001B[49m\u001B[43m,\u001B[49m\u001B[43m \u001B[49m\u001B[43moutput\u001B[49m\u001B[43m[\u001B[49m\u001B[38;5;124;43m'\u001B[39;49m\u001B[38;5;124;43mwn\u001B[39;49m\u001B[38;5;124;43m'\u001B[39;49m\u001B[43m]\u001B[49m\u001B[38;5;241;43m.\u001B[39;49m\u001B[43mpump_name_list\u001B[49m\u001B[43m)\u001B[49m\n\u001B[0;32m     15\u001B[0m total_energy \u001B[38;5;241m=\u001B[39m results[\u001B[38;5;241m0\u001B[39m]\n\u001B[0;32m     16\u001B[0m total_cost \u001B[38;5;241m=\u001B[39m results[\u001B[38;5;241m1\u001B[39m]\n",
      "File \u001B[1;32mC:\\Uni\\Thesis\\Albert\\GGNet\\pump_scheduling\\objective_function.py:77\u001B[0m, in \u001B[0;36mcalculate_objective_function\u001B[1;34m(wn, result, critical_nodes, pump_id_list)\u001B[0m\n\u001B[0;32m     76\u001B[0m \u001B[38;5;28;01mdef\u001B[39;00m \u001B[38;5;21mcalculate_objective_function\u001B[39m(wn, result, critical_nodes, pump_id_list):\n\u001B[1;32m---> 77\u001B[0m     calculation \u001B[38;5;241m=\u001B[39m \u001B[43mtotal_energy_and_cost\u001B[49m\u001B[43m(\u001B[49m\u001B[43mwn\u001B[49m\u001B[43m,\u001B[49m\u001B[43m \u001B[49m\u001B[43mresult\u001B[49m\u001B[43m,\u001B[49m\u001B[43m \u001B[49m\u001B[43mpump_id_list\u001B[49m\u001B[43m)\u001B[49m\n\u001B[0;32m     78\u001B[0m     total_energy \u001B[38;5;241m=\u001B[39m calculation[\u001B[38;5;241m0\u001B[39m]\n\u001B[0;32m     79\u001B[0m     total_cost \u001B[38;5;241m=\u001B[39m calculation[\u001B[38;5;241m1\u001B[39m]\n",
      "File \u001B[1;32mC:\\Uni\\Thesis\\Albert\\GGNet\\pump_scheduling\\objective_function.py:49\u001B[0m, in \u001B[0;36mtotal_energy_and_cost\u001B[1;34m(wn, result, pump_id_list, timestep)\u001B[0m\n\u001B[0;32m     46\u001B[0m \u001B[38;5;66;03m# Heads\u001B[39;00m\n\u001B[0;32m     47\u001B[0m head \u001B[38;5;241m=\u001B[39m result\u001B[38;5;241m.\u001B[39mnode[\u001B[38;5;124m'\u001B[39m\u001B[38;5;124mhead\u001B[39m\u001B[38;5;124m'\u001B[39m]\n\u001B[1;32m---> 49\u001B[0m energy \u001B[38;5;241m=\u001B[39m \u001B[43menergy_consumption\u001B[49m\u001B[43m(\u001B[49m\u001B[43mwn\u001B[49m\u001B[43m,\u001B[49m\u001B[43m \u001B[49m\u001B[43mpump_flowrate\u001B[49m\u001B[43m,\u001B[49m\u001B[43m \u001B[49m\u001B[43mhead\u001B[49m\u001B[43m)\u001B[49m\n\u001B[0;32m     50\u001B[0m cost \u001B[38;5;241m=\u001B[39m energy_cost(energy, wn)\n\u001B[0;32m     51\u001B[0m total_energy_per_pump \u001B[38;5;241m=\u001B[39m []\n",
      "File \u001B[1;32mC:\\Uni\\Thesis\\Albert\\GGNet\\pump_scheduling\\objective_function.py:30\u001B[0m, in \u001B[0;36menergy_consumption\u001B[1;34m(wn, pump_flowrate, head)\u001B[0m\n\u001B[0;32m     28\u001B[0m \u001B[38;5;28;01mdef\u001B[39;00m \u001B[38;5;21menergy_consumption\u001B[39m(wn, pump_flowrate, head):\n\u001B[0;32m     29\u001B[0m     \u001B[38;5;66;03m# Energy consumption in kWh\u001B[39;00m\n\u001B[1;32m---> 30\u001B[0m     energy \u001B[38;5;241m=\u001B[39m \u001B[43mwntr\u001B[49m\u001B[38;5;241;43m.\u001B[39;49m\u001B[43mmetrics\u001B[49m\u001B[38;5;241;43m.\u001B[39;49m\u001B[43mpump_energy\u001B[49m\u001B[43m(\u001B[49m\u001B[43mpump_flowrate\u001B[49m\u001B[43m,\u001B[49m\u001B[43m \u001B[49m\u001B[43mhead\u001B[49m\u001B[43m,\u001B[49m\u001B[43m \u001B[49m\u001B[43mwn\u001B[49m\u001B[43m)\u001B[49m \u001B[38;5;66;03m# in J\u001B[39;00m\n\u001B[0;32m     31\u001B[0m     energy \u001B[38;5;241m=\u001B[39m energy \u001B[38;5;241m/\u001B[39m \u001B[38;5;241m3600000\u001B[39m \u001B[38;5;66;03m# in kWh\u001B[39;00m\n\u001B[0;32m     33\u001B[0m     \u001B[38;5;28;01mreturn\u001B[39;00m energy\n",
      "File \u001B[1;32m~\\anaconda3\\lib\\site-packages\\wntr-1.0.0-py3.9-win-amd64.egg\\wntr\\metrics\\economic.py:358\u001B[0m, in \u001B[0;36mpump_energy\u001B[1;34m(flowrate, head, wn)\u001B[0m\n\u001B[0;32m    328\u001B[0m \u001B[38;5;28;01mdef\u001B[39;00m \u001B[38;5;21mpump_energy\u001B[39m(flowrate, head, wn):\n\u001B[0;32m    329\u001B[0m \u001B[38;5;250m    \u001B[39m\u001B[38;5;124;03m\"\"\"\u001B[39;00m\n\u001B[0;32m    330\u001B[0m \u001B[38;5;124;03m    Compute the pump energy over time.\u001B[39;00m\n\u001B[0;32m    331\u001B[0m \u001B[38;5;124;03m    \u001B[39;00m\n\u001B[1;32m   (...)\u001B[0m\n\u001B[0;32m    355\u001B[0m \u001B[38;5;124;03m    A DataFrame that contains pump energy in J (index = times, columns = pump names).\u001B[39;00m\n\u001B[0;32m    356\u001B[0m \u001B[38;5;124;03m    \"\"\"\u001B[39;00m\n\u001B[1;32m--> 358\u001B[0m     power \u001B[38;5;241m=\u001B[39m \u001B[43mpump_power\u001B[49m\u001B[43m(\u001B[49m\u001B[43mflowrate\u001B[49m\u001B[43m,\u001B[49m\u001B[43m \u001B[49m\u001B[43mhead\u001B[49m\u001B[43m,\u001B[49m\u001B[43m \u001B[49m\u001B[43mwn\u001B[49m\u001B[43m)\u001B[49m  \u001B[38;5;66;03m# Watts = J/s\u001B[39;00m\n\u001B[0;32m    359\u001B[0m     energy \u001B[38;5;241m=\u001B[39m power \u001B[38;5;241m*\u001B[39m wn\u001B[38;5;241m.\u001B[39moptions\u001B[38;5;241m.\u001B[39mtime\u001B[38;5;241m.\u001B[39mreport_timestep  \u001B[38;5;66;03m# J = Ws\u001B[39;00m\n\u001B[0;32m    361\u001B[0m     \u001B[38;5;28;01mreturn\u001B[39;00m energy\n",
      "File \u001B[1;32m~\\anaconda3\\lib\\site-packages\\wntr-1.0.0-py3.9-win-amd64.egg\\wntr\\metrics\\economic.py:300\u001B[0m, in \u001B[0;36mpump_power\u001B[1;34m(flowrate, head, wn)\u001B[0m\n\u001B[0;32m    297\u001B[0m pumps \u001B[38;5;241m=\u001B[39m wn\u001B[38;5;241m.\u001B[39mpump_name_list\n\u001B[0;32m    298\u001B[0m time \u001B[38;5;241m=\u001B[39m flowrate\u001B[38;5;241m.\u001B[39mindex\n\u001B[1;32m--> 300\u001B[0m headloss \u001B[38;5;241m=\u001B[39m \u001B[43mpd\u001B[49m\u001B[38;5;241;43m.\u001B[39;49m\u001B[43mDataFrame\u001B[49m\u001B[43m(\u001B[49m\u001B[43mdata\u001B[49m\u001B[38;5;241;43m=\u001B[39;49m\u001B[38;5;28;43;01mNone\u001B[39;49;00m\u001B[43m,\u001B[49m\u001B[43m \u001B[49m\u001B[43mindex\u001B[49m\u001B[38;5;241;43m=\u001B[39;49m\u001B[43mtime\u001B[49m\u001B[43m,\u001B[49m\u001B[43m \u001B[49m\u001B[43mcolumns\u001B[49m\u001B[38;5;241;43m=\u001B[39;49m\u001B[43mpumps\u001B[49m\u001B[43m)\u001B[49m\n\u001B[0;32m    301\u001B[0m \u001B[38;5;28;01mfor\u001B[39;00m pump_name, pump \u001B[38;5;129;01min\u001B[39;00m wn\u001B[38;5;241m.\u001B[39mpumps():\n\u001B[0;32m    302\u001B[0m     start_node \u001B[38;5;241m=\u001B[39m pump\u001B[38;5;241m.\u001B[39mstart_node_name\n",
      "File \u001B[1;32m~\\anaconda3\\lib\\site-packages\\pandas\\core\\frame.py:636\u001B[0m, in \u001B[0;36mDataFrame.__init__\u001B[1;34m(self, data, index, columns, dtype, copy)\u001B[0m\n\u001B[0;32m    630\u001B[0m     mgr \u001B[38;5;241m=\u001B[39m \u001B[38;5;28mself\u001B[39m\u001B[38;5;241m.\u001B[39m_init_mgr(\n\u001B[0;32m    631\u001B[0m         data, axes\u001B[38;5;241m=\u001B[39m{\u001B[38;5;124m\"\u001B[39m\u001B[38;5;124mindex\u001B[39m\u001B[38;5;124m\"\u001B[39m: index, \u001B[38;5;124m\"\u001B[39m\u001B[38;5;124mcolumns\u001B[39m\u001B[38;5;124m\"\u001B[39m: columns}, dtype\u001B[38;5;241m=\u001B[39mdtype, copy\u001B[38;5;241m=\u001B[39mcopy\n\u001B[0;32m    632\u001B[0m     )\n\u001B[0;32m    634\u001B[0m \u001B[38;5;28;01melif\u001B[39;00m \u001B[38;5;28misinstance\u001B[39m(data, \u001B[38;5;28mdict\u001B[39m):\n\u001B[0;32m    635\u001B[0m     \u001B[38;5;66;03m# GH#38939 de facto copy defaults to False only in non-dict cases\u001B[39;00m\n\u001B[1;32m--> 636\u001B[0m     mgr \u001B[38;5;241m=\u001B[39m \u001B[43mdict_to_mgr\u001B[49m\u001B[43m(\u001B[49m\u001B[43mdata\u001B[49m\u001B[43m,\u001B[49m\u001B[43m \u001B[49m\u001B[43mindex\u001B[49m\u001B[43m,\u001B[49m\u001B[43m \u001B[49m\u001B[43mcolumns\u001B[49m\u001B[43m,\u001B[49m\u001B[43m \u001B[49m\u001B[43mdtype\u001B[49m\u001B[38;5;241;43m=\u001B[39;49m\u001B[43mdtype\u001B[49m\u001B[43m,\u001B[49m\u001B[43m \u001B[49m\u001B[43mcopy\u001B[49m\u001B[38;5;241;43m=\u001B[39;49m\u001B[43mcopy\u001B[49m\u001B[43m,\u001B[49m\u001B[43m \u001B[49m\u001B[43mtyp\u001B[49m\u001B[38;5;241;43m=\u001B[39;49m\u001B[43mmanager\u001B[49m\u001B[43m)\u001B[49m\n\u001B[0;32m    637\u001B[0m \u001B[38;5;28;01melif\u001B[39;00m \u001B[38;5;28misinstance\u001B[39m(data, ma\u001B[38;5;241m.\u001B[39mMaskedArray):\n\u001B[0;32m    638\u001B[0m     \u001B[38;5;28;01mimport\u001B[39;00m \u001B[38;5;21;01mnumpy\u001B[39;00m\u001B[38;5;21;01m.\u001B[39;00m\u001B[38;5;21;01mma\u001B[39;00m\u001B[38;5;21;01m.\u001B[39;00m\u001B[38;5;21;01mmrecords\u001B[39;00m \u001B[38;5;28;01mas\u001B[39;00m \u001B[38;5;21;01mmrecords\u001B[39;00m\n",
      "File \u001B[1;32m~\\anaconda3\\lib\\site-packages\\pandas\\core\\internals\\construction.py:475\u001B[0m, in \u001B[0;36mdict_to_mgr\u001B[1;34m(data, index, columns, dtype, typ, copy)\u001B[0m\n\u001B[0;32m    472\u001B[0m         \u001B[38;5;28;01melse\u001B[39;00m:\n\u001B[0;32m    473\u001B[0m             \u001B[38;5;66;03m# GH#45369\u001B[39;00m\n\u001B[0;32m    474\u001B[0m             rhs \u001B[38;5;241m=\u001B[39m [val\u001B[38;5;241m.\u001B[39mcopy() \u001B[38;5;28;01mfor\u001B[39;00m _ \u001B[38;5;129;01min\u001B[39;00m \u001B[38;5;28mrange\u001B[39m(nmissing)]\n\u001B[1;32m--> 475\u001B[0m         arrays\u001B[38;5;241m.\u001B[39mloc[missing] \u001B[38;5;241m=\u001B[39m rhs\n\u001B[0;32m    477\u001B[0m arrays \u001B[38;5;241m=\u001B[39m \u001B[38;5;28mlist\u001B[39m(arrays)\n\u001B[0;32m    478\u001B[0m columns \u001B[38;5;241m=\u001B[39m ensure_index(columns)\n",
      "File \u001B[1;32m~\\anaconda3\\lib\\site-packages\\pandas\\core\\indexing.py:716\u001B[0m, in \u001B[0;36m_LocationIndexer.__setitem__\u001B[1;34m(self, key, value)\u001B[0m\n\u001B[0;32m    713\u001B[0m \u001B[38;5;28mself\u001B[39m\u001B[38;5;241m.\u001B[39m_has_valid_setitem_indexer(key)\n\u001B[0;32m    715\u001B[0m iloc \u001B[38;5;241m=\u001B[39m \u001B[38;5;28mself\u001B[39m \u001B[38;5;28;01mif\u001B[39;00m \u001B[38;5;28mself\u001B[39m\u001B[38;5;241m.\u001B[39mname \u001B[38;5;241m==\u001B[39m \u001B[38;5;124m\"\u001B[39m\u001B[38;5;124miloc\u001B[39m\u001B[38;5;124m\"\u001B[39m \u001B[38;5;28;01melse\u001B[39;00m \u001B[38;5;28mself\u001B[39m\u001B[38;5;241m.\u001B[39mobj\u001B[38;5;241m.\u001B[39miloc\n\u001B[1;32m--> 716\u001B[0m \u001B[43miloc\u001B[49m\u001B[38;5;241;43m.\u001B[39;49m\u001B[43m_setitem_with_indexer\u001B[49m\u001B[43m(\u001B[49m\u001B[43mindexer\u001B[49m\u001B[43m,\u001B[49m\u001B[43m \u001B[49m\u001B[43mvalue\u001B[49m\u001B[43m,\u001B[49m\u001B[43m \u001B[49m\u001B[38;5;28;43mself\u001B[39;49m\u001B[38;5;241;43m.\u001B[39;49m\u001B[43mname\u001B[49m\u001B[43m)\u001B[49m\n",
      "File \u001B[1;32m~\\anaconda3\\lib\\site-packages\\pandas\\core\\indexing.py:1690\u001B[0m, in \u001B[0;36m_iLocIndexer._setitem_with_indexer\u001B[1;34m(self, indexer, value, name)\u001B[0m\n\u001B[0;32m   1688\u001B[0m     \u001B[38;5;28mself\u001B[39m\u001B[38;5;241m.\u001B[39m_setitem_with_indexer_split_path(indexer, value, name)\n\u001B[0;32m   1689\u001B[0m \u001B[38;5;28;01melse\u001B[39;00m:\n\u001B[1;32m-> 1690\u001B[0m     \u001B[38;5;28;43mself\u001B[39;49m\u001B[38;5;241;43m.\u001B[39;49m\u001B[43m_setitem_single_block\u001B[49m\u001B[43m(\u001B[49m\u001B[43mindexer\u001B[49m\u001B[43m,\u001B[49m\u001B[43m \u001B[49m\u001B[43mvalue\u001B[49m\u001B[43m,\u001B[49m\u001B[43m \u001B[49m\u001B[43mname\u001B[49m\u001B[43m)\u001B[49m\n",
      "File \u001B[1;32m~\\anaconda3\\lib\\site-packages\\pandas\\core\\indexing.py:1938\u001B[0m, in \u001B[0;36m_iLocIndexer._setitem_single_block\u001B[1;34m(self, indexer, value, name)\u001B[0m\n\u001B[0;32m   1935\u001B[0m \u001B[38;5;28mself\u001B[39m\u001B[38;5;241m.\u001B[39mobj\u001B[38;5;241m.\u001B[39m_check_is_chained_assignment_possible()\n\u001B[0;32m   1937\u001B[0m \u001B[38;5;66;03m# actually do the set\u001B[39;00m\n\u001B[1;32m-> 1938\u001B[0m \u001B[38;5;28mself\u001B[39m\u001B[38;5;241m.\u001B[39mobj\u001B[38;5;241m.\u001B[39m_mgr \u001B[38;5;241m=\u001B[39m \u001B[38;5;28;43mself\u001B[39;49m\u001B[38;5;241;43m.\u001B[39;49m\u001B[43mobj\u001B[49m\u001B[38;5;241;43m.\u001B[39;49m\u001B[43m_mgr\u001B[49m\u001B[38;5;241;43m.\u001B[39;49m\u001B[43msetitem\u001B[49m\u001B[43m(\u001B[49m\u001B[43mindexer\u001B[49m\u001B[38;5;241;43m=\u001B[39;49m\u001B[43mindexer\u001B[49m\u001B[43m,\u001B[49m\u001B[43m \u001B[49m\u001B[43mvalue\u001B[49m\u001B[38;5;241;43m=\u001B[39;49m\u001B[43mvalue\u001B[49m\u001B[43m)\u001B[49m\n\u001B[0;32m   1939\u001B[0m \u001B[38;5;28mself\u001B[39m\u001B[38;5;241m.\u001B[39mobj\u001B[38;5;241m.\u001B[39m_maybe_update_cacher(clear\u001B[38;5;241m=\u001B[39m\u001B[38;5;28;01mTrue\u001B[39;00m, inplace\u001B[38;5;241m=\u001B[39m\u001B[38;5;28;01mTrue\u001B[39;00m)\n",
      "File \u001B[1;32m~\\anaconda3\\lib\\site-packages\\pandas\\core\\internals\\managers.py:337\u001B[0m, in \u001B[0;36mBaseBlockManager.setitem\u001B[1;34m(self, indexer, value)\u001B[0m\n\u001B[0;32m    331\u001B[0m \u001B[38;5;28;01mdef\u001B[39;00m \u001B[38;5;21msetitem\u001B[39m(\u001B[38;5;28mself\u001B[39m: T, indexer, value) \u001B[38;5;241m-\u001B[39m\u001B[38;5;241m>\u001B[39m T:\n\u001B[0;32m    332\u001B[0m \u001B[38;5;250m    \u001B[39m\u001B[38;5;124;03m\"\"\"\u001B[39;00m\n\u001B[0;32m    333\u001B[0m \u001B[38;5;124;03m    Set values with indexer.\u001B[39;00m\n\u001B[0;32m    334\u001B[0m \n\u001B[0;32m    335\u001B[0m \u001B[38;5;124;03m    For SingleBlockManager, this backs s[indexer] = value\u001B[39;00m\n\u001B[0;32m    336\u001B[0m \u001B[38;5;124;03m    \"\"\"\u001B[39;00m\n\u001B[1;32m--> 337\u001B[0m     \u001B[38;5;28;01mreturn\u001B[39;00m \u001B[38;5;28;43mself\u001B[39;49m\u001B[38;5;241;43m.\u001B[39;49m\u001B[43mapply\u001B[49m\u001B[43m(\u001B[49m\u001B[38;5;124;43m\"\u001B[39;49m\u001B[38;5;124;43msetitem\u001B[39;49m\u001B[38;5;124;43m\"\u001B[39;49m\u001B[43m,\u001B[49m\u001B[43m \u001B[49m\u001B[43mindexer\u001B[49m\u001B[38;5;241;43m=\u001B[39;49m\u001B[43mindexer\u001B[49m\u001B[43m,\u001B[49m\u001B[43m \u001B[49m\u001B[43mvalue\u001B[49m\u001B[38;5;241;43m=\u001B[39;49m\u001B[43mvalue\u001B[49m\u001B[43m)\u001B[49m\n",
      "File \u001B[1;32m~\\anaconda3\\lib\\site-packages\\pandas\\core\\internals\\managers.py:304\u001B[0m, in \u001B[0;36mBaseBlockManager.apply\u001B[1;34m(self, f, align_keys, ignore_failures, **kwargs)\u001B[0m\n\u001B[0;32m    302\u001B[0m         applied \u001B[38;5;241m=\u001B[39m b\u001B[38;5;241m.\u001B[39mapply(f, \u001B[38;5;241m*\u001B[39m\u001B[38;5;241m*\u001B[39mkwargs)\n\u001B[0;32m    303\u001B[0m     \u001B[38;5;28;01melse\u001B[39;00m:\n\u001B[1;32m--> 304\u001B[0m         applied \u001B[38;5;241m=\u001B[39m \u001B[38;5;28mgetattr\u001B[39m(b, f)(\u001B[38;5;241m*\u001B[39m\u001B[38;5;241m*\u001B[39mkwargs)\n\u001B[0;32m    305\u001B[0m \u001B[38;5;28;01mexcept\u001B[39;00m (\u001B[38;5;167;01mTypeError\u001B[39;00m, \u001B[38;5;167;01mNotImplementedError\u001B[39;00m):\n\u001B[0;32m    306\u001B[0m     \u001B[38;5;28;01mif\u001B[39;00m \u001B[38;5;129;01mnot\u001B[39;00m ignore_failures:\n",
      "File \u001B[1;32m~\\anaconda3\\lib\\site-packages\\pandas\\core\\internals\\blocks.py:959\u001B[0m, in \u001B[0;36mBlock.setitem\u001B[1;34m(self, indexer, value)\u001B[0m\n\u001B[0;32m    957\u001B[0m \u001B[38;5;28;01melse\u001B[39;00m:\n\u001B[0;32m    958\u001B[0m     value \u001B[38;5;241m=\u001B[39m setitem_datetimelike_compat(values, \u001B[38;5;28mlen\u001B[39m(values[indexer]), value)\n\u001B[1;32m--> 959\u001B[0m     values[indexer] \u001B[38;5;241m=\u001B[39m value\n\u001B[0;32m    961\u001B[0m \u001B[38;5;28;01mreturn\u001B[39;00m \u001B[38;5;28mself\u001B[39m\n",
      "\u001B[1;31mKeyboardInterrupt\u001B[0m: "
     ]
    }
   ],
   "source": [
    "algorithm = NSGA2(pop_size=100,\n",
    "                  sampling=BinaryRandomSampling(),\n",
    "                  # crossover=TwoPointCrossover(),\n",
    "                  mutation=BitflipMutation(),\n",
    "                  eliminate_duplicates=True)\n",
    "\n",
    "termination = get_termination(\"n_gen\", 10)\n",
    "\n",
    "res = minimize(problem,\n",
    "               algorithm,\n",
    "               termination,\n",
    "               seed=1,\n",
    "               verbose=True)\n"
   ],
   "metadata": {
    "collapsed": false,
    "ExecuteTime": {
     "end_time": "2023-12-07T09:18:00.734940700Z",
     "start_time": "2023-12-07T09:15:59.206904Z"
    }
   }
  },
  {
   "cell_type": "code",
   "execution_count": null,
   "outputs": [],
   "source": [
    "print(\"Best solution found: %s\" % res.X.astype(int))\n",
    "print(\"Function value: %s\" % res.F)\n",
    "print(\"Constraint violation: %s\" % res.CV)"
   ],
   "metadata": {
    "collapsed": false,
    "ExecuteTime": {
     "start_time": "2023-12-07T09:18:00.734940700Z"
    }
   }
  },
  {
   "cell_type": "code",
   "execution_count": null,
   "outputs": [],
   "source": [],
   "metadata": {
    "collapsed": false,
    "ExecuteTime": {
     "end_time": "2023-12-07T09:18:00.748677200Z",
     "start_time": "2023-12-07T09:18:00.738194100Z"
    }
   }
  }
 ],
 "metadata": {
  "kernelspec": {
   "display_name": "Python 3",
   "language": "python",
   "name": "python3"
  },
  "language_info": {
   "codemirror_mode": {
    "name": "ipython",
    "version": 2
   },
   "file_extension": ".py",
   "mimetype": "text/x-python",
   "name": "python",
   "nbconvert_exporter": "python",
   "pygments_lexer": "ipython2",
   "version": "2.7.6"
  }
 },
 "nbformat": 4,
 "nbformat_minor": 0
}
