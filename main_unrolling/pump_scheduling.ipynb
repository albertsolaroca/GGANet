{
 "cells": [
  {
   "cell_type": "code",
   "execution_count": 1,
   "metadata": {
    "collapsed": true,
    "ExecuteTime": {
     "end_time": "2023-12-18T16:22:40.460976300Z",
     "start_time": "2023-12-18T16:22:34.736114400Z"
    }
   },
   "outputs": [],
   "source": [
    "from matplotlib import pyplot as plt\n",
    "import pysimdeum\n",
    "\n",
    "import wntr\n",
    "import time\n",
    "from pump_scheduling.objective_function import calculate_objective_function, calculate_objective_function_mm, run_WNTR_model, run_metamodel\n",
    "import numpy as np"
   ]
  },
  {
   "cell_type": "markdown",
   "source": [
    "# Optimizing pump schedule function\n",
    "\n",
    "### For optimization of pumps to work the pump pattern ID needs to be 'pump_' + the pump name\n",
    "### Pattern Values are then assigned in order "
   ],
   "metadata": {
    "collapsed": false
   }
  },
  {
   "cell_type": "code",
   "execution_count": 2,
   "outputs": [],
   "source": [
    "def optimize_pump_schedule_WNTR(network_file, new_pump_pattern_values):\n",
    "    \n",
    "    # Pre-set electricity pattern values to calculate cost\n",
    "    electricity_pattern_values = [0.065, 0.06, 0.045, 0.047, 0.049, 0.07, 0.085, 0.09, 0.14, 0.19, 0.1, 0.11, 0.125, 0.095, 0.085, 0.08, 0.087, 0.087, 0.09, 0.09, 0.083, 0.18, 0.06, 0.04] \n",
    "    # in $/kWh\n",
    "    #https://www.researchgate.net/publication/238041923_A_mixed_integer_linear_formulation_for_microgrid_economic_scheduling/figures\n",
    "\n",
    "    # Run the model with the pump pattern values specified\n",
    "    output = run_WNTR_model(network_file, new_pump_pattern_values, electricity_pattern_values)\n",
    "    \n",
    "    # Calculate the objective function, which is the total energy, cost and minimum pressure per node during the run\n",
    "    \n",
    "    results = calculate_objective_function(output['wn'], output['result'])\n",
    "    \n",
    "    total_energy = results[0]\n",
    "    total_cost = results[1]\n",
    "    nodal_pressures = results[2]\n",
    "    minimum_pressure_required = [5 for i in range(len(nodal_pressures))]\n",
    "    \n",
    "    pressure_surplus = [-nodal_pressures[j] + minimum_pressure_required[j] for j in range(len(nodal_pressures))]\n",
    "\n",
    "    return [total_energy, total_cost], pressure_surplus\n",
    "\n",
    "def optimize_pump_schedule_metamodel(network_file, new_pump_pattern_values):\n",
    "    \n",
    "    # Pre-set electricity pattern values to calculate cost\n",
    "    electricity_pattern_values = [0.065, 0.06, 0.045, 0.047, 0.049, 0.07, 0.085, 0.09, 0.14, 0.19, 0.1, 0.11, 0.125, 0.095, 0.085, 0.08, 0.087, 0.087, 0.09, 0.09, 0.083, 0.18, 0.06, 0.04] \n",
    "    # in $/kWh\n",
    "    #https://www.researchgate.net/publication/238041923_A_mixed_integer_linear_formulation_for_microgrid_economic_scheduling/figures\n",
    "\n",
    "    # Run the model with the pump pattern values specified\n",
    "    output, node_idx, pumps_idx, names = run_metamodel(network_file, new_pump_pattern_values)\n",
    "    print(output.shape)\n",
    "    # Calculate the objective function, which is the total energy, cost and minimum pressure per node during the run\n",
    "    \n",
    "    total_energy, total_cost, nodal_pressures = calculate_objective_function_mm(network_file, output, node_idx, names)\n",
    "  \n",
    "    minimum_pressure_required = [5 for i in range(len(nodal_pressures))]\n",
    "    \n",
    "    pressure_surplus = [-nodal_pressures[j] + minimum_pressure_required[j] for j in range(len(nodal_pressures))]\n",
    "\n",
    "    return [total_energy, total_cost], pressure_surplus"
   ],
   "metadata": {
    "collapsed": false,
    "ExecuteTime": {
     "end_time": "2023-12-18T16:22:55.178703100Z",
     "start_time": "2023-12-18T16:22:55.162897200Z"
    }
   }
  },
  {
   "cell_type": "code",
   "execution_count": 3,
   "outputs": [
    {
     "name": "stdout",
     "output_type": "stream",
     "text": [
      "\n",
      "Working with FOS_pump_sched_flow_single\n"
     ]
    },
    {
     "ename": "NameError",
     "evalue": "name 'metamodel' is not defined",
     "output_type": "error",
     "traceback": [
      "\u001B[1;31m---------------------------------------------------------------------------\u001B[0m",
      "\u001B[1;31mNameError\u001B[0m                                 Traceback (most recent call last)",
      "Cell \u001B[1;32mIn[3], line 2\u001B[0m\n\u001B[0;32m      1\u001B[0m \u001B[38;5;66;03m# optimize_pump_schedule_WNTR('../data_generation/networks/FOS_pump_sched_flow.inp', [[1]*24])\u001B[39;00m\n\u001B[1;32m----> 2\u001B[0m \u001B[43moptimize_pump_schedule_metamodel\u001B[49m\u001B[43m(\u001B[49m\u001B[38;5;124;43m'\u001B[39;49m\u001B[38;5;124;43mFOS_pump_sched_flow_single\u001B[39;49m\u001B[38;5;124;43m'\u001B[39;49m\u001B[43m,\u001B[49m\u001B[43m \u001B[49m\u001B[43m[\u001B[49m\u001B[43m[\u001B[49m\u001B[38;5;241;43m1\u001B[39;49m\u001B[43m]\u001B[49m\u001B[38;5;241;43m*\u001B[39;49m\u001B[38;5;241;43m24\u001B[39;49m\u001B[43m]\u001B[49m\u001B[43m)\u001B[49m\n",
      "Cell \u001B[1;32mIn[2], line 32\u001B[0m, in \u001B[0;36moptimize_pump_schedule_metamodel\u001B[1;34m(network_file, new_pump_pattern_values)\u001B[0m\n\u001B[0;32m     27\u001B[0m electricity_pattern_values \u001B[38;5;241m=\u001B[39m [\u001B[38;5;241m0.065\u001B[39m, \u001B[38;5;241m0.06\u001B[39m, \u001B[38;5;241m0.045\u001B[39m, \u001B[38;5;241m0.047\u001B[39m, \u001B[38;5;241m0.049\u001B[39m, \u001B[38;5;241m0.07\u001B[39m, \u001B[38;5;241m0.085\u001B[39m, \u001B[38;5;241m0.09\u001B[39m, \u001B[38;5;241m0.14\u001B[39m, \u001B[38;5;241m0.19\u001B[39m, \u001B[38;5;241m0.1\u001B[39m, \u001B[38;5;241m0.11\u001B[39m, \u001B[38;5;241m0.125\u001B[39m, \u001B[38;5;241m0.095\u001B[39m, \u001B[38;5;241m0.085\u001B[39m, \u001B[38;5;241m0.08\u001B[39m, \u001B[38;5;241m0.087\u001B[39m, \u001B[38;5;241m0.087\u001B[39m, \u001B[38;5;241m0.09\u001B[39m, \u001B[38;5;241m0.09\u001B[39m, \u001B[38;5;241m0.083\u001B[39m, \u001B[38;5;241m0.18\u001B[39m, \u001B[38;5;241m0.06\u001B[39m, \u001B[38;5;241m0.04\u001B[39m] \n\u001B[0;32m     28\u001B[0m \u001B[38;5;66;03m# in $/kWh\u001B[39;00m\n\u001B[0;32m     29\u001B[0m \u001B[38;5;66;03m#https://www.researchgate.net/publication/238041923_A_mixed_integer_linear_formulation_for_microgrid_economic_scheduling/figures\u001B[39;00m\n\u001B[0;32m     30\u001B[0m \n\u001B[0;32m     31\u001B[0m \u001B[38;5;66;03m# Run the model with the pump pattern values specified\u001B[39;00m\n\u001B[1;32m---> 32\u001B[0m output, node_idx, pumps_idx, names \u001B[38;5;241m=\u001B[39m \u001B[43mrun_metamodel\u001B[49m\u001B[43m(\u001B[49m\u001B[43mnetwork_file\u001B[49m\u001B[43m,\u001B[49m\u001B[43m \u001B[49m\u001B[43mnew_pump_pattern_values\u001B[49m\u001B[43m)\u001B[49m\n\u001B[0;32m     33\u001B[0m \u001B[38;5;28mprint\u001B[39m(output\u001B[38;5;241m.\u001B[39mshape)\n\u001B[0;32m     34\u001B[0m \u001B[38;5;66;03m# Calculate the objective function, which is the total energy, cost and minimum pressure per node during the run\u001B[39;00m\n",
      "File \u001B[1;32mC:\\Uni\\Thesis\\Albert\\GGNet\\pump_scheduling\\objective_function.py:205\u001B[0m, in \u001B[0;36mrun_metamodel\u001B[1;34m(network_name, new_pump_pattern_values)\u001B[0m\n\u001B[0;32m    202\u001B[0m one_sample[indices[\u001B[38;5;124m'\u001B[39m\u001B[38;5;124mpump_schedules\u001B[39m\u001B[38;5;124m'\u001B[39m]] \u001B[38;5;241m=\u001B[39m torch\u001B[38;5;241m.\u001B[39mtensor(new_pump_pattern_values)\n\u001B[0;32m    203\u001B[0m one_sample \u001B[38;5;241m=\u001B[39m one_sample\u001B[38;5;241m.\u001B[39munsqueeze(\u001B[38;5;241m0\u001B[39m)\n\u001B[1;32m--> 205\u001B[0m mm \u001B[38;5;241m=\u001B[39m \u001B[43mmetamodel\u001B[49m\u001B[38;5;241m.\u001B[39mMyMetamodel()\n\u001B[0;32m    206\u001B[0m prediction \u001B[38;5;241m=\u001B[39m mm\u001B[38;5;241m.\u001B[39mpredict(one_sample)\n\u001B[0;32m    207\u001B[0m pred_formatted \u001B[38;5;241m=\u001B[39m prediction\u001B[38;5;241m.\u001B[39msqueeze()\u001B[38;5;241m.\u001B[39mreshape(\u001B[38;5;241m-\u001B[39m\u001B[38;5;241m1\u001B[39m, \u001B[38;5;241m1\u001B[39m)\n",
      "\u001B[1;31mNameError\u001B[0m: name 'metamodel' is not defined"
     ]
    }
   ],
   "source": [
    "# optimize_pump_schedule_WNTR('../data_generation/networks/FOS_pump_sched_flow.inp', [[1]*24])\n",
    "optimize_pump_schedule_metamodel('FOS_pump_sched_flow_single', [[1]*24])"
   ],
   "metadata": {
    "collapsed": false,
    "ExecuteTime": {
     "end_time": "2023-12-18T16:22:57.349984400Z",
     "start_time": "2023-12-18T16:22:55.917681300Z"
    }
   }
  },
  {
   "cell_type": "markdown",
   "source": [
    "## Working networks"
   ],
   "metadata": {
    "collapsed": false
   }
  },
  {
   "cell_type": "markdown",
   "source": [
    "| Network name                       | Pump List | Pump Pattern List |\n",
    "|------------------------------------|-----------|-------------------|\n",
    "| Net1_modified                      | 9         | Plong             |\n",
    "| Anytown_revised_continuous_pumppat | P78       | PUMP              |\n",
    "| Custom_net                         | 5         | P5                |"
   ],
   "metadata": {
    "collapsed": false
   }
  },
  {
   "cell_type": "code",
   "execution_count": null,
   "outputs": [],
   "source": [
    "from pymoo.core.problem import ElementwiseProblem\n",
    "from pymoo.algorithms.soo.nonconvex.ga import GA\n",
    "from pymoo.problems import get_problem\n",
    "from pymoo.termination import get_termination\n",
    "from pymoo.optimize import minimize\n",
    "from pymoo.operators.mutation.bitflip import BitflipMutation\n",
    "from pymoo.operators.crossover.pntx import TwoPointCrossover\n",
    "from pymoo.algorithms.moo.nsga2 import NSGA2\n",
    "\n",
    "\n",
    "from pymoo.operators.sampling.rnd import BinaryRandomSampling\n",
    "\n",
    "\n",
    "class SchedulePump(ElementwiseProblem):\n",
    "\n",
    "    def __init__(self, network_file, n_var=24, n_ieq_constr=36):\n",
    "        super().__init__(n_var=n_var,\n",
    "                         n_obj=2,\n",
    "                         n_ieq_constr=n_ieq_constr,\n",
    "                         xl=0,\n",
    "                         xu=1,\n",
    "                         vtype=bool)\n",
    "        \n",
    "        self.network_file=network_file\n",
    "\n",
    "    def _evaluate(self, x, out, *args, **kwargs):\n",
    "        # Minimization function\n",
    "        evaluation = optimize_pump_schedule_WNTR(self.network_file, [x])\n",
    "        \n",
    "        # The objective of the function. Total energy to minimize\n",
    "        out[\"F\"] = [evaluation[0][0], evaluation[0][1]]\n",
    "        \n",
    "        # The constraints of the function, as in pressure violations per node\n",
    "        out[\"G\"] = evaluation[1]\n",
    "\n",
    "def make_problem(input_file):\n",
    "    wn = wntr.network.WaterNetworkModel(input_file)\n",
    "    time_discrete = int(wn.options.time.duration/wn.options.time.pattern_timestep)\n",
    "    junctions = len(wn.junction_name_list)\n",
    "    return SchedulePump(network_file=input_file, n_var=time_discrete, n_ieq_constr=junctions)\n",
    "\n",
    "\n",
    "problem = make_problem('../data_generation/networks/FOS_pump_sched_3_0.inp')"
   ],
   "metadata": {
    "collapsed": false,
    "ExecuteTime": {
     "end_time": "2023-12-18T16:19:37.389445500Z",
     "start_time": "2023-12-18T16:19:37.388442700Z"
    }
   }
  },
  {
   "cell_type": "code",
   "execution_count": null,
   "outputs": [],
   "source": [
    "algorithm = NSGA2(pop_size=100,\n",
    "                  sampling=BinaryRandomSampling(),\n",
    "                  # crossover=TwoPointCrossover(),\n",
    "                  mutation=BitflipMutation(),\n",
    "                  eliminate_duplicates=True)\n",
    "\n",
    "termination = get_termination(\"n_gen\", 10)\n",
    "\n",
    "res = minimize(problem,\n",
    "               algorithm,\n",
    "               termination,\n",
    "               seed=1,\n",
    "               verbose=True)\n"
   ],
   "metadata": {
    "collapsed": false,
    "ExecuteTime": {
     "start_time": "2023-12-18T16:19:37.391601Z"
    }
   }
  },
  {
   "cell_type": "code",
   "execution_count": null,
   "outputs": [],
   "source": [
    "print(\"Best solution found: %s\" % res.X.astype(int))\n",
    "print(\"Function value: %s\" % res.F)\n",
    "print(\"Constraint violation: %s\" % res.CV)"
   ],
   "metadata": {
    "collapsed": false,
    "ExecuteTime": {
     "end_time": "2023-12-18T16:19:37.396362Z",
     "start_time": "2023-12-18T16:19:37.393706700Z"
    }
   }
  },
  {
   "cell_type": "code",
   "execution_count": null,
   "outputs": [],
   "source": [],
   "metadata": {
    "collapsed": false,
    "ExecuteTime": {
     "start_time": "2023-12-18T16:19:37.394878400Z"
    }
   }
  }
 ],
 "metadata": {
  "kernelspec": {
   "display_name": "Python 3",
   "language": "python",
   "name": "python3"
  },
  "language_info": {
   "codemirror_mode": {
    "name": "ipython",
    "version": 2
   },
   "file_extension": ".py",
   "mimetype": "text/x-python",
   "name": "python",
   "nbconvert_exporter": "python",
   "pygments_lexer": "ipython2",
   "version": "2.7.6"
  }
 },
 "nbformat": 4,
 "nbformat_minor": 0
}
