{
 "cells": [
  {
   "cell_type": "markdown",
   "metadata": {},
   "source": [
    "## Imports"
   ]
  },
  {
   "cell_type": "code",
   "execution_count": 33,
   "metadata": {
    "ExecuteTime": {
     "end_time": "2023-10-04T09:04:49.735655500Z",
     "start_time": "2023-10-04T09:04:49.657521500Z"
    }
   },
   "outputs": [],
   "source": [
    "import pandas as pd\n",
    "import numpy as np\n",
    "import math\n",
    "from sklearn.model_selection import ParameterGrid\n",
    "from sklearn.metrics import r2_score\n",
    "\n",
    "import sys\n",
    "import pickle\n",
    "import wandb\n",
    "\n",
    "import torch\n",
    "import torch.optim as optim\n",
    "import torch_geometric\n",
    "from torch_geometric.utils import to_networkx\n",
    "import torch.nn as nn\n",
    "from torch.nn import Sequential, Linear\n",
    "import networkx as nx\n",
    "import wntr\n",
    "\n",
    "from utils.miscellaneous import read_config\n",
    "from utils.miscellaneous import create_folder_structure_MLPvsGNN\n",
    "from utils.miscellaneous import initalize_random_generators\n",
    "from utils.wandb_logger import log_wandb_data\n",
    "\n",
    "from training.train import training\n",
    "from training.test import testing\n",
    "\n",
    "from utils.visualization import plot_R2, plot_loss\n",
    "from matplotlib\timport pyplot as plt"
   ]
  },
  {
   "cell_type": "markdown",
   "metadata": {},
   "source": [
    "### Parse configuration file + initializations\n"
   ]
  },
  {
   "cell_type": "code",
   "execution_count": 34,
   "metadata": {
    "ExecuteTime": {
     "end_time": "2023-10-04T09:04:49.860178800Z",
     "start_time": "2023-10-04T09:04:49.673159500Z"
    }
   },
   "outputs": [
    {
     "name": "stdout",
     "output_type": "stream",
     "text": [
      "Creating folder: ./experiments/unrolling_WDN0181\n",
      "cpu\n"
     ]
    }
   ],
   "source": [
    "# read config files\n",
    "cfg = read_config(\"config_unrolling.yaml\")\n",
    "# create folder for result\n",
    "exp_name = cfg['exp_name']\n",
    "data_folder = cfg['data_folder']\n",
    "results_folder = create_folder_structure_MLPvsGNN(cfg, parent_folder='./experiments')\n",
    "\n",
    "\n",
    "all_wdn_names = cfg['networks']\n",
    "initalize_random_generators(cfg, count=0)\n",
    "\n",
    "# initialize pytorch device\n",
    "device = torch.device('cuda:0' if torch.cuda.is_available() else 'cpu')\n",
    "print(device)\n",
    "#torch.set_num_threads(12)"
   ]
  },
  {
   "cell_type": "code",
   "execution_count": 35,
   "metadata": {
    "ExecuteTime": {
     "end_time": "2023-10-04T09:04:49.860178800Z",
     "start_time": "2023-10-04T09:04:49.704426600Z"
    }
   },
   "outputs": [],
   "source": [
    "# TO DO: at the moment I am not using the parsed values for batch size and num_epochs ;\n",
    "# I am not using alpha as well because the loss has no \"smoothness\" penalty (yet)\n",
    "batch_size = cfg['trainParams']['batch_size']\n",
    "num_epochs = cfg['trainParams']['num_epochs']\n",
    "alpha = cfg['lossParams']['alpha']\n",
    "res_columns = ['train_loss', 'valid_loss','test_loss','max_train_loss', 'max_valid_loss','max_test_loss', 'min_train_loss', 'min_valid_loss','min_test_loss','r2_train', 'r2_valid',\n",
    "\t\t\t   'r2_test','total_params','total_time','test_time']"
   ]
  },
  {
   "cell_type": "markdown",
   "metadata": {},
   "source": [
    "# Functions"
   ]
  },
  {
   "cell_type": "code",
   "execution_count": 36,
   "metadata": {
    "ExecuteTime": {
     "end_time": "2023-10-04T09:04:49.860178800Z",
     "start_time": "2023-10-04T09:04:49.720058300Z"
    }
   },
   "outputs": [],
   "source": [
    "from sklearn.preprocessing import MinMaxScaler\n",
    "from sklearn.base import BaseEstimator,TransformerMixin\n",
    "\n",
    "class PowerLogTransformer(BaseEstimator,TransformerMixin):\n",
    "\tdef __init__(self,log_transform=False,power=4,reverse=True):\n",
    "\t\tif log_transform == True:\n",
    "\t\t\tself.log_transform = log_transform\n",
    "\t\t\tself.power = None\n",
    "\t\telse:\n",
    "\t\t\tself.power = power\n",
    "\t\t\tself.log_transform = None\n",
    "\t\tself.reverse=reverse\n",
    "\t\tself.max_ = None\n",
    "\t\tself.min_ = None\n",
    "\n",
    "\tdef fit(self,X,y=None):\n",
    "\t\tself.max_ = np.max(X)\n",
    "\t\tself.min_ = np.min(X)\n",
    "\t\treturn self\n",
    "\n",
    "\tdef transform(self,X):\n",
    "\t\tif self.log_transform==True:\n",
    "\t\t\tif self.reverse == True:\n",
    "\t\t\t\treturn np.log1p(self.max_-X)\n",
    "\t\t\telse:\n",
    "\t\t\t\treturn np.log1p(X-self.min_)\n",
    "\t\telse:\n",
    "\t\t\tif self.reverse == True:\n",
    "\t\t\t\treturn (self.max_-X)**(1/self.power )\n",
    "\t\t\telse:\n",
    "\t\t\t\treturn (X-self.min_)**(1/self.power )\n",
    "\n",
    "\tdef inverse_transform(self,X):\n",
    "\t\tif self.log_transform==True:\n",
    "\t\t\tif self.reverse == True:\n",
    "\t\t\t\treturn (self.max_ - np.exp(X))\n",
    "\t\t\telse:\n",
    "\t\t\t\treturn (np.exp(X) + self.min_)\n",
    "\t\telse:\n",
    "\t\t\tif self.reverse == True:\n",
    "\t\t\t\treturn (self.max_ - X**self.power )\n",
    "\t\t\telse:\n",
    "\t\t\t\treturn (X**self.power + self.min_)\n",
    "\n",
    "\n",
    "class GraphNormalizer:\n",
    "\tdef __init__(self, x_feat_names=['head', 'base_demand'],\n",
    "\t\t\t\t ea_feat_names=['diameter', 'length', 'roughness'], output='pressure'):\n",
    "\t\t# store\n",
    "\t\tself.x_feat_names = x_feat_names\n",
    "\t\tself.ea_feat_names = ea_feat_names\n",
    "\t\tself.output = output\n",
    "\n",
    "\t\t# create separate scaler for each feature (can be improved, e.g., you can fit a scaler for multiple columns)\n",
    "\t\tself.scalers = {}\n",
    "\t\tfor feat in self.x_feat_names:\n",
    "\t\t\tif feat == 'elevation':\n",
    "\t\t\t\tself.scalers[feat] = PowerLogTransformer(log_transform=True, reverse=False)\n",
    "\t\t\telse:\n",
    "\t\t\t\tself.scalers[feat] = MinMaxScaler()\n",
    "\t\tself.scalers[output] = PowerLogTransformer(log_transform=True, reverse=True)\n",
    "\t\tfor feat in self.ea_feat_names:\n",
    "\t\t\tif feat == 'length':\n",
    "\t\t\t\tself.scalers[feat] = PowerLogTransformer(log_transform=True, reverse=False)\n",
    "\t\t\telse:\n",
    "\t\t\t\tself.scalers[feat] = MinMaxScaler()\n",
    "\n",
    "\tdef fit(self, graphs):\n",
    "\t\t''' Fit the scalers on an array of x and ea features\n",
    "        '''\n",
    "\t\tx, y, ea = from_graphs_to_pandas(graphs)\n",
    "\t\t\n",
    "\t\tfor ix, feat in enumerate(self.x_feat_names):\n",
    "\t\t\tself.scalers[feat] = self.scalers[feat].fit(x[:, ix].reshape(-1, 1))\n",
    "\t\t\t\n",
    "\t\tself.scalers[self.output] = self.scalers[self.output].fit(y.reshape(-1, 1))\n",
    "\t\t\n",
    "\t\tfor ix, feat in enumerate(self.ea_feat_names):\n",
    "\t\t\tself.scalers[feat] = self.scalers[feat].fit(ea[:, ix].reshape(-1, 1))\n",
    "\t\t\t\n",
    "\t\treturn self\n",
    "\n",
    "\tdef transform(self, graph):\n",
    "\t\t''' Transform graph based on normalizer\n",
    "        '''\n",
    "\t\tgraph = graph.clone()\n",
    "\t\tfor ix, feat in enumerate(self.x_feat_names):\n",
    "\t\t\ttemp = graph.x[:, ix].numpy().reshape(-1, 1)\n",
    "\t\t\tgraph.x[:, ix] = torch.tensor(self.scalers[feat].transform(temp).reshape(-1))\n",
    "\t\tfor ix, feat in enumerate(self.ea_feat_names):\n",
    "\t\t\ttemp = graph.edge_attr[:, ix].numpy().reshape(-1, 1)\n",
    "\t\t\tgraph.edge_attr[:, ix] = torch.tensor(self.scalers[feat].transform(temp).reshape(-1))\n",
    "\t\t\n",
    "\t\tif isinstance(graph.y, list):\n",
    "\t\t\ttransformed_y = []\n",
    "\t\t\tfor i, el in enumerate(graph.y):\n",
    "\t\t\t\ttransformed_y.append(torch.tensor(self.scalers[self.output].transform(graph.y[i].numpy().reshape(-1, 1)).reshape(-1)))\n",
    "\t\t\tgraph.y = transformed_y\n",
    "\t\telse:\n",
    "\t\t\tgraph.y = torch.tensor(self.scalers[self.output].transform(graph.y.numpy().reshape(-1, 1)).reshape(-1))\n",
    "\t\treturn graph\n",
    "\n",
    "\tdef inverse_transform(self, graph):\n",
    "\t\t''' Perform inverse transformation to return original features\n",
    "        '''\n",
    "\t\tgraph = graph.clone()\n",
    "\t\tfor ix, feat in enumerate(self.x_feat_names):\n",
    "\t\t\ttemp = graph.x[:, ix].numpy().reshape(-1, 1)\n",
    "\t\t\tgraph.x[:, ix] = torch.tensor(self.scalers[feat].inverse_transform(temp).reshape(-1))\n",
    "\t\tfor ix, feat in enumerate(self.ea_feat_names):\n",
    "\t\t\ttemp = graph.edge_attr[:, ix].numpy().reshape(-1, 1)\n",
    "\t\t\tgraph.edge_attr[:, ix] = torch.tensor(self.scalers[feat].inverse_transform(temp).reshape(-1))\n",
    "\t\tgraph.y = torch.tensor(self.scalers[self.output].inverse_transform(graph.y.numpy().reshape(-1, 1)).reshape(-1))\n",
    "\t\treturn graph\n",
    "\n",
    "\tdef transform_array(self, z, feat_name):\n",
    "\t\t'''\n",
    "            This is for MLP dataset; it can be done better (the entire thing, from raw data to datasets)\n",
    "        '''\n",
    "\t\treturn torch.tensor(self.scalers[feat_name].transform(z).reshape(-1))\n",
    "\n",
    "\tdef inverse_transform_array(self, z, feat_name):\n",
    "\t\t'''\n",
    "            This is for MLP dataset; it can be done better (the entire thing, from raw data to datasets)\n",
    "        '''\n",
    "\t\treturn torch.tensor(self.scalers[feat_name].inverse_transform(z).reshape(-1))\n",
    "\n",
    "def from_graphs_to_pandas(graphs):\n",
    "\tx = []\n",
    "\ty = []\n",
    "\tea = []\n",
    "\tfor i, graph in enumerate(graphs):\n",
    "\t\tx.append(graph.x.numpy())\n",
    "\t\t\n",
    "\t\tif isinstance(graph.y, list):\n",
    "\t\t\t\n",
    "\t\t\ty.append(np.concatenate(graph.y, axis=0))\n",
    "\t\telse:\n",
    "\t\t\ty.append(graph.y.numpy())\n",
    "\n",
    "\t\tea.append(graph.edge_attr.numpy())\n",
    "\t\n",
    "\treturn np.concatenate(x, axis=0), np.concatenate(y, axis=0), np.concatenate(ea, axis=0)\n"
   ]
  },
  {
   "cell_type": "code",
   "execution_count": 37,
   "metadata": {
    "ExecuteTime": {
     "end_time": "2023-10-04T09:04:49.860178800Z",
     "start_time": "2023-10-04T09:04:49.766931Z"
    }
   },
   "outputs": [],
   "source": [
    "# constant indexes for node and edge features\n",
    "HEAD_INDEX = 0 # Elevation + base head + initial level\n",
    "BASEDEMAND_INDEX = 1 \n",
    "TYPE_INDEX = 2 \n",
    "NODE_DIAMETER_INDEX = 3 # Needed for tanks\n",
    "LEVEL_INDEX = 4 # Needed for tanks\n",
    "DIAMETER_INDEX = 0 \n",
    "LENGTH_INDEX = 1 \n",
    "ROUGHNESS_INDEX = 2 \n",
    "FLOW_INDEX = 3 \n",
    "\n",
    "def load_raw_dataset(wdn_name, data_folder):\n",
    "\t'''\n",
    "\tLoad tra/val/data for a water distribution network datasets\n",
    "\t-------\n",
    "\twdn_name : string\n",
    "\t\tprefix of pickle files to open\n",
    "\tdata_folder : string\n",
    "\t\tpath to datasets\n",
    "\t'''\n",
    "\n",
    "\tdata_tra = pickle.load(open(f'{data_folder}/train/{wdn_name}.p', \"rb\"))\n",
    "\tdata_val = pickle.load(open(f'{data_folder}/valid/{wdn_name}.p', \"rb\"))\n",
    "\tdata_tst = pickle.load(open(f'{data_folder}/test/{wdn_name}.p', \"rb\"))\n",
    "\n",
    "\treturn data_tra, data_val, data_tst\n",
    "\n",
    "def create_dataset(database, normalizer=None, output='pressure'):\n",
    "\t'''\n",
    "\tCreates working datasets dataset from the pickle databases\n",
    "\t------\n",
    "\tdatabase : list\n",
    "\t\teach element in the list is a pickle file containing Data objects\n",
    "\tnormalization: dict\n",
    "\t\tnormalize the dataset using mean and std\n",
    "\t'''\n",
    "\n",
    "\tgraphs = []\n",
    "\n",
    "\tfor i in database:\n",
    "\t\t\n",
    "\t\tgraph = torch_geometric.data.Data()\n",
    "\n",
    "\t\t# Node attributes\n",
    "\t\t# min_elevation = min(i.elevation[i.type_1H == 0])\n",
    "\t\t\n",
    "\t\t# The head below is junctions plus reservoirs (plus tanks when implemented)\n",
    "\t\thead = i.pressure + i.base_head + i.elevation + i.initial_level\n",
    "\t\t# type_1H is equal to 1 when the node is a reservoir and 2 when it's a tank\n",
    "\t\t\n",
    "\t\t# We want to make the tuple that constructs a node of any type\n",
    "\t\tgraph.x = torch.stack((i.elevation + i.base_head + i.initial_level, i.base_demand, i.type_1H, i.node_diameter), dim=1).float()\n",
    "\t\t# graph.x = torch.stack((i.elevation + i.base_head, i.base_demand, i.type_1H), dim=1).float()\n",
    "\n",
    "\t\t# Position and ID\n",
    "\t\tgraph.pos = i.pos\n",
    "\t\tgraph.ID = i.ID\n",
    "\n",
    "\t\t# Edge index (Adjacency matrix)\n",
    "\t\tgraph.edge_index = i.edge_index\n",
    "\n",
    "\t\t# Edge attributes\n",
    "\t\tdiameter = i.diameter\n",
    "\t\tlength = i.length\n",
    "\t\troughness = i.roughness\n",
    "\t\tgraph.edge_attr = torch.stack((diameter, length, roughness), dim=1).float()\n",
    "\n",
    "\t\t# If the length of the shape of pressure was 2 then it means that the simulation was continuous\n",
    "\t\tpress_shape = i.pressure.shape\n",
    "\t\tif len(press_shape) == 2:\n",
    "\t\t\tgraph.y = []\n",
    "\t\t\tfor time_step in range(press_shape[0]):\n",
    "\t\t\t\t# Also appending tanks to the output since their pressures also need to be predicted like any other node\n",
    "\t\t\t\t# The code below actually appends everything that isn't a reservoir\n",
    "\t\t\t\t# Make below statement check if type_1H == 0 or 2 instead of != 1\n",
    "\t\t\t\tgraph.y.append(i.pressure[time_step][[(i.type_1H == 0) | (i.type_1H == 2)]].reshape(-1, 1))\n",
    "\t\telse:\n",
    "\t\t\t# Graph output (head)\n",
    "\t\t\tif output == 'head':\n",
    "\t\t\t\tgraph.y  = head[i.type_1H == 0].reshape(-1, 1)\n",
    "\t\t\telse:\n",
    "\t\t\t\tgraph.y = i.pressure[i.type_1H == 0].reshape(-1, 1)\n",
    "\t\t# normalization\n",
    "\t\tif normalizer is not None:\n",
    "\t\t\tgraph = normalizer.transform(graph)\n",
    "\n",
    "\t\tgraphs.append(graph)\n",
    "\t\t\n",
    "\tA12 = nx.incidence_matrix(to_networkx(graphs[0]), oriented=True).toarray().transpose()\n",
    "\treturn graphs, A12\n",
    "\n",
    "def create_dataset_MLP_from_graphs(graphs, features=['nodal_demands', 'base_heads','diameter','roughness','length', 'nodal_diameters'],no_res_out=True):\n",
    "\n",
    "\t# index edges to avoid duplicates: this considers all graphs to be UNDIRECTED!\n",
    "\tix_edge = graphs[0].edge_index.numpy().T\n",
    "\tix_edge = (ix_edge[:, 0] < ix_edge[:, 1])\n",
    "\n",
    "\t# position of reservoirs, and tanks\n",
    "\t# reservoir type is 1, tank is 2\n",
    "\tix_junct = graphs[0].x[:,TYPE_INDEX].numpy()==0\n",
    "\tix_res = graphs[0].x[:,TYPE_INDEX].numpy()==1\n",
    "\tix_tank = graphs[0].x[:,TYPE_INDEX].numpy()==2\n",
    "\tindices = {}\n",
    "\tprev_feature = None\n",
    "\tfor ix_feat, feature in enumerate(features):\n",
    "\t\tfor ix_item, item in enumerate(graphs):\n",
    "\t\t\tif feature == 'diameter':\n",
    "\t\t\t\tx_ = item.edge_attr[ix_edge,DIAMETER_INDEX]\n",
    "\t\t\telif feature == 'roughness':\n",
    "\t\t\t\t# remove reservoirs\n",
    "\t\t\t\tx_ = item.edge_attr[ix_edge,ROUGHNESS_INDEX]\n",
    "\t\t\telif feature == 'length':\n",
    "\t\t\t\t# remove reservoirs\n",
    "\t\t\t\tx_ = item.edge_attr[ix_edge,LENGTH_INDEX]\n",
    "\t\t\telif feature == 'nodal_demands':\n",
    "\t\t\t\t# remove reservoirs\n",
    "\t\t\t\tx_ = item.x[ix_junct,BASEDEMAND_INDEX]\n",
    "\t\t\telif feature == 'nodal_diameters':\n",
    "\t\t\t\t# Only get diameters for \n",
    "\t\t\t\tx_ = item.x[ix_tank,NODE_DIAMETER_INDEX]\n",
    "\t\t\telif feature == 'base_heads':\n",
    "\t\t\t\t# filter below on ix_res or ix_tank\n",
    "\t\t\t\tix_res_or_tank = np.logical_or(ix_res, ix_tank)\n",
    "\t\t\t\tx_ = item.x[ix_res_or_tank,HEAD_INDEX]\n",
    "\t\t\telif feature == 'tank_level':\n",
    "\t\t\t\tx_ = item.x[ix_tank,LEVEL_INDEX]\t\n",
    "\t\t\telse:\n",
    "\t\t\t\traise ValueError(f'Feature {feature} not supported.')\n",
    "\t\t\t\n",
    "\t\t\tif ix_item == 0:\n",
    "\t\t\t\tx = x_\n",
    "\t\t\telse:\n",
    "\t\t\t\tx = torch.cat((x, x_), dim=0)\n",
    "\t\t\n",
    "\t\n",
    "\t\tif ix_feat == 0:\n",
    "\t\t\tX = x.reshape(len(graphs), -1)\n",
    "\t\telse:\n",
    "\t\t\tX = torch.cat((X, x.reshape(len(graphs), -1)), dim=1)\n",
    "\t\t\n",
    "\t\tif prev_feature:\n",
    "\t\t\tindices[feature] = slice(indices[prev_feature].stop, X.shape[1], 1)\n",
    "\t\telse:\n",
    "\t\t\tindices[feature] = slice(0, X.shape[1], 1)\n",
    "\t\t\n",
    "\t\tprev_feature = feature\n",
    "\t\n",
    "\tfor ix_item, item in enumerate(graphs):\n",
    "\t\t# remove reservoirs from y as well\n",
    "\t\tif ix_item == 0:\n",
    "\t\t\tif no_res_out:\n",
    "\t\t\t\tif isinstance(item.y, list):\n",
    "\t\t\t\t\ty = torch.stack(item.y).unsqueeze(0).expand(1, -1, -1)\n",
    "\t\t\t\telse:\n",
    "\t\t\t\t\ty = item.y\n",
    "\t\t\telse:\n",
    "\t\t\t\ty = item.y[ix_junct]\n",
    "\t\t\t\n",
    "\t\telse:\n",
    "\t\t\tif no_res_out:\n",
    "\t\t\t\tif isinstance(item.y, list):\n",
    "\t\t\t\t\ty = torch.cat((y, torch.stack(item.y).unsqueeze(0).expand(1, -1, -1)), dim=0)\n",
    "\t\t\t\telse:\n",
    "\t\t\t\t\ty = torch.cat((y, item.y), dim=0)\n",
    "\t\t\telse:\n",
    "\t\t\t\ty = torch.cat((y, item.y[ix_junct]), dim=0)\n",
    "\t\t\t\t\n",
    "\t\n",
    "\t# If the shape of y is 1D then it means that the simulation was single period and should be turned to 2D according to the amount of graphs, if 3D then it was continuous\n",
    "\tif len(y.shape) == 1:\n",
    "\t\ty = y.reshape(len(graphs), -1)\n",
    "\t# SOMEWHERE HERE THE SEQUENCE LENGTH NEEDS TO BE ADJUSTED\n",
    "\treturn torch.utils.data.TensorDataset(X, y), X.shape[1], indices\n",
    "\n",
    "def create_incidence_matrices(graphs,incidence_matrix):\n",
    "\n",
    "\t# position of reservoirs\n",
    "\n",
    "\tix_junct = graphs[0].x[:,TYPE_INDEX].numpy()==0\n",
    "\tix_edge = graphs[0].edge_index.numpy().T\n",
    "\tix_edge = (ix_edge[:, 0] < ix_edge[:, 1])\n",
    "\tincidence_matrix = incidence_matrix[ix_edge,:]\n",
    "\t# The A12 incidence matrix is definitely only junctions, but should the A10 include tanks?\n",
    "\tA10 = incidence_matrix[:, ~ix_junct]\n",
    "\tA12 = incidence_matrix[:, ix_junct]\n",
    "\tA12[np.where(A10 == 1),:] *= -1\n",
    "\tA10[np.where(A10 == 1),:] *= -1\n",
    "\treturn A10, A12"
   ]
  },
  {
   "cell_type": "markdown",
   "metadata": {},
   "source": [
    "## Models\n",
    "I will be Creating different models as follows:\n",
    "\n",
    "* A simple LSTM\n",
    "* An unrolled version of Heads and Flows, without static variables\n",
    "* An unrolled version with Heads, Flows and static variables\n"
   ]
  },
  {
   "cell_type": "code",
   "execution_count": 38,
   "metadata": {
    "ExecuteTime": {
     "end_time": "2023-10-04T09:04:49.860178800Z",
     "start_time": "2023-10-04T09:04:49.782526100Z"
    }
   },
   "outputs": [],
   "source": [
    "class MLP(nn.Module):\n",
    "\tdef __init__(self, num_outputs, hid_channels, indices, num_layers=6):\n",
    "\t\tsuper(MLP, self).__init__()\n",
    "\t\ttorch.manual_seed(42)\n",
    "\t\tself.hid_channels = hid_channels\n",
    "\t\tself.indices = indices\n",
    "\t\t\n",
    "\t\tself.total_input_length = indices[list(indices.keys())[-1]].stop\n",
    "\t\t\n",
    "\t\tlayers = [Linear(self.total_input_length, hid_channels),\n",
    "\t\t\t\t  nn.ReLU()]\n",
    "\n",
    "\t\tfor l in range(num_layers-1):\n",
    "\t\t\tlayers += [Linear(hid_channels, hid_channels),\n",
    "\t\t\t\t\t   nn.ReLU()]\n",
    "\n",
    "\t\tlayers += [Linear(hid_channels, num_outputs)]\n",
    "\n",
    "\t\tself.main = nn.Sequential(*layers)\n",
    "\n",
    "\tdef forward(self, x, num_steps=1):\n",
    "\n",
    "\t\tx = self.main(x)\n",
    "\n",
    "\t\treturn x"
   ]
  },
  {
   "cell_type": "code",
   "execution_count": 39,
   "metadata": {
    "ExecuteTime": {
     "end_time": "2023-10-04T09:04:49.860178800Z",
     "start_time": "2023-10-04T09:04:49.798149800Z"
    }
   },
   "outputs": [],
   "source": [
    "import torch.nn.init as init\n",
    "# Define your LSTM model class\n",
    "class LSTM(nn.Module):\n",
    "\tdef __init__(self, num_outputs, hid_channels, indices, num_layers=2):\n",
    "\t\tsuper(LSTM, self).__init__()\n",
    "\t\tself.hidden_size = hid_channels\n",
    "\t\tself.num_layers = num_layers\n",
    "\t\tself.output_size = num_outputs\n",
    "\t\tself.input_size = indices[list(indices.keys())[-1]].stop\n",
    "\t\t\n",
    "\t\t# Define the LSTM layer\n",
    "\t\tself.lstm = nn.LSTM(self.input_size + self.output_size, self.hidden_size, num_layers, batch_first=True)\n",
    "\n",
    "\t\t\n",
    "\t\t# Define the output layer\n",
    "\t\tself.linear = nn.Linear(self.hidden_size, self.output_size)\n",
    "\t\t\t\n",
    "\n",
    "\tdef forward(self, static_input, num_steps=25):\n",
    "\t\t# Initialize hidden state with zeros\n",
    "\t\t# x = x.unsqueeze(1)\n",
    "\t\tbatch_size = static_input.size(0)\n",
    "\t\t\n",
    "\t\t# Initial hidden state and cell state\n",
    "\t\th0 = torch.zeros(self.num_layers, batch_size, self.hidden_size).to(static_input.device)\n",
    "\t\tc0 = torch.zeros(self.num_layers, batch_size, self.hidden_size).to(static_input.device)\n",
    "\t\t\n",
    "\t\t# Initialize the output sequence with zeros\n",
    "\t\toutput_seq = torch.zeros(batch_size, num_steps, self.output_size).to(static_input.device)\n",
    "\t\t\n",
    "\t\trepeated_static_input = static_input.unsqueeze(1).repeat(1, 1, 1)\n",
    "\t\t# print(repeated_static_input.shape, static_input.shape, output_seq.shape)\n",
    "\t\t # Iterate through time steps\n",
    "\t\tfor t in range(num_steps):\n",
    "\t\t\t# Concatenate static_input with the previous output (if available)\n",
    "\t\t\tif t == 0:\n",
    "\t\t\t\tlstm_input = torch.cat((repeated_static_input, output_seq[:, t:t+1, :]), dim=-1)\n",
    "\t\t\telse:\n",
    "\t\t\t\tlstm_input = torch.cat((repeated_static_input, output_seq[:, t-1:t, :]), dim=-1)\n",
    "\t\t\t\t\n",
    "\t\t\th0 = h0.to(torch.double)\n",
    "\t\t\tc0 = c0.to(torch.double)\n",
    "\t\t\t# Forward pass through the LSTM\n",
    "\t\t\tlstm_output, (h0, c0) = self.lstm(lstm_input, (h0, c0))\n",
    "\t\t\n",
    "\t\t\t# Predict the output for the current time step\n",
    "\t\t\t\n",
    "\t\t\toutput_seq[:, t:t+1, :] = self.linear(lstm_output)\n",
    "\t\t\n",
    "\t\treturn output_seq.to(torch.double)"
   ]
  },
  {
   "cell_type": "code",
   "execution_count": 40,
   "metadata": {
    "ExecuteTime": {
     "end_time": "2023-10-04T09:04:49.860178800Z",
     "start_time": "2023-10-04T09:04:49.832069300Z"
    }
   },
   "outputs": [],
   "source": [
    "class BaselineUnrolling(nn.Module):\n",
    "\tdef __init__(self,num_outputs, indices, num_blocks):\n",
    "\t\tsuper(BaselineUnrolling, self).__init__()\n",
    "\t\ttorch.manual_seed(42)\n",
    "\t\tself.indices = indices\n",
    "\t\tself.num_heads = indices['nodal_demands'].stop\n",
    "\t\tself.num_flows = indices['diameter'].stop-indices['diameter'].start\n",
    "\t\tself.num_base_heads = indices['base_heads'].stop-indices['base_heads'].start\n",
    "\t\tself.num_blocks = num_blocks\n",
    "\t\tself.n = 1.852\n",
    "\n",
    "\t\tself.device = torch.device('cuda:0' if torch.cuda.is_available() else 'cpu')\n",
    "\t\t\n",
    "\t\t\n",
    "\t\tself.hid_HF = nn.ModuleList()\n",
    "\t\tself.hid_FH = nn.ModuleList()\n",
    "\n",
    "\t\tfor i in range(num_blocks):\n",
    "\t\t\tself.hid_HF.append(Sequential(Linear(self.num_heads, self.num_flows), nn.ReLU()))\n",
    "\t\t\tself.hid_FH.append(Sequential(Linear(self.num_flows, self.num_heads), nn.ReLU()))\n",
    "\n",
    "\t\tself.out = Linear(self.num_heads, num_outputs)\n",
    "\n",
    "\tdef forward(self, x, num_steps=1):\n",
    "\t\t\n",
    "\t\ts, h0, d, c, l = torch.unsqueeze(x[:,self.indices['nodal_demands']],dim=2), \\\n",
    "\t\t\t\t\t\t\t   torch.unsqueeze(x[:,self.indices['base_heads']],dim=2), \\\n",
    "\t\t\t\t\t\t\t   x[:,self.indices['diameter']].double().view(-1,self.num_flows,1),\\\n",
    "\t\t\t\t\t\t\t\tx[:,self.indices['roughness']].double().view(-1,self.num_flows,1),\\\n",
    "\t\t\t\t\t\t\t\tx[:,self.indices['length']].double().view(-1,self.num_flows,1)\n",
    "\n",
    "\t\tq =  torch.mul(math.pi/4, torch.pow(d,2)).view(-1,self.num_flows)\n",
    "\n",
    "\t\t\n",
    "\t\tpredictions = []\n",
    "\t\tfor step in range(num_steps):\n",
    "\t\t\tfor j in range(self.num_blocks):\n",
    "\t\t\t\th = self.hid_FH[j](q)\n",
    "\t\t\t\tq = q - self.hid_HF[j](h)\n",
    "\n",
    "\n",
    "\t\t\t# Append the prediction for the current time step\n",
    "\t\t\tprediction = self.out(h)\n",
    "\t\t\tpredictions.append(prediction)\n",
    "\t\t\n",
    "\t\tif num_steps == 1:\n",
    "\t\t\treturn predictions[0]\n",
    "\t\t# Convert the list of predictions to a tensor\n",
    "\t\tpredictions = torch.stack(predictions, dim=1)\t\n",
    "\t\t\n",
    "\t\treturn predictions"
   ]
  },
  {
   "cell_type": "code",
   "execution_count": 41,
   "metadata": {
    "ExecuteTime": {
     "end_time": "2023-10-04T09:04:49.875820800Z",
     "start_time": "2023-10-04T09:04:49.844643800Z"
    }
   },
   "outputs": [],
   "source": [
    "class UnrollingModel(nn.Module):\n",
    "\tdef __init__(self, num_outputs, indices, num_blocks):\n",
    "\t\tsuper(UnrollingModel, self).__init__()\n",
    "\t\ttorch.manual_seed(42)\n",
    "\t\tself.indices = indices\t\t\n",
    "\t\tself.num_heads = indices['nodal_demands'].stop\n",
    "\t\tself.num_flows = indices['diameter'].stop-indices['diameter'].start\n",
    "\t\tself.num_base_heads = indices['base_heads'].stop-indices['base_heads'].start\n",
    "\t\tself.num_blocks = num_blocks\n",
    "\n",
    "\t\tself.hidq0_h = Linear(self.num_flows, self.num_heads) #4.14\n",
    "\t\tself.hidh0_q = Linear(self.num_base_heads, self.num_flows) #4.8\n",
    "\t\tself.hidh0_h = Linear(self.num_base_heads, self.num_heads) #4.7\n",
    "\t\tself.hids_q =  Linear(self.num_heads, self.num_flows) #4.6\n",
    "\t\t# Below makes no sense and is not included in any of the equations of the paper. \n",
    "\t\tself.hid_S = Sequential(Linear(indices['length'].stop - indices['diameter'].start, self.num_flows), nn.ReLU()) #???\n",
    "\n",
    "\t\tself.hid_hf = nn.ModuleList()\n",
    "\t\tself.hid_fh = nn.ModuleList()\n",
    "\t\tself.resq = nn.ModuleList()\n",
    "\t\tself.hidA_q = nn.ModuleList()\n",
    "\t\tself.hidD_h = nn.ModuleList()\n",
    "\n",
    "\t\tfor i in range(num_blocks):\n",
    "\t\t\tself.hid_hf.append(Sequential(Linear(self.num_heads,self.num_flows), nn.PReLU()))\n",
    "\t\t\tself.hid_fh.append(Sequential(Linear(self.num_flows, self.num_heads), nn.ReLU()))\n",
    "\t\t\tself.resq.append(Sequential(Linear(self.num_flows,self.num_heads), nn.ReLU()))\n",
    "\t\t\tself.hidA_q.append(Sequential(Linear(self.num_flows,self.num_flows)))\n",
    "\t\t\tself.hidD_h.append(Sequential(Linear(self.num_flows,self.num_heads), nn.ReLU()))\n",
    "\n",
    "\t\tself.out = Linear(self.num_flows, num_outputs)\n",
    "\n",
    "\tdef forward(self, x, num_steps=1):\n",
    "\t\t# s is indeed the demand and h0 is indeed the heads (perhaps different when tanks are added), but q is definitely not flows, it is actually diameter and then hid_S is roughness and length\n",
    "\t\ts, h0, d, edge_features = x[:,self.indices['nodal_demands']], x[:,self.indices['base_heads']], x[:,self.indices['diameter']], x[:,self.indices['diameter'].start:self.indices['length'].stop]\n",
    "\t\t\n",
    "\t\tres_h0_q, res_s_q, res_h0_h, res_S_q = self.hidh0_q(h0), self.hids_q(s), self.hidh0_h(h0), self.hid_S(edge_features)\n",
    "\t\t\n",
    "\t\tq =  torch.mul(math.pi/4, torch.pow(d,2))\n",
    "\t\tres_q_h = self.hidq0_h(q)\n",
    "\t\t\n",
    "\t\tpredictions = []\n",
    "\t\tfor step in range(num_steps):\n",
    "\t\t\tfor i in range(self.num_blocks):\n",
    "\t\n",
    "\t\t\t\tA_q = self.hidA_q[i](torch.mul(q, res_S_q)) # 4.17\n",
    "\t\t\t\tD_h = self.hidD_h[i](A_q) # 4.16\n",
    "\t\t\t\thid_x = torch.mul(A_q,torch.sum(torch.stack([q, res_s_q, res_h0_q]),dim=0)) # 4.18 (inside parentheses)\n",
    "\t\t\t\th = self.hid_fh[i](hid_x) # 4.18\n",
    "\t\t\t\thid_x = self.hid_hf[i](torch.mul(torch.sum(torch.stack([h,res_h0_h,res_q_h]),dim=0), D_h)) # 4.19 (inside parentheses)\n",
    "\t\t\t\tq = torch.sub(q,hid_x) # 4.19\n",
    "\t\t\t\tres_q_h = self.resq[i](q)\n",
    "\n",
    "\t\t\t# Append the prediction for the current time step\n",
    "\t\t\tprediction = self.out(q)\n",
    "\t\t\tpredictions.append(prediction)\n",
    "\t\t\n",
    "\t\tif num_steps == 1:\n",
    "\t\t\treturn predictions[0]\n",
    "\t\t# Convert the list of predictions to a tensor\n",
    "\t\tpredictions = torch.stack(predictions, dim=1)\t\n",
    "\t\t\n",
    "\t\treturn predictions"
   ]
  },
  {
   "cell_type": "markdown",
   "metadata": {},
   "source": [
    "## Running experiments"
   ]
  },
  {
   "cell_type": "code",
   "execution_count": 42,
   "outputs": [
    {
     "name": "stdout",
     "output_type": "stream",
     "text": [
      "\n",
      "Working with FOS_tank, network 1 of 1\n"
     ]
    },
    {
     "data": {
      "text/plain": "<IPython.core.display.HTML object>",
      "text/html": "Tracking run with wandb version 0.15.11"
     },
     "metadata": {},
     "output_type": "display_data"
    },
    {
     "data": {
      "text/plain": "<IPython.core.display.HTML object>",
      "text/html": "Run data is saved locally in <code>C:\\Uni\\Thesis\\Albert\\GGNet\\main_unrolling\\wandb\\run-20231004_110453-7a7rfovo</code>"
     },
     "metadata": {},
     "output_type": "display_data"
    },
    {
     "data": {
      "text/plain": "<IPython.core.display.HTML object>",
      "text/html": "Syncing run <strong><a href='https://wandb.ai/mertz/unrolling-epanet/runs/7a7rfovo' target=\"_blank\">expert-star-68</a></strong> to <a href='https://wandb.ai/mertz/unrolling-epanet' target=\"_blank\">Weights & Biases</a> (<a href='https://wandb.me/run' target=\"_blank\">docs</a>)<br/>"
     },
     "metadata": {},
     "output_type": "display_data"
    },
    {
     "data": {
      "text/plain": "<IPython.core.display.HTML object>",
      "text/html": " View project at <a href='https://wandb.ai/mertz/unrolling-epanet' target=\"_blank\">https://wandb.ai/mertz/unrolling-epanet</a>"
     },
     "metadata": {},
     "output_type": "display_data"
    },
    {
     "data": {
      "text/plain": "<IPython.core.display.HTML object>",
      "text/html": " View run at <a href='https://wandb.ai/mertz/unrolling-epanet/runs/7a7rfovo' target=\"_blank\">https://wandb.ai/mertz/unrolling-epanet/runs/7a7rfovo</a>"
     },
     "metadata": {},
     "output_type": "display_data"
    },
    {
     "name": "stdout",
     "output_type": "stream",
     "text": [
      "LSTM: training combination 1 of 1\n"
     ]
    },
    {
     "name": "stderr",
     "output_type": "stream",
     "text": [
      "100%|██████████| 10/10 [00:11<00:00,  1.19s/it]\n"
     ]
    }
   ],
   "source": [
    "\n",
    "for ix_wdn, wdn in enumerate(all_wdn_names):\n",
    "\tprint(f'\\nWorking with {wdn}, network {ix_wdn+1} of {len(all_wdn_names)}')\n",
    "\n",
    "\t# retrieve wntr data\n",
    "\ttra_database, val_database, tst_database = load_raw_dataset(wdn, data_folder)\n",
    "\t# reduce training data\n",
    "\t# tra_database = tra_database[:int(len(tra_database)*cfg['tra_prc'])]\n",
    "\tif cfg['tra_num'] < len(tra_database):\n",
    "\t\ttra_database = tra_database[:cfg['tra_num']]\n",
    "\n",
    "\t# remove PES anomaly\n",
    "\tif wdn == 'PES':\n",
    "\t\tif len(tra_database)>4468:\n",
    "\t\t\tdel tra_database[4468]\n",
    "\t\t\tprint('Removed PES anomaly')\n",
    "\t\t\tprint('Check',tra_database[4468].pressure.mean())\n",
    "\n",
    "\t# get GRAPH datasets    \n",
    "\t# later on we should change this and use normal scalers from scikit (something is off here)\n",
    "\ttra_dataset, A12_bar = create_dataset(tra_database)\n",
    "\t\n",
    "\tgn = GraphNormalizer()\n",
    "\tgn = gn.fit(tra_dataset)\n",
    "\t# The normalization messed with the 1H_type since we want unique IDs\n",
    "\ttra_dataset, _ = create_dataset(tra_database,normalizer=gn)\n",
    "\tval_dataset,_ = create_dataset(val_database,normalizer=gn)\n",
    "\ttst_dataset,_ = create_dataset(tst_database,normalizer=gn)\n",
    "\tnode_size, edge_size = tra_dataset[0].x.size(-1), tra_dataset[0].edge_attr.size(-1)\n",
    "\t# number of nodes\n",
    "\tn_nodes = (tra_database[0].type_1H == 0).numpy().sum() + (tra_database[0].type_1H == 2).numpy().sum() # remove reservoirs\n",
    "\t# dataloader\n",
    "\t# transform dataset for MLP\n",
    "\t# We begin with the MLP versions, when I want to add GNNs, check Riccardo's code\n",
    "\tA10,A12 = create_incidence_matrices(tra_dataset, A12_bar)\n",
    "\ttra_dataset_MLP, num_inputs, indices = create_dataset_MLP_from_graphs(tra_dataset)\n",
    "\tval_dataset_MLP = create_dataset_MLP_from_graphs(val_dataset)[0]\n",
    "\ttst_dataset_MLP = create_dataset_MLP_from_graphs(tst_dataset)[0]\n",
    "\ttra_loader = torch.utils.data.DataLoader(tra_dataset_MLP,\n",
    "\t\t\t\t\t\t\t\t\t\t\t batch_size=batch_size, shuffle=True, pin_memory=True)\n",
    "\tval_loader = torch.utils.data.DataLoader(val_dataset_MLP,\n",
    "\t\t\t\t\t\t\t\t\t\t\t batch_size=batch_size, shuffle=False, pin_memory=True)\n",
    "\ttst_loader = torch.utils.data.DataLoader(tst_dataset_MLP,\n",
    "\t\t\t\t\t\t\t\t\t\t\t batch_size=batch_size, shuffle=False, pin_memory=True)\n",
    "\t# loop through different algorithms\n",
    "\tfor algorithm in cfg['algorithms']:\n",
    "\t\t# Importing of configuration parameters\n",
    "\t\thyperParams = cfg['hyperParams'][algorithm]\n",
    "\t\tall_combinations = ParameterGrid(hyperParams)\n",
    "\n",
    "\n",
    "\t\t# create results dataframe\n",
    "\t\tresults_df = pd.DataFrame(list(all_combinations))\n",
    "\t\tresults_df = pd.concat([results_df,\n",
    "\t\t\t\t\t\t\t\tpd.DataFrame(index=np.arange(len(all_combinations)),\n",
    "\t\t\t\t\t\t\t\t\t\t  columns=list(res_columns))],axis=1)\n",
    "\n",
    "\t\tfor i, combination in enumerate(all_combinations):\n",
    "\t\t\twandb.init(project=\"unrolling-epanet\")\n",
    "\t\t\tprint(f'{algorithm}: training combination {i+1} of {len(all_combinations)}\\n')\n",
    "\t\t\tcombination['indices'] = indices\n",
    "\t\t\tcombination['num_outputs'] = n_nodes\n",
    "\t\t\t\n",
    "\t\t\t# model creation\n",
    "\t\t\tmodel = getattr(sys.modules[__name__], algorithm)(**combination).double().to(device)\n",
    "\t\t\t\n",
    "\t\t\t# get combination dictionary to determine how are indices made\n",
    "\t\t\t# print(\"Model\", model, combination) \n",
    "\t\t\t\n",
    "\t\t\ttotal_parameters = sum(p.numel() for p in model.parameters())\n",
    "\n",
    "\t\t\t# model optimizer\n",
    "\t\t\toptimizer = optim.Adam(params=model.parameters(),betas=(0.9, 0.999), **cfg['adamParams'])\n",
    "\n",
    "\t\t\t# training\n",
    "\t\t\tpatience = 10\n",
    "\t\t\tlr_rate = 2\n",
    "\t\t\tlr_epoch = 1000\n",
    "\t\t\ttrain_config = {\"Patience\": patience, \"Learning Rate Divisor\": lr_rate, \"LR Epoch Division\": lr_epoch}\n",
    "\t\t\tmodel, tra_losses, val_losses, elapsed_time = training(model, optimizer, tra_loader, val_loader,\n",
    "\t\t\t\t\t\t\t\t\t\t\t\t\t\t\t\t\tpatience=patience, report_freq=0, n_epochs=num_epochs,\n",
    "\t\t\t\t\t\t\t\t\t\t\t\t\t\t\t\t   alpha=alpha, lr_rate=lr_rate, lr_epoch=lr_epoch,\n",
    "\t\t\t\t\t\t\t\t\t\t\t\t\t\t\t   normalization=None, path = f'{results_folder}/{wdn}/{algorithm}/')\n",
    "\t\t\tloss_plot = plot_loss(tra_losses,val_losses,f'{results_folder}/{wdn}/{algorithm}/loss/{i}')\n",
    "\t\t\tR2_plot = plot_R2(model,val_loader,f'{results_folder}/{wdn}/{algorithm}/R2/{i}', normalization=gn)[1]\n",
    "\t\t\t# store training history and model\n",
    "\t\t\tpd.DataFrame(data = np.array([tra_losses, val_losses]).T).to_csv(\n",
    "\t\t\t\tf'{results_folder}/{wdn}/{algorithm}/hist/{i}.csv')\n",
    "\t\t\ttorch.save(model, f'{results_folder}/{wdn}/{algorithm}/models/{i}.csv')\n",
    "\n",
    "\t\t\t# compute and store predictions, compute r2 scores\n",
    "\t\t\tlosses = {}\n",
    "\t\t\tmax_losses = {}\n",
    "\t\t\tmin_losses = {}\n",
    "\t\t\tr2_scores = {}\n",
    "\t\t\tfor split, loader in zip(['training','validation','testing'],[tra_loader,val_loader,tst_loader]):\n",
    "\t\t\t\tlosses[split], max_losses[split], min_losses[split], pred, real, test_time = testing(model, loader, normalization=gn)\n",
    "\t\t\t\tr2_scores[split] = r2_score(real, pred)\n",
    "\t\t\t\tif i == 0:\n",
    "\t\t\t\t\tpd.DataFrame(data=real.reshape(-1,n_nodes)).to_csv(\n",
    "\t\t\t\t\t\tf'{results_folder}/{wdn}/{algorithm}/pred/{split}/real.csv') # save real obs\n",
    "\t\t\t\tpd.DataFrame(data=pred.reshape(-1,n_nodes)).to_csv(\n",
    "\t\t\t\t\tf'{results_folder}/{wdn}/{algorithm}/pred/{split}/{i}.csv')\n",
    "\t\t\t\n",
    "\t\t\t\n",
    "\t\t\tlog_wandb_data(combination, wdn, algorithm, len(tra_database), len(val_database), len(tst_database), cfg, train_config, loss_plot, R2_plot)\n",
    "\t\t\t# store results\n",
    "\t\t\tresults_df.loc[i,res_columns] = (losses['training'], losses['validation'], losses['testing'],\n",
    "\t\t\t\t\t\t\t\t\t\t\t max_losses['training'], max_losses['validation'], max_losses['testing'],\n",
    "\t\t\t\t\t\t\t\t\t\t\t min_losses['training'], min_losses['validation'], min_losses['testing'],\n",
    "\t\t\t\t\t\t\t\t\t\t\t r2_scores['training'], r2_scores['validation'], r2_scores['testing'],\n",
    "\t\t\t\t\t\t\t\t\t\t\t total_parameters, elapsed_time, test_time)\n",
    "\t\t\t\n",
    "\t\t\t\n",
    "\n",
    "\t\t\t\n",
    "\t\t# save graph normalizer\n",
    "\t\twith open(f'{results_folder}/{wdn}/{algorithm}/gn.pickle', 'wb') as handle:\n",
    "\t\t     pickle.dump(gn, handle, protocol=pickle.HIGHEST_PROTOCOL)\n",
    "\n",
    "\t\twith open(f'{results_folder}/{wdn}/{algorithm}/model.pickle', 'wb') as handle:\n",
    "\t\t\ttorch.save(model, handle)\n",
    "\t\tresults_df.to_csv(f'{results_folder}/{wdn}/{algorithm}/results_{algorithm}.csv')\n",
    "\t\t\n",
    "\t\t"
   ],
   "metadata": {
    "collapsed": false,
    "ExecuteTime": {
     "end_time": "2023-10-04T09:05:23.359835900Z",
     "start_time": "2023-10-04T09:04:49.860178800Z"
    }
   }
  },
  {
   "cell_type": "code",
   "execution_count": 43,
   "metadata": {
    "ExecuteTime": {
     "end_time": "2023-10-04T09:05:29.975950900Z",
     "start_time": "2023-10-04T09:05:23.359835900Z"
    }
   },
   "outputs": [
    {
     "data": {
      "application/vnd.plotly.v1+json": {
       "data": [
        {
         "hovertemplate": "%{text}",
         "marker": {
          "cmax": 1,
          "cmin": 0,
          "color": [
           2.583988904953003,
           2.526793956756592,
           2.439154624938965,
           2.3760159015655518,
           2.256784677505493,
           2.570408821105957,
           1.1444026313256472E-5,
           2.681053876876831,
           2.648191213607788,
           2.5076935291290283,
           2.469148635864258,
           2.3817195892333984,
           2.3216171264648438,
           2.3724403381347656,
           2.4521331787109375,
           2.518260955810547,
           2.610395908355713,
           2.502452850341797,
           2.4014511108398438,
           2.393580198287964,
           2.3909151554107666,
           2.4857804775238037,
           2.5092337131500244,
           2.7333967685699463,
           2.525956869125366,
           2.443455934524536,
           2.4856221675872803,
           2.625131607055664,
           2.540430784225464,
           2.5129551887512207,
           2.5258736610412598,
           2.510194778442383,
           2.545321464538574,
           2.55045223236084,
           2.606130838394165,
           2.6400132179260254,
           3.3357646465301514
          ],
          "colorbar": {
           "ticklabelposition": "outside",
           "x": -0.05
          },
          "colorscale": [
           [
            0.0,
            "rgb(255,255,217)"
           ],
           [
            0.125,
            "rgb(237,248,177)"
           ],
           [
            0.25,
            "rgb(199,233,180)"
           ],
           [
            0.375,
            "rgb(127,205,187)"
           ],
           [
            0.5,
            "rgb(65,182,196)"
           ],
           [
            0.625,
            "rgb(29,145,192)"
           ],
           [
            0.75,
            "rgb(34,94,168)"
           ],
           [
            0.875,
            "rgb(37,52,148)"
           ],
           [
            1.0,
            "rgb(8,29,88)"
           ]
          ],
          "line": {
           "color": "DarkSlateGrey",
           "width": 1
          },
          "showscale": true,
          "size": [
           2.583977460861206,
           2.526782512664795,
           2.439143180847168,
           2.376004457473755,
           2.2567732334136963,
           2.57039737701416,
           0.0,
           2.681042432785034,
           2.648179769515991,
           2.5076820850372314,
           2.469137191772461,
           2.3817081451416016,
           2.321605682373047,
           2.3724288940429688,
           2.4521217346191406,
           2.51824951171875,
           2.610384464263916,
           2.50244140625,
           2.401439666748047,
           2.393568754196167,
           2.3909037113189697,
           2.485769033432007,
           2.5092222690582275,
           2.7333853244781494,
           2.5259454250335693,
           2.4434444904327393,
           2.4856107234954834,
           2.625120162963867,
           2.540419340133667,
           2.512943744659424,
           2.525862216949463,
           2.510183334350586,
           2.5453100204467773,
           2.550440788269043,
           2.606119394302368,
           2.6400017738342285,
           3.3357532024383545
          ],
          "sizemin": 1,
          "sizeref": 1.6678823232650757
         },
         "mode": "markers",
         "name": "coordinates",
         "showlegend": false,
         "text": [
          "<b><br> Node ID: </b> 1 <br> <b>Value:</b> 2.58",
          "<b><br> Node ID: </b> 2 <br> <b>Value:</b> 2.53",
          "<b><br> Node ID: </b> 3 <br> <b>Value:</b> 2.44",
          "<b><br> Node ID: </b> 4 <br> <b>Value:</b> 2.38",
          "<b><br> Node ID: </b> 5 <br> <b>Value:</b> 2.26",
          "<b><br> Node ID: </b> 6 <br> <b>Value:</b> 2.57",
          "<b><br> Node ID: </b> 7 <br> <b>Value:</b> 0.00",
          "<b><br> Node ID: </b> 8 <br> <b>Value:</b> 2.68",
          "<b><br> Node ID: </b> 9 <br> <b>Value:</b> 2.65",
          "<b><br> Node ID: </b> 10 <br> <b>Value:</b> 2.51",
          "<b><br> Node ID: </b> 11 <br> <b>Value:</b> 2.47",
          "<b><br> Node ID: </b> 12 <br> <b>Value:</b> 2.38",
          "<b><br> Node ID: </b> 13 <br> <b>Value:</b> 2.32",
          "<b><br> Node ID: </b> 14 <br> <b>Value:</b> 2.37",
          "<b><br> Node ID: </b> 15 <br> <b>Value:</b> 2.45",
          "<b><br> Node ID: </b> 16 <br> <b>Value:</b> 2.52",
          "<b><br> Node ID: </b> 17 <br> <b>Value:</b> 2.61",
          "<b><br> Node ID: </b> 18 <br> <b>Value:</b> 2.50",
          "<b><br> Node ID: </b> 19 <br> <b>Value:</b> 2.40",
          "<b><br> Node ID: </b> 20 <br> <b>Value:</b> 2.39",
          "<b><br> Node ID: </b> 21 <br> <b>Value:</b> 2.39",
          "<b><br> Node ID: </b> 22 <br> <b>Value:</b> 2.49",
          "<b><br> Node ID: </b> 23 <br> <b>Value:</b> 2.51",
          "<b><br> Node ID: </b> 24 <br> <b>Value:</b> 2.73",
          "<b><br> Node ID: </b> 25 <br> <b>Value:</b> 2.53",
          "<b><br> Node ID: </b> 26 <br> <b>Value:</b> 2.44",
          "<b><br> Node ID: </b> 27 <br> <b>Value:</b> 2.49",
          "<b><br> Node ID: </b> 28 <br> <b>Value:</b> 2.63",
          "<b><br> Node ID: </b> 29 <br> <b>Value:</b> 2.54",
          "<b><br> Node ID: </b> 30 <br> <b>Value:</b> 2.51",
          "<b><br> Node ID: </b> 31 <br> <b>Value:</b> 2.53",
          "<b><br> Node ID: </b> 32 <br> <b>Value:</b> 2.51",
          "<b><br> Node ID: </b> 33 <br> <b>Value:</b> 2.55",
          "<b><br> Node ID: </b> 34 <br> <b>Value:</b> 2.55",
          "<b><br> Node ID: </b> 35 <br> <b>Value:</b> 2.61",
          "<b><br> Node ID: </b> 36 <br> <b>Value:</b> 2.64",
          "<b><br> Node ID: </b> 37 <br> <b>Value:</b> nan",
          "<b><br> Node ID: </b> 38 <br> <b>Value:</b> 3.34"
         ],
         "x": [
          7111.64990234375,
          5679.60986328125,
          4862.4599609375,
          2750.81005859375,
          1852.75,
          1974.1099853515625,
          1974.1099853515625,
          4235.43994140625,
          6411.81005859375,
          5412.6201171875,
          4510.52001953125,
          3033.97998046875,
          2301.780029296875,
          2944.97998046875,
          3786.409912109375,
          4830.10009765625,
          7099.509765625,
          5505.66015625,
          3563.919921875,
          3167.47998046875,
          2730.580078125,
          3511.330078125,
          4097.89990234375,
          3337.3798828125,
          4530.740234375,
          4215.2099609375,
          5194.169921875,
          5218.4501953125,
          5622.97998046875,
          5950.64990234375,
          6614.080078125,
          5380.259765625,
          6318.77001953125,
          6549.35009765625,
          6585.759765625,
          7152.10009765625,
          7669.89990234375,
          818.3510131835938
         ],
         "y": [
          7532.35986328125,
          9538.830078125,
          9538.830078125,
          9474.1103515625,
          8357.6103515625,
          6076.0498046875,
          5149.68017578125,
          5076.85986328125,
          5093.0400390625,
          7888.35009765625,
          8264.5595703125,
          9243.5302734375,
          8078.47998046875,
          7669.89990234375,
          7139.97021484375,
          6480.580078125,
          8438.509765625,
          8450.650390625,
          8839.0,
          7532.35986328125,
          7285.60009765625,
          6666.669921875,
          6286.41015625,
          5121.35986328125,
          6011.330078125,
          7783.169921875,
          7055.02001953125,
          5089.0,
          5999.18994140625,
          5796.93017578125,
          7621.35986328125,
          7544.5,
          7281.5498046875,
          7212.77978515625,
          6092.22998046875,
          6104.3701171875,
          7783.169921875,
          5080.23779296875
         ],
         "type": "scatter",
         "uid": "6658dc15-d8f4-4d7d-8c86-65309dbceb5f",
         "xaxis": "x",
         "yaxis": "y"
        },
        {
         "line": {
          "width": 3
         },
         "marker": {
          "color": "#00A6D6",
          "size": 4
         },
         "mode": "lines+markers",
         "name": "real",
         "x": [
          0,
          1,
          2,
          3,
          4,
          5,
          6,
          7,
          8,
          9,
          10,
          11,
          12,
          13,
          14,
          15,
          16,
          17,
          18,
          19,
          20,
          21,
          22,
          23
         ],
         "y": [
          2.583988904953003,
          2.5839953422546387,
          2.5839879512786865,
          2.5839874744415283,
          2.5839874744415283,
          2.583988904953003,
          2.5839931964874268,
          2.583988904953003,
          2.5839931964874268,
          2.5839931964874268,
          2.5839879512786865,
          2.5840065479278564,
          2.5839924812316895,
          2.5839943885803223,
          2.5839953422546387,
          2.5839874744415283,
          2.583988904953003,
          2.583988904953003,
          2.5840022563934326,
          2.5839953422546387,
          2.5839967727661133,
          2.5840015411376953,
          2.5839931964874268,
          2.5839931964874268
         ],
         "type": "scatter",
         "uid": "ebbcd3db-2575-4c68-bdbd-17ad6ea0f828",
         "xaxis": "x2",
         "yaxis": "y2"
        },
        {
         "line": {
          "width": 3
         },
         "marker": {
          "color": "#6F1D77",
          "size": 4
         },
         "mode": "lines+markers",
         "name": "Our model",
         "x": [
          0,
          1,
          2,
          3,
          4,
          5,
          6,
          7,
          8,
          9,
          10,
          11,
          12,
          13,
          14,
          15,
          16,
          17,
          18,
          19,
          20,
          21,
          22,
          23
         ],
         "y": [
          1.3490155935287476,
          2.2393603324890137,
          2.527233362197876,
          2.5997841358184814,
          2.6178882122039795,
          2.6229095458984375,
          2.6245522499084473,
          2.6252009868621826,
          2.6255064010620117,
          2.625671863555908,
          2.6257712841033936,
          2.6258351802825928,
          2.62587833404541,
          2.625908851623535,
          2.6259305477142334,
          2.625946521759033,
          2.6259584426879883,
          2.625967264175415,
          2.62597393989563,
          2.62597918510437,
          2.6259829998016357,
          2.625986099243164,
          2.625988483428955,
          2.625990390777588
         ],
         "type": "scatter",
         "uid": "2f3992ba-691a-470d-90c8-fa0f23f067e0",
         "xaxis": "x2",
         "yaxis": "y2"
        },
        {
         "hoverinfo": "none",
         "line": {
          "color": "#888",
          "width": 0.5
         },
         "mode": "lines",
         "showlegend": false,
         "x": [
          7111.64990234375,
          7099.509765625,
          null,
          7111.64990234375,
          6614.080078125,
          null,
          7111.64990234375,
          7152.10009765625,
          null,
          7111.64990234375,
          7669.89990234375,
          null,
          5679.60986328125,
          4862.4599609375,
          null,
          5679.60986328125,
          5505.66015625,
          null,
          5679.60986328125,
          7099.509765625,
          null,
          4862.4599609375,
          5679.60986328125,
          null,
          4862.4599609375,
          2750.81005859375,
          null,
          4862.4599609375,
          4510.52001953125,
          null,
          2750.81005859375,
          4862.4599609375,
          null,
          2750.81005859375,
          1852.75,
          null,
          2750.81005859375,
          3033.97998046875,
          null,
          1852.75,
          2750.81005859375,
          null,
          1852.75,
          1974.1099853515625,
          null,
          1852.75,
          2301.780029296875,
          null,
          1974.1099853515625,
          1852.75,
          null,
          1974.1099853515625,
          1974.1099853515625,
          null,
          1974.1099853515625,
          2730.580078125,
          null,
          1974.1099853515625,
          1974.1099853515625,
          null,
          1974.1099853515625,
          3337.3798828125,
          null,
          1974.1099853515625,
          3511.330078125,
          null,
          1974.1099853515625,
          818.3510131835938,
          null,
          4235.43994140625,
          5218.4501953125,
          null,
          4235.43994140625,
          3337.3798828125,
          null,
          4235.43994140625,
          4530.740234375,
          null,
          6411.81005859375,
          7152.10009765625,
          null,
          6411.81005859375,
          5218.4501953125,
          null,
          6411.81005859375,
          5950.64990234375,
          null,
          5412.6201171875,
          4510.52001953125,
          null,
          5412.6201171875,
          5380.259765625,
          null,
          5412.6201171875,
          5505.66015625,
          null,
          5412.6201171875,
          6614.080078125,
          null,
          4510.52001953125,
          4862.4599609375,
          null,
          4510.52001953125,
          5412.6201171875,
          null,
          4510.52001953125,
          3563.919921875,
          null,
          4510.52001953125,
          4215.2099609375,
          null,
          3033.97998046875,
          2750.81005859375,
          null,
          3033.97998046875,
          2301.780029296875,
          null,
          3033.97998046875,
          3563.919921875,
          null,
          2301.780029296875,
          1852.75,
          null,
          2301.780029296875,
          3033.97998046875,
          null,
          2301.780029296875,
          2944.97998046875,
          null,
          2944.97998046875,
          2301.780029296875,
          null,
          2944.97998046875,
          3167.47998046875,
          null,
          2944.97998046875,
          2730.580078125,
          null,
          3786.409912109375,
          3511.330078125,
          null,
          3786.409912109375,
          4830.10009765625,
          null,
          3786.409912109375,
          3167.47998046875,
          null,
          3786.409912109375,
          4215.2099609375,
          null,
          4830.10009765625,
          3786.409912109375,
          null,
          4830.10009765625,
          4530.740234375,
          null,
          4830.10009765625,
          5622.97998046875,
          null,
          4830.10009765625,
          5194.169921875,
          null,
          7099.509765625,
          7111.64990234375,
          null,
          7099.509765625,
          5679.60986328125,
          null,
          7099.509765625,
          5505.66015625,
          null,
          5505.66015625,
          5679.60986328125,
          null,
          5505.66015625,
          5412.6201171875,
          null,
          5505.66015625,
          7099.509765625,
          null,
          3563.919921875,
          4510.52001953125,
          null,
          3563.919921875,
          3033.97998046875,
          null,
          3563.919921875,
          3167.47998046875,
          null,
          3167.47998046875,
          2944.97998046875,
          null,
          3167.47998046875,
          3786.409912109375,
          null,
          3167.47998046875,
          3563.919921875,
          null,
          2730.580078125,
          1974.1099853515625,
          null,
          2730.580078125,
          2944.97998046875,
          null,
          2730.580078125,
          3511.330078125,
          null,
          3511.330078125,
          1974.1099853515625,
          null,
          3511.330078125,
          3786.409912109375,
          null,
          3511.330078125,
          2730.580078125,
          null,
          3511.330078125,
          4097.89990234375,
          null,
          4097.89990234375,
          3511.330078125,
          null,
          4097.89990234375,
          4530.740234375,
          null,
          4097.89990234375,
          3337.3798828125,
          null,
          3337.3798828125,
          1974.1099853515625,
          null,
          3337.3798828125,
          4235.43994140625,
          null,
          3337.3798828125,
          4097.89990234375,
          null,
          4530.740234375,
          4235.43994140625,
          null,
          4530.740234375,
          4830.10009765625,
          null,
          4530.740234375,
          4097.89990234375,
          null,
          4215.2099609375,
          4510.52001953125,
          null,
          4215.2099609375,
          3786.409912109375,
          null,
          4215.2099609375,
          5194.169921875,
          null,
          5194.169921875,
          4830.10009765625,
          null,
          5194.169921875,
          4215.2099609375,
          null,
          5194.169921875,
          5380.259765625,
          null,
          5218.4501953125,
          4235.43994140625,
          null,
          5218.4501953125,
          6411.81005859375,
          null,
          5218.4501953125,
          5622.97998046875,
          null,
          5622.97998046875,
          4830.10009765625,
          null,
          5622.97998046875,
          5218.4501953125,
          null,
          5622.97998046875,
          5950.64990234375,
          null,
          5622.97998046875,
          6318.77001953125,
          null,
          5950.64990234375,
          6411.81005859375,
          null,
          5950.64990234375,
          5622.97998046875,
          null,
          5950.64990234375,
          6585.759765625,
          null,
          6614.080078125,
          7111.64990234375,
          null,
          6614.080078125,
          5412.6201171875,
          null,
          6614.080078125,
          6549.35009765625,
          null,
          5380.259765625,
          5412.6201171875,
          null,
          5380.259765625,
          5194.169921875,
          null,
          5380.259765625,
          6318.77001953125,
          null,
          6318.77001953125,
          5622.97998046875,
          null,
          6318.77001953125,
          5380.259765625,
          null,
          6318.77001953125,
          6549.35009765625,
          null,
          6549.35009765625,
          6614.080078125,
          null,
          6549.35009765625,
          6318.77001953125,
          null,
          6549.35009765625,
          6585.759765625,
          null,
          6585.759765625,
          5950.64990234375,
          null,
          6585.759765625,
          6549.35009765625,
          null,
          6585.759765625,
          7152.10009765625,
          null,
          7152.10009765625,
          7111.64990234375,
          null,
          7152.10009765625,
          6411.81005859375,
          null,
          7152.10009765625,
          6585.759765625,
          null,
          7669.89990234375,
          7111.64990234375,
          null,
          818.3510131835938,
          1974.1099853515625,
          null
         ],
         "y": [
          7532.35986328125,
          8438.509765625,
          null,
          7532.35986328125,
          7621.35986328125,
          null,
          7532.35986328125,
          6104.3701171875,
          null,
          7532.35986328125,
          7783.169921875,
          null,
          9538.830078125,
          9538.830078125,
          null,
          9538.830078125,
          8450.650390625,
          null,
          9538.830078125,
          8438.509765625,
          null,
          9538.830078125,
          9538.830078125,
          null,
          9538.830078125,
          9474.1103515625,
          null,
          9538.830078125,
          8264.5595703125,
          null,
          9474.1103515625,
          9538.830078125,
          null,
          9474.1103515625,
          8357.6103515625,
          null,
          9474.1103515625,
          9243.5302734375,
          null,
          8357.6103515625,
          9474.1103515625,
          null,
          8357.6103515625,
          6076.0498046875,
          null,
          8357.6103515625,
          8078.47998046875,
          null,
          6076.0498046875,
          8357.6103515625,
          null,
          6076.0498046875,
          5149.68017578125,
          null,
          6076.0498046875,
          7285.60009765625,
          null,
          5149.68017578125,
          6076.0498046875,
          null,
          5149.68017578125,
          5121.35986328125,
          null,
          5149.68017578125,
          6666.669921875,
          null,
          5149.68017578125,
          5080.23779296875,
          null,
          5076.85986328125,
          5089.0,
          null,
          5076.85986328125,
          5121.35986328125,
          null,
          5076.85986328125,
          6011.330078125,
          null,
          5093.0400390625,
          6104.3701171875,
          null,
          5093.0400390625,
          5089.0,
          null,
          5093.0400390625,
          5796.93017578125,
          null,
          7888.35009765625,
          8264.5595703125,
          null,
          7888.35009765625,
          7544.5,
          null,
          7888.35009765625,
          8450.650390625,
          null,
          7888.35009765625,
          7621.35986328125,
          null,
          8264.5595703125,
          9538.830078125,
          null,
          8264.5595703125,
          7888.35009765625,
          null,
          8264.5595703125,
          8839.0,
          null,
          8264.5595703125,
          7783.169921875,
          null,
          9243.5302734375,
          9474.1103515625,
          null,
          9243.5302734375,
          8078.47998046875,
          null,
          9243.5302734375,
          8839.0,
          null,
          8078.47998046875,
          8357.6103515625,
          null,
          8078.47998046875,
          9243.5302734375,
          null,
          8078.47998046875,
          7669.89990234375,
          null,
          7669.89990234375,
          8078.47998046875,
          null,
          7669.89990234375,
          7532.35986328125,
          null,
          7669.89990234375,
          7285.60009765625,
          null,
          7139.97021484375,
          6666.669921875,
          null,
          7139.97021484375,
          6480.580078125,
          null,
          7139.97021484375,
          7532.35986328125,
          null,
          7139.97021484375,
          7783.169921875,
          null,
          6480.580078125,
          7139.97021484375,
          null,
          6480.580078125,
          6011.330078125,
          null,
          6480.580078125,
          5999.18994140625,
          null,
          6480.580078125,
          7055.02001953125,
          null,
          8438.509765625,
          7532.35986328125,
          null,
          8438.509765625,
          9538.830078125,
          null,
          8438.509765625,
          8450.650390625,
          null,
          8450.650390625,
          9538.830078125,
          null,
          8450.650390625,
          7888.35009765625,
          null,
          8450.650390625,
          8438.509765625,
          null,
          8839.0,
          8264.5595703125,
          null,
          8839.0,
          9243.5302734375,
          null,
          8839.0,
          7532.35986328125,
          null,
          7532.35986328125,
          7669.89990234375,
          null,
          7532.35986328125,
          7139.97021484375,
          null,
          7532.35986328125,
          8839.0,
          null,
          7285.60009765625,
          6076.0498046875,
          null,
          7285.60009765625,
          7669.89990234375,
          null,
          7285.60009765625,
          6666.669921875,
          null,
          6666.669921875,
          5149.68017578125,
          null,
          6666.669921875,
          7139.97021484375,
          null,
          6666.669921875,
          7285.60009765625,
          null,
          6666.669921875,
          6286.41015625,
          null,
          6286.41015625,
          6666.669921875,
          null,
          6286.41015625,
          6011.330078125,
          null,
          6286.41015625,
          5121.35986328125,
          null,
          5121.35986328125,
          5149.68017578125,
          null,
          5121.35986328125,
          5076.85986328125,
          null,
          5121.35986328125,
          6286.41015625,
          null,
          6011.330078125,
          5076.85986328125,
          null,
          6011.330078125,
          6480.580078125,
          null,
          6011.330078125,
          6286.41015625,
          null,
          7783.169921875,
          8264.5595703125,
          null,
          7783.169921875,
          7139.97021484375,
          null,
          7783.169921875,
          7055.02001953125,
          null,
          7055.02001953125,
          6480.580078125,
          null,
          7055.02001953125,
          7783.169921875,
          null,
          7055.02001953125,
          7544.5,
          null,
          5089.0,
          5076.85986328125,
          null,
          5089.0,
          5093.0400390625,
          null,
          5089.0,
          5999.18994140625,
          null,
          5999.18994140625,
          6480.580078125,
          null,
          5999.18994140625,
          5089.0,
          null,
          5999.18994140625,
          5796.93017578125,
          null,
          5999.18994140625,
          7281.5498046875,
          null,
          5796.93017578125,
          5093.0400390625,
          null,
          5796.93017578125,
          5999.18994140625,
          null,
          5796.93017578125,
          6092.22998046875,
          null,
          7621.35986328125,
          7532.35986328125,
          null,
          7621.35986328125,
          7888.35009765625,
          null,
          7621.35986328125,
          7212.77978515625,
          null,
          7544.5,
          7888.35009765625,
          null,
          7544.5,
          7055.02001953125,
          null,
          7544.5,
          7281.5498046875,
          null,
          7281.5498046875,
          5999.18994140625,
          null,
          7281.5498046875,
          7544.5,
          null,
          7281.5498046875,
          7212.77978515625,
          null,
          7212.77978515625,
          7621.35986328125,
          null,
          7212.77978515625,
          7281.5498046875,
          null,
          7212.77978515625,
          6092.22998046875,
          null,
          6092.22998046875,
          5796.93017578125,
          null,
          6092.22998046875,
          7212.77978515625,
          null,
          6092.22998046875,
          6104.3701171875,
          null,
          6104.3701171875,
          7532.35986328125,
          null,
          6104.3701171875,
          5093.0400390625,
          null,
          6104.3701171875,
          6092.22998046875,
          null,
          7783.169921875,
          7532.35986328125,
          null,
          5080.23779296875,
          5149.68017578125,
          null
         ],
         "type": "scatter",
         "uid": "e380e11f-b60a-42f6-815c-6e5823171650",
         "xaxis": "x",
         "yaxis": "y"
        },
        {
         "marker": {
          "color": "midnightblue",
          "line": {
           "width": 2
          },
          "size": 15,
          "symbol": "x-open"
         },
         "showlegend": false,
         "x": [
          7111.64990234375
         ],
         "y": [
          7532.35986328125
         ],
         "type": "scatter",
         "uid": "cf963aab-caeb-4864-8da9-583cf0a51a58",
         "xaxis": "x",
         "yaxis": "y"
        }
       ],
       "layout": {
        "annotations": [
         {
          "font": {
           "size": 16
          },
          "showarrow": false,
          "text": " ",
          "x": 0.14444444444444446,
          "xanchor": "center",
          "xref": "paper",
          "y": 1.0,
          "yanchor": "bottom",
          "yref": "paper"
         },
         {
          "font": {
           "size": 16
          },
          "showarrow": false,
          "text": "Comparison of hydraulic heads",
          "x": 0.6777777777777778,
          "xanchor": "center",
          "xref": "paper",
          "y": 1.0,
          "yanchor": "bottom",
          "yref": "paper"
         }
        ],
        "template": {
         "data": {
          "barpolar": [
           {
            "marker": {
             "line": {
              "color": "#E5ECF6",
              "width": 0.5
             },
             "pattern": {
              "fillmode": "overlay",
              "size": 10,
              "solidity": 0.2
             }
            },
            "type": "barpolar"
           }
          ],
          "bar": [
           {
            "error_x": {
             "color": "#2a3f5f"
            },
            "error_y": {
             "color": "#2a3f5f"
            },
            "marker": {
             "line": {
              "color": "#E5ECF6",
              "width": 0.5
             },
             "pattern": {
              "fillmode": "overlay",
              "size": 10,
              "solidity": 0.2
             }
            },
            "type": "bar"
           }
          ],
          "carpet": [
           {
            "aaxis": {
             "endlinecolor": "#2a3f5f",
             "gridcolor": "white",
             "linecolor": "white",
             "minorgridcolor": "white",
             "startlinecolor": "#2a3f5f"
            },
            "baxis": {
             "endlinecolor": "#2a3f5f",
             "gridcolor": "white",
             "linecolor": "white",
             "minorgridcolor": "white",
             "startlinecolor": "#2a3f5f"
            },
            "type": "carpet"
           }
          ],
          "choropleth": [
           {
            "colorbar": {
             "outlinewidth": 0,
             "ticks": ""
            },
            "type": "choropleth"
           }
          ],
          "contourcarpet": [
           {
            "colorbar": {
             "outlinewidth": 0,
             "ticks": ""
            },
            "type": "contourcarpet"
           }
          ],
          "contour": [
           {
            "colorbar": {
             "outlinewidth": 0,
             "ticks": ""
            },
            "colorscale": [
             [
              0.0,
              "#0d0887"
             ],
             [
              0.1111111111111111,
              "#46039f"
             ],
             [
              0.2222222222222222,
              "#7201a8"
             ],
             [
              0.3333333333333333,
              "#9c179e"
             ],
             [
              0.4444444444444444,
              "#bd3786"
             ],
             [
              0.5555555555555556,
              "#d8576b"
             ],
             [
              0.6666666666666666,
              "#ed7953"
             ],
             [
              0.7777777777777778,
              "#fb9f3a"
             ],
             [
              0.8888888888888888,
              "#fdca26"
             ],
             [
              1.0,
              "#f0f921"
             ]
            ],
            "type": "contour"
           }
          ],
          "heatmapgl": [
           {
            "colorbar": {
             "outlinewidth": 0,
             "ticks": ""
            },
            "colorscale": [
             [
              0.0,
              "#0d0887"
             ],
             [
              0.1111111111111111,
              "#46039f"
             ],
             [
              0.2222222222222222,
              "#7201a8"
             ],
             [
              0.3333333333333333,
              "#9c179e"
             ],
             [
              0.4444444444444444,
              "#bd3786"
             ],
             [
              0.5555555555555556,
              "#d8576b"
             ],
             [
              0.6666666666666666,
              "#ed7953"
             ],
             [
              0.7777777777777778,
              "#fb9f3a"
             ],
             [
              0.8888888888888888,
              "#fdca26"
             ],
             [
              1.0,
              "#f0f921"
             ]
            ],
            "type": "heatmapgl"
           }
          ],
          "heatmap": [
           {
            "colorbar": {
             "outlinewidth": 0,
             "ticks": ""
            },
            "colorscale": [
             [
              0.0,
              "#0d0887"
             ],
             [
              0.1111111111111111,
              "#46039f"
             ],
             [
              0.2222222222222222,
              "#7201a8"
             ],
             [
              0.3333333333333333,
              "#9c179e"
             ],
             [
              0.4444444444444444,
              "#bd3786"
             ],
             [
              0.5555555555555556,
              "#d8576b"
             ],
             [
              0.6666666666666666,
              "#ed7953"
             ],
             [
              0.7777777777777778,
              "#fb9f3a"
             ],
             [
              0.8888888888888888,
              "#fdca26"
             ],
             [
              1.0,
              "#f0f921"
             ]
            ],
            "type": "heatmap"
           }
          ],
          "histogram2dcontour": [
           {
            "colorbar": {
             "outlinewidth": 0,
             "ticks": ""
            },
            "colorscale": [
             [
              0.0,
              "#0d0887"
             ],
             [
              0.1111111111111111,
              "#46039f"
             ],
             [
              0.2222222222222222,
              "#7201a8"
             ],
             [
              0.3333333333333333,
              "#9c179e"
             ],
             [
              0.4444444444444444,
              "#bd3786"
             ],
             [
              0.5555555555555556,
              "#d8576b"
             ],
             [
              0.6666666666666666,
              "#ed7953"
             ],
             [
              0.7777777777777778,
              "#fb9f3a"
             ],
             [
              0.8888888888888888,
              "#fdca26"
             ],
             [
              1.0,
              "#f0f921"
             ]
            ],
            "type": "histogram2dcontour"
           }
          ],
          "histogram2d": [
           {
            "colorbar": {
             "outlinewidth": 0,
             "ticks": ""
            },
            "colorscale": [
             [
              0.0,
              "#0d0887"
             ],
             [
              0.1111111111111111,
              "#46039f"
             ],
             [
              0.2222222222222222,
              "#7201a8"
             ],
             [
              0.3333333333333333,
              "#9c179e"
             ],
             [
              0.4444444444444444,
              "#bd3786"
             ],
             [
              0.5555555555555556,
              "#d8576b"
             ],
             [
              0.6666666666666666,
              "#ed7953"
             ],
             [
              0.7777777777777778,
              "#fb9f3a"
             ],
             [
              0.8888888888888888,
              "#fdca26"
             ],
             [
              1.0,
              "#f0f921"
             ]
            ],
            "type": "histogram2d"
           }
          ],
          "histogram": [
           {
            "marker": {
             "pattern": {
              "fillmode": "overlay",
              "size": 10,
              "solidity": 0.2
             }
            },
            "type": "histogram"
           }
          ],
          "mesh3d": [
           {
            "colorbar": {
             "outlinewidth": 0,
             "ticks": ""
            },
            "type": "mesh3d"
           }
          ],
          "parcoords": [
           {
            "line": {
             "colorbar": {
              "outlinewidth": 0,
              "ticks": ""
             }
            },
            "type": "parcoords"
           }
          ],
          "pie": [
           {
            "automargin": true,
            "type": "pie"
           }
          ],
          "scatter3d": [
           {
            "line": {
             "colorbar": {
              "outlinewidth": 0,
              "ticks": ""
             }
            },
            "marker": {
             "colorbar": {
              "outlinewidth": 0,
              "ticks": ""
             }
            },
            "type": "scatter3d"
           }
          ],
          "scattercarpet": [
           {
            "marker": {
             "colorbar": {
              "outlinewidth": 0,
              "ticks": ""
             }
            },
            "type": "scattercarpet"
           }
          ],
          "scattergeo": [
           {
            "marker": {
             "colorbar": {
              "outlinewidth": 0,
              "ticks": ""
             }
            },
            "type": "scattergeo"
           }
          ],
          "scattergl": [
           {
            "marker": {
             "colorbar": {
              "outlinewidth": 0,
              "ticks": ""
             }
            },
            "type": "scattergl"
           }
          ],
          "scattermapbox": [
           {
            "marker": {
             "colorbar": {
              "outlinewidth": 0,
              "ticks": ""
             }
            },
            "type": "scattermapbox"
           }
          ],
          "scatterpolargl": [
           {
            "marker": {
             "colorbar": {
              "outlinewidth": 0,
              "ticks": ""
             }
            },
            "type": "scatterpolargl"
           }
          ],
          "scatterpolar": [
           {
            "marker": {
             "colorbar": {
              "outlinewidth": 0,
              "ticks": ""
             }
            },
            "type": "scatterpolar"
           }
          ],
          "scatter": [
           {
            "fillpattern": {
             "fillmode": "overlay",
             "size": 10,
             "solidity": 0.2
            },
            "type": "scatter"
           }
          ],
          "scatterternary": [
           {
            "marker": {
             "colorbar": {
              "outlinewidth": 0,
              "ticks": ""
             }
            },
            "type": "scatterternary"
           }
          ],
          "surface": [
           {
            "colorbar": {
             "outlinewidth": 0,
             "ticks": ""
            },
            "colorscale": [
             [
              0.0,
              "#0d0887"
             ],
             [
              0.1111111111111111,
              "#46039f"
             ],
             [
              0.2222222222222222,
              "#7201a8"
             ],
             [
              0.3333333333333333,
              "#9c179e"
             ],
             [
              0.4444444444444444,
              "#bd3786"
             ],
             [
              0.5555555555555556,
              "#d8576b"
             ],
             [
              0.6666666666666666,
              "#ed7953"
             ],
             [
              0.7777777777777778,
              "#fb9f3a"
             ],
             [
              0.8888888888888888,
              "#fdca26"
             ],
             [
              1.0,
              "#f0f921"
             ]
            ],
            "type": "surface"
           }
          ],
          "table": [
           {
            "cells": {
             "fill": {
              "color": "#EBF0F8"
             },
             "line": {
              "color": "white"
             }
            },
            "header": {
             "fill": {
              "color": "#C8D4E3"
             },
             "line": {
              "color": "white"
             }
            },
            "type": "table"
           }
          ]
         },
         "layout": {
          "annotationdefaults": {
           "arrowcolor": "#2a3f5f",
           "arrowhead": 0,
           "arrowwidth": 1
          },
          "autotypenumbers": "strict",
          "coloraxis": {
           "colorbar": {
            "outlinewidth": 0,
            "ticks": ""
           }
          },
          "colorscale": {
           "diverging": [
            [
             0,
             "#8e0152"
            ],
            [
             0.1,
             "#c51b7d"
            ],
            [
             0.2,
             "#de77ae"
            ],
            [
             0.3,
             "#f1b6da"
            ],
            [
             0.4,
             "#fde0ef"
            ],
            [
             0.5,
             "#f7f7f7"
            ],
            [
             0.6,
             "#e6f5d0"
            ],
            [
             0.7,
             "#b8e186"
            ],
            [
             0.8,
             "#7fbc41"
            ],
            [
             0.9,
             "#4d9221"
            ],
            [
             1,
             "#276419"
            ]
           ],
           "sequential": [
            [
             0.0,
             "#0d0887"
            ],
            [
             0.1111111111111111,
             "#46039f"
            ],
            [
             0.2222222222222222,
             "#7201a8"
            ],
            [
             0.3333333333333333,
             "#9c179e"
            ],
            [
             0.4444444444444444,
             "#bd3786"
            ],
            [
             0.5555555555555556,
             "#d8576b"
            ],
            [
             0.6666666666666666,
             "#ed7953"
            ],
            [
             0.7777777777777778,
             "#fb9f3a"
            ],
            [
             0.8888888888888888,
             "#fdca26"
            ],
            [
             1.0,
             "#f0f921"
            ]
           ],
           "sequentialminus": [
            [
             0.0,
             "#0d0887"
            ],
            [
             0.1111111111111111,
             "#46039f"
            ],
            [
             0.2222222222222222,
             "#7201a8"
            ],
            [
             0.3333333333333333,
             "#9c179e"
            ],
            [
             0.4444444444444444,
             "#bd3786"
            ],
            [
             0.5555555555555556,
             "#d8576b"
            ],
            [
             0.6666666666666666,
             "#ed7953"
            ],
            [
             0.7777777777777778,
             "#fb9f3a"
            ],
            [
             0.8888888888888888,
             "#fdca26"
            ],
            [
             1.0,
             "#f0f921"
            ]
           ]
          },
          "colorway": [
           "#636efa",
           "#EF553B",
           "#00cc96",
           "#ab63fa",
           "#FFA15A",
           "#19d3f3",
           "#FF6692",
           "#B6E880",
           "#FF97FF",
           "#FECB52"
          ],
          "font": {
           "color": "#2a3f5f"
          },
          "geo": {
           "bgcolor": "white",
           "lakecolor": "white",
           "landcolor": "#E5ECF6",
           "showlakes": true,
           "showland": true,
           "subunitcolor": "white"
          },
          "hoverlabel": {
           "align": "left"
          },
          "hovermode": "closest",
          "mapbox": {
           "style": "light"
          },
          "paper_bgcolor": "white",
          "plot_bgcolor": "#E5ECF6",
          "polar": {
           "angularaxis": {
            "gridcolor": "white",
            "linecolor": "white",
            "ticks": ""
           },
           "bgcolor": "#E5ECF6",
           "radialaxis": {
            "gridcolor": "white",
            "linecolor": "white",
            "ticks": ""
           }
          },
          "scene": {
           "xaxis": {
            "backgroundcolor": "#E5ECF6",
            "gridcolor": "white",
            "gridwidth": 2,
            "linecolor": "white",
            "showbackground": true,
            "ticks": "",
            "zerolinecolor": "white"
           },
           "yaxis": {
            "backgroundcolor": "#E5ECF6",
            "gridcolor": "white",
            "gridwidth": 2,
            "linecolor": "white",
            "showbackground": true,
            "ticks": "",
            "zerolinecolor": "white"
           },
           "zaxis": {
            "backgroundcolor": "#E5ECF6",
            "gridcolor": "white",
            "gridwidth": 2,
            "linecolor": "white",
            "showbackground": true,
            "ticks": "",
            "zerolinecolor": "white"
           }
          },
          "shapedefaults": {
           "line": {
            "color": "#2a3f5f"
           }
          },
          "ternary": {
           "aaxis": {
            "gridcolor": "white",
            "linecolor": "white",
            "ticks": ""
           },
           "baxis": {
            "gridcolor": "white",
            "linecolor": "white",
            "ticks": ""
           },
           "bgcolor": "#E5ECF6",
           "caxis": {
            "gridcolor": "white",
            "linecolor": "white",
            "ticks": ""
           }
          },
          "title": {
           "x": 0.05
          },
          "xaxis": {
           "automargin": true,
           "gridcolor": "white",
           "linecolor": "white",
           "ticks": "",
           "title": {
            "standoff": 15
           },
           "zerolinecolor": "white",
           "zerolinewidth": 2
          },
          "yaxis": {
           "automargin": true,
           "gridcolor": "white",
           "linecolor": "white",
           "ticks": "",
           "title": {
            "standoff": 15
           },
           "zerolinecolor": "white",
           "zerolinewidth": 2
          }
         }
        },
        "xaxis": {
         "anchor": "y",
         "domain": [
          0.0,
          0.2888888888888889
         ],
         "showticklabels": false
        },
        "yaxis": {
         "anchor": "x",
         "domain": [
          0.0,
          1.0
         ],
         "scaleanchor": "x",
         "scaleratio": 1,
         "showticklabels": false
        },
        "xaxis2": {
         "anchor": "y2",
         "domain": [
          0.35555555555555557,
          1.0
         ],
         "title": {
          "text": "Time [hours]"
         }
        },
        "yaxis2": {
         "anchor": "x2",
         "domain": [
          0.0,
          1.0
         ],
         "title": {
          "text": "Head [masl]"
         }
        },
        "width": 1600,
        "height": 800,
        "title": {
         "text": "Distribution of real Head at hour 0"
        }
       },
       "config": {
        "plotlyServerURL": "https://plot.ly"
       }
      },
      "text/html": "<div>                            <div id=\"e74a7488-13e2-4ed2-99d6-8747ca4a818f\" class=\"plotly-graph-div\" style=\"height:800px; width:1600px;\"></div>            <script type=\"text/javascript\">                require([\"plotly\"], function(Plotly) {                    window.PLOTLYENV=window.PLOTLYENV || {};                                    if (document.getElementById(\"e74a7488-13e2-4ed2-99d6-8747ca4a818f\")) {                    Plotly.newPlot(                        \"e74a7488-13e2-4ed2-99d6-8747ca4a818f\",                        [{\"hovertemplate\":\"%{text}\",\"marker\":{\"cmax\":1,\"cmin\":0,\"color\":[2.583988904953003,2.526793956756592,2.439154624938965,2.3760159015655518,2.256784677505493,2.570408821105957,1.1444026313256472e-05,2.681053876876831,2.648191213607788,2.5076935291290283,2.469148635864258,2.3817195892333984,2.3216171264648438,2.3724403381347656,2.4521331787109375,2.518260955810547,2.610395908355713,2.502452850341797,2.4014511108398438,2.393580198287964,2.3909151554107666,2.4857804775238037,2.5092337131500244,2.7333967685699463,2.525956869125366,2.443455934524536,2.4856221675872803,2.625131607055664,2.540430784225464,2.5129551887512207,2.5258736610412598,2.510194778442383,2.545321464538574,2.55045223236084,2.606130838394165,2.6400132179260254,3.3357646465301514],\"colorbar\":{\"ticklabelposition\":\"outside\",\"x\":-0.05},\"colorscale\":[[0.0,\"rgb(255,255,217)\"],[0.125,\"rgb(237,248,177)\"],[0.25,\"rgb(199,233,180)\"],[0.375,\"rgb(127,205,187)\"],[0.5,\"rgb(65,182,196)\"],[0.625,\"rgb(29,145,192)\"],[0.75,\"rgb(34,94,168)\"],[0.875,\"rgb(37,52,148)\"],[1.0,\"rgb(8,29,88)\"]],\"line\":{\"color\":\"DarkSlateGrey\",\"width\":1},\"showscale\":true,\"size\":[2.583977460861206,2.526782512664795,2.439143180847168,2.376004457473755,2.2567732334136963,2.57039737701416,0.0,2.681042432785034,2.648179769515991,2.5076820850372314,2.469137191772461,2.3817081451416016,2.321605682373047,2.3724288940429688,2.4521217346191406,2.51824951171875,2.610384464263916,2.50244140625,2.401439666748047,2.393568754196167,2.3909037113189697,2.485769033432007,2.5092222690582275,2.7333853244781494,2.5259454250335693,2.4434444904327393,2.4856107234954834,2.625120162963867,2.540419340133667,2.512943744659424,2.525862216949463,2.510183334350586,2.5453100204467773,2.550440788269043,2.606119394302368,2.6400017738342285,3.3357532024383545],\"sizemin\":1,\"sizeref\":1.6678823232650757},\"mode\":\"markers\",\"name\":\"coordinates\",\"showlegend\":false,\"text\":[\"\\u003cb\\u003e\\u003cbr\\u003e Node ID: \\u003c\\u002fb\\u003e 1 \\u003cbr\\u003e \\u003cb\\u003eValue:\\u003c\\u002fb\\u003e 2.58\",\"\\u003cb\\u003e\\u003cbr\\u003e Node ID: \\u003c\\u002fb\\u003e 2 \\u003cbr\\u003e \\u003cb\\u003eValue:\\u003c\\u002fb\\u003e 2.53\",\"\\u003cb\\u003e\\u003cbr\\u003e Node ID: \\u003c\\u002fb\\u003e 3 \\u003cbr\\u003e \\u003cb\\u003eValue:\\u003c\\u002fb\\u003e 2.44\",\"\\u003cb\\u003e\\u003cbr\\u003e Node ID: \\u003c\\u002fb\\u003e 4 \\u003cbr\\u003e \\u003cb\\u003eValue:\\u003c\\u002fb\\u003e 2.38\",\"\\u003cb\\u003e\\u003cbr\\u003e Node ID: \\u003c\\u002fb\\u003e 5 \\u003cbr\\u003e \\u003cb\\u003eValue:\\u003c\\u002fb\\u003e 2.26\",\"\\u003cb\\u003e\\u003cbr\\u003e Node ID: \\u003c\\u002fb\\u003e 6 \\u003cbr\\u003e \\u003cb\\u003eValue:\\u003c\\u002fb\\u003e 2.57\",\"\\u003cb\\u003e\\u003cbr\\u003e Node ID: \\u003c\\u002fb\\u003e 7 \\u003cbr\\u003e \\u003cb\\u003eValue:\\u003c\\u002fb\\u003e 0.00\",\"\\u003cb\\u003e\\u003cbr\\u003e Node ID: \\u003c\\u002fb\\u003e 8 \\u003cbr\\u003e \\u003cb\\u003eValue:\\u003c\\u002fb\\u003e 2.68\",\"\\u003cb\\u003e\\u003cbr\\u003e Node ID: \\u003c\\u002fb\\u003e 9 \\u003cbr\\u003e \\u003cb\\u003eValue:\\u003c\\u002fb\\u003e 2.65\",\"\\u003cb\\u003e\\u003cbr\\u003e Node ID: \\u003c\\u002fb\\u003e 10 \\u003cbr\\u003e \\u003cb\\u003eValue:\\u003c\\u002fb\\u003e 2.51\",\"\\u003cb\\u003e\\u003cbr\\u003e Node ID: \\u003c\\u002fb\\u003e 11 \\u003cbr\\u003e \\u003cb\\u003eValue:\\u003c\\u002fb\\u003e 2.47\",\"\\u003cb\\u003e\\u003cbr\\u003e Node ID: \\u003c\\u002fb\\u003e 12 \\u003cbr\\u003e \\u003cb\\u003eValue:\\u003c\\u002fb\\u003e 2.38\",\"\\u003cb\\u003e\\u003cbr\\u003e Node ID: \\u003c\\u002fb\\u003e 13 \\u003cbr\\u003e \\u003cb\\u003eValue:\\u003c\\u002fb\\u003e 2.32\",\"\\u003cb\\u003e\\u003cbr\\u003e Node ID: \\u003c\\u002fb\\u003e 14 \\u003cbr\\u003e \\u003cb\\u003eValue:\\u003c\\u002fb\\u003e 2.37\",\"\\u003cb\\u003e\\u003cbr\\u003e Node ID: \\u003c\\u002fb\\u003e 15 \\u003cbr\\u003e \\u003cb\\u003eValue:\\u003c\\u002fb\\u003e 2.45\",\"\\u003cb\\u003e\\u003cbr\\u003e Node ID: \\u003c\\u002fb\\u003e 16 \\u003cbr\\u003e \\u003cb\\u003eValue:\\u003c\\u002fb\\u003e 2.52\",\"\\u003cb\\u003e\\u003cbr\\u003e Node ID: \\u003c\\u002fb\\u003e 17 \\u003cbr\\u003e \\u003cb\\u003eValue:\\u003c\\u002fb\\u003e 2.61\",\"\\u003cb\\u003e\\u003cbr\\u003e Node ID: \\u003c\\u002fb\\u003e 18 \\u003cbr\\u003e \\u003cb\\u003eValue:\\u003c\\u002fb\\u003e 2.50\",\"\\u003cb\\u003e\\u003cbr\\u003e Node ID: \\u003c\\u002fb\\u003e 19 \\u003cbr\\u003e \\u003cb\\u003eValue:\\u003c\\u002fb\\u003e 2.40\",\"\\u003cb\\u003e\\u003cbr\\u003e Node ID: \\u003c\\u002fb\\u003e 20 \\u003cbr\\u003e \\u003cb\\u003eValue:\\u003c\\u002fb\\u003e 2.39\",\"\\u003cb\\u003e\\u003cbr\\u003e Node ID: \\u003c\\u002fb\\u003e 21 \\u003cbr\\u003e \\u003cb\\u003eValue:\\u003c\\u002fb\\u003e 2.39\",\"\\u003cb\\u003e\\u003cbr\\u003e Node ID: \\u003c\\u002fb\\u003e 22 \\u003cbr\\u003e \\u003cb\\u003eValue:\\u003c\\u002fb\\u003e 2.49\",\"\\u003cb\\u003e\\u003cbr\\u003e Node ID: \\u003c\\u002fb\\u003e 23 \\u003cbr\\u003e \\u003cb\\u003eValue:\\u003c\\u002fb\\u003e 2.51\",\"\\u003cb\\u003e\\u003cbr\\u003e Node ID: \\u003c\\u002fb\\u003e 24 \\u003cbr\\u003e \\u003cb\\u003eValue:\\u003c\\u002fb\\u003e 2.73\",\"\\u003cb\\u003e\\u003cbr\\u003e Node ID: \\u003c\\u002fb\\u003e 25 \\u003cbr\\u003e \\u003cb\\u003eValue:\\u003c\\u002fb\\u003e 2.53\",\"\\u003cb\\u003e\\u003cbr\\u003e Node ID: \\u003c\\u002fb\\u003e 26 \\u003cbr\\u003e \\u003cb\\u003eValue:\\u003c\\u002fb\\u003e 2.44\",\"\\u003cb\\u003e\\u003cbr\\u003e Node ID: \\u003c\\u002fb\\u003e 27 \\u003cbr\\u003e \\u003cb\\u003eValue:\\u003c\\u002fb\\u003e 2.49\",\"\\u003cb\\u003e\\u003cbr\\u003e Node ID: \\u003c\\u002fb\\u003e 28 \\u003cbr\\u003e \\u003cb\\u003eValue:\\u003c\\u002fb\\u003e 2.63\",\"\\u003cb\\u003e\\u003cbr\\u003e Node ID: \\u003c\\u002fb\\u003e 29 \\u003cbr\\u003e \\u003cb\\u003eValue:\\u003c\\u002fb\\u003e 2.54\",\"\\u003cb\\u003e\\u003cbr\\u003e Node ID: \\u003c\\u002fb\\u003e 30 \\u003cbr\\u003e \\u003cb\\u003eValue:\\u003c\\u002fb\\u003e 2.51\",\"\\u003cb\\u003e\\u003cbr\\u003e Node ID: \\u003c\\u002fb\\u003e 31 \\u003cbr\\u003e \\u003cb\\u003eValue:\\u003c\\u002fb\\u003e 2.53\",\"\\u003cb\\u003e\\u003cbr\\u003e Node ID: \\u003c\\u002fb\\u003e 32 \\u003cbr\\u003e \\u003cb\\u003eValue:\\u003c\\u002fb\\u003e 2.51\",\"\\u003cb\\u003e\\u003cbr\\u003e Node ID: \\u003c\\u002fb\\u003e 33 \\u003cbr\\u003e \\u003cb\\u003eValue:\\u003c\\u002fb\\u003e 2.55\",\"\\u003cb\\u003e\\u003cbr\\u003e Node ID: \\u003c\\u002fb\\u003e 34 \\u003cbr\\u003e \\u003cb\\u003eValue:\\u003c\\u002fb\\u003e 2.55\",\"\\u003cb\\u003e\\u003cbr\\u003e Node ID: \\u003c\\u002fb\\u003e 35 \\u003cbr\\u003e \\u003cb\\u003eValue:\\u003c\\u002fb\\u003e 2.61\",\"\\u003cb\\u003e\\u003cbr\\u003e Node ID: \\u003c\\u002fb\\u003e 36 \\u003cbr\\u003e \\u003cb\\u003eValue:\\u003c\\u002fb\\u003e 2.64\",\"\\u003cb\\u003e\\u003cbr\\u003e Node ID: \\u003c\\u002fb\\u003e 37 \\u003cbr\\u003e \\u003cb\\u003eValue:\\u003c\\u002fb\\u003e nan\",\"\\u003cb\\u003e\\u003cbr\\u003e Node ID: \\u003c\\u002fb\\u003e 38 \\u003cbr\\u003e \\u003cb\\u003eValue:\\u003c\\u002fb\\u003e 3.34\"],\"x\":[7111.64990234375,5679.60986328125,4862.4599609375,2750.81005859375,1852.75,1974.1099853515625,1974.1099853515625,4235.43994140625,6411.81005859375,5412.6201171875,4510.52001953125,3033.97998046875,2301.780029296875,2944.97998046875,3786.409912109375,4830.10009765625,7099.509765625,5505.66015625,3563.919921875,3167.47998046875,2730.580078125,3511.330078125,4097.89990234375,3337.3798828125,4530.740234375,4215.2099609375,5194.169921875,5218.4501953125,5622.97998046875,5950.64990234375,6614.080078125,5380.259765625,6318.77001953125,6549.35009765625,6585.759765625,7152.10009765625,7669.89990234375,818.3510131835938],\"y\":[7532.35986328125,9538.830078125,9538.830078125,9474.1103515625,8357.6103515625,6076.0498046875,5149.68017578125,5076.85986328125,5093.0400390625,7888.35009765625,8264.5595703125,9243.5302734375,8078.47998046875,7669.89990234375,7139.97021484375,6480.580078125,8438.509765625,8450.650390625,8839.0,7532.35986328125,7285.60009765625,6666.669921875,6286.41015625,5121.35986328125,6011.330078125,7783.169921875,7055.02001953125,5089.0,5999.18994140625,5796.93017578125,7621.35986328125,7544.5,7281.5498046875,7212.77978515625,6092.22998046875,6104.3701171875,7783.169921875,5080.23779296875],\"type\":\"scatter\",\"uid\":\"6658dc15-d8f4-4d7d-8c86-65309dbceb5f\",\"xaxis\":\"x\",\"yaxis\":\"y\"},{\"line\":{\"width\":3},\"marker\":{\"color\":\"#00A6D6\",\"size\":4},\"mode\":\"lines+markers\",\"name\":\"real\",\"x\":[0,1,2,3,4,5,6,7,8,9,10,11,12,13,14,15,16,17,18,19,20,21,22,23],\"y\":[2.583988904953003,2.5839953422546387,2.5839879512786865,2.5839874744415283,2.5839874744415283,2.583988904953003,2.5839931964874268,2.583988904953003,2.5839931964874268,2.5839931964874268,2.5839879512786865,2.5840065479278564,2.5839924812316895,2.5839943885803223,2.5839953422546387,2.5839874744415283,2.583988904953003,2.583988904953003,2.5840022563934326,2.5839953422546387,2.5839967727661133,2.5840015411376953,2.5839931964874268,2.5839931964874268],\"type\":\"scatter\",\"uid\":\"ebbcd3db-2575-4c68-bdbd-17ad6ea0f828\",\"xaxis\":\"x2\",\"yaxis\":\"y2\"},{\"line\":{\"width\":3},\"marker\":{\"color\":\"#6F1D77\",\"size\":4},\"mode\":\"lines+markers\",\"name\":\"Our model\",\"x\":[0,1,2,3,4,5,6,7,8,9,10,11,12,13,14,15,16,17,18,19,20,21,22,23],\"y\":[1.3490155935287476,2.2393603324890137,2.527233362197876,2.5997841358184814,2.6178882122039795,2.6229095458984375,2.6245522499084473,2.6252009868621826,2.6255064010620117,2.625671863555908,2.6257712841033936,2.6258351802825928,2.62587833404541,2.625908851623535,2.6259305477142334,2.625946521759033,2.6259584426879883,2.625967264175415,2.62597393989563,2.62597918510437,2.6259829998016357,2.625986099243164,2.625988483428955,2.625990390777588],\"type\":\"scatter\",\"uid\":\"2f3992ba-691a-470d-90c8-fa0f23f067e0\",\"xaxis\":\"x2\",\"yaxis\":\"y2\"},{\"hoverinfo\":\"none\",\"line\":{\"color\":\"#888\",\"width\":0.5},\"mode\":\"lines\",\"showlegend\":false,\"x\":[7111.64990234375,7099.509765625,null,7111.64990234375,6614.080078125,null,7111.64990234375,7152.10009765625,null,7111.64990234375,7669.89990234375,null,5679.60986328125,4862.4599609375,null,5679.60986328125,5505.66015625,null,5679.60986328125,7099.509765625,null,4862.4599609375,5679.60986328125,null,4862.4599609375,2750.81005859375,null,4862.4599609375,4510.52001953125,null,2750.81005859375,4862.4599609375,null,2750.81005859375,1852.75,null,2750.81005859375,3033.97998046875,null,1852.75,2750.81005859375,null,1852.75,1974.1099853515625,null,1852.75,2301.780029296875,null,1974.1099853515625,1852.75,null,1974.1099853515625,1974.1099853515625,null,1974.1099853515625,2730.580078125,null,1974.1099853515625,1974.1099853515625,null,1974.1099853515625,3337.3798828125,null,1974.1099853515625,3511.330078125,null,1974.1099853515625,818.3510131835938,null,4235.43994140625,5218.4501953125,null,4235.43994140625,3337.3798828125,null,4235.43994140625,4530.740234375,null,6411.81005859375,7152.10009765625,null,6411.81005859375,5218.4501953125,null,6411.81005859375,5950.64990234375,null,5412.6201171875,4510.52001953125,null,5412.6201171875,5380.259765625,null,5412.6201171875,5505.66015625,null,5412.6201171875,6614.080078125,null,4510.52001953125,4862.4599609375,null,4510.52001953125,5412.6201171875,null,4510.52001953125,3563.919921875,null,4510.52001953125,4215.2099609375,null,3033.97998046875,2750.81005859375,null,3033.97998046875,2301.780029296875,null,3033.97998046875,3563.919921875,null,2301.780029296875,1852.75,null,2301.780029296875,3033.97998046875,null,2301.780029296875,2944.97998046875,null,2944.97998046875,2301.780029296875,null,2944.97998046875,3167.47998046875,null,2944.97998046875,2730.580078125,null,3786.409912109375,3511.330078125,null,3786.409912109375,4830.10009765625,null,3786.409912109375,3167.47998046875,null,3786.409912109375,4215.2099609375,null,4830.10009765625,3786.409912109375,null,4830.10009765625,4530.740234375,null,4830.10009765625,5622.97998046875,null,4830.10009765625,5194.169921875,null,7099.509765625,7111.64990234375,null,7099.509765625,5679.60986328125,null,7099.509765625,5505.66015625,null,5505.66015625,5679.60986328125,null,5505.66015625,5412.6201171875,null,5505.66015625,7099.509765625,null,3563.919921875,4510.52001953125,null,3563.919921875,3033.97998046875,null,3563.919921875,3167.47998046875,null,3167.47998046875,2944.97998046875,null,3167.47998046875,3786.409912109375,null,3167.47998046875,3563.919921875,null,2730.580078125,1974.1099853515625,null,2730.580078125,2944.97998046875,null,2730.580078125,3511.330078125,null,3511.330078125,1974.1099853515625,null,3511.330078125,3786.409912109375,null,3511.330078125,2730.580078125,null,3511.330078125,4097.89990234375,null,4097.89990234375,3511.330078125,null,4097.89990234375,4530.740234375,null,4097.89990234375,3337.3798828125,null,3337.3798828125,1974.1099853515625,null,3337.3798828125,4235.43994140625,null,3337.3798828125,4097.89990234375,null,4530.740234375,4235.43994140625,null,4530.740234375,4830.10009765625,null,4530.740234375,4097.89990234375,null,4215.2099609375,4510.52001953125,null,4215.2099609375,3786.409912109375,null,4215.2099609375,5194.169921875,null,5194.169921875,4830.10009765625,null,5194.169921875,4215.2099609375,null,5194.169921875,5380.259765625,null,5218.4501953125,4235.43994140625,null,5218.4501953125,6411.81005859375,null,5218.4501953125,5622.97998046875,null,5622.97998046875,4830.10009765625,null,5622.97998046875,5218.4501953125,null,5622.97998046875,5950.64990234375,null,5622.97998046875,6318.77001953125,null,5950.64990234375,6411.81005859375,null,5950.64990234375,5622.97998046875,null,5950.64990234375,6585.759765625,null,6614.080078125,7111.64990234375,null,6614.080078125,5412.6201171875,null,6614.080078125,6549.35009765625,null,5380.259765625,5412.6201171875,null,5380.259765625,5194.169921875,null,5380.259765625,6318.77001953125,null,6318.77001953125,5622.97998046875,null,6318.77001953125,5380.259765625,null,6318.77001953125,6549.35009765625,null,6549.35009765625,6614.080078125,null,6549.35009765625,6318.77001953125,null,6549.35009765625,6585.759765625,null,6585.759765625,5950.64990234375,null,6585.759765625,6549.35009765625,null,6585.759765625,7152.10009765625,null,7152.10009765625,7111.64990234375,null,7152.10009765625,6411.81005859375,null,7152.10009765625,6585.759765625,null,7669.89990234375,7111.64990234375,null,818.3510131835938,1974.1099853515625,null],\"y\":[7532.35986328125,8438.509765625,null,7532.35986328125,7621.35986328125,null,7532.35986328125,6104.3701171875,null,7532.35986328125,7783.169921875,null,9538.830078125,9538.830078125,null,9538.830078125,8450.650390625,null,9538.830078125,8438.509765625,null,9538.830078125,9538.830078125,null,9538.830078125,9474.1103515625,null,9538.830078125,8264.5595703125,null,9474.1103515625,9538.830078125,null,9474.1103515625,8357.6103515625,null,9474.1103515625,9243.5302734375,null,8357.6103515625,9474.1103515625,null,8357.6103515625,6076.0498046875,null,8357.6103515625,8078.47998046875,null,6076.0498046875,8357.6103515625,null,6076.0498046875,5149.68017578125,null,6076.0498046875,7285.60009765625,null,5149.68017578125,6076.0498046875,null,5149.68017578125,5121.35986328125,null,5149.68017578125,6666.669921875,null,5149.68017578125,5080.23779296875,null,5076.85986328125,5089.0,null,5076.85986328125,5121.35986328125,null,5076.85986328125,6011.330078125,null,5093.0400390625,6104.3701171875,null,5093.0400390625,5089.0,null,5093.0400390625,5796.93017578125,null,7888.35009765625,8264.5595703125,null,7888.35009765625,7544.5,null,7888.35009765625,8450.650390625,null,7888.35009765625,7621.35986328125,null,8264.5595703125,9538.830078125,null,8264.5595703125,7888.35009765625,null,8264.5595703125,8839.0,null,8264.5595703125,7783.169921875,null,9243.5302734375,9474.1103515625,null,9243.5302734375,8078.47998046875,null,9243.5302734375,8839.0,null,8078.47998046875,8357.6103515625,null,8078.47998046875,9243.5302734375,null,8078.47998046875,7669.89990234375,null,7669.89990234375,8078.47998046875,null,7669.89990234375,7532.35986328125,null,7669.89990234375,7285.60009765625,null,7139.97021484375,6666.669921875,null,7139.97021484375,6480.580078125,null,7139.97021484375,7532.35986328125,null,7139.97021484375,7783.169921875,null,6480.580078125,7139.97021484375,null,6480.580078125,6011.330078125,null,6480.580078125,5999.18994140625,null,6480.580078125,7055.02001953125,null,8438.509765625,7532.35986328125,null,8438.509765625,9538.830078125,null,8438.509765625,8450.650390625,null,8450.650390625,9538.830078125,null,8450.650390625,7888.35009765625,null,8450.650390625,8438.509765625,null,8839.0,8264.5595703125,null,8839.0,9243.5302734375,null,8839.0,7532.35986328125,null,7532.35986328125,7669.89990234375,null,7532.35986328125,7139.97021484375,null,7532.35986328125,8839.0,null,7285.60009765625,6076.0498046875,null,7285.60009765625,7669.89990234375,null,7285.60009765625,6666.669921875,null,6666.669921875,5149.68017578125,null,6666.669921875,7139.97021484375,null,6666.669921875,7285.60009765625,null,6666.669921875,6286.41015625,null,6286.41015625,6666.669921875,null,6286.41015625,6011.330078125,null,6286.41015625,5121.35986328125,null,5121.35986328125,5149.68017578125,null,5121.35986328125,5076.85986328125,null,5121.35986328125,6286.41015625,null,6011.330078125,5076.85986328125,null,6011.330078125,6480.580078125,null,6011.330078125,6286.41015625,null,7783.169921875,8264.5595703125,null,7783.169921875,7139.97021484375,null,7783.169921875,7055.02001953125,null,7055.02001953125,6480.580078125,null,7055.02001953125,7783.169921875,null,7055.02001953125,7544.5,null,5089.0,5076.85986328125,null,5089.0,5093.0400390625,null,5089.0,5999.18994140625,null,5999.18994140625,6480.580078125,null,5999.18994140625,5089.0,null,5999.18994140625,5796.93017578125,null,5999.18994140625,7281.5498046875,null,5796.93017578125,5093.0400390625,null,5796.93017578125,5999.18994140625,null,5796.93017578125,6092.22998046875,null,7621.35986328125,7532.35986328125,null,7621.35986328125,7888.35009765625,null,7621.35986328125,7212.77978515625,null,7544.5,7888.35009765625,null,7544.5,7055.02001953125,null,7544.5,7281.5498046875,null,7281.5498046875,5999.18994140625,null,7281.5498046875,7544.5,null,7281.5498046875,7212.77978515625,null,7212.77978515625,7621.35986328125,null,7212.77978515625,7281.5498046875,null,7212.77978515625,6092.22998046875,null,6092.22998046875,5796.93017578125,null,6092.22998046875,7212.77978515625,null,6092.22998046875,6104.3701171875,null,6104.3701171875,7532.35986328125,null,6104.3701171875,5093.0400390625,null,6104.3701171875,6092.22998046875,null,7783.169921875,7532.35986328125,null,5080.23779296875,5149.68017578125,null],\"type\":\"scatter\",\"uid\":\"e380e11f-b60a-42f6-815c-6e5823171650\",\"xaxis\":\"x\",\"yaxis\":\"y\"},{\"marker\":{\"color\":\"midnightblue\",\"line\":{\"width\":2},\"size\":15,\"symbol\":\"x-open\"},\"showlegend\":false,\"x\":[7111.64990234375],\"y\":[7532.35986328125],\"type\":\"scatter\",\"uid\":\"cf963aab-caeb-4864-8da9-583cf0a51a58\",\"xaxis\":\"x\",\"yaxis\":\"y\"}],                        {\"annotations\":[{\"font\":{\"size\":16},\"showarrow\":false,\"text\":\" \",\"x\":0.14444444444444446,\"xanchor\":\"center\",\"xref\":\"paper\",\"y\":1.0,\"yanchor\":\"bottom\",\"yref\":\"paper\"},{\"font\":{\"size\":16},\"showarrow\":false,\"text\":\"Comparison of hydraulic heads\",\"x\":0.6777777777777778,\"xanchor\":\"center\",\"xref\":\"paper\",\"y\":1.0,\"yanchor\":\"bottom\",\"yref\":\"paper\"}],\"template\":{\"data\":{\"barpolar\":[{\"marker\":{\"line\":{\"color\":\"#E5ECF6\",\"width\":0.5},\"pattern\":{\"fillmode\":\"overlay\",\"size\":10,\"solidity\":0.2}},\"type\":\"barpolar\"}],\"bar\":[{\"error_x\":{\"color\":\"#2a3f5f\"},\"error_y\":{\"color\":\"#2a3f5f\"},\"marker\":{\"line\":{\"color\":\"#E5ECF6\",\"width\":0.5},\"pattern\":{\"fillmode\":\"overlay\",\"size\":10,\"solidity\":0.2}},\"type\":\"bar\"}],\"carpet\":[{\"aaxis\":{\"endlinecolor\":\"#2a3f5f\",\"gridcolor\":\"white\",\"linecolor\":\"white\",\"minorgridcolor\":\"white\",\"startlinecolor\":\"#2a3f5f\"},\"baxis\":{\"endlinecolor\":\"#2a3f5f\",\"gridcolor\":\"white\",\"linecolor\":\"white\",\"minorgridcolor\":\"white\",\"startlinecolor\":\"#2a3f5f\"},\"type\":\"carpet\"}],\"choropleth\":[{\"colorbar\":{\"outlinewidth\":0,\"ticks\":\"\"},\"type\":\"choropleth\"}],\"contourcarpet\":[{\"colorbar\":{\"outlinewidth\":0,\"ticks\":\"\"},\"type\":\"contourcarpet\"}],\"contour\":[{\"colorbar\":{\"outlinewidth\":0,\"ticks\":\"\"},\"colorscale\":[[0.0,\"#0d0887\"],[0.1111111111111111,\"#46039f\"],[0.2222222222222222,\"#7201a8\"],[0.3333333333333333,\"#9c179e\"],[0.4444444444444444,\"#bd3786\"],[0.5555555555555556,\"#d8576b\"],[0.6666666666666666,\"#ed7953\"],[0.7777777777777778,\"#fb9f3a\"],[0.8888888888888888,\"#fdca26\"],[1.0,\"#f0f921\"]],\"type\":\"contour\"}],\"heatmapgl\":[{\"colorbar\":{\"outlinewidth\":0,\"ticks\":\"\"},\"colorscale\":[[0.0,\"#0d0887\"],[0.1111111111111111,\"#46039f\"],[0.2222222222222222,\"#7201a8\"],[0.3333333333333333,\"#9c179e\"],[0.4444444444444444,\"#bd3786\"],[0.5555555555555556,\"#d8576b\"],[0.6666666666666666,\"#ed7953\"],[0.7777777777777778,\"#fb9f3a\"],[0.8888888888888888,\"#fdca26\"],[1.0,\"#f0f921\"]],\"type\":\"heatmapgl\"}],\"heatmap\":[{\"colorbar\":{\"outlinewidth\":0,\"ticks\":\"\"},\"colorscale\":[[0.0,\"#0d0887\"],[0.1111111111111111,\"#46039f\"],[0.2222222222222222,\"#7201a8\"],[0.3333333333333333,\"#9c179e\"],[0.4444444444444444,\"#bd3786\"],[0.5555555555555556,\"#d8576b\"],[0.6666666666666666,\"#ed7953\"],[0.7777777777777778,\"#fb9f3a\"],[0.8888888888888888,\"#fdca26\"],[1.0,\"#f0f921\"]],\"type\":\"heatmap\"}],\"histogram2dcontour\":[{\"colorbar\":{\"outlinewidth\":0,\"ticks\":\"\"},\"colorscale\":[[0.0,\"#0d0887\"],[0.1111111111111111,\"#46039f\"],[0.2222222222222222,\"#7201a8\"],[0.3333333333333333,\"#9c179e\"],[0.4444444444444444,\"#bd3786\"],[0.5555555555555556,\"#d8576b\"],[0.6666666666666666,\"#ed7953\"],[0.7777777777777778,\"#fb9f3a\"],[0.8888888888888888,\"#fdca26\"],[1.0,\"#f0f921\"]],\"type\":\"histogram2dcontour\"}],\"histogram2d\":[{\"colorbar\":{\"outlinewidth\":0,\"ticks\":\"\"},\"colorscale\":[[0.0,\"#0d0887\"],[0.1111111111111111,\"#46039f\"],[0.2222222222222222,\"#7201a8\"],[0.3333333333333333,\"#9c179e\"],[0.4444444444444444,\"#bd3786\"],[0.5555555555555556,\"#d8576b\"],[0.6666666666666666,\"#ed7953\"],[0.7777777777777778,\"#fb9f3a\"],[0.8888888888888888,\"#fdca26\"],[1.0,\"#f0f921\"]],\"type\":\"histogram2d\"}],\"histogram\":[{\"marker\":{\"pattern\":{\"fillmode\":\"overlay\",\"size\":10,\"solidity\":0.2}},\"type\":\"histogram\"}],\"mesh3d\":[{\"colorbar\":{\"outlinewidth\":0,\"ticks\":\"\"},\"type\":\"mesh3d\"}],\"parcoords\":[{\"line\":{\"colorbar\":{\"outlinewidth\":0,\"ticks\":\"\"}},\"type\":\"parcoords\"}],\"pie\":[{\"automargin\":true,\"type\":\"pie\"}],\"scatter3d\":[{\"line\":{\"colorbar\":{\"outlinewidth\":0,\"ticks\":\"\"}},\"marker\":{\"colorbar\":{\"outlinewidth\":0,\"ticks\":\"\"}},\"type\":\"scatter3d\"}],\"scattercarpet\":[{\"marker\":{\"colorbar\":{\"outlinewidth\":0,\"ticks\":\"\"}},\"type\":\"scattercarpet\"}],\"scattergeo\":[{\"marker\":{\"colorbar\":{\"outlinewidth\":0,\"ticks\":\"\"}},\"type\":\"scattergeo\"}],\"scattergl\":[{\"marker\":{\"colorbar\":{\"outlinewidth\":0,\"ticks\":\"\"}},\"type\":\"scattergl\"}],\"scattermapbox\":[{\"marker\":{\"colorbar\":{\"outlinewidth\":0,\"ticks\":\"\"}},\"type\":\"scattermapbox\"}],\"scatterpolargl\":[{\"marker\":{\"colorbar\":{\"outlinewidth\":0,\"ticks\":\"\"}},\"type\":\"scatterpolargl\"}],\"scatterpolar\":[{\"marker\":{\"colorbar\":{\"outlinewidth\":0,\"ticks\":\"\"}},\"type\":\"scatterpolar\"}],\"scatter\":[{\"fillpattern\":{\"fillmode\":\"overlay\",\"size\":10,\"solidity\":0.2},\"type\":\"scatter\"}],\"scatterternary\":[{\"marker\":{\"colorbar\":{\"outlinewidth\":0,\"ticks\":\"\"}},\"type\":\"scatterternary\"}],\"surface\":[{\"colorbar\":{\"outlinewidth\":0,\"ticks\":\"\"},\"colorscale\":[[0.0,\"#0d0887\"],[0.1111111111111111,\"#46039f\"],[0.2222222222222222,\"#7201a8\"],[0.3333333333333333,\"#9c179e\"],[0.4444444444444444,\"#bd3786\"],[0.5555555555555556,\"#d8576b\"],[0.6666666666666666,\"#ed7953\"],[0.7777777777777778,\"#fb9f3a\"],[0.8888888888888888,\"#fdca26\"],[1.0,\"#f0f921\"]],\"type\":\"surface\"}],\"table\":[{\"cells\":{\"fill\":{\"color\":\"#EBF0F8\"},\"line\":{\"color\":\"white\"}},\"header\":{\"fill\":{\"color\":\"#C8D4E3\"},\"line\":{\"color\":\"white\"}},\"type\":\"table\"}]},\"layout\":{\"annotationdefaults\":{\"arrowcolor\":\"#2a3f5f\",\"arrowhead\":0,\"arrowwidth\":1},\"autotypenumbers\":\"strict\",\"coloraxis\":{\"colorbar\":{\"outlinewidth\":0,\"ticks\":\"\"}},\"colorscale\":{\"diverging\":[[0,\"#8e0152\"],[0.1,\"#c51b7d\"],[0.2,\"#de77ae\"],[0.3,\"#f1b6da\"],[0.4,\"#fde0ef\"],[0.5,\"#f7f7f7\"],[0.6,\"#e6f5d0\"],[0.7,\"#b8e186\"],[0.8,\"#7fbc41\"],[0.9,\"#4d9221\"],[1,\"#276419\"]],\"sequential\":[[0.0,\"#0d0887\"],[0.1111111111111111,\"#46039f\"],[0.2222222222222222,\"#7201a8\"],[0.3333333333333333,\"#9c179e\"],[0.4444444444444444,\"#bd3786\"],[0.5555555555555556,\"#d8576b\"],[0.6666666666666666,\"#ed7953\"],[0.7777777777777778,\"#fb9f3a\"],[0.8888888888888888,\"#fdca26\"],[1.0,\"#f0f921\"]],\"sequentialminus\":[[0.0,\"#0d0887\"],[0.1111111111111111,\"#46039f\"],[0.2222222222222222,\"#7201a8\"],[0.3333333333333333,\"#9c179e\"],[0.4444444444444444,\"#bd3786\"],[0.5555555555555556,\"#d8576b\"],[0.6666666666666666,\"#ed7953\"],[0.7777777777777778,\"#fb9f3a\"],[0.8888888888888888,\"#fdca26\"],[1.0,\"#f0f921\"]]},\"colorway\":[\"#636efa\",\"#EF553B\",\"#00cc96\",\"#ab63fa\",\"#FFA15A\",\"#19d3f3\",\"#FF6692\",\"#B6E880\",\"#FF97FF\",\"#FECB52\"],\"font\":{\"color\":\"#2a3f5f\"},\"geo\":{\"bgcolor\":\"white\",\"lakecolor\":\"white\",\"landcolor\":\"#E5ECF6\",\"showlakes\":true,\"showland\":true,\"subunitcolor\":\"white\"},\"hoverlabel\":{\"align\":\"left\"},\"hovermode\":\"closest\",\"mapbox\":{\"style\":\"light\"},\"paper_bgcolor\":\"white\",\"plot_bgcolor\":\"#E5ECF6\",\"polar\":{\"angularaxis\":{\"gridcolor\":\"white\",\"linecolor\":\"white\",\"ticks\":\"\"},\"bgcolor\":\"#E5ECF6\",\"radialaxis\":{\"gridcolor\":\"white\",\"linecolor\":\"white\",\"ticks\":\"\"}},\"scene\":{\"xaxis\":{\"backgroundcolor\":\"#E5ECF6\",\"gridcolor\":\"white\",\"gridwidth\":2,\"linecolor\":\"white\",\"showbackground\":true,\"ticks\":\"\",\"zerolinecolor\":\"white\"},\"yaxis\":{\"backgroundcolor\":\"#E5ECF6\",\"gridcolor\":\"white\",\"gridwidth\":2,\"linecolor\":\"white\",\"showbackground\":true,\"ticks\":\"\",\"zerolinecolor\":\"white\"},\"zaxis\":{\"backgroundcolor\":\"#E5ECF6\",\"gridcolor\":\"white\",\"gridwidth\":2,\"linecolor\":\"white\",\"showbackground\":true,\"ticks\":\"\",\"zerolinecolor\":\"white\"}},\"shapedefaults\":{\"line\":{\"color\":\"#2a3f5f\"}},\"ternary\":{\"aaxis\":{\"gridcolor\":\"white\",\"linecolor\":\"white\",\"ticks\":\"\"},\"baxis\":{\"gridcolor\":\"white\",\"linecolor\":\"white\",\"ticks\":\"\"},\"bgcolor\":\"#E5ECF6\",\"caxis\":{\"gridcolor\":\"white\",\"linecolor\":\"white\",\"ticks\":\"\"}},\"title\":{\"x\":0.05},\"xaxis\":{\"automargin\":true,\"gridcolor\":\"white\",\"linecolor\":\"white\",\"ticks\":\"\",\"title\":{\"standoff\":15},\"zerolinecolor\":\"white\",\"zerolinewidth\":2},\"yaxis\":{\"automargin\":true,\"gridcolor\":\"white\",\"linecolor\":\"white\",\"ticks\":\"\",\"title\":{\"standoff\":15},\"zerolinecolor\":\"white\",\"zerolinewidth\":2}}},\"xaxis\":{\"anchor\":\"y\",\"domain\":[0.0,0.2888888888888889],\"showticklabels\":false},\"yaxis\":{\"anchor\":\"x\",\"domain\":[0.0,1.0],\"scaleanchor\":\"x\",\"scaleratio\":1,\"showticklabels\":false},\"xaxis2\":{\"anchor\":\"y2\",\"domain\":[0.35555555555555557,1.0],\"title\":{\"text\":\"Time [hours]\"}},\"yaxis2\":{\"anchor\":\"x2\",\"domain\":[0.0,1.0],\"title\":{\"text\":\"Head [masl]\"}},\"width\":1600,\"height\":800,\"title\":{\"text\":\"Distribution of real Head at hour 0\"}},                        {\"responsive\": true}                    ).then(function(){\n                            \nvar gd = document.getElementById('e74a7488-13e2-4ed2-99d6-8747ca4a818f');\nvar x = new MutationObserver(function (mutations, observer) {{\n        var display = window.getComputedStyle(gd).display;\n        if (!display || display === 'none') {{\n            console.log([gd, 'removed!']);\n            Plotly.purge(gd);\n            observer.disconnect();\n        }}\n}});\n\n// Listen for the removal of the full notebook cells\nvar notebookContainer = gd.closest('#notebook-container');\nif (notebookContainer) {{\n    x.observe(notebookContainer, {childList: true});\n}}\n\n// Listen for the clearing of the current output cell\nvar outputEl = gd.closest('.output');\nif (outputEl) {{\n    x.observe(outputEl, {childList: true});\n}}\n\n                        })                };                });            </script>        </div>"
     },
     "metadata": {},
     "output_type": "display_data"
    },
    {
     "data": {
      "text/plain": "<IPython.core.display.HTML object>",
      "text/html": "Waiting for W&B process to finish... <strong style=\"color:green\">(success).</strong>"
     },
     "metadata": {},
     "output_type": "display_data"
    },
    {
     "data": {
      "text/plain": "<IPython.core.display.HTML object>",
      "text/html": "<style>\n    table.wandb td:nth-child(1) { padding: 0 10px; text-align: left ; width: auto;} td:nth-child(2) {text-align: left ; width: 100%}\n    .wandb-row { display: flex; flex-direction: row; flex-wrap: wrap; justify-content: flex-start; width: 100% }\n    .wandb-col { display: flex; flex-direction: column; flex-basis: 100%; flex: 1; padding: 10px; }\n    </style>\n<div class=\"wandb-row\"><div class=\"wandb-col\"><h3>Run history:</h3><br/><table class=\"wandb\"><tr><td>Alpha loss</td><td>▁</td></tr><tr><td>Batch size</td><td>▁</td></tr><tr><td>Hidden channels</td><td>▁</td></tr><tr><td>LR Epoch Division</td><td>▁</td></tr><tr><td>Learning Rate Divisor</td><td>▁</td></tr><tr><td>Learning rate</td><td>▁</td></tr><tr><td>Number of epochs</td><td>▁</td></tr><tr><td>Number of layers</td><td>▁</td></tr><tr><td>Number of outputs</td><td>▁</td></tr><tr><td>Patience</td><td>▁</td></tr><tr><td>Testing samples</td><td>▁</td></tr><tr><td>Training samples</td><td>▁</td></tr><tr><td>Validation samples</td><td>▁</td></tr><tr><td>Weight decay</td><td>▁</td></tr></table><br/></div><div class=\"wandb-col\"><h3>Run summary:</h3><br/><table class=\"wandb\"><tr><td>Algorithm</td><td>LSTM</td></tr><tr><td>Alpha loss</td><td>0</td></tr><tr><td>Batch size</td><td>32</td></tr><tr><td>Hidden channels</td><td>128</td></tr><tr><td>LR Epoch Division</td><td>1000</td></tr><tr><td>Learning Rate Divisor</td><td>2</td></tr><tr><td>Learning rate</td><td>0.0001</td></tr><tr><td>Network</td><td>FOS_tank</td></tr><tr><td>Number of epochs</td><td>10</td></tr><tr><td>Number of layers</td><td>1</td></tr><tr><td>Number of outputs</td><td>37</td></tr><tr><td>Patience</td><td>10</td></tr><tr><td>Testing samples</td><td>100</td></tr><tr><td>Training samples</td><td>800</td></tr><tr><td>Validation samples</td><td>100</td></tr><tr><td>Weight decay</td><td>0</td></tr></table><br/></div></div>"
     },
     "metadata": {},
     "output_type": "display_data"
    },
    {
     "data": {
      "text/plain": "<IPython.core.display.HTML object>",
      "text/html": " View run <strong style=\"color:#cdcd00\">expert-star-68</strong> at: <a href='https://wandb.ai/mertz/unrolling-epanet/runs/7a7rfovo' target=\"_blank\">https://wandb.ai/mertz/unrolling-epanet/runs/7a7rfovo</a><br/> View job at <a href='https://wandb.ai/mertz/unrolling-epanet/jobs/QXJ0aWZhY3RDb2xsZWN0aW9uOjEwMzI1NDMwMg==/version_details/v15' target=\"_blank\">https://wandb.ai/mertz/unrolling-epanet/jobs/QXJ0aWZhY3RDb2xsZWN0aW9uOjEwMzI1NDMwMg==/version_details/v15</a><br/>Synced 6 W&B file(s), 6 media file(s), 0 artifact file(s) and 0 other file(s)"
     },
     "metadata": {},
     "output_type": "display_data"
    },
    {
     "data": {
      "text/plain": "<IPython.core.display.HTML object>",
      "text/html": "Find logs at: <code>.\\wandb\\run-20231004_110453-7a7rfovo\\logs</code>"
     },
     "metadata": {},
     "output_type": "display_data"
    }
   ],
   "source": [
    "from utils.Dashboard import Dashboard\n",
    "from IPython.display import display\n",
    "import plotly.io as pio\n",
    "\n",
    "_,_,_, pred, real, time = testing(model, val_loader)\n",
    "pred = pred.reshape(-1,n_nodes)\n",
    "real = real.reshape(-1,n_nodes)\n",
    "\n",
    "# Array below is created to ensure proper indexing of the nodes when displaying\n",
    "type_array = (val_database[0].type_1H == 0) | (val_database[0].type_1H == 2)\n",
    "d = Dashboard(pd.DataFrame(real[0:24, :]),pd.DataFrame(pred[0:24, :]),to_networkx(val_dataset[0],node_attrs=['pos', 'ID']),type_array)\n",
    "f = d.display_results()\n",
    "\n",
    "for i in [0, 1, 7, 36]:\n",
    "\tplt.plot(real[0:24, i], label=\"Real\")\n",
    "\tplt.plot(pred[0:24, i], label=\"Predicted\")\n",
    "\tplt.ylabel('Head')\n",
    "\tplt.xlabel('Timestep')\n",
    "\tplt.legend()\n",
    "\twandb.log({f'Node {i}': wandb.Image(plt)})\n",
    "\tplt.close()\n",
    "\n",
    "# Create a table\n",
    "\n",
    "# Add Plotly figure as HTML file into Table\n",
    "# table = wandb.Table(columns = [\"Figure\" + str(i)])\n",
    "# with open('./my_HTML_' + str(i) + '.html', 'r', encoding='utf-8') as file:\n",
    "# \thtml_content = file.read()\n",
    "# table.add_data(wandb.Html(html_content))\n",
    "# display(f)\n",
    "wandb.finish()"
   ]
  },
  {
   "cell_type": "code",
   "execution_count": 44,
   "metadata": {
    "ExecuteTime": {
     "end_time": "2023-10-04T09:05:30.107507800Z",
     "start_time": "2023-10-04T09:05:29.978743100Z"
    }
   },
   "outputs": [
    {
     "name": "stdout",
     "output_type": "stream",
     "text": [
      "The latest WDN folder is: unrolling_WDN0181\n"
     ]
    },
    {
     "ename": "FileNotFoundError",
     "evalue": "[Errno 2] No such file or directory: './experiments/unrolling_WDN0181/FOS_tank/BaselineUnrolling/pred/testing/0.csv'",
     "output_type": "error",
     "traceback": [
      "\u001B[1;31m---------------------------------------------------------------------------\u001B[0m",
      "\u001B[1;31mFileNotFoundError\u001B[0m                         Traceback (most recent call last)",
      "Cell \u001B[1;32mIn[44], line 28\u001B[0m\n\u001B[0;32m     26\u001B[0m real \u001B[38;5;241m=\u001B[39m pd\u001B[38;5;241m.\u001B[39mread_csv(\u001B[38;5;124mf\u001B[39m\u001B[38;5;124m'\u001B[39m\u001B[38;5;124m./experiments/unrolling_WDN\u001B[39m\u001B[38;5;132;01m{\u001B[39;00mlatest_wdn_number\u001B[38;5;132;01m:\u001B[39;00m\u001B[38;5;124m04d\u001B[39m\u001B[38;5;132;01m}\u001B[39;00m\u001B[38;5;124m/FOS_tank/LSTM/pred/testing/real.csv\u001B[39m\u001B[38;5;124m'\u001B[39m)\u001B[38;5;241m.\u001B[39mdrop(columns\u001B[38;5;241m=\u001B[39m[\u001B[38;5;124m'\u001B[39m\u001B[38;5;124mUnnamed: 0\u001B[39m\u001B[38;5;124m'\u001B[39m])\n\u001B[0;32m     27\u001B[0m lstm_pred \u001B[38;5;241m=\u001B[39m pd\u001B[38;5;241m.\u001B[39mread_csv(\u001B[38;5;124mf\u001B[39m\u001B[38;5;124m'\u001B[39m\u001B[38;5;124m./experiments/unrolling_WDN\u001B[39m\u001B[38;5;132;01m{\u001B[39;00mlatest_wdn_number\u001B[38;5;132;01m:\u001B[39;00m\u001B[38;5;124m04d\u001B[39m\u001B[38;5;132;01m}\u001B[39;00m\u001B[38;5;124m/FOS_tank/LSTM/pred/testing/0.csv\u001B[39m\u001B[38;5;124m'\u001B[39m)\u001B[38;5;241m.\u001B[39mdrop(columns\u001B[38;5;241m=\u001B[39m[\u001B[38;5;124m'\u001B[39m\u001B[38;5;124mUnnamed: 0\u001B[39m\u001B[38;5;124m'\u001B[39m])\n\u001B[1;32m---> 28\u001B[0m unrolling_pred \u001B[38;5;241m=\u001B[39m  \u001B[43mpd\u001B[49m\u001B[38;5;241;43m.\u001B[39;49m\u001B[43mread_csv\u001B[49m\u001B[43m(\u001B[49m\u001B[38;5;124;43mf\u001B[39;49m\u001B[38;5;124;43m'\u001B[39;49m\u001B[38;5;124;43m./experiments/unrolling_WDN\u001B[39;49m\u001B[38;5;132;43;01m{\u001B[39;49;00m\u001B[43mlatest_wdn_number\u001B[49m\u001B[38;5;132;43;01m:\u001B[39;49;00m\u001B[38;5;124;43m04d\u001B[39;49m\u001B[38;5;132;43;01m}\u001B[39;49;00m\u001B[38;5;124;43m/FOS_tank/BaselineUnrolling/pred/testing/0.csv\u001B[39;49m\u001B[38;5;124;43m'\u001B[39;49m\u001B[43m)\u001B[49m\u001B[38;5;241m.\u001B[39mdrop(columns\u001B[38;5;241m=\u001B[39m[\u001B[38;5;124m'\u001B[39m\u001B[38;5;124mUnnamed: 0\u001B[39m\u001B[38;5;124m'\u001B[39m])\n",
      "File \u001B[1;32m~\\anaconda3\\lib\\site-packages\\pandas\\util\\_decorators.py:311\u001B[0m, in \u001B[0;36mdeprecate_nonkeyword_arguments.<locals>.decorate.<locals>.wrapper\u001B[1;34m(*args, **kwargs)\u001B[0m\n\u001B[0;32m    305\u001B[0m \u001B[38;5;28;01mif\u001B[39;00m \u001B[38;5;28mlen\u001B[39m(args) \u001B[38;5;241m>\u001B[39m num_allow_args:\n\u001B[0;32m    306\u001B[0m     warnings\u001B[38;5;241m.\u001B[39mwarn(\n\u001B[0;32m    307\u001B[0m         msg\u001B[38;5;241m.\u001B[39mformat(arguments\u001B[38;5;241m=\u001B[39marguments),\n\u001B[0;32m    308\u001B[0m         \u001B[38;5;167;01mFutureWarning\u001B[39;00m,\n\u001B[0;32m    309\u001B[0m         stacklevel\u001B[38;5;241m=\u001B[39mstacklevel,\n\u001B[0;32m    310\u001B[0m     )\n\u001B[1;32m--> 311\u001B[0m \u001B[38;5;28;01mreturn\u001B[39;00m func(\u001B[38;5;241m*\u001B[39margs, \u001B[38;5;241m*\u001B[39m\u001B[38;5;241m*\u001B[39mkwargs)\n",
      "File \u001B[1;32m~\\anaconda3\\lib\\site-packages\\pandas\\io\\parsers\\readers.py:680\u001B[0m, in \u001B[0;36mread_csv\u001B[1;34m(filepath_or_buffer, sep, delimiter, header, names, index_col, usecols, squeeze, prefix, mangle_dupe_cols, dtype, engine, converters, true_values, false_values, skipinitialspace, skiprows, skipfooter, nrows, na_values, keep_default_na, na_filter, verbose, skip_blank_lines, parse_dates, infer_datetime_format, keep_date_col, date_parser, dayfirst, cache_dates, iterator, chunksize, compression, thousands, decimal, lineterminator, quotechar, quoting, doublequote, escapechar, comment, encoding, encoding_errors, dialect, error_bad_lines, warn_bad_lines, on_bad_lines, delim_whitespace, low_memory, memory_map, float_precision, storage_options)\u001B[0m\n\u001B[0;32m    665\u001B[0m kwds_defaults \u001B[38;5;241m=\u001B[39m _refine_defaults_read(\n\u001B[0;32m    666\u001B[0m     dialect,\n\u001B[0;32m    667\u001B[0m     delimiter,\n\u001B[1;32m   (...)\u001B[0m\n\u001B[0;32m    676\u001B[0m     defaults\u001B[38;5;241m=\u001B[39m{\u001B[38;5;124m\"\u001B[39m\u001B[38;5;124mdelimiter\u001B[39m\u001B[38;5;124m\"\u001B[39m: \u001B[38;5;124m\"\u001B[39m\u001B[38;5;124m,\u001B[39m\u001B[38;5;124m\"\u001B[39m},\n\u001B[0;32m    677\u001B[0m )\n\u001B[0;32m    678\u001B[0m kwds\u001B[38;5;241m.\u001B[39mupdate(kwds_defaults)\n\u001B[1;32m--> 680\u001B[0m \u001B[38;5;28;01mreturn\u001B[39;00m \u001B[43m_read\u001B[49m\u001B[43m(\u001B[49m\u001B[43mfilepath_or_buffer\u001B[49m\u001B[43m,\u001B[49m\u001B[43m \u001B[49m\u001B[43mkwds\u001B[49m\u001B[43m)\u001B[49m\n",
      "File \u001B[1;32m~\\anaconda3\\lib\\site-packages\\pandas\\io\\parsers\\readers.py:575\u001B[0m, in \u001B[0;36m_read\u001B[1;34m(filepath_or_buffer, kwds)\u001B[0m\n\u001B[0;32m    572\u001B[0m _validate_names(kwds\u001B[38;5;241m.\u001B[39mget(\u001B[38;5;124m\"\u001B[39m\u001B[38;5;124mnames\u001B[39m\u001B[38;5;124m\"\u001B[39m, \u001B[38;5;28;01mNone\u001B[39;00m))\n\u001B[0;32m    574\u001B[0m \u001B[38;5;66;03m# Create the parser.\u001B[39;00m\n\u001B[1;32m--> 575\u001B[0m parser \u001B[38;5;241m=\u001B[39m TextFileReader(filepath_or_buffer, \u001B[38;5;241m*\u001B[39m\u001B[38;5;241m*\u001B[39mkwds)\n\u001B[0;32m    577\u001B[0m \u001B[38;5;28;01mif\u001B[39;00m chunksize \u001B[38;5;129;01mor\u001B[39;00m iterator:\n\u001B[0;32m    578\u001B[0m     \u001B[38;5;28;01mreturn\u001B[39;00m parser\n",
      "File \u001B[1;32m~\\anaconda3\\lib\\site-packages\\pandas\\io\\parsers\\readers.py:934\u001B[0m, in \u001B[0;36mTextFileReader.__init__\u001B[1;34m(self, f, engine, **kwds)\u001B[0m\n\u001B[0;32m    931\u001B[0m     \u001B[38;5;28mself\u001B[39m\u001B[38;5;241m.\u001B[39moptions[\u001B[38;5;124m\"\u001B[39m\u001B[38;5;124mhas_index_names\u001B[39m\u001B[38;5;124m\"\u001B[39m] \u001B[38;5;241m=\u001B[39m kwds[\u001B[38;5;124m\"\u001B[39m\u001B[38;5;124mhas_index_names\u001B[39m\u001B[38;5;124m\"\u001B[39m]\n\u001B[0;32m    933\u001B[0m \u001B[38;5;28mself\u001B[39m\u001B[38;5;241m.\u001B[39mhandles: IOHandles \u001B[38;5;241m|\u001B[39m \u001B[38;5;28;01mNone\u001B[39;00m \u001B[38;5;241m=\u001B[39m \u001B[38;5;28;01mNone\u001B[39;00m\n\u001B[1;32m--> 934\u001B[0m \u001B[38;5;28mself\u001B[39m\u001B[38;5;241m.\u001B[39m_engine \u001B[38;5;241m=\u001B[39m \u001B[38;5;28;43mself\u001B[39;49m\u001B[38;5;241;43m.\u001B[39;49m\u001B[43m_make_engine\u001B[49m\u001B[43m(\u001B[49m\u001B[43mf\u001B[49m\u001B[43m,\u001B[49m\u001B[43m \u001B[49m\u001B[38;5;28;43mself\u001B[39;49m\u001B[38;5;241;43m.\u001B[39;49m\u001B[43mengine\u001B[49m\u001B[43m)\u001B[49m\n",
      "File \u001B[1;32m~\\anaconda3\\lib\\site-packages\\pandas\\io\\parsers\\readers.py:1218\u001B[0m, in \u001B[0;36mTextFileReader._make_engine\u001B[1;34m(self, f, engine)\u001B[0m\n\u001B[0;32m   1214\u001B[0m     mode \u001B[38;5;241m=\u001B[39m \u001B[38;5;124m\"\u001B[39m\u001B[38;5;124mrb\u001B[39m\u001B[38;5;124m\"\u001B[39m\n\u001B[0;32m   1215\u001B[0m \u001B[38;5;66;03m# error: No overload variant of \"get_handle\" matches argument types\u001B[39;00m\n\u001B[0;32m   1216\u001B[0m \u001B[38;5;66;03m# \"Union[str, PathLike[str], ReadCsvBuffer[bytes], ReadCsvBuffer[str]]\"\u001B[39;00m\n\u001B[0;32m   1217\u001B[0m \u001B[38;5;66;03m# , \"str\", \"bool\", \"Any\", \"Any\", \"Any\", \"Any\", \"Any\"\u001B[39;00m\n\u001B[1;32m-> 1218\u001B[0m \u001B[38;5;28mself\u001B[39m\u001B[38;5;241m.\u001B[39mhandles \u001B[38;5;241m=\u001B[39m \u001B[43mget_handle\u001B[49m\u001B[43m(\u001B[49m\u001B[43m  \u001B[49m\u001B[38;5;66;43;03m# type: ignore[call-overload]\u001B[39;49;00m\n\u001B[0;32m   1219\u001B[0m \u001B[43m    \u001B[49m\u001B[43mf\u001B[49m\u001B[43m,\u001B[49m\n\u001B[0;32m   1220\u001B[0m \u001B[43m    \u001B[49m\u001B[43mmode\u001B[49m\u001B[43m,\u001B[49m\n\u001B[0;32m   1221\u001B[0m \u001B[43m    \u001B[49m\u001B[43mencoding\u001B[49m\u001B[38;5;241;43m=\u001B[39;49m\u001B[38;5;28;43mself\u001B[39;49m\u001B[38;5;241;43m.\u001B[39;49m\u001B[43moptions\u001B[49m\u001B[38;5;241;43m.\u001B[39;49m\u001B[43mget\u001B[49m\u001B[43m(\u001B[49m\u001B[38;5;124;43m\"\u001B[39;49m\u001B[38;5;124;43mencoding\u001B[39;49m\u001B[38;5;124;43m\"\u001B[39;49m\u001B[43m,\u001B[49m\u001B[43m \u001B[49m\u001B[38;5;28;43;01mNone\u001B[39;49;00m\u001B[43m)\u001B[49m\u001B[43m,\u001B[49m\n\u001B[0;32m   1222\u001B[0m \u001B[43m    \u001B[49m\u001B[43mcompression\u001B[49m\u001B[38;5;241;43m=\u001B[39;49m\u001B[38;5;28;43mself\u001B[39;49m\u001B[38;5;241;43m.\u001B[39;49m\u001B[43moptions\u001B[49m\u001B[38;5;241;43m.\u001B[39;49m\u001B[43mget\u001B[49m\u001B[43m(\u001B[49m\u001B[38;5;124;43m\"\u001B[39;49m\u001B[38;5;124;43mcompression\u001B[39;49m\u001B[38;5;124;43m\"\u001B[39;49m\u001B[43m,\u001B[49m\u001B[43m \u001B[49m\u001B[38;5;28;43;01mNone\u001B[39;49;00m\u001B[43m)\u001B[49m\u001B[43m,\u001B[49m\n\u001B[0;32m   1223\u001B[0m \u001B[43m    \u001B[49m\u001B[43mmemory_map\u001B[49m\u001B[38;5;241;43m=\u001B[39;49m\u001B[38;5;28;43mself\u001B[39;49m\u001B[38;5;241;43m.\u001B[39;49m\u001B[43moptions\u001B[49m\u001B[38;5;241;43m.\u001B[39;49m\u001B[43mget\u001B[49m\u001B[43m(\u001B[49m\u001B[38;5;124;43m\"\u001B[39;49m\u001B[38;5;124;43mmemory_map\u001B[39;49m\u001B[38;5;124;43m\"\u001B[39;49m\u001B[43m,\u001B[49m\u001B[43m \u001B[49m\u001B[38;5;28;43;01mFalse\u001B[39;49;00m\u001B[43m)\u001B[49m\u001B[43m,\u001B[49m\n\u001B[0;32m   1224\u001B[0m \u001B[43m    \u001B[49m\u001B[43mis_text\u001B[49m\u001B[38;5;241;43m=\u001B[39;49m\u001B[43mis_text\u001B[49m\u001B[43m,\u001B[49m\n\u001B[0;32m   1225\u001B[0m \u001B[43m    \u001B[49m\u001B[43merrors\u001B[49m\u001B[38;5;241;43m=\u001B[39;49m\u001B[38;5;28;43mself\u001B[39;49m\u001B[38;5;241;43m.\u001B[39;49m\u001B[43moptions\u001B[49m\u001B[38;5;241;43m.\u001B[39;49m\u001B[43mget\u001B[49m\u001B[43m(\u001B[49m\u001B[38;5;124;43m\"\u001B[39;49m\u001B[38;5;124;43mencoding_errors\u001B[39;49m\u001B[38;5;124;43m\"\u001B[39;49m\u001B[43m,\u001B[49m\u001B[43m \u001B[49m\u001B[38;5;124;43m\"\u001B[39;49m\u001B[38;5;124;43mstrict\u001B[39;49m\u001B[38;5;124;43m\"\u001B[39;49m\u001B[43m)\u001B[49m\u001B[43m,\u001B[49m\n\u001B[0;32m   1226\u001B[0m \u001B[43m    \u001B[49m\u001B[43mstorage_options\u001B[49m\u001B[38;5;241;43m=\u001B[39;49m\u001B[38;5;28;43mself\u001B[39;49m\u001B[38;5;241;43m.\u001B[39;49m\u001B[43moptions\u001B[49m\u001B[38;5;241;43m.\u001B[39;49m\u001B[43mget\u001B[49m\u001B[43m(\u001B[49m\u001B[38;5;124;43m\"\u001B[39;49m\u001B[38;5;124;43mstorage_options\u001B[39;49m\u001B[38;5;124;43m\"\u001B[39;49m\u001B[43m,\u001B[49m\u001B[43m \u001B[49m\u001B[38;5;28;43;01mNone\u001B[39;49;00m\u001B[43m)\u001B[49m\u001B[43m,\u001B[49m\n\u001B[0;32m   1227\u001B[0m \u001B[43m\u001B[49m\u001B[43m)\u001B[49m\n\u001B[0;32m   1228\u001B[0m \u001B[38;5;28;01massert\u001B[39;00m \u001B[38;5;28mself\u001B[39m\u001B[38;5;241m.\u001B[39mhandles \u001B[38;5;129;01mis\u001B[39;00m \u001B[38;5;129;01mnot\u001B[39;00m \u001B[38;5;28;01mNone\u001B[39;00m\n\u001B[0;32m   1229\u001B[0m f \u001B[38;5;241m=\u001B[39m \u001B[38;5;28mself\u001B[39m\u001B[38;5;241m.\u001B[39mhandles\u001B[38;5;241m.\u001B[39mhandle\n",
      "File \u001B[1;32m~\\anaconda3\\lib\\site-packages\\pandas\\io\\common.py:786\u001B[0m, in \u001B[0;36mget_handle\u001B[1;34m(path_or_buf, mode, encoding, compression, memory_map, is_text, errors, storage_options)\u001B[0m\n\u001B[0;32m    781\u001B[0m \u001B[38;5;28;01melif\u001B[39;00m \u001B[38;5;28misinstance\u001B[39m(handle, \u001B[38;5;28mstr\u001B[39m):\n\u001B[0;32m    782\u001B[0m     \u001B[38;5;66;03m# Check whether the filename is to be opened in binary mode.\u001B[39;00m\n\u001B[0;32m    783\u001B[0m     \u001B[38;5;66;03m# Binary mode does not support 'encoding' and 'newline'.\u001B[39;00m\n\u001B[0;32m    784\u001B[0m     \u001B[38;5;28;01mif\u001B[39;00m ioargs\u001B[38;5;241m.\u001B[39mencoding \u001B[38;5;129;01mand\u001B[39;00m \u001B[38;5;124m\"\u001B[39m\u001B[38;5;124mb\u001B[39m\u001B[38;5;124m\"\u001B[39m \u001B[38;5;129;01mnot\u001B[39;00m \u001B[38;5;129;01min\u001B[39;00m ioargs\u001B[38;5;241m.\u001B[39mmode:\n\u001B[0;32m    785\u001B[0m         \u001B[38;5;66;03m# Encoding\u001B[39;00m\n\u001B[1;32m--> 786\u001B[0m         handle \u001B[38;5;241m=\u001B[39m \u001B[38;5;28;43mopen\u001B[39;49m\u001B[43m(\u001B[49m\n\u001B[0;32m    787\u001B[0m \u001B[43m            \u001B[49m\u001B[43mhandle\u001B[49m\u001B[43m,\u001B[49m\n\u001B[0;32m    788\u001B[0m \u001B[43m            \u001B[49m\u001B[43mioargs\u001B[49m\u001B[38;5;241;43m.\u001B[39;49m\u001B[43mmode\u001B[49m\u001B[43m,\u001B[49m\n\u001B[0;32m    789\u001B[0m \u001B[43m            \u001B[49m\u001B[43mencoding\u001B[49m\u001B[38;5;241;43m=\u001B[39;49m\u001B[43mioargs\u001B[49m\u001B[38;5;241;43m.\u001B[39;49m\u001B[43mencoding\u001B[49m\u001B[43m,\u001B[49m\n\u001B[0;32m    790\u001B[0m \u001B[43m            \u001B[49m\u001B[43merrors\u001B[49m\u001B[38;5;241;43m=\u001B[39;49m\u001B[43merrors\u001B[49m\u001B[43m,\u001B[49m\n\u001B[0;32m    791\u001B[0m \u001B[43m            \u001B[49m\u001B[43mnewline\u001B[49m\u001B[38;5;241;43m=\u001B[39;49m\u001B[38;5;124;43m\"\u001B[39;49m\u001B[38;5;124;43m\"\u001B[39;49m\u001B[43m,\u001B[49m\n\u001B[0;32m    792\u001B[0m \u001B[43m        \u001B[49m\u001B[43m)\u001B[49m\n\u001B[0;32m    793\u001B[0m     \u001B[38;5;28;01melse\u001B[39;00m:\n\u001B[0;32m    794\u001B[0m         \u001B[38;5;66;03m# Binary mode\u001B[39;00m\n\u001B[0;32m    795\u001B[0m         handle \u001B[38;5;241m=\u001B[39m \u001B[38;5;28mopen\u001B[39m(handle, ioargs\u001B[38;5;241m.\u001B[39mmode)\n",
      "\u001B[1;31mFileNotFoundError\u001B[0m: [Errno 2] No such file or directory: './experiments/unrolling_WDN0181/FOS_tank/BaselineUnrolling/pred/testing/0.csv'"
     ]
    }
   ],
   "source": [
    "import os\n",
    "import regex as re\n",
    "# Directory path where you want to search\n",
    "directory_path = \"./experiments\"\n",
    "\n",
    "# Get a list of all subdirectories in the specified directory\n",
    "subdirectories = [d for d in os.listdir(directory_path) if os.path.isdir(os.path.join(directory_path, d))]\n",
    "\n",
    "# Filter and extract the numbers from directory names\n",
    "wdn_numbers = []\n",
    "for subdir in subdirectories:\n",
    "    match = re.match(r'unrolling_WDN(\\d{4})', subdir)\n",
    "    if match:\n",
    "        wdn_numbers.append(int(match.group(1)))\n",
    "\n",
    "# Find the latest WDN number\n",
    "latest_wdn_number = None\n",
    "if wdn_numbers:\n",
    "    latest_wdn_number = max(wdn_numbers)\n",
    "    latest_wdn_folder = f'unrolling_WDN{latest_wdn_number:04d}'\n",
    "    print(f\"The latest WDN folder is: {latest_wdn_folder}\")\n",
    "else:\n",
    "    print(\"No WDN folders found in the specified directory.\")\n",
    "\n",
    "if latest_wdn_folder is not None:\n",
    "\treal = pd.read_csv(f'./experiments/unrolling_WDN{latest_wdn_number:04d}/FOS_tank/LSTM/pred/testing/real.csv').drop(columns=['Unnamed: 0'])\n",
    "\tlstm_pred = pd.read_csv(f'./experiments/unrolling_WDN{latest_wdn_number:04d}/FOS_tank/LSTM/pred/testing/0.csv').drop(columns=['Unnamed: 0'])\n",
    "\tunrolling_pred =  pd.read_csv(f'./experiments/unrolling_WDN{latest_wdn_number:04d}/FOS_tank/BaselineUnrolling/pred/testing/0.csv').drop(columns=['Unnamed: 0'])"
   ]
  },
  {
   "cell_type": "code",
   "execution_count": null,
   "metadata": {
    "ExecuteTime": {
     "start_time": "2023-10-04T09:05:30.107507800Z"
    }
   },
   "outputs": [],
   "source": [
    "import matplotlib.pyplot as plt\n",
    "# Not sure if below makes sense since we now have an extra dimension\n",
    "res = real.sub(lstm_pred).pow(2).sum(axis=0)\n",
    "tot = real.sub(lstm_pred.mean(axis=0)).pow(2).sum(axis=0)\n",
    "r2_lstm = 1 - res/tot\n",
    "res = real.sub(unrolling_pred).pow(2).sum(axis=0)\n",
    "tot = real.sub(unrolling_pred.mean(axis=0)).pow(2).sum(axis=0)\n",
    "r2_unrolling = 1 - res/tot\n",
    "r2s = pd.concat([r2_lstm,r2_unrolling],axis=1).rename(columns={0:'LSTM',1:'Base-U'})\n",
    "fig, ax = plt.subplots()\n",
    "r2s.plot.box(ax=ax)\n",
    "ax.set_title(\"$R^2$ Scores Comparison for PES\")\n",
    "ax.set_ylabel('$R^2$ Score')\n",
    "plt.show()"
   ]
  },
  {
   "cell_type": "code",
   "execution_count": null,
   "metadata": {
    "ExecuteTime": {
     "end_time": "2023-10-04T09:05:30.115700400Z",
     "start_time": "2023-10-04T09:05:30.115700400Z"
    }
   },
   "outputs": [],
   "source": [
    "model = torch.load(f'{results_folder}/{wdn}/{algorithm}/model.pickle')"
   ]
  },
  {
   "cell_type": "code",
   "execution_count": null,
   "metadata": {
    "ExecuteTime": {
     "start_time": "2023-10-04T09:05:30.115700400Z"
    }
   },
   "outputs": [],
   "source": []
  }
 ],
 "metadata": {
  "kernelspec": {
   "display_name": "Python 3 (ipykernel)",
   "language": "python",
   "name": "python3"
  },
  "language_info": {
   "codemirror_mode": {
    "name": "ipython",
    "version": 3
   },
   "file_extension": ".py",
   "mimetype": "text/x-python",
   "name": "python",
   "nbconvert_exporter": "python",
   "pygments_lexer": "ipython3",
   "version": "3.9.18"
  }
 },
 "nbformat": 4,
 "nbformat_minor": 1
}
