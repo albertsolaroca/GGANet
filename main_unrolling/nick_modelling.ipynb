{
 "cells": [
  {
   "cell_type": "markdown",
   "metadata": {},
   "source": [
    "## Imports"
   ]
  },
  {
   "cell_type": "code",
   "execution_count": 1,
   "metadata": {
    "ExecuteTime": {
     "end_time": "2023-10-12T13:06:42.973911400Z",
     "start_time": "2023-10-12T13:06:37.405843300Z"
    }
   },
   "outputs": [],
   "source": [
    "import pandas as pd\n",
    "import numpy as np\n",
    "import math\n",
    "from sklearn.model_selection import ParameterGrid\n",
    "from sklearn.metrics import r2_score\n",
    "\n",
    "import sys\n",
    "import pickle\n",
    "import wandb\n",
    "\n",
    "import torch\n",
    "import torch.optim as optim\n",
    "import torch_geometric\n",
    "from torch_geometric.utils import to_networkx\n",
    "import torch.nn as nn\n",
    "from torch.nn import Sequential, Linear\n",
    "import networkx as nx\n",
    "import wntr\n",
    "\n",
    "from utils.miscellaneous import read_config\n",
    "from utils.miscellaneous import create_folder_structure_MLPvsGNN\n",
    "from utils.miscellaneous import initalize_random_generators\n",
    "from utils.wandb_logger import log_wandb_data\n",
    "\n",
    "from training.train import training\n",
    "from training.test import testing\n",
    "\n",
    "from utils.visualization import plot_R2, plot_loss\n",
    "from matplotlib\timport pyplot as plt"
   ]
  },
  {
   "cell_type": "markdown",
   "metadata": {},
   "source": [
    "### Parse configuration file + initializations\n"
   ]
  },
  {
   "cell_type": "code",
   "execution_count": 2,
   "metadata": {
    "ExecuteTime": {
     "end_time": "2023-10-12T13:06:43.037565800Z",
     "start_time": "2023-10-12T13:06:42.974387100Z"
    }
   },
   "outputs": [
    {
     "name": "stdout",
     "output_type": "stream",
     "text": [
      "Creating folder: ./experiments/unrolling_WDN0093\n",
      "cpu\n"
     ]
    }
   ],
   "source": [
    "# read config files\n",
    "cfg = read_config(\"config_unrolling.yaml\")\n",
    "# create folder for result\n",
    "exp_name = cfg['exp_name']\n",
    "data_folder = cfg['data_folder']\n",
    "results_folder = create_folder_structure_MLPvsGNN(cfg, parent_folder='./experiments')\n",
    "\n",
    "\n",
    "all_wdn_names = cfg['networks']\n",
    "initalize_random_generators(cfg, count=0)\n",
    "\n",
    "# initialize pytorch device\n",
    "device = torch.device('cuda:0' if torch.cuda.is_available() else 'cpu')\n",
    "print(device)\n",
    "#torch.set_num_threads(12)"
   ]
  },
  {
   "cell_type": "code",
   "execution_count": 3,
   "metadata": {
    "ExecuteTime": {
     "end_time": "2023-10-12T13:06:43.039865800Z",
     "start_time": "2023-10-12T13:06:43.014134500Z"
    }
   },
   "outputs": [],
   "source": [
    "# TO DO: at the moment I am not using the parsed values for batch size and num_epochs ;\n",
    "# I am not using alpha as well because the loss has no \"smoothness\" penalty (yet)\n",
    "batch_size = cfg['trainParams']['batch_size']\n",
    "num_epochs = cfg['trainParams']['num_epochs']\n",
    "alpha = cfg['lossParams']['alpha']\n",
    "res_columns = ['train_loss', 'valid_loss','test_loss','max_train_loss', 'max_valid_loss','max_test_loss', 'min_train_loss', 'min_valid_loss','min_test_loss','r2_train', 'r2_valid',\n",
    "\t\t\t   'r2_test','total_params','total_time','test_time']"
   ]
  },
  {
   "cell_type": "markdown",
   "metadata": {},
   "source": [
    "# Functions"
   ]
  },
  {
   "cell_type": "code",
   "execution_count": 4,
   "metadata": {
    "ExecuteTime": {
     "end_time": "2023-10-12T13:06:43.055511Z",
     "start_time": "2023-10-12T13:06:43.014134500Z"
    }
   },
   "outputs": [],
   "source": [
    "from sklearn.preprocessing import MinMaxScaler\n",
    "from sklearn.base import BaseEstimator,TransformerMixin\n",
    "\n",
    "class PowerLogTransformer(BaseEstimator,TransformerMixin):\n",
    "\tdef __init__(self,log_transform=False,power=4,reverse=True):\n",
    "\t\tif log_transform == True:\n",
    "\t\t\tself.log_transform = log_transform\n",
    "\t\t\tself.power = None\n",
    "\t\telse:\n",
    "\t\t\tself.power = power\n",
    "\t\t\tself.log_transform = None\n",
    "\t\tself.reverse=reverse\n",
    "\t\tself.max_ = None\n",
    "\t\tself.min_ = None\n",
    "\n",
    "\tdef fit(self,X,y=None):\n",
    "\t\tself.max_ = np.max(X)\n",
    "\t\tself.min_ = np.min(X)\n",
    "\t\treturn self\n",
    "\n",
    "\tdef transform(self,X):\n",
    "\t\tif self.log_transform==True:\n",
    "\t\t\tif self.reverse == True:\n",
    "\t\t\t\treturn np.log1p(self.max_-X)\n",
    "\t\t\telse:\n",
    "\t\t\t\treturn np.log1p(X-self.min_)\n",
    "\t\telse:\n",
    "\t\t\tif self.reverse == True:\n",
    "\t\t\t\treturn (self.max_-X)**(1/self.power )\n",
    "\t\t\telse:\n",
    "\t\t\t\treturn (X-self.min_)**(1/self.power )\n",
    "\n",
    "\tdef inverse_transform(self,X):\n",
    "\t\tif self.log_transform==True:\n",
    "\t\t\tif self.reverse == True:\n",
    "\t\t\t\treturn (self.max_ - np.exp(X))\n",
    "\t\t\telse:\n",
    "\t\t\t\treturn (np.exp(X) + self.min_)\n",
    "\t\telse:\n",
    "\t\t\tif self.reverse == True:\n",
    "\t\t\t\treturn (self.max_ - X**self.power )\n",
    "\t\t\telse:\n",
    "\t\t\t\treturn (X**self.power + self.min_)\n",
    "\n",
    "\n",
    "class GraphNormalizer:\n",
    "\tdef __init__(self, x_feat_names=['head', 'base_demand', 'node_diameter'],\n",
    "\t\t\t\t ea_feat_names=['diameter', 'length', 'roughness'], output='pressure'):\n",
    "\t\t# store\n",
    "\t\tself.x_feat_names = x_feat_names\n",
    "\t\tself.ea_feat_names = ea_feat_names\n",
    "\t\tself.output = output\n",
    "\n",
    "\t\t# create separate scaler for each feature (can be improved, e.g., you can fit a scaler for multiple columns)\n",
    "\t\tself.scalers = {}\n",
    "\t\tfor feat in self.x_feat_names:\n",
    "\t\t\tif feat == 'elevation':\n",
    "\t\t\t\tself.scalers[feat] = PowerLogTransformer(log_transform=True, reverse=False)\n",
    "\t\t\telse:\n",
    "\t\t\t\tself.scalers[feat] = MinMaxScaler()\n",
    "\t\tself.scalers[output] = PowerLogTransformer(log_transform=True, reverse=True)\n",
    "\t\tfor feat in self.ea_feat_names:\n",
    "\t\t\tif feat == 'length':\n",
    "\t\t\t\tself.scalers[feat] = PowerLogTransformer(log_transform=True, reverse=False)\n",
    "\t\t\telse:\n",
    "\t\t\t\tself.scalers[feat] = MinMaxScaler()\n",
    "\n",
    "\tdef fit(self, graphs):\n",
    "\t\t''' Fit the scalers on an array of x and ea features\n",
    "        '''\n",
    "\t\tx, y, ea = from_graphs_to_pandas(graphs)\n",
    "\t\t\n",
    "\t\tfor ix, feat in enumerate(self.x_feat_names):\n",
    "\t\t\tself.scalers[feat] = self.scalers[feat].fit(x[:, ix].reshape(-1, 1))\n",
    "\t\t\t\n",
    "\t\tself.scalers[self.output] = self.scalers[self.output].fit(y.reshape(-1, 1))\n",
    "\t\t\n",
    "\t\tfor ix, feat in enumerate(self.ea_feat_names):\n",
    "\t\t\tself.scalers[feat] = self.scalers[feat].fit(ea[:, ix].reshape(-1, 1))\n",
    "\t\t\t\n",
    "\t\treturn self\n",
    "\n",
    "\tdef transform(self, graph):\n",
    "\t\t''' Transform graph based on normalizer\n",
    "        '''\n",
    "\t\tgraph = graph.clone()\n",
    "\t\tfor ix, feat in enumerate(self.x_feat_names):\n",
    "\t\t\ttemp = graph.x[:, ix].numpy().reshape(-1, 1)\n",
    "\t\t\tgraph.x[:, ix] = torch.tensor(self.scalers[feat].transform(temp).reshape(-1))\n",
    "\t\tfor ix, feat in enumerate(self.ea_feat_names):\n",
    "\t\t\ttemp = graph.edge_attr[:, ix].numpy().reshape(-1, 1)\n",
    "\t\t\tgraph.edge_attr[:, ix] = torch.tensor(self.scalers[feat].transform(temp).reshape(-1))\n",
    "\t\t\n",
    "\t\tif isinstance(graph.y, list):\n",
    "\t\t\ttransformed_y = []\n",
    "\t\t\tfor i, el in enumerate(graph.y):\n",
    "\t\t\t\ttransformed_y.append(torch.tensor(self.scalers[self.output].transform(graph.y[i].numpy().reshape(-1, 1)).reshape(-1)))\n",
    "\t\t\tgraph.y = transformed_y\n",
    "\t\telse:\n",
    "\t\t\tgraph.y = torch.tensor(self.scalers[self.output].transform(graph.y.numpy().reshape(-1, 1)).reshape(-1))\n",
    "\t\treturn graph\n",
    "\n",
    "\tdef inverse_transform(self, graph):\n",
    "\t\t''' Perform inverse transformation to return original features\n",
    "        '''\n",
    "\t\tgraph = graph.clone()\n",
    "\t\tfor ix, feat in enumerate(self.x_feat_names):\n",
    "\t\t\ttemp = graph.x[:, ix].numpy().reshape(-1, 1)\n",
    "\t\t\tgraph.x[:, ix] = torch.tensor(self.scalers[feat].inverse_transform(temp).reshape(-1))\n",
    "\t\tfor ix, feat in enumerate(self.ea_feat_names):\n",
    "\t\t\ttemp = graph.edge_attr[:, ix].numpy().reshape(-1, 1)\n",
    "\t\t\tgraph.edge_attr[:, ix] = torch.tensor(self.scalers[feat].inverse_transform(temp).reshape(-1))\n",
    "\t\tgraph.y = torch.tensor(self.scalers[self.output].inverse_transform(graph.y.numpy().reshape(-1, 1)).reshape(-1))\n",
    "\t\treturn graph\n",
    "\n",
    "\tdef transform_array(self, z, feat_name):\n",
    "\t\t'''\n",
    "            This is for MLP dataset; it can be done better (the entire thing, from raw data to datasets)\n",
    "        '''\n",
    "\t\treturn torch.tensor(self.scalers[feat_name].transform(z).reshape(-1))\n",
    "\n",
    "\tdef inverse_transform_array(self, z, feat_name):\n",
    "\t\t'''\n",
    "            This is for MLP dataset; it can be done better (the entire thing, from raw data to datasets)\n",
    "        '''\n",
    "\t\treturn torch.tensor(self.scalers[feat_name].inverse_transform(z).reshape(-1))\n",
    "\n",
    "def from_graphs_to_pandas(graphs):\n",
    "\tx = []\n",
    "\ty = []\n",
    "\tea = []\n",
    "\tfor i, graph in enumerate(graphs):\n",
    "\t\tx.append(graph.x.numpy())\n",
    "\t\t\n",
    "\t\tif isinstance(graph.y, list):\n",
    "\t\t\t\n",
    "\t\t\ty.append(np.concatenate(graph.y, axis=0))\n",
    "\t\telse:\n",
    "\t\t\ty.append(graph.y.numpy())\n",
    "\n",
    "\t\tea.append(graph.edge_attr.numpy())\n",
    "\t\n",
    "\treturn np.concatenate(x, axis=0), np.concatenate(y, axis=0), np.concatenate(ea, axis=0)\n"
   ]
  },
  {
   "cell_type": "code",
   "execution_count": 5,
   "metadata": {
    "ExecuteTime": {
     "end_time": "2023-10-12T13:06:43.093490700Z",
     "start_time": "2023-10-12T13:06:43.072072700Z"
    }
   },
   "outputs": [],
   "source": [
    "# Constant indexes that help reconstruct the graph structure\n",
    "# Below are the indexes of the node attributes in the x torch vector\n",
    "HEAD_INDEX = 0 # Elevation + base head + initial level\n",
    "BASEDEMAND_INDEX = 1 \n",
    "NODE_DIAMETER_INDEX = 2 # Needed for tanks\n",
    "TYPE_INDEX = 3\n",
    "# The following three indexes describe edges in the edge_attr torch vector\n",
    "DIAMETER_INDEX = 0 \n",
    "LENGTH_INDEX = 1 \n",
    "ROUGHNESS_INDEX = 2 \n",
    "FLOW_INDEX = 3 \n",
    "POWER_INDEX = 4\n",
    "# The following three indexes describe the node types inside the x torch vector -> TYPE_INDEX variable\n",
    "JUNCTION_TYPE = 0\n",
    "RESERVOIR_TYPE = 1\n",
    "TANK_TYPE = 2\n",
    "\n",
    "def load_raw_dataset(wdn_name, data_folder):\n",
    "\t'''\n",
    "\tLoad tra/val/data for a water distribution network datasets\n",
    "\t-------\n",
    "\twdn_name : string\n",
    "\t\tprefix of pickle files to open\n",
    "\tdata_folder : string\n",
    "\t\tpath to datasets\n",
    "\t'''\n",
    "\n",
    "\tdata_tra = pickle.load(open(f'{data_folder}/train/{wdn_name}.p', \"rb\"))\n",
    "\tdata_val = pickle.load(open(f'{data_folder}/valid/{wdn_name}.p', \"rb\"))\n",
    "\tdata_tst = pickle.load(open(f'{data_folder}/test/{wdn_name}.p', \"rb\"))\n",
    "\n",
    "\treturn data_tra, data_val, data_tst\n",
    "\n",
    "def create_dataset(database, normalizer=None, output='pressure'):\n",
    "\t'''\n",
    "\tCreates working datasets dataset from the pickle databases\n",
    "\t------\n",
    "\tdatabase : list\n",
    "\t\teach element in the list is a pickle file containing Data objects\n",
    "\tnormalization: dict\n",
    "\t\tnormalize the dataset using mean and std\n",
    "\t'''\n",
    "\n",
    "\tgraphs = []\n",
    "\n",
    "\tfor i in database:\n",
    "\t\t\n",
    "\t\tgraph = torch_geometric.data.Data()\n",
    "\n",
    "\t\t# Node attributes\n",
    "\t\t# min_elevation = min(i.elevation[i.type_1H == 0])\n",
    "\t\t\n",
    "\t\t# The head below is junctions plus reservoirs (plus tanks when implemented)\n",
    "\t\thead = i.pressure + i.base_head + i.elevation + i.initial_level\n",
    "\t\t# type_1H is equal to 1 when the node is a reservoir and 2 when it's a tank\n",
    "\t\t\n",
    "\t\t# We want to make the tuple that constructs a node of any type\n",
    "\t\tgraph.x = torch.stack((i.elevation + i.base_head + i.initial_level, i.base_demand, i.node_diameter, i.node_type), dim=1).float()\n",
    "\t\t# graph.x = torch.stack((i.elevation + i.base_head, i.base_demand, i.type_1H), dim=1).float()\n",
    "\n",
    "\t\t# Position and ID\n",
    "\t\tgraph.pos = i.pos\n",
    "\t\tgraph.ID = i.ID\n",
    "\n",
    "\t\t# Edge index (Adjacency matrix)\n",
    "\t\tgraph.edge_index = i.edge_index\n",
    "\n",
    "\t\t# Edge attributes\n",
    "\t\tdiameter = i.diameter\n",
    "\t\tlength = i.length\n",
    "\t\troughness = i.roughness\n",
    "\t\tgraph.edge_attr = torch.stack((diameter, length, roughness), dim=1).float()\n",
    "\n",
    "\t\t# If the length of the shape of pressure was 2 then it means that the simulation was continuous\n",
    "\t\tpress_shape = i.pressure.shape\n",
    "\t\tif len(press_shape) == 2:\n",
    "\t\t\tgraph.y = []\n",
    "\t\t\tfor time_step in range(press_shape[0]):\n",
    "\t\t\t\t# Appending the tanks to the output since their pressures also need to be predicted like any other node\n",
    "\t\t\t\tgraph.y.append(i.pressure[time_step][[(i.node_type == 0) | (i.node_type == 2)]].reshape(-1, 1))\n",
    "\t\telse:\n",
    "\t\t\t# Graph output (head)\n",
    "\t\t\tif output == 'head':\n",
    "\t\t\t\tgraph.y  = head[i.node_type == 0].reshape(-1, 1)\n",
    "\t\t\telse:\n",
    "\t\t\t\tgraph.y = i.pressure[i.node_type == 0].reshape(-1, 1)\n",
    "\t\t# normalization\n",
    "\t\tif normalizer is not None:\n",
    "\t\t\tgraph = normalizer.transform(graph)\n",
    "\n",
    "\t\tgraphs.append(graph)\n",
    "\t\t\n",
    "\tA12 = nx.incidence_matrix(to_networkx(graphs[0]), oriented=True).toarray().transpose()\n",
    "\treturn graphs, A12\n",
    "\n",
    "def create_dataset_MLP_from_graphs(graphs, features=['nodal_demands', 'base_heads','diameter','roughness','length', 'nodal_diameters'],no_res_out=True):\n",
    "\n",
    "\t# index edges to avoid duplicates: this considers all graphs to be UNDIRECTED!\n",
    "\tix_edge = graphs[0].edge_index.numpy().T\n",
    "\tix_edge = (ix_edge[:, 0] < ix_edge[:, 1])\n",
    "\n",
    "\t# position of reservoirs, and tanks\n",
    "\t# reservoir type is 1, tank is 2\n",
    "\tix_junct = graphs[0].x[:,TYPE_INDEX].numpy()==JUNCTION_TYPE\n",
    "\tix_res = graphs[0].x[:,TYPE_INDEX].numpy()==RESERVOIR_TYPE\n",
    "\tix_tank = graphs[0].x[:,TYPE_INDEX].numpy()==TANK_TYPE\n",
    "\tindices = {}\n",
    "\tprev_feature = None\n",
    "\tfor ix_feat, feature in enumerate(features):\n",
    "\t\tfor ix_item, item in enumerate(graphs):\n",
    "\t\t\tif feature == 'diameter':\n",
    "\t\t\t\tx_ = item.edge_attr[ix_edge,DIAMETER_INDEX]\n",
    "\t\t\telif feature == 'roughness':\n",
    "\t\t\t\t# remove reservoirs\n",
    "\t\t\t\tx_ = item.edge_attr[ix_edge,ROUGHNESS_INDEX]\n",
    "\t\t\telif feature == 'length':\n",
    "\t\t\t\t# remove reservoirs\n",
    "\t\t\t\tx_ = item.edge_attr[ix_edge,LENGTH_INDEX]\n",
    "\t\t\telif feature == 'nodal_demands':\n",
    "\t\t\t\t# remove reservoirs\n",
    "\t\t\t\tx_ = item.x[ix_junct,BASEDEMAND_INDEX]\n",
    "\t\t\telif feature == 'nodal_diameters':\n",
    "\t\t\t\t# Only get diameters for \n",
    "\t\t\t\tx_ = item.x[ix_tank,NODE_DIAMETER_INDEX]\n",
    "\t\t\telif feature == 'base_heads':\n",
    "\t\t\t\t# filter below on ix_res or ix_tank\n",
    "\t\t\t\tix_res_or_tank = np.logical_or(ix_res, ix_tank)\n",
    "\t\t\t\tx_ = item.x[ix_res_or_tank,HEAD_INDEX]\n",
    "\t\t\telse:\n",
    "\t\t\t\traise ValueError(f'Feature {feature} not supported.')\t\n",
    "\t\t\t\n",
    "\t\t\tif ix_item == 0:\n",
    "\t\t\t\tx = x_\n",
    "\t\t\telse:\n",
    "\t\t\t\tx = torch.cat((x, x_), dim=0)\n",
    "\t\t\n",
    "\t\n",
    "\t\tif ix_feat == 0:\n",
    "\t\t\tX = x.reshape(len(graphs), -1)\n",
    "\t\telse:\n",
    "\t\t\tX = torch.cat((X, x.reshape(len(graphs), -1)), dim=1)\n",
    "\t\t\n",
    "\t\tif prev_feature:\n",
    "\t\t\tindices[feature] = slice(indices[prev_feature].stop, X.shape[1], 1)\n",
    "\t\telse:\n",
    "\t\t\tindices[feature] = slice(0, X.shape[1], 1)\n",
    "\t\t\n",
    "\t\tprev_feature = feature\n",
    "\t\n",
    "\tfor ix_item, item in enumerate(graphs):\n",
    "\t\t# remove reservoirs from y as well\n",
    "\t\tif ix_item == 0:\n",
    "\t\t\tif no_res_out:\n",
    "\t\t\t\tif isinstance(item.y, list):\n",
    "\t\t\t\t\ty = torch.stack(item.y).unsqueeze(0).expand(1, -1, -1)\n",
    "\t\t\t\telse:\n",
    "\t\t\t\t\ty = item.y\n",
    "\t\t\telse:\n",
    "\t\t\t\ty = item.y[ix_junct]\n",
    "\t\t\t\n",
    "\t\telse:\n",
    "\t\t\tif no_res_out:\n",
    "\t\t\t\tif isinstance(item.y, list):\n",
    "\t\t\t\t\ty = torch.cat((y, torch.stack(item.y).unsqueeze(0).expand(1, -1, -1)), dim=0)\n",
    "\t\t\t\telse:\n",
    "\t\t\t\t\ty = torch.cat((y, item.y), dim=0)\n",
    "\t\t\telse:\n",
    "\t\t\t\ty = torch.cat((y, item.y[ix_junct]), dim=0)\n",
    "\t\t\t\t\n",
    "\t\n",
    "\t# If the shape of y is 1D then it means that the simulation was single period and should be turned to 2D according to the amount of graphs, if 3D then it was continuous\n",
    "\tif len(y.shape) == 1:\n",
    "\t\ty = y.reshape(len(graphs), -1)\n",
    "\t# SOMEWHERE HERE THE SEQUENCE LENGTH NEEDS TO BE ADJUSTED\n",
    "\treturn torch.utils.data.TensorDataset(X, y), X.shape[1], indices\n",
    "\n",
    "def create_incidence_matrices(graphs,incidence_matrix):\n",
    "\n",
    "\t# position of reservoirs\n",
    "\n",
    "\tix_junct = graphs[0].x[:,TYPE_INDEX].numpy()==JUNCTION_TYPE\n",
    "\tix_edge = graphs[0].edge_index.numpy().T\n",
    "\tix_edge = (ix_edge[:, 0] < ix_edge[:, 1])\n",
    "\tincidence_matrix = incidence_matrix[ix_edge,:]\n",
    "\t# The A12 incidence matrix is definitely only junctions, but should the A10 include tanks?\n",
    "\tA10 = incidence_matrix[:, ~ix_junct]\n",
    "\tA12 = incidence_matrix[:, ix_junct]\n",
    "\tA12[np.where(A10 == 1),:] *= -1\n",
    "\tA10[np.where(A10 == 1),:] *= -1\n",
    "\treturn A10, A12"
   ]
  },
  {
   "cell_type": "markdown",
   "metadata": {},
   "source": [
    "## Models\n",
    "I will be Creating different models as follows:\n",
    "\n",
    "* A simple LSTM\n",
    "* An unrolled version of Heads and Flows, without static variables\n",
    "* An unrolled version with Heads, Flows and static variables\n"
   ]
  },
  {
   "cell_type": "code",
   "execution_count": 6,
   "metadata": {
    "ExecuteTime": {
     "end_time": "2023-10-12T13:06:43.105484Z",
     "start_time": "2023-10-12T13:06:43.094631500Z"
    }
   },
   "outputs": [],
   "source": [
    "class MLP(nn.Module):\n",
    "\tdef __init__(self, num_outputs, hid_channels, indices, num_layers=6):\n",
    "\t\tsuper(MLP, self).__init__()\n",
    "\t\ttorch.manual_seed(42)\n",
    "\t\tself.hid_channels = hid_channels\n",
    "\t\tself.indices = indices\n",
    "\t\t\n",
    "\t\tself.total_input_length = indices[list(indices.keys())[-1]].stop\n",
    "\t\t\n",
    "\t\tlayers = [Linear(self.total_input_length, hid_channels),\n",
    "\t\t\t\t  nn.ReLU()]\n",
    "\n",
    "\t\tfor l in range(num_layers-1):\n",
    "\t\t\tlayers += [Linear(hid_channels, hid_channels),\n",
    "\t\t\t\t\t   nn.ReLU()]\n",
    "\n",
    "\t\tlayers += [Linear(hid_channels, num_outputs)]\n",
    "\n",
    "\t\tself.main = nn.Sequential(*layers)\n",
    "\n",
    "\tdef forward(self, x, num_steps=1):\n",
    "\n",
    "\t\tx = self.main(x)\n",
    "\n",
    "\t\treturn x"
   ]
  },
  {
   "cell_type": "code",
   "execution_count": 7,
   "metadata": {
    "ExecuteTime": {
     "end_time": "2023-10-12T13:06:43.136544Z",
     "start_time": "2023-10-12T13:06:43.105484Z"
    }
   },
   "outputs": [],
   "source": [
    "import torch.nn.init as init\n",
    "# Define your LSTM model class\n",
    "class LSTM(nn.Module):\n",
    "\tdef __init__(self, num_outputs, hid_channels, indices, num_layers=2):\n",
    "\t\tsuper(LSTM, self).__init__()\n",
    "\t\tself.hidden_size = hid_channels\n",
    "\t\tself.num_layers = num_layers\n",
    "\t\tself.output_size = num_outputs\n",
    "\t\tself.input_size = indices[list(indices.keys())[-1]].stop\n",
    "\t\t\n",
    "\t\t# Define the LSTM layer\n",
    "\t\tself.lstm = nn.LSTM(self.input_size + self.output_size, self.hidden_size, num_layers, batch_first=True)\n",
    "\n",
    "\t\t\n",
    "\t\t# Define the output layer\n",
    "\t\tself.linear = nn.Linear(self.hidden_size, self.output_size)\n",
    "\t\t\t\n",
    "\n",
    "\tdef forward(self, static_input, num_steps=25):\n",
    "\t\t# Initialize hidden state with zeros\n",
    "\t\t# x = x.unsqueeze(1)\n",
    "\t\tbatch_size = static_input.size(0)\n",
    "\t\t\n",
    "\t\t# Initial hidden state and cell state\n",
    "\t\th0 = torch.zeros(self.num_layers, batch_size, self.hidden_size, dtype=torch.float32).to(static_input.device)\n",
    "\t\tc0 = torch.zeros(self.num_layers, batch_size, self.hidden_size, dtype=torch.float32).to(static_input.device)\n",
    "\t\t\n",
    "\t\t# Initialize the output sequence with zeros\n",
    "\t\toutput_seq = torch.zeros(batch_size, num_steps, self.output_size, dtype=torch.float32).to(static_input.device)\n",
    "\t\t\n",
    "\t\trepeated_static_input = static_input.unsqueeze(1).repeat(1, 1, 1)\n",
    "\t\t# print(repeated_static_input.shape, static_input.shape, output_seq.shape)\n",
    "\t\t # Iterate through time steps\n",
    "\t\tfor t in range(num_steps):\n",
    "\t\t\t# Concatenate static_input with the previous output (if available)\n",
    "\t\t\tif t == 0:\n",
    "\t\t\t\tlstm_input = torch.cat((repeated_static_input, output_seq[:, t:t+1, :]), dim=-1)\n",
    "\t\t\telse:\n",
    "\t\t\t\tlstm_input = torch.cat((repeated_static_input, output_seq[:, t-1:t, :]), dim=-1)\n",
    "\t\t\t\t\n",
    "\t\t\th0 = h0.to(torch.float32)\n",
    "\t\t\tc0 = c0.to(torch.float32)\n",
    "\t\t\t# Forward pass through the LSTM\n",
    "\t\t\tlstm_input = lstm_input.to(torch.float32)\n",
    "\t\t\tlstm_output, (h0, c0) = self.lstm(lstm_input, (h0, c0))\n",
    "\t\t\n",
    "\t\t\t# Predict the output for the current time step\n",
    "\t\t\t\n",
    "\t\t\toutput_seq[:, t:t+1, :] = self.linear(lstm_output)\n",
    "\t\t\n",
    "\t\treturn output_seq.to(torch.float32)"
   ]
  },
  {
   "cell_type": "code",
   "execution_count": 8,
   "metadata": {
    "ExecuteTime": {
     "end_time": "2023-10-12T13:06:43.139553100Z",
     "start_time": "2023-10-12T13:06:43.122319900Z"
    }
   },
   "outputs": [],
   "source": [
    "class BaselineUnrolling(nn.Module):\n",
    "\tdef __init__(self,num_outputs, indices, num_blocks):\n",
    "\t\tsuper(BaselineUnrolling, self).__init__()\n",
    "\t\ttorch.manual_seed(42)\n",
    "\t\tself.indices = indices\n",
    "\t\tself.num_heads = indices['nodal_demands'].stop\n",
    "\t\tself.num_flows = indices['diameter'].stop-indices['diameter'].start\n",
    "\t\tself.num_base_heads = indices['base_heads'].stop-indices['base_heads'].start\n",
    "\t\tself.num_blocks = num_blocks\n",
    "\t\tself.n = 1.852\n",
    "\n",
    "\t\tself.device = torch.device('cuda:0' if torch.cuda.is_available() else 'cpu')\n",
    "\t\t\n",
    "\t\t\n",
    "\t\tself.hid_HF = nn.ModuleList()\n",
    "\t\tself.hid_FH = nn.ModuleList()\n",
    "\n",
    "\t\tfor i in range(num_blocks):\n",
    "\t\t\tself.hid_HF.append(Sequential(Linear(self.num_heads, self.num_flows), nn.ReLU()))\n",
    "\t\t\tself.hid_FH.append(Sequential(Linear(self.num_flows, self.num_heads), nn.ReLU()))\n",
    "\n",
    "\t\tself.out = Linear(self.num_heads, num_outputs)\n",
    "\n",
    "\tdef forward(self, x, num_steps=1):\n",
    "\t\t\n",
    "\t\ts, h0, d, c, l = torch.unsqueeze(x[:,self.indices['nodal_demands']],dim=2), \\\n",
    "\t\t\t\t\t\t\t   torch.unsqueeze(x[:,self.indices['base_heads']],dim=2), \\\n",
    "\t\t\t\t\t\t\t   x[:,self.indices['diameter']].float().view(-1,self.num_flows,1),\\\n",
    "\t\t\t\t\t\t\t\tx[:,self.indices['roughness']].float().view(-1,self.num_flows,1),\\\n",
    "\t\t\t\t\t\t\t\tx[:,self.indices['length']].float().view(-1,self.num_flows,1)\n",
    "\n",
    "\t\tq =  torch.mul(math.pi/4, torch.pow(d,2)).view(-1,self.num_flows).float()\n",
    "\n",
    "\t\t\n",
    "\t\tpredictions = []\n",
    "\t\tfor step in range(num_steps):\n",
    "\t\t\tfor j in range(self.num_blocks):\n",
    "\t\t\t\th = self.hid_FH[j](q)\n",
    "\t\t\t\tq = q - self.hid_HF[j](h)\n",
    "\n",
    "\n",
    "\t\t\t# Append the prediction for the current time step\n",
    "\t\t\tprediction = self.out(h)\n",
    "\t\t\tpredictions.append(prediction)\n",
    "\t\t\n",
    "\t\tif num_steps == 1:\n",
    "\t\t\treturn predictions[0]\n",
    "\t\t# Convert the list of predictions to a tensor\n",
    "\t\tpredictions = torch.stack(predictions, dim=1)\t\n",
    "\t\t\n",
    "\t\treturn predictions"
   ]
  },
  {
   "cell_type": "code",
   "execution_count": 9,
   "metadata": {
    "ExecuteTime": {
     "end_time": "2023-10-12T13:06:43.155483200Z",
     "start_time": "2023-10-12T13:06:43.139553100Z"
    }
   },
   "outputs": [],
   "source": [
    "class UnrollingModel(nn.Module):\n",
    "\tdef __init__(self, num_outputs, indices, num_blocks):\n",
    "\t\tsuper(UnrollingModel, self).__init__()\n",
    "\t\ttorch.manual_seed(42)\n",
    "\t\tself.indices = indices\t\t\n",
    "\t\tself.num_heads = indices['nodal_demands'].stop\n",
    "\t\tself.num_flows = indices['diameter'].stop-indices['diameter'].start\n",
    "\t\tself.num_base_heads = indices['base_heads'].stop-indices['base_heads'].start\n",
    "\t\tself.num_blocks = num_blocks\n",
    "\n",
    "\t\tself.hidq0_h = Linear(self.num_flows, self.num_heads) # 4.14 \n",
    "\t\tself.hids_q =  Linear(self.num_heads, self.num_flows) #4.6/4.10\n",
    "\t\tself.hidh0_h = Linear(self.num_base_heads, self.num_heads) #4.7/4.11\n",
    "\t\tself.hidh0_q = Linear(self.num_base_heads, self.num_flows) #4.8/4.12\n",
    "\t\tself.hid_S = Sequential(Linear(indices['length'].stop - indices['diameter'].start, self.num_flows), nn.ReLU()) #4.9/4.13\n",
    "\t\t\n",
    "\t\t# init.xavier_uniform_(self.hid_S[0].weight)\n",
    "\t\t# init.xavier_uniform_(self.hidq0_h.weight)\n",
    "\t\t# init.xavier_uniform_(self.hids_q.weight)\n",
    "\t\t# init.xavier_uniform_(self.hidh0_h.weight)\n",
    "\t\t# init.xavier_uniform_(self.hidh0_q.weight)\n",
    "\n",
    "\t\tself.hid_hf = nn.ModuleList()\n",
    "\t\tself.hid_fh = nn.ModuleList()\n",
    "\t\tself.resq = nn.ModuleList()\n",
    "\t\tself.hidA_q = nn.ModuleList()\n",
    "\t\tself.hidD_h = nn.ModuleList()\n",
    "\n",
    "\t\tfor i in range(num_blocks):\n",
    "\t\t\tself.hid_hf.append(Sequential(Linear(self.num_heads,self.num_flows), nn.PReLU()))\n",
    "\t\t\tself.hid_fh.append(Sequential(Linear(self.num_flows, self.num_heads), nn.ReLU()))\n",
    "\t\t\tself.resq.append(Sequential(Linear(self.num_flows,self.num_heads), nn.ReLU()))\n",
    "\t\t\tself.hidA_q.append(Sequential(Linear(self.num_flows,self.num_flows)))\n",
    "\t\t\tself.hidD_h.append(Sequential(Linear(self.num_flows,self.num_heads), nn.ReLU()))\n",
    "\t\t\t# init.xavier_uniform_(self.hid_hf[i][0].weight)\n",
    "\t\t\t# init.xavier_uniform_(self.hid_fh[i][0].weight)\n",
    "\t\t\t# init.xavier_uniform_(self.resq[i][0].weight)\n",
    "\t\t\t# init.xavier_uniform_(self.hidA_q[i][0].weight)\n",
    "\t\t\t# init.xavier_uniform_(self.hidD_h[i][0].weight)\n",
    "\t\t\t\n",
    "\t\tself.out = Linear(self.num_flows, num_outputs)\n",
    "\t\t# init.xavier_uniform_(self.out.weight)\n",
    "\n",
    "\tdef forward(self, x, num_steps=1):\n",
    "\t\t# s is indeed the demand and h0 is indeed the heads (perhaps different when tanks are added), but q is definitely not flows, it is actually diameter and then hid_S is roughness and length\n",
    "\t\ts, h0, d, edge_features = x[:,self.indices['nodal_demands']].float(), x[:,self.indices['base_heads']].float(), x[:,self.indices['diameter']].float(), x[:,self.indices['diameter'].start:self.indices['length'].stop].float()\n",
    "\t\t\n",
    "\t\tres_h0_q, res_s_q, res_h0_h, res_S_q = self.hidh0_q(h0), self.hids_q(s), self.hidh0_h(h0), self.hid_S(edge_features)\n",
    "\t\t\n",
    "\t\tq =  torch.mul(math.pi/4, torch.pow(d,2)).float()\n",
    "\t\tres_q_h = self.hidq0_h(q)\n",
    "\t\t\n",
    "\t\tpredictions = []\n",
    "\t\tfor step in range(num_steps):\n",
    "\t\t\tfor i in range(self.num_blocks):\n",
    "\t\n",
    "\t\t\t\tA_q = self.hidA_q[i](torch.mul(q, res_S_q)) # 4.17\n",
    "\t\t\t\tD_h = self.hidD_h[i](A_q) # 4.16\n",
    "\t\t\t\thid_x = torch.mul(A_q,torch.sum(torch.stack([q, res_s_q, res_h0_q]),dim=0)) # 4.18 (inside parentheses)\n",
    "\t\t\t\th = self.hid_fh[i](hid_x) # 4.18\n",
    "\t\t\t\thid_x = self.hid_hf[i](torch.mul(torch.sum(torch.stack([h,res_h0_h,res_q_h]),dim=0), D_h)) # 4.19 (inside parentheses)\n",
    "\t\t\t\tq = torch.sub(q,hid_x) # 4.19\n",
    "\t\t\t\tres_q_h = self.resq[i](q)\n",
    "\n",
    "\n",
    "\t\t\t# Append the prediction for the current time step\n",
    "\t\t\tprediction = self.out(q)\n",
    "\t\t\tpredictions.append(prediction)\n",
    "\n",
    "\t\tif num_steps == 1:\n",
    "\t\t\treturn predictions[0]\n",
    "\t\t# Convert the list of predictions to a tensor\n",
    "\t\tpredictions = torch.stack(predictions, dim=1)\t\n",
    "\t\treturn predictions"
   ]
  },
  {
   "cell_type": "markdown",
   "metadata": {},
   "source": [
    "## Running experiments"
   ]
  },
  {
   "cell_type": "code",
   "execution_count": 10,
   "metadata": {
    "ExecuteTime": {
     "end_time": "2023-10-12T13:06:55.253624700Z",
     "start_time": "2023-10-12T13:06:43.184699500Z"
    }
   },
   "outputs": [
    {
     "name": "stdout",
     "output_type": "stream",
     "text": [
      "\n",
      "Working with FOS_tank, network 1 of 1\n",
      "UnrollingModel: training combination 1 of 1\n"
     ]
    },
    {
     "name": "stderr",
     "output_type": "stream",
     "text": [
      "  0%|          | 3/1000 [00:00<00:38, 25.86it/s]"
     ]
    },
    {
     "name": "stdout",
     "output_type": "stream",
     "text": [
      "Validation loss decreased (inf --> 2.619587).  Saving model ...\n",
      "EarlyStopping counter: 1 out of 20\n",
      "Validation loss decreased (2.619587 --> 2.506059).  Saving model ...\n",
      "Validation loss decreased (2.506059 --> 2.444399).  Saving model ...\n",
      "Validation loss decreased (2.444399 --> 2.386246).  Saving model ...\n",
      "Validation loss decreased (2.386246 --> 2.320422).  Saving model ...\n"
     ]
    },
    {
     "name": "stderr",
     "output_type": "stream",
     "text": [
      "  1%|          | 10/1000 [00:00<00:34, 29.01it/s]"
     ]
    },
    {
     "name": "stdout",
     "output_type": "stream",
     "text": [
      "Validation loss decreased (2.320422 --> 2.248605).  Saving model ...\n",
      "Validation loss decreased (2.248605 --> 2.182153).  Saving model ...\n",
      "Validation loss decreased (2.182153 --> 2.112704).  Saving model ...\n",
      "Validation loss decreased (2.112704 --> 2.020847).  Saving model ...\n",
      "Validation loss decreased (2.020847 --> 1.973028).  Saving model ...\n",
      "Validation loss decreased (1.973028 --> 1.887931).  Saving model ...\n"
     ]
    },
    {
     "name": "stderr",
     "output_type": "stream",
     "text": [
      "  2%|▏         | 16/1000 [00:00<00:36, 26.97it/s]"
     ]
    },
    {
     "name": "stdout",
     "output_type": "stream",
     "text": [
      "Validation loss decreased (1.887931 --> 1.826943).  Saving model ...\n",
      "Validation loss decreased (1.826943 --> 1.785121).  Saving model ...\n",
      "Validation loss decreased (1.785121 --> 1.719933).  Saving model ...\n",
      "Validation loss decreased (1.719933 --> 1.659379).  Saving model ...\n",
      "Validation loss decreased (1.659379 --> 1.629034).  Saving model ...\n",
      "Validation loss decreased (1.629034 --> 1.557651).  Saving model ...\n"
     ]
    },
    {
     "name": "stderr",
     "output_type": "stream",
     "text": [
      "  2%|▏         | 22/1000 [00:00<00:35, 27.48it/s]"
     ]
    },
    {
     "name": "stdout",
     "output_type": "stream",
     "text": [
      "Validation loss decreased (1.557651 --> 1.497922).  Saving model ...\n",
      "Validation loss decreased (1.497922 --> 1.439773).  Saving model ...\n",
      "Validation loss decreased (1.439773 --> 1.379741).  Saving model ...\n",
      "Validation loss decreased (1.379741 --> 1.337085).  Saving model ...\n",
      "Validation loss decreased (1.337085 --> 1.273588).  Saving model ...\n",
      "Validation loss decreased (1.273588 --> 1.222215).  Saving model ...\n",
      "Validation loss decreased (1.222215 --> 1.174019).  Saving model ...\n"
     ]
    },
    {
     "name": "stderr",
     "output_type": "stream",
     "text": [
      "  3%|▎         | 28/1000 [00:01<00:35, 27.63it/s]"
     ]
    },
    {
     "name": "stdout",
     "output_type": "stream",
     "text": [
      "Validation loss decreased (1.174019 --> 1.131546).  Saving model ...\n",
      "Validation loss decreased (1.131546 --> 1.088781).  Saving model ...\n",
      "Validation loss decreased (1.088781 --> 1.048084).  Saving model ...\n",
      "Validation loss decreased (1.048084 --> 1.018332).  Saving model ...\n",
      "Validation loss decreased (1.018332 --> 0.981340).  Saving model ...\n",
      "Validation loss decreased (0.981340 --> 0.946473).  Saving model ...\n"
     ]
    },
    {
     "name": "stderr",
     "output_type": "stream",
     "text": [
      "  3%|▎         | 32/1000 [00:01<00:33, 28.52it/s]"
     ]
    },
    {
     "name": "stdout",
     "output_type": "stream",
     "text": [
      "Validation loss decreased (0.946473 --> 0.924804).  Saving model ...\n",
      "Validation loss decreased (0.924804 --> 0.890994).  Saving model ...\n",
      "Validation loss decreased (0.890994 --> 0.862995).  Saving model ...\n"
     ]
    },
    {
     "name": "stderr",
     "output_type": "stream",
     "text": [
      "  4%|▎         | 35/1000 [00:01<00:34, 27.71it/s]"
     ]
    },
    {
     "name": "stdout",
     "output_type": "stream",
     "text": [
      "Validation loss decreased (0.862995 --> 0.833057).  Saving model ...\n",
      "Validation loss decreased (0.833057 --> 0.818800).  Saving model ...\n",
      "Validation loss decreased (0.818800 --> 0.810474).  Saving model ...\n"
     ]
    },
    {
     "name": "stderr",
     "output_type": "stream",
     "text": [
      "  4%|▍         | 38/1000 [00:01<00:37, 25.98it/s]"
     ]
    },
    {
     "name": "stdout",
     "output_type": "stream",
     "text": [
      "Validation loss decreased (0.810474 --> 0.784552).  Saving model ...\n",
      "Validation loss decreased (0.784552 --> 0.773269).  Saving model ...\n",
      "Validation loss decreased (0.773269 --> 0.749863).  Saving model ...\n"
     ]
    },
    {
     "name": "stderr",
     "output_type": "stream",
     "text": [
      "  4%|▍         | 42/1000 [00:01<00:35, 27.22it/s]"
     ]
    },
    {
     "name": "stdout",
     "output_type": "stream",
     "text": [
      "Validation loss decreased (0.749863 --> 0.747174).  Saving model ...\n",
      "Validation loss decreased (0.747174 --> 0.734383).  Saving model ...\n",
      "Validation loss decreased (0.734383 --> 0.710086).  Saving model ...\n"
     ]
    },
    {
     "name": "stderr",
     "output_type": "stream",
     "text": [
      "  4%|▍         | 45/1000 [00:01<00:35, 26.90it/s]"
     ]
    },
    {
     "name": "stdout",
     "output_type": "stream",
     "text": [
      "Validation loss decreased (0.710086 --> 0.695543).  Saving model ...\n",
      "EarlyStopping counter: 1 out of 20\n",
      "Validation loss decreased (0.695543 --> 0.680996).  Saving model ...\n"
     ]
    },
    {
     "name": "stderr",
     "output_type": "stream",
     "text": [
      "  5%|▍         | 48/1000 [00:01<00:34, 27.61it/s]"
     ]
    },
    {
     "name": "stdout",
     "output_type": "stream",
     "text": [
      "Validation loss decreased (0.680996 --> 0.662691).  Saving model ...\n",
      "EarlyStopping counter: 1 out of 20\n",
      "Validation loss decreased (0.662691 --> 0.655653).  Saving model ...\n"
     ]
    },
    {
     "name": "stderr",
     "output_type": "stream",
     "text": [
      "  5%|▌         | 51/1000 [00:01<00:34, 27.56it/s]"
     ]
    },
    {
     "name": "stdout",
     "output_type": "stream",
     "text": [
      "Validation loss decreased (0.655653 --> 0.633279).  Saving model ...\n",
      "Validation loss decreased (0.633279 --> 0.618422).  Saving model ...\n",
      "Validation loss decreased (0.618422 --> 0.605137).  Saving model ...\n"
     ]
    },
    {
     "name": "stderr",
     "output_type": "stream",
     "text": [
      "  5%|▌         | 54/1000 [00:01<00:34, 27.65it/s]"
     ]
    },
    {
     "name": "stdout",
     "output_type": "stream",
     "text": [
      "Validation loss decreased (0.605137 --> 0.590853).  Saving model ...\n",
      "Validation loss decreased (0.590853 --> 0.572155).  Saving model ...\n",
      "Validation loss decreased (0.572155 --> 0.560507).  Saving model ...\n"
     ]
    },
    {
     "name": "stderr",
     "output_type": "stream",
     "text": [
      "  6%|▌         | 58/1000 [00:02<00:34, 27.33it/s]"
     ]
    },
    {
     "name": "stdout",
     "output_type": "stream",
     "text": [
      "EarlyStopping counter: 1 out of 20\n",
      "EarlyStopping counter: 2 out of 20\n",
      "Validation loss decreased (0.560507 --> 0.552423).  Saving model ...\n"
     ]
    },
    {
     "name": "stderr",
     "output_type": "stream",
     "text": [
      "  6%|▌         | 61/1000 [00:02<00:34, 27.30it/s]"
     ]
    },
    {
     "name": "stdout",
     "output_type": "stream",
     "text": [
      "Validation loss decreased (0.552423 --> 0.523166).  Saving model ...\n",
      "EarlyStopping counter: 1 out of 20\n",
      "Validation loss decreased (0.523166 --> 0.521405).  Saving model ...\n"
     ]
    },
    {
     "name": "stderr",
     "output_type": "stream",
     "text": [
      "  6%|▋         | 65/1000 [00:02<00:32, 28.91it/s]"
     ]
    },
    {
     "name": "stdout",
     "output_type": "stream",
     "text": [
      "Validation loss decreased (0.521405 --> 0.498242).  Saving model ...\n",
      "Validation loss decreased (0.498242 --> 0.485875).  Saving model ...\n",
      "Validation loss decreased (0.485875 --> 0.475804).  Saving model ...\n",
      "Validation loss decreased (0.475804 --> 0.467406).  Saving model ...\n",
      "Validation loss decreased (0.467406 --> 0.457353).  Saving model ...\n",
      "Validation loss decreased (0.457353 --> 0.444612).  Saving model ...\n"
     ]
    },
    {
     "name": "stderr",
     "output_type": "stream",
     "text": [
      "  7%|▋         | 68/1000 [00:02<00:33, 27.82it/s]"
     ]
    },
    {
     "name": "stdout",
     "output_type": "stream",
     "text": [
      "Validation loss decreased (0.444612 --> 0.425826).  Saving model ...\n",
      "Validation loss decreased (0.425826 --> 0.413457).  Saving model ...\n",
      "Validation loss decreased (0.413457 --> 0.401740).  Saving model ...\n",
      "Validation loss decreased (0.401740 --> 0.390274).  Saving model ...\n"
     ]
    },
    {
     "name": "stderr",
     "output_type": "stream",
     "text": [
      "  7%|▋         | 72/1000 [00:02<00:33, 27.83it/s]"
     ]
    },
    {
     "name": "stdout",
     "output_type": "stream",
     "text": [
      "EarlyStopping counter: 1 out of 20\n",
      "Validation loss decreased (0.390274 --> 0.387309).  Saving model ...\n"
     ]
    },
    {
     "name": "stderr",
     "output_type": "stream",
     "text": [
      "  8%|▊         | 75/1000 [00:02<00:33, 27.23it/s]"
     ]
    },
    {
     "name": "stdout",
     "output_type": "stream",
     "text": [
      "Validation loss decreased (0.387309 --> 0.381515).  Saving model ...\n",
      "Validation loss decreased (0.381515 --> 0.371477).  Saving model ...\n",
      "Validation loss decreased (0.371477 --> 0.359779).  Saving model ...\n",
      "Validation loss decreased (0.359779 --> 0.358162).  Saving model ...\n"
     ]
    },
    {
     "name": "stderr",
     "output_type": "stream",
     "text": [
      "  8%|▊         | 78/1000 [00:02<00:33, 27.60it/s]"
     ]
    },
    {
     "name": "stdout",
     "output_type": "stream",
     "text": [
      "Validation loss decreased (0.358162 --> 0.353568).  Saving model ...\n",
      "Validation loss decreased (0.353568 --> 0.345093).  Saving model ...\n"
     ]
    },
    {
     "name": "stderr",
     "output_type": "stream",
     "text": [
      "  8%|▊         | 81/1000 [00:02<00:33, 27.34it/s]"
     ]
    },
    {
     "name": "stdout",
     "output_type": "stream",
     "text": [
      "Validation loss decreased (0.345093 --> 0.337434).  Saving model ...\n",
      "Validation loss decreased (0.337434 --> 0.326991).  Saving model ...\n",
      "Validation loss decreased (0.326991 --> 0.314864).  Saving model ...\n",
      "Validation loss decreased (0.314864 --> 0.310452).  Saving model ...\n"
     ]
    },
    {
     "name": "stderr",
     "output_type": "stream",
     "text": [
      "  8%|▊         | 84/1000 [00:03<00:33, 27.16it/s]"
     ]
    },
    {
     "name": "stdout",
     "output_type": "stream",
     "text": [
      "Validation loss decreased (0.310452 --> 0.302127).  Saving model ...\n",
      "Validation loss decreased (0.302127 --> 0.288429).  Saving model ...\n"
     ]
    },
    {
     "name": "stderr",
     "output_type": "stream",
     "text": [
      "  9%|▊         | 87/1000 [00:03<00:33, 27.34it/s]"
     ]
    },
    {
     "name": "stdout",
     "output_type": "stream",
     "text": [
      "Validation loss decreased (0.288429 --> 0.270639).  Saving model ...\n",
      "Validation loss decreased (0.270639 --> 0.256352).  Saving model ...\n",
      "Validation loss decreased (0.256352 --> 0.252403).  Saving model ...\n"
     ]
    },
    {
     "name": "stderr",
     "output_type": "stream",
     "text": [
      "  9%|▉         | 90/1000 [00:03<00:34, 26.61it/s]"
     ]
    },
    {
     "name": "stdout",
     "output_type": "stream",
     "text": [
      "Validation loss decreased (0.252403 --> 0.233600).  Saving model ...\n",
      "EarlyStopping counter: 1 out of 20\n",
      "Validation loss decreased (0.233600 --> 0.223671).  Saving model ...\n"
     ]
    },
    {
     "name": "stderr",
     "output_type": "stream",
     "text": [
      "  9%|▉         | 94/1000 [00:03<00:32, 27.94it/s]"
     ]
    },
    {
     "name": "stdout",
     "output_type": "stream",
     "text": [
      "Validation loss decreased (0.223671 --> 0.205305).  Saving model ...\n",
      "Validation loss decreased (0.205305 --> 0.200307).  Saving model ...\n",
      "Validation loss decreased (0.200307 --> 0.170735).  Saving model ...\n"
     ]
    },
    {
     "name": "stderr",
     "output_type": "stream",
     "text": [
      " 10%|▉         | 97/1000 [00:03<00:33, 27.27it/s]"
     ]
    },
    {
     "name": "stdout",
     "output_type": "stream",
     "text": [
      "Validation loss decreased (0.170735 --> 0.152715).  Saving model ...\n",
      "EarlyStopping counter: 1 out of 20\n",
      "Validation loss decreased (0.152715 --> 0.136863).  Saving model ...\n"
     ]
    },
    {
     "name": "stderr",
     "output_type": "stream",
     "text": [
      " 10%|█         | 100/1000 [00:03<00:33, 26.81it/s]"
     ]
    },
    {
     "name": "stdout",
     "output_type": "stream",
     "text": [
      "EarlyStopping counter: 1 out of 20\n",
      "EarlyStopping counter: 2 out of 20\n",
      "Learning rate is divided by 2 to: 0.0005\n",
      "Validation loss decreased (0.136863 --> 0.123698).  Saving model ...\n"
     ]
    },
    {
     "name": "stderr",
     "output_type": "stream",
     "text": [
      " 10%|█         | 103/1000 [00:03<00:33, 26.53it/s]"
     ]
    },
    {
     "name": "stdout",
     "output_type": "stream",
     "text": [
      "EarlyStopping counter: 1 out of 20\n",
      "EarlyStopping counter: 2 out of 20\n",
      "EarlyStopping counter: 3 out of 20\n",
      "EarlyStopping counter: 4 out of 20\n",
      "EarlyStopping counter: 5 out of 20\n",
      "EarlyStopping counter: 6 out of 20\n"
     ]
    },
    {
     "name": "stderr",
     "output_type": "stream",
     "text": [
      " 11%|█         | 110/1000 [00:04<00:32, 27.07it/s]"
     ]
    },
    {
     "name": "stdout",
     "output_type": "stream",
     "text": [
      "EarlyStopping counter: 7 out of 20\n",
      "EarlyStopping counter: 8 out of 20\n",
      "EarlyStopping counter: 9 out of 20\n",
      "EarlyStopping counter: 10 out of 20\n",
      "EarlyStopping counter: 11 out of 20\n",
      "Validation loss decreased (0.123698 --> 0.121705).  Saving model ...\n"
     ]
    },
    {
     "name": "stderr",
     "output_type": "stream",
     "text": [
      " 11%|█▏        | 113/1000 [00:04<00:33, 26.68it/s]"
     ]
    },
    {
     "name": "stdout",
     "output_type": "stream",
     "text": [
      "EarlyStopping counter: 1 out of 20\n",
      "EarlyStopping counter: 2 out of 20\n",
      "Validation loss decreased (0.121705 --> 0.120966).  Saving model ...\n",
      "Validation loss decreased (0.120966 --> 0.119435).  Saving model ...\n"
     ]
    },
    {
     "name": "stderr",
     "output_type": "stream",
     "text": [
      " 12%|█▏        | 117/1000 [00:04<00:31, 27.79it/s]"
     ]
    },
    {
     "name": "stdout",
     "output_type": "stream",
     "text": [
      "EarlyStopping counter: 1 out of 20\n",
      "Validation loss decreased (0.119435 --> 0.111935).  Saving model ...\n"
     ]
    },
    {
     "name": "stderr",
     "output_type": "stream",
     "text": [
      " 12%|█▏        | 120/1000 [00:04<00:31, 27.69it/s]"
     ]
    },
    {
     "name": "stdout",
     "output_type": "stream",
     "text": [
      "Validation loss decreased (0.111935 --> 0.106578).  Saving model ...\n",
      "Validation loss decreased (0.106578 --> 0.101842).  Saving model ...\n",
      "Validation loss decreased (0.101842 --> 0.099891).  Saving model ...\n",
      "Validation loss decreased (0.099891 --> 0.097293).  Saving model ...\n"
     ]
    },
    {
     "name": "stderr",
     "output_type": "stream",
     "text": [
      " 12%|█▏        | 123/1000 [00:04<00:31, 27.78it/s]"
     ]
    },
    {
     "name": "stdout",
     "output_type": "stream",
     "text": [
      "Validation loss decreased (0.097293 --> 0.093411).  Saving model ...\n",
      "EarlyStopping counter: 1 out of 20\n"
     ]
    },
    {
     "name": "stderr",
     "output_type": "stream",
     "text": [
      " 13%|█▎        | 126/1000 [00:04<00:30, 28.37it/s]"
     ]
    },
    {
     "name": "stdout",
     "output_type": "stream",
     "text": [
      "Validation loss decreased (0.093411 --> 0.092441).  Saving model ...\n",
      "EarlyStopping counter: 1 out of 20\n",
      "Validation loss decreased (0.092441 --> 0.091079).  Saving model ...\n"
     ]
    },
    {
     "name": "stderr",
     "output_type": "stream",
     "text": [
      " 13%|█▎        | 129/1000 [00:04<00:34, 25.31it/s]"
     ]
    },
    {
     "name": "stdout",
     "output_type": "stream",
     "text": [
      "EarlyStopping counter: 1 out of 20\n",
      "EarlyStopping counter: 2 out of 20\n"
     ]
    },
    {
     "name": "stderr",
     "output_type": "stream",
     "text": [
      " 13%|█▎        | 132/1000 [00:04<00:34, 25.35it/s]"
     ]
    },
    {
     "name": "stdout",
     "output_type": "stream",
     "text": [
      "Validation loss decreased (0.091079 --> 0.090853).  Saving model ...\n",
      "Validation loss decreased (0.090853 --> 0.089487).  Saving model ...\n",
      "Validation loss decreased (0.089487 --> 0.087230).  Saving model ...\n",
      "Validation loss decreased (0.087230 --> 0.085858).  Saving model ...\n",
      "EarlyStopping counter: 1 out of 20\n",
      "EarlyStopping counter: 2 out of 20\n"
     ]
    },
    {
     "name": "stderr",
     "output_type": "stream",
     "text": [
      " 14%|█▍        | 139/1000 [00:05<00:31, 27.65it/s]"
     ]
    },
    {
     "name": "stdout",
     "output_type": "stream",
     "text": [
      "EarlyStopping counter: 3 out of 20\n",
      "EarlyStopping counter: 4 out of 20\n",
      "EarlyStopping counter: 5 out of 20\n",
      "Validation loss decreased (0.085858 --> 0.084963).  Saving model ...\n",
      "EarlyStopping counter: 1 out of 20\n",
      "EarlyStopping counter: 2 out of 20\n",
      "Validation loss decreased (0.084963 --> 0.083704).  Saving model ...\n"
     ]
    },
    {
     "name": "stderr",
     "output_type": "stream",
     "text": [
      " 14%|█▍        | 142/1000 [00:05<00:31, 27.10it/s]"
     ]
    },
    {
     "name": "stdout",
     "output_type": "stream",
     "text": [
      "Validation loss decreased (0.083704 --> 0.083439).  Saving model ...\n",
      "EarlyStopping counter: 1 out of 20\n",
      "EarlyStopping counter: 2 out of 20\n"
     ]
    },
    {
     "name": "stderr",
     "output_type": "stream",
     "text": [
      " 15%|█▍        | 146/1000 [00:05<00:30, 28.08it/s]"
     ]
    },
    {
     "name": "stdout",
     "output_type": "stream",
     "text": [
      "EarlyStopping counter: 3 out of 20\n",
      "EarlyStopping counter: 4 out of 20\n",
      "EarlyStopping counter: 5 out of 20\n",
      "Validation loss decreased (0.083439 --> 0.082777).  Saving model ...\n"
     ]
    },
    {
     "name": "stderr",
     "output_type": "stream",
     "text": [
      " 15%|█▌        | 150/1000 [00:05<00:28, 29.87it/s]"
     ]
    },
    {
     "name": "stdout",
     "output_type": "stream",
     "text": [
      "EarlyStopping counter: 1 out of 20\n",
      "EarlyStopping counter: 2 out of 20\n"
     ]
    },
    {
     "name": "stderr",
     "output_type": "stream",
     "text": [
      " 15%|█▌        | 153/1000 [00:05<00:29, 28.68it/s]"
     ]
    },
    {
     "name": "stdout",
     "output_type": "stream",
     "text": [
      "EarlyStopping counter: 3 out of 20\n",
      "EarlyStopping counter: 4 out of 20\n",
      "EarlyStopping counter: 5 out of 20\n",
      "EarlyStopping counter: 6 out of 20\n"
     ]
    },
    {
     "name": "stderr",
     "output_type": "stream",
     "text": [
      " 16%|█▌        | 156/1000 [00:05<00:29, 28.95it/s]"
     ]
    },
    {
     "name": "stdout",
     "output_type": "stream",
     "text": [
      "EarlyStopping counter: 7 out of 20\n",
      "Validation loss decreased (0.082777 --> 0.082478).  Saving model ...\n",
      "EarlyStopping counter: 1 out of 20\n"
     ]
    },
    {
     "name": "stderr",
     "output_type": "stream",
     "text": [
      " 16%|█▌        | 159/1000 [00:05<00:29, 28.25it/s]"
     ]
    },
    {
     "name": "stdout",
     "output_type": "stream",
     "text": [
      "Validation loss decreased (0.082478 --> 0.081692).  Saving model ...\n",
      "Validation loss decreased (0.081692 --> 0.081656).  Saving model ...\n",
      "Validation loss decreased (0.081656 --> 0.081320).  Saving model ...\n"
     ]
    },
    {
     "name": "stderr",
     "output_type": "stream",
     "text": [
      " 16%|█▌        | 162/1000 [00:05<00:29, 28.31it/s]"
     ]
    },
    {
     "name": "stdout",
     "output_type": "stream",
     "text": [
      "EarlyStopping counter: 1 out of 20\n",
      "EarlyStopping counter: 2 out of 20\n",
      "EarlyStopping counter: 3 out of 20\n"
     ]
    },
    {
     "name": "stderr",
     "output_type": "stream",
     "text": [
      " 16%|█▋        | 165/1000 [00:05<00:29, 28.42it/s]"
     ]
    },
    {
     "name": "stdout",
     "output_type": "stream",
     "text": [
      "EarlyStopping counter: 4 out of 20\n",
      "EarlyStopping counter: 5 out of 20\n",
      "EarlyStopping counter: 6 out of 20\n"
     ]
    },
    {
     "name": "stderr",
     "output_type": "stream",
     "text": [
      " 17%|█▋        | 169/1000 [00:06<00:28, 29.50it/s]"
     ]
    },
    {
     "name": "stdout",
     "output_type": "stream",
     "text": [
      "EarlyStopping counter: 7 out of 20\n",
      "EarlyStopping counter: 8 out of 20\n",
      "Validation loss decreased (0.081320 --> 0.080926).  Saving model ...\n",
      "Validation loss decreased (0.080926 --> 0.080660).  Saving model ...\n"
     ]
    },
    {
     "name": "stderr",
     "output_type": "stream",
     "text": [
      " 17%|█▋        | 172/1000 [00:06<00:27, 29.63it/s]"
     ]
    },
    {
     "name": "stdout",
     "output_type": "stream",
     "text": [
      "EarlyStopping counter: 1 out of 20\n",
      "EarlyStopping counter: 2 out of 20\n",
      "EarlyStopping counter: 3 out of 20\n"
     ]
    },
    {
     "name": "stderr",
     "output_type": "stream",
     "text": [
      " 18%|█▊        | 176/1000 [00:06<00:27, 29.75it/s]"
     ]
    },
    {
     "name": "stdout",
     "output_type": "stream",
     "text": [
      "EarlyStopping counter: 4 out of 20\n",
      "EarlyStopping counter: 5 out of 20\n",
      "EarlyStopping counter: 6 out of 20\n",
      "EarlyStopping counter: 7 out of 20\n"
     ]
    },
    {
     "name": "stderr",
     "output_type": "stream",
     "text": [
      " 18%|█▊        | 180/1000 [00:06<00:27, 29.79it/s]"
     ]
    },
    {
     "name": "stdout",
     "output_type": "stream",
     "text": [
      "EarlyStopping counter: 8 out of 20\n",
      "EarlyStopping counter: 9 out of 20\n"
     ]
    },
    {
     "name": "stderr",
     "output_type": "stream",
     "text": [
      " 18%|█▊        | 184/1000 [00:06<00:26, 31.15it/s]"
     ]
    },
    {
     "name": "stdout",
     "output_type": "stream",
     "text": [
      "EarlyStopping counter: 10 out of 20\n",
      "EarlyStopping counter: 11 out of 20\n",
      "EarlyStopping counter: 12 out of 20\n",
      "EarlyStopping counter: 13 out of 20\n",
      "Validation loss decreased (0.080660 --> 0.080421).  Saving model ...\n",
      "EarlyStopping counter: 1 out of 20\n",
      "EarlyStopping counter: 2 out of 20\n"
     ]
    },
    {
     "name": "stderr",
     "output_type": "stream",
     "text": [
      " 19%|█▉        | 192/1000 [00:06<00:25, 31.78it/s]"
     ]
    },
    {
     "name": "stdout",
     "output_type": "stream",
     "text": [
      "EarlyStopping counter: 3 out of 20\n",
      "Validation loss decreased (0.080421 --> 0.080314).  Saving model ...\n",
      "EarlyStopping counter: 1 out of 20\n",
      "EarlyStopping counter: 2 out of 20\n",
      "Validation loss decreased (0.080314 --> 0.080165).  Saving model ...\n",
      "Validation loss decreased (0.080165 --> 0.079756).  Saving model ...\n"
     ]
    },
    {
     "name": "stderr",
     "output_type": "stream",
     "text": [
      " 20%|█▉        | 196/1000 [00:06<00:26, 30.45it/s]"
     ]
    },
    {
     "name": "stdout",
     "output_type": "stream",
     "text": [
      "EarlyStopping counter: 1 out of 20\n",
      "EarlyStopping counter: 2 out of 20\n",
      "Validation loss decreased (0.079756 --> 0.079706).  Saving model ...\n",
      "Validation loss decreased (0.079706 --> 0.079351).  Saving model ...\n",
      "EarlyStopping counter: 1 out of 20\n",
      "EarlyStopping counter: 2 out of 20\n"
     ]
    },
    {
     "name": "stderr",
     "output_type": "stream",
     "text": [
      " 20%|██        | 204/1000 [00:07<00:26, 29.93it/s]"
     ]
    },
    {
     "name": "stdout",
     "output_type": "stream",
     "text": [
      "Learning rate is divided by 2 to: 0.00025\n",
      "EarlyStopping counter: 3 out of 20\n",
      "EarlyStopping counter: 4 out of 20\n",
      "EarlyStopping counter: 5 out of 20\n",
      "EarlyStopping counter: 6 out of 20\n",
      "EarlyStopping counter: 7 out of 20\n",
      "EarlyStopping counter: 8 out of 20\n",
      "EarlyStopping counter: 9 out of 20\n"
     ]
    },
    {
     "name": "stderr",
     "output_type": "stream",
     "text": [
      " 21%|██        | 212/1000 [00:07<00:25, 30.35it/s]"
     ]
    },
    {
     "name": "stdout",
     "output_type": "stream",
     "text": [
      "EarlyStopping counter: 10 out of 20\n",
      "EarlyStopping counter: 11 out of 20\n",
      "EarlyStopping counter: 12 out of 20\n",
      "EarlyStopping counter: 13 out of 20\n",
      "EarlyStopping counter: 14 out of 20\n",
      "EarlyStopping counter: 15 out of 20\n",
      "EarlyStopping counter: 16 out of 20\n"
     ]
    },
    {
     "name": "stderr",
     "output_type": "stream",
     "text": [
      " 22%|██▏       | 216/1000 [00:07<00:24, 31.37it/s]"
     ]
    },
    {
     "name": "stdout",
     "output_type": "stream",
     "text": [
      "EarlyStopping counter: 17 out of 20\n",
      "EarlyStopping counter: 18 out of 20\n",
      "EarlyStopping counter: 19 out of 20\n",
      "Validation loss decreased (0.079351 --> 0.078888).  Saving model ...\n",
      "EarlyStopping counter: 1 out of 20\n",
      "EarlyStopping counter: 2 out of 20\n"
     ]
    },
    {
     "name": "stderr",
     "output_type": "stream",
     "text": [
      " 22%|██▏       | 220/1000 [00:07<00:25, 30.57it/s]"
     ]
    },
    {
     "name": "stdout",
     "output_type": "stream",
     "text": [
      "EarlyStopping counter: 3 out of 20\n"
     ]
    },
    {
     "name": "stderr",
     "output_type": "stream",
     "text": [
      " 22%|██▏       | 224/1000 [00:07<00:25, 30.42it/s]"
     ]
    },
    {
     "name": "stdout",
     "output_type": "stream",
     "text": [
      "EarlyStopping counter: 4 out of 20\n",
      "Validation loss decreased (0.078888 --> 0.078634).  Saving model ...\n",
      "Validation loss decreased (0.078634 --> 0.078281).  Saving model ...\n",
      "EarlyStopping counter: 1 out of 20\n",
      "EarlyStopping counter: 2 out of 20\n",
      "EarlyStopping counter: 3 out of 20\n"
     ]
    },
    {
     "name": "stderr",
     "output_type": "stream",
     "text": [
      " 23%|██▎       | 232/1000 [00:08<00:26, 29.46it/s]"
     ]
    },
    {
     "name": "stdout",
     "output_type": "stream",
     "text": [
      "EarlyStopping counter: 4 out of 20\n",
      "EarlyStopping counter: 5 out of 20\n",
      "Validation loss decreased (0.078281 --> 0.078066).  Saving model ...\n",
      "EarlyStopping counter: 1 out of 20\n",
      "EarlyStopping counter: 2 out of 20\n",
      "Validation loss decreased (0.078066 --> 0.077742).  Saving model ...\n"
     ]
    },
    {
     "name": "stderr",
     "output_type": "stream",
     "text": [
      " 24%|██▍       | 238/1000 [00:08<00:25, 29.64it/s]"
     ]
    },
    {
     "name": "stdout",
     "output_type": "stream",
     "text": [
      "EarlyStopping counter: 1 out of 20\n",
      "EarlyStopping counter: 2 out of 20\n",
      "EarlyStopping counter: 3 out of 20\n",
      "EarlyStopping counter: 4 out of 20\n",
      "EarlyStopping counter: 5 out of 20\n",
      "EarlyStopping counter: 6 out of 20\n"
     ]
    },
    {
     "name": "stderr",
     "output_type": "stream",
     "text": [
      " 24%|██▍       | 241/1000 [00:08<00:26, 28.95it/s]"
     ]
    },
    {
     "name": "stdout",
     "output_type": "stream",
     "text": [
      "EarlyStopping counter: 7 out of 20\n",
      "Validation loss decreased (0.077742 --> 0.077559).  Saving model ...\n",
      "EarlyStopping counter: 1 out of 20\n",
      "EarlyStopping counter: 2 out of 20\n",
      "EarlyStopping counter: 3 out of 20\n"
     ]
    },
    {
     "name": "stderr",
     "output_type": "stream",
     "text": [
      " 25%|██▍       | 247/1000 [00:08<00:27, 27.89it/s]"
     ]
    },
    {
     "name": "stdout",
     "output_type": "stream",
     "text": [
      "EarlyStopping counter: 4 out of 20\n",
      "EarlyStopping counter: 5 out of 20\n",
      "Validation loss decreased (0.077559 --> 0.077406).  Saving model ...\n",
      "EarlyStopping counter: 1 out of 20\n",
      "Validation loss decreased (0.077406 --> 0.076947).  Saving model ...\n",
      "EarlyStopping counter: 1 out of 20\n",
      "EarlyStopping counter: 2 out of 20\n"
     ]
    },
    {
     "name": "stderr",
     "output_type": "stream",
     "text": [
      " 26%|██▌       | 257/1000 [00:09<00:24, 29.88it/s]"
     ]
    },
    {
     "name": "stdout",
     "output_type": "stream",
     "text": [
      "EarlyStopping counter: 3 out of 20\n",
      "EarlyStopping counter: 4 out of 20\n",
      "Validation loss decreased (0.076947 --> 0.076740).  Saving model ...\n",
      "EarlyStopping counter: 1 out of 20\n",
      "Validation loss decreased (0.076740 --> 0.076738).  Saving model ...\n",
      "EarlyStopping counter: 1 out of 20\n",
      "EarlyStopping counter: 2 out of 20\n"
     ]
    },
    {
     "name": "stderr",
     "output_type": "stream",
     "text": [
      " 26%|██▋       | 264/1000 [00:09<00:25, 29.26it/s]"
     ]
    },
    {
     "name": "stdout",
     "output_type": "stream",
     "text": [
      "Validation loss decreased (0.076738 --> 0.076529).  Saving model ...\n",
      "EarlyStopping counter: 1 out of 20\n",
      "EarlyStopping counter: 2 out of 20\n",
      "Validation loss decreased (0.076529 --> 0.076159).  Saving model ...\n",
      "EarlyStopping counter: 1 out of 20\n",
      "EarlyStopping counter: 2 out of 20\n",
      "EarlyStopping counter: 3 out of 20\n"
     ]
    },
    {
     "name": "stderr",
     "output_type": "stream",
     "text": [
      " 27%|██▋       | 268/1000 [00:09<00:24, 30.21it/s]"
     ]
    },
    {
     "name": "stdout",
     "output_type": "stream",
     "text": [
      "EarlyStopping counter: 4 out of 20\n",
      "EarlyStopping counter: 5 out of 20\n",
      "EarlyStopping counter: 6 out of 20\n",
      "EarlyStopping counter: 7 out of 20\n",
      "Validation loss decreased (0.076159 --> 0.076152).  Saving model ...\n",
      "EarlyStopping counter: 1 out of 20\n"
     ]
    },
    {
     "name": "stderr",
     "output_type": "stream",
     "text": [
      " 28%|██▊       | 276/1000 [00:09<00:25, 28.91it/s]"
     ]
    },
    {
     "name": "stdout",
     "output_type": "stream",
     "text": [
      "EarlyStopping counter: 2 out of 20\n",
      "EarlyStopping counter: 3 out of 20\n",
      "Validation loss decreased (0.076152 --> 0.076062).  Saving model ...\n",
      "EarlyStopping counter: 1 out of 20\n",
      "EarlyStopping counter: 2 out of 20\n",
      "Validation loss decreased (0.076062 --> 0.075882).  Saving model ...\n"
     ]
    },
    {
     "name": "stderr",
     "output_type": "stream",
     "text": [
      " 28%|██▊       | 283/1000 [00:09<00:24, 29.82it/s]"
     ]
    },
    {
     "name": "stdout",
     "output_type": "stream",
     "text": [
      "EarlyStopping counter: 1 out of 20\n",
      "EarlyStopping counter: 2 out of 20\n",
      "EarlyStopping counter: 3 out of 20\n",
      "EarlyStopping counter: 4 out of 20\n",
      "EarlyStopping counter: 5 out of 20\n",
      "EarlyStopping counter: 6 out of 20\n",
      "EarlyStopping counter: 7 out of 20\n"
     ]
    },
    {
     "name": "stderr",
     "output_type": "stream",
     "text": [
      " 29%|██▉       | 289/1000 [00:10<00:24, 28.81it/s]"
     ]
    },
    {
     "name": "stdout",
     "output_type": "stream",
     "text": [
      "EarlyStopping counter: 8 out of 20\n",
      "Validation loss decreased (0.075882 --> 0.075863).  Saving model ...\n",
      "EarlyStopping counter: 1 out of 20\n",
      "Validation loss decreased (0.075863 --> 0.075844).  Saving model ...\n",
      "EarlyStopping counter: 1 out of 20\n",
      "EarlyStopping counter: 2 out of 20\n"
     ]
    },
    {
     "name": "stderr",
     "output_type": "stream",
     "text": [
      " 29%|██▉       | 293/1000 [00:10<00:24, 29.16it/s]"
     ]
    },
    {
     "name": "stdout",
     "output_type": "stream",
     "text": [
      "Validation loss decreased (0.075844 --> 0.075672).  Saving model ...\n",
      "Validation loss decreased (0.075672 --> 0.075534).  Saving model ...\n",
      "EarlyStopping counter: 1 out of 20\n",
      "Validation loss decreased (0.075534 --> 0.075482).  Saving model ...\n",
      "EarlyStopping counter: 1 out of 20\n",
      "EarlyStopping counter: 2 out of 20\n",
      "EarlyStopping counter: 3 out of 20\n"
     ]
    },
    {
     "name": "stderr",
     "output_type": "stream",
     "text": [
      " 30%|███       | 300/1000 [00:10<00:24, 28.41it/s]"
     ]
    },
    {
     "name": "stdout",
     "output_type": "stream",
     "text": [
      "EarlyStopping counter: 4 out of 20\n",
      "Validation loss decreased (0.075482 --> 0.075409).  Saving model ...\n",
      "Validation loss decreased (0.075409 --> 0.075352).  Saving model ...\n",
      "Learning rate is divided by 2 to: 0.000125\n",
      "EarlyStopping counter: 1 out of 20\n",
      "EarlyStopping counter: 2 out of 20\n",
      "EarlyStopping counter: 3 out of 20\n"
     ]
    },
    {
     "name": "stderr",
     "output_type": "stream",
     "text": [
      " 31%|███       | 308/1000 [00:10<00:23, 29.38it/s]"
     ]
    },
    {
     "name": "stdout",
     "output_type": "stream",
     "text": [
      "EarlyStopping counter: 4 out of 20\n",
      "EarlyStopping counter: 5 out of 20\n",
      "EarlyStopping counter: 6 out of 20\n",
      "EarlyStopping counter: 7 out of 20\n",
      "EarlyStopping counter: 8 out of 20\n",
      "EarlyStopping counter: 9 out of 20\n",
      "EarlyStopping counter: 10 out of 20\n"
     ]
    },
    {
     "name": "stderr",
     "output_type": "stream",
     "text": [
      " 31%|███▏      | 314/1000 [00:11<00:24, 27.58it/s]"
     ]
    },
    {
     "name": "stdout",
     "output_type": "stream",
     "text": [
      "EarlyStopping counter: 11 out of 20\n",
      "EarlyStopping counter: 12 out of 20\n",
      "EarlyStopping counter: 13 out of 20\n",
      "EarlyStopping counter: 14 out of 20\n",
      "EarlyStopping counter: 15 out of 20\n",
      "EarlyStopping counter: 16 out of 20\n"
     ]
    },
    {
     "name": "stderr",
     "output_type": "stream",
     "text": [
      " 32%|███▏      | 318/1000 [00:11<00:24, 28.40it/s]\n"
     ]
    },
    {
     "name": "stdout",
     "output_type": "stream",
     "text": [
      "EarlyStopping counter: 17 out of 20\n",
      "EarlyStopping counter: 18 out of 20\n",
      "EarlyStopping counter: 19 out of 20\n",
      "EarlyStopping counter: 20 out of 20\n",
      "Early Stopping\n"
     ]
    }
   ],
   "source": [
    "\n",
    "for ix_wdn, wdn in enumerate(all_wdn_names):\n",
    "\tprint(f'\\nWorking with {wdn}, network {ix_wdn+1} of {len(all_wdn_names)}')\n",
    "\n",
    "\t# retrieve wntr data\n",
    "\ttra_database, val_database, tst_database = load_raw_dataset(wdn, data_folder)\n",
    "\t# reduce training data\n",
    "\t# tra_database = tra_database[:int(len(tra_database)*cfg['tra_prc'])]\n",
    "\tif cfg['tra_num'] < len(tra_database):\n",
    "\t\ttra_database = tra_database[:cfg['tra_num']]\n",
    "\n",
    "\t# remove PES anomaly\n",
    "\tif wdn == 'PES':\n",
    "\t\tif len(tra_database)>4468:\n",
    "\t\t\tdel tra_database[4468]\n",
    "\t\t\tprint('Removed PES anomaly')\n",
    "\t\t\tprint('Check',tra_database[4468].pressure.mean())\n",
    "\n",
    "\t# get GRAPH datasets    \n",
    "\t# later on we should change this and use normal scalers from scikit (something is off here)\n",
    "\ttra_dataset, A12_bar = create_dataset(tra_database)\n",
    "\t\n",
    "\tgn = GraphNormalizer()\n",
    "\tgn = gn.fit(tra_dataset)\n",
    "\t# The normalization messed with the 1H_type since we want unique IDs\n",
    "\ttra_dataset, _ = create_dataset(tra_database,normalizer=gn)\n",
    "\tval_dataset,_ = create_dataset(val_database,normalizer=gn)\n",
    "\ttst_dataset,_ = create_dataset(tst_database,normalizer=gn)\n",
    "\tnode_size, edge_size = tra_dataset[0].x.size(-1), tra_dataset[0].edge_attr.size(-1)\n",
    "\t# number of nodes\n",
    "\tn_nodes = (tra_database[0].node_type == 0).numpy().sum() + (tra_database[0].node_type == 2).numpy().sum() # remove reservoirs\n",
    "\t# dataloader\n",
    "\t# transform dataset for MLP\n",
    "\t# We begin with the MLP versions, when I want to add GNNs, check Riccardo's code\n",
    "\tA10,A12 = create_incidence_matrices(tra_dataset, A12_bar)\n",
    "\ttra_dataset_MLP, num_inputs, indices = create_dataset_MLP_from_graphs(tra_dataset)\n",
    "\tval_dataset_MLP = create_dataset_MLP_from_graphs(val_dataset)[0]\n",
    "\ttst_dataset_MLP = create_dataset_MLP_from_graphs(tst_dataset)[0]\n",
    "\ttra_loader = torch.utils.data.DataLoader(tra_dataset_MLP,\n",
    "\t\t\t\t\t\t\t\t\t\t\t batch_size=batch_size, shuffle=True, pin_memory=True)\n",
    "\tval_loader = torch.utils.data.DataLoader(val_dataset_MLP,\n",
    "\t\t\t\t\t\t\t\t\t\t\t batch_size=batch_size, shuffle=False, pin_memory=True)\n",
    "\ttst_loader = torch.utils.data.DataLoader(tst_dataset_MLP,\n",
    "\t\t\t\t\t\t\t\t\t\t\t batch_size=batch_size, shuffle=False, pin_memory=True)\n",
    "\t# loop through different algorithms\n",
    "\tfor algorithm in cfg['algorithms']:\n",
    "\t\t# Importing of configuration parameters\n",
    "\t\thyperParams = cfg['hyperParams'][algorithm]\n",
    "\t\tall_combinations = ParameterGrid(hyperParams)\n",
    "\n",
    "\n",
    "\t\t# create results dataframe\n",
    "\t\tresults_df = pd.DataFrame(list(all_combinations))\n",
    "\t\tresults_df = pd.concat([results_df,\n",
    "\t\t\t\t\t\t\t\tpd.DataFrame(index=np.arange(len(all_combinations)),\n",
    "\t\t\t\t\t\t\t\t\t\t  columns=list(res_columns))],axis=1)\n",
    "\n",
    "\t\tfor i, combination in enumerate(all_combinations):\n",
    "\t\t\t# wandb.init(project=\"unrolling-epanet\")\n",
    "\t\t\tprint(f'{algorithm}: training combination {i+1} of {len(all_combinations)}\\n')\n",
    "\t\t\tcombination['indices'] = indices\n",
    "\t\t\tcombination['num_outputs'] = n_nodes\n",
    "\t\t\t\n",
    "\t\t\t# model creation\n",
    "\t\t\tmodel = getattr(sys.modules[__name__], algorithm)(**combination).float().to(device)\n",
    "\t\t\t\n",
    "\t\t\t# get combination dictionary to determine how are indices made\n",
    "\t\t\t# print(\"Model\", model, combination) \n",
    "\t\t\t\n",
    "\t\t\ttotal_parameters = sum(p.numel() for p in model.parameters())\n",
    "\n",
    "\t\t\t# model optimizer\n",
    "\t\t\toptimizer = optim.Adam(params=model.parameters(),betas=(0.9, 0.999), **cfg['adamParams'])\n",
    "\n",
    "\t\t\t# training\n",
    "\t\t\tpatience = 20\n",
    "\t\t\tlr_rate = 2\n",
    "\t\t\tlr_epoch = 100\n",
    "\t\t\ttrain_config = {\"Patience\": patience, \"Learning Rate Divisor\": lr_rate, \"LR Epoch Division\": lr_epoch}\n",
    "\t\t\tmodel, tra_losses, val_losses, elapsed_time = training(model, optimizer, tra_loader, val_loader,\n",
    "\t\t\t\t\t\t\t\t\t\t\t\t\t\t\t\t\tpatience=patience, report_freq=0, n_epochs=num_epochs,\n",
    "\t\t\t\t\t\t\t\t\t\t\t\t\t\t\t\t   alpha=alpha, lr_rate=lr_rate, lr_epoch=lr_epoch,\n",
    "\t\t\t\t\t\t\t\t\t\t\t\t\t\t\t   normalization=None, path = f'{results_folder}/{wdn}/{algorithm}/')\n",
    "\t\t\tloss_plot = plot_loss(tra_losses,val_losses,f'{results_folder}/{wdn}/{algorithm}/loss/{i}')\n",
    "\t\t\tR2_plot = plot_R2(model,val_loader,f'{results_folder}/{wdn}/{algorithm}/R2/{i}', normalization=gn)[1]\n",
    "\t\t\t# store training history and model\n",
    "\t\t\tpd.DataFrame(data = np.array([tra_losses, val_losses]).T).to_csv(\n",
    "\t\t\t\tf'{results_folder}/{wdn}/{algorithm}/hist/{i}.csv')\n",
    "\t\t\ttorch.save(model, f'{results_folder}/{wdn}/{algorithm}/models/{i}.csv')\n",
    "\n",
    "\t\t\t# compute and store predictions, compute r2 scores\n",
    "\t\t\tlosses = {}\n",
    "\t\t\tmax_losses = {}\n",
    "\t\t\tmin_losses = {}\n",
    "\t\t\tr2_scores = {}\n",
    "\t\t\tfor split, loader in zip(['training','validation','testing'],[tra_loader,val_loader,tst_loader]):\n",
    "\t\t\t\tlosses[split], max_losses[split], min_losses[split], pred, real, test_time = testing(model, loader, normalization=gn)\n",
    "\t\t\t\tr2_scores[split] = r2_score(real, pred)\n",
    "\t\t\t\tif i == 0:\n",
    "\t\t\t\t\tpd.DataFrame(data=real.reshape(-1,n_nodes)).to_csv(\n",
    "\t\t\t\t\t\tf'{results_folder}/{wdn}/{algorithm}/pred/{split}/real.csv') # save real obs\n",
    "\t\t\t\tpd.DataFrame(data=pred.reshape(-1,n_nodes)).to_csv(\n",
    "\t\t\t\t\tf'{results_folder}/{wdn}/{algorithm}/pred/{split}/{i}.csv')\n",
    "\t\t\t\n",
    "\t\t\t\n",
    "\t\t\t# log_wandb_data(combination, wdn, algorithm, len(tra_database), len(val_database), len(tst_database), cfg, train_config, loss_plot, R2_plot)\n",
    "\t\t\t# store results\n",
    "\t\t\tresults_df.loc[i,res_columns] = (losses['training'], losses['validation'], losses['testing'],\n",
    "\t\t\t\t\t\t\t\t\t\t\t max_losses['training'], max_losses['validation'], max_losses['testing'],\n",
    "\t\t\t\t\t\t\t\t\t\t\t min_losses['training'], min_losses['validation'], min_losses['testing'],\n",
    "\t\t\t\t\t\t\t\t\t\t\t r2_scores['training'], r2_scores['validation'], r2_scores['testing'],\n",
    "\t\t\t\t\t\t\t\t\t\t\t total_parameters, elapsed_time, test_time)\n",
    "\t\t\t\n",
    "\t\t\t_,_,_, pred, real, time = testing(model, val_loader)\n",
    "\t\t\tpred = pred.reshape(-1,n_nodes)\n",
    "\t\t\treal = real.reshape(-1,n_nodes)\n",
    "\t\t\t\n",
    "\t\t\tfor i in [0, 1, 7, 36]:\n",
    "\t\t\t\tplt.plot(real[0:24, i], label=\"Real\")\n",
    "\t\t\t\tplt.plot(pred[0:24, i], label=\"Predicted\")\n",
    "\t\t\t\tplt.ylabel('Head')\n",
    "\t\t\t\tplt.xlabel('Timestep')\n",
    "\t\t\t\tplt.legend()\n",
    "\t\t\t\t# wandb.log({f'Node {i}': wandb.Image(plt)})\n",
    "\t\t\t\tplt.close()\n",
    "\t\t\t\n",
    "\t\t\t# wandb.finish()\n",
    "\t\t# save graph normalizer\n",
    "\t\twith open(f'{results_folder}/{wdn}/{algorithm}/gn.pickle', 'wb') as handle:\n",
    "\t\t     pickle.dump(gn, handle, protocol=pickle.HIGHEST_PROTOCOL)\n",
    "\n",
    "\t\twith open(f'{results_folder}/{wdn}/{algorithm}/model.pickle', 'wb') as handle:\n",
    "\t\t\ttorch.save(model, handle)\n",
    "\t\tresults_df.to_csv(f'{results_folder}/{wdn}/{algorithm}/results_{algorithm}.csv')\n",
    "\t\t\n",
    "\t\t"
   ]
  },
  {
   "cell_type": "code",
   "execution_count": 13,
   "metadata": {
    "ExecuteTime": {
     "end_time": "2023-10-12T13:06:56.620097500Z",
     "start_time": "2023-10-12T13:06:55.253624700Z"
    }
   },
   "outputs": [
    {
     "data": {
      "application/vnd.plotly.v1+json": {
       "config": {
        "plotlyServerURL": "https://plot.ly"
       },
       "data": [
        {
         "hovertemplate": "%{text}",
         "marker": {
          "cmax": 1,
          "cmin": 0,
          "color": [
           2.5839879512786865,
           2.527036428451538,
           2.4387550354003906,
           2.361586332321167,
           2.2351431846618652,
           2.560046672821045,
           0,
           2.6964921951293945,
           2.649691343307495,
           2.507538318634033,
           2.4686360359191895,
           2.374688148498535,
           2.303804397583008,
           2.3777174949645996,
           2.451961040496826,
           2.5209577083587646,
           2.6307926177978516,
           2.502511739730835,
           2.3985390663146973,
           2.3955078125,
           2.387218475341797,
           2.4836924076080322,
           2.512960910797119,
           2.7328240871429443,
           2.529735803604126,
           2.443169593811035,
           2.486170768737793,
           2.632143497467041,
           2.544680595397949,
           2.5097603797912598,
           2.525808572769165,
           2.5102174282073975,
           2.542022705078125,
           2.5496528148651123,
           2.6062510013580322,
           2.6403167247772217,
           3.3357646465301514
          ],
          "colorbar": {
           "ticklabelposition": "outside",
           "x": -0.05
          },
          "colorscale": [
           [
            0,
            "rgb(255,255,217)"
           ],
           [
            0.125,
            "rgb(237,248,177)"
           ],
           [
            0.25,
            "rgb(199,233,180)"
           ],
           [
            0.375,
            "rgb(127,205,187)"
           ],
           [
            0.5,
            "rgb(65,182,196)"
           ],
           [
            0.625,
            "rgb(29,145,192)"
           ],
           [
            0.75,
            "rgb(34,94,168)"
           ],
           [
            0.875,
            "rgb(37,52,148)"
           ],
           [
            1,
            "rgb(8,29,88)"
           ]
          ],
          "line": {
           "color": "DarkSlateGrey",
           "width": 1
          },
          "showscale": true,
          "size": [
           2.5839879512786865,
           2.527036428451538,
           2.4387550354003906,
           2.361586332321167,
           2.2351431846618652,
           2.560046672821045,
           0,
           2.6964921951293945,
           2.649691343307495,
           2.507538318634033,
           2.4686360359191895,
           2.374688148498535,
           2.303804397583008,
           2.3777174949645996,
           2.451961040496826,
           2.5209577083587646,
           2.6307926177978516,
           2.502511739730835,
           2.3985390663146973,
           2.3955078125,
           2.387218475341797,
           2.4836924076080322,
           2.512960910797119,
           2.7328240871429443,
           2.529735803604126,
           2.443169593811035,
           2.486170768737793,
           2.632143497467041,
           2.544680595397949,
           2.5097603797912598,
           2.525808572769165,
           2.5102174282073975,
           2.542022705078125,
           2.5496528148651123,
           2.6062510013580322,
           2.6403167247772217,
           3.3357646465301514
          ],
          "sizemin": 1,
          "sizeref": 1.6678823232650757
         },
         "mode": "markers",
         "name": "coordinates",
         "showlegend": false,
         "text": [
          "<b><br> Node ID: </b> 1 <br> <b>Value:</b> 2.58",
          "<b><br> Node ID: </b> 2 <br> <b>Value:</b> 2.53",
          "<b><br> Node ID: </b> 3 <br> <b>Value:</b> 2.44",
          "<b><br> Node ID: </b> 4 <br> <b>Value:</b> 2.36",
          "<b><br> Node ID: </b> 5 <br> <b>Value:</b> 2.24",
          "<b><br> Node ID: </b> 6 <br> <b>Value:</b> 2.56",
          "<b><br> Node ID: </b> 7 <br> <b>Value:</b> 0.00",
          "<b><br> Node ID: </b> 8 <br> <b>Value:</b> 2.70",
          "<b><br> Node ID: </b> 9 <br> <b>Value:</b> 2.65",
          "<b><br> Node ID: </b> 10 <br> <b>Value:</b> 2.51",
          "<b><br> Node ID: </b> 11 <br> <b>Value:</b> 2.47",
          "<b><br> Node ID: </b> 12 <br> <b>Value:</b> 2.37",
          "<b><br> Node ID: </b> 13 <br> <b>Value:</b> 2.30",
          "<b><br> Node ID: </b> 14 <br> <b>Value:</b> 2.38",
          "<b><br> Node ID: </b> 15 <br> <b>Value:</b> 2.45",
          "<b><br> Node ID: </b> 16 <br> <b>Value:</b> 2.52",
          "<b><br> Node ID: </b> 17 <br> <b>Value:</b> 2.63",
          "<b><br> Node ID: </b> 18 <br> <b>Value:</b> 2.50",
          "<b><br> Node ID: </b> 19 <br> <b>Value:</b> 2.40",
          "<b><br> Node ID: </b> 20 <br> <b>Value:</b> 2.40",
          "<b><br> Node ID: </b> 21 <br> <b>Value:</b> 2.39",
          "<b><br> Node ID: </b> 22 <br> <b>Value:</b> 2.48",
          "<b><br> Node ID: </b> 23 <br> <b>Value:</b> 2.51",
          "<b><br> Node ID: </b> 24 <br> <b>Value:</b> 2.73",
          "<b><br> Node ID: </b> 25 <br> <b>Value:</b> 2.53",
          "<b><br> Node ID: </b> 26 <br> <b>Value:</b> 2.44",
          "<b><br> Node ID: </b> 27 <br> <b>Value:</b> 2.49",
          "<b><br> Node ID: </b> 28 <br> <b>Value:</b> 2.63",
          "<b><br> Node ID: </b> 29 <br> <b>Value:</b> 2.54",
          "<b><br> Node ID: </b> 30 <br> <b>Value:</b> 2.51",
          "<b><br> Node ID: </b> 31 <br> <b>Value:</b> 2.53",
          "<b><br> Node ID: </b> 32 <br> <b>Value:</b> 2.51",
          "<b><br> Node ID: </b> 33 <br> <b>Value:</b> 2.54",
          "<b><br> Node ID: </b> 34 <br> <b>Value:</b> 2.55",
          "<b><br> Node ID: </b> 35 <br> <b>Value:</b> 2.61",
          "<b><br> Node ID: </b> 36 <br> <b>Value:</b> 2.64",
          "<b><br> Node ID: </b> 37 <br> <b>Value:</b> nan",
          "<b><br> Node ID: </b> 38 <br> <b>Value:</b> 3.34"
         ],
         "type": "scatter",
         "uid": "9c8c51f4-3ede-4d59-b216-ad07967a790a",
         "x": [
          7111.64990234375,
          5679.60986328125,
          4862.4599609375,
          2750.81005859375,
          1852.75,
          1974.1099853515625,
          1974.1099853515625,
          4235.43994140625,
          6411.81005859375,
          5412.6201171875,
          4510.52001953125,
          3033.97998046875,
          2301.780029296875,
          2944.97998046875,
          3786.409912109375,
          4830.10009765625,
          7099.509765625,
          5505.66015625,
          3563.919921875,
          3167.47998046875,
          2730.580078125,
          3511.330078125,
          4097.89990234375,
          3337.3798828125,
          4530.740234375,
          4215.2099609375,
          5194.169921875,
          5218.4501953125,
          5622.97998046875,
          5950.64990234375,
          6614.080078125,
          5380.259765625,
          6318.77001953125,
          6549.35009765625,
          6585.759765625,
          7152.10009765625,
          7669.89990234375,
          818.3510131835938
         ],
         "xaxis": "x",
         "y": [
          7532.35986328125,
          9538.830078125,
          9538.830078125,
          9474.1103515625,
          8357.6103515625,
          6076.0498046875,
          5149.68017578125,
          5076.85986328125,
          5093.0400390625,
          7888.35009765625,
          8264.5595703125,
          9243.5302734375,
          8078.47998046875,
          7669.89990234375,
          7139.97021484375,
          6480.580078125,
          8438.509765625,
          8450.650390625,
          8839,
          7532.35986328125,
          7285.60009765625,
          6666.669921875,
          6286.41015625,
          5121.35986328125,
          6011.330078125,
          7783.169921875,
          7055.02001953125,
          5089,
          5999.18994140625,
          5796.93017578125,
          7621.35986328125,
          7544.5,
          7281.5498046875,
          7212.77978515625,
          6092.22998046875,
          6104.3701171875,
          7783.169921875,
          5080.23779296875
         ],
         "yaxis": "y"
        },
        {
         "line": {
          "width": 3
         },
         "marker": {
          "color": "#00A6D6",
          "size": 4
         },
         "mode": "lines+markers",
         "name": "real",
         "type": "scatter",
         "uid": "6ab8b9f7-4728-4bfe-8a96-446a6b626ec5",
         "x": [
          0,
          1,
          2,
          3,
          4,
          5,
          6,
          7,
          8,
          9,
          10,
          11,
          12,
          13,
          14,
          15,
          16,
          17,
          18,
          19,
          20,
          21,
          22,
          23
         ],
         "xaxis": "x2",
         "y": [
          2.5839879512786865,
          2.5839879512786865,
          2.583995819091797,
          2.583995819091797,
          2.583988904953003,
          2.5839879512786865,
          2.5839953422546387,
          2.5841104984283447,
          2.584000825881958,
          2.5839972496032715,
          2.5840001106262207,
          2.583991765975952,
          2.5839972496032715,
          2.583988904953003,
          2.5839879512786865,
          2.5839972496032715,
          2.5839874744415283,
          2.5839874744415283,
          2.5839908123016357,
          2.584023952484131,
          2.583993911743164,
          2.584038257598877,
          2.584016799926758,
          2.5840182304382324
         ],
         "yaxis": "y2"
        },
        {
         "line": {
          "width": 3
         },
         "marker": {
          "color": "#6F1D77",
          "size": 4
         },
         "mode": "lines+markers",
         "name": "Our model",
         "type": "scatter",
         "uid": "e9d3d864-b679-495b-b973-1e4046b6c5eb",
         "x": [
          0,
          1,
          2,
          3,
          4,
          5,
          6,
          7,
          8,
          9,
          10,
          11,
          12,
          13,
          14,
          15,
          16,
          17,
          18,
          19,
          20,
          21,
          22,
          23
         ],
         "xaxis": "x2",
         "y": [
          2.5144693851470947,
          2.5942800045013428,
          2.6036529541015625,
          2.6124510765075684,
          2.620948314666748,
          2.6287803649902344,
          2.6355905532836914,
          2.635983943939209,
          2.629141092300415,
          2.6166417598724365,
          2.6009950637817383,
          2.5846402645111084,
          2.5701448917388916,
          2.5594687461853027,
          2.5538392066955566,
          2.554196357727051,
          2.5598747730255127,
          2.5700531005859375,
          2.5834789276123047,
          2.596862554550171,
          2.6088643074035645,
          2.614349365234375,
          2.606618881225586,
          2.5815601348876953
         ],
         "yaxis": "y2"
        },
        {
         "hoverinfo": "none",
         "line": {
          "color": "#888",
          "width": 0.5
         },
         "mode": "lines",
         "showlegend": false,
         "type": "scatter",
         "uid": "8fd757c6-a44b-4de3-849f-bce88637f268",
         "x": [
          7111.64990234375,
          7099.509765625,
          null,
          7111.64990234375,
          6614.080078125,
          null,
          7111.64990234375,
          7152.10009765625,
          null,
          7111.64990234375,
          7669.89990234375,
          null,
          5679.60986328125,
          4862.4599609375,
          null,
          5679.60986328125,
          5505.66015625,
          null,
          5679.60986328125,
          7099.509765625,
          null,
          4862.4599609375,
          5679.60986328125,
          null,
          4862.4599609375,
          2750.81005859375,
          null,
          4862.4599609375,
          4510.52001953125,
          null,
          2750.81005859375,
          4862.4599609375,
          null,
          2750.81005859375,
          1852.75,
          null,
          2750.81005859375,
          3033.97998046875,
          null,
          1852.75,
          2750.81005859375,
          null,
          1852.75,
          1974.1099853515625,
          null,
          1852.75,
          2301.780029296875,
          null,
          1974.1099853515625,
          1852.75,
          null,
          1974.1099853515625,
          1974.1099853515625,
          null,
          1974.1099853515625,
          2730.580078125,
          null,
          1974.1099853515625,
          1974.1099853515625,
          null,
          1974.1099853515625,
          3337.3798828125,
          null,
          1974.1099853515625,
          3511.330078125,
          null,
          1974.1099853515625,
          818.3510131835938,
          null,
          4235.43994140625,
          5218.4501953125,
          null,
          4235.43994140625,
          3337.3798828125,
          null,
          4235.43994140625,
          4530.740234375,
          null,
          6411.81005859375,
          7152.10009765625,
          null,
          6411.81005859375,
          5218.4501953125,
          null,
          6411.81005859375,
          5950.64990234375,
          null,
          5412.6201171875,
          4510.52001953125,
          null,
          5412.6201171875,
          5380.259765625,
          null,
          5412.6201171875,
          5505.66015625,
          null,
          5412.6201171875,
          6614.080078125,
          null,
          4510.52001953125,
          4862.4599609375,
          null,
          4510.52001953125,
          5412.6201171875,
          null,
          4510.52001953125,
          3563.919921875,
          null,
          4510.52001953125,
          4215.2099609375,
          null,
          3033.97998046875,
          2750.81005859375,
          null,
          3033.97998046875,
          2301.780029296875,
          null,
          3033.97998046875,
          3563.919921875,
          null,
          2301.780029296875,
          1852.75,
          null,
          2301.780029296875,
          3033.97998046875,
          null,
          2301.780029296875,
          2944.97998046875,
          null,
          2944.97998046875,
          2301.780029296875,
          null,
          2944.97998046875,
          3167.47998046875,
          null,
          2944.97998046875,
          2730.580078125,
          null,
          3786.409912109375,
          3511.330078125,
          null,
          3786.409912109375,
          4830.10009765625,
          null,
          3786.409912109375,
          3167.47998046875,
          null,
          3786.409912109375,
          4215.2099609375,
          null,
          4830.10009765625,
          3786.409912109375,
          null,
          4830.10009765625,
          4530.740234375,
          null,
          4830.10009765625,
          5622.97998046875,
          null,
          4830.10009765625,
          5194.169921875,
          null,
          7099.509765625,
          7111.64990234375,
          null,
          7099.509765625,
          5679.60986328125,
          null,
          7099.509765625,
          5505.66015625,
          null,
          5505.66015625,
          5679.60986328125,
          null,
          5505.66015625,
          5412.6201171875,
          null,
          5505.66015625,
          7099.509765625,
          null,
          3563.919921875,
          4510.52001953125,
          null,
          3563.919921875,
          3033.97998046875,
          null,
          3563.919921875,
          3167.47998046875,
          null,
          3167.47998046875,
          2944.97998046875,
          null,
          3167.47998046875,
          3786.409912109375,
          null,
          3167.47998046875,
          3563.919921875,
          null,
          2730.580078125,
          1974.1099853515625,
          null,
          2730.580078125,
          2944.97998046875,
          null,
          2730.580078125,
          3511.330078125,
          null,
          3511.330078125,
          1974.1099853515625,
          null,
          3511.330078125,
          3786.409912109375,
          null,
          3511.330078125,
          2730.580078125,
          null,
          3511.330078125,
          4097.89990234375,
          null,
          4097.89990234375,
          3511.330078125,
          null,
          4097.89990234375,
          4530.740234375,
          null,
          4097.89990234375,
          3337.3798828125,
          null,
          3337.3798828125,
          1974.1099853515625,
          null,
          3337.3798828125,
          4235.43994140625,
          null,
          3337.3798828125,
          4097.89990234375,
          null,
          4530.740234375,
          4235.43994140625,
          null,
          4530.740234375,
          4830.10009765625,
          null,
          4530.740234375,
          4097.89990234375,
          null,
          4215.2099609375,
          4510.52001953125,
          null,
          4215.2099609375,
          3786.409912109375,
          null,
          4215.2099609375,
          5194.169921875,
          null,
          5194.169921875,
          4830.10009765625,
          null,
          5194.169921875,
          4215.2099609375,
          null,
          5194.169921875,
          5380.259765625,
          null,
          5218.4501953125,
          4235.43994140625,
          null,
          5218.4501953125,
          6411.81005859375,
          null,
          5218.4501953125,
          5622.97998046875,
          null,
          5622.97998046875,
          4830.10009765625,
          null,
          5622.97998046875,
          5218.4501953125,
          null,
          5622.97998046875,
          5950.64990234375,
          null,
          5622.97998046875,
          6318.77001953125,
          null,
          5950.64990234375,
          6411.81005859375,
          null,
          5950.64990234375,
          5622.97998046875,
          null,
          5950.64990234375,
          6585.759765625,
          null,
          6614.080078125,
          7111.64990234375,
          null,
          6614.080078125,
          5412.6201171875,
          null,
          6614.080078125,
          6549.35009765625,
          null,
          5380.259765625,
          5412.6201171875,
          null,
          5380.259765625,
          5194.169921875,
          null,
          5380.259765625,
          6318.77001953125,
          null,
          6318.77001953125,
          5622.97998046875,
          null,
          6318.77001953125,
          5380.259765625,
          null,
          6318.77001953125,
          6549.35009765625,
          null,
          6549.35009765625,
          6614.080078125,
          null,
          6549.35009765625,
          6318.77001953125,
          null,
          6549.35009765625,
          6585.759765625,
          null,
          6585.759765625,
          5950.64990234375,
          null,
          6585.759765625,
          6549.35009765625,
          null,
          6585.759765625,
          7152.10009765625,
          null,
          7152.10009765625,
          7111.64990234375,
          null,
          7152.10009765625,
          6411.81005859375,
          null,
          7152.10009765625,
          6585.759765625,
          null,
          7669.89990234375,
          7111.64990234375,
          null,
          818.3510131835938,
          1974.1099853515625,
          null
         ],
         "xaxis": "x",
         "y": [
          7532.35986328125,
          8438.509765625,
          null,
          7532.35986328125,
          7621.35986328125,
          null,
          7532.35986328125,
          6104.3701171875,
          null,
          7532.35986328125,
          7783.169921875,
          null,
          9538.830078125,
          9538.830078125,
          null,
          9538.830078125,
          8450.650390625,
          null,
          9538.830078125,
          8438.509765625,
          null,
          9538.830078125,
          9538.830078125,
          null,
          9538.830078125,
          9474.1103515625,
          null,
          9538.830078125,
          8264.5595703125,
          null,
          9474.1103515625,
          9538.830078125,
          null,
          9474.1103515625,
          8357.6103515625,
          null,
          9474.1103515625,
          9243.5302734375,
          null,
          8357.6103515625,
          9474.1103515625,
          null,
          8357.6103515625,
          6076.0498046875,
          null,
          8357.6103515625,
          8078.47998046875,
          null,
          6076.0498046875,
          8357.6103515625,
          null,
          6076.0498046875,
          5149.68017578125,
          null,
          6076.0498046875,
          7285.60009765625,
          null,
          5149.68017578125,
          6076.0498046875,
          null,
          5149.68017578125,
          5121.35986328125,
          null,
          5149.68017578125,
          6666.669921875,
          null,
          5149.68017578125,
          5080.23779296875,
          null,
          5076.85986328125,
          5089,
          null,
          5076.85986328125,
          5121.35986328125,
          null,
          5076.85986328125,
          6011.330078125,
          null,
          5093.0400390625,
          6104.3701171875,
          null,
          5093.0400390625,
          5089,
          null,
          5093.0400390625,
          5796.93017578125,
          null,
          7888.35009765625,
          8264.5595703125,
          null,
          7888.35009765625,
          7544.5,
          null,
          7888.35009765625,
          8450.650390625,
          null,
          7888.35009765625,
          7621.35986328125,
          null,
          8264.5595703125,
          9538.830078125,
          null,
          8264.5595703125,
          7888.35009765625,
          null,
          8264.5595703125,
          8839,
          null,
          8264.5595703125,
          7783.169921875,
          null,
          9243.5302734375,
          9474.1103515625,
          null,
          9243.5302734375,
          8078.47998046875,
          null,
          9243.5302734375,
          8839,
          null,
          8078.47998046875,
          8357.6103515625,
          null,
          8078.47998046875,
          9243.5302734375,
          null,
          8078.47998046875,
          7669.89990234375,
          null,
          7669.89990234375,
          8078.47998046875,
          null,
          7669.89990234375,
          7532.35986328125,
          null,
          7669.89990234375,
          7285.60009765625,
          null,
          7139.97021484375,
          6666.669921875,
          null,
          7139.97021484375,
          6480.580078125,
          null,
          7139.97021484375,
          7532.35986328125,
          null,
          7139.97021484375,
          7783.169921875,
          null,
          6480.580078125,
          7139.97021484375,
          null,
          6480.580078125,
          6011.330078125,
          null,
          6480.580078125,
          5999.18994140625,
          null,
          6480.580078125,
          7055.02001953125,
          null,
          8438.509765625,
          7532.35986328125,
          null,
          8438.509765625,
          9538.830078125,
          null,
          8438.509765625,
          8450.650390625,
          null,
          8450.650390625,
          9538.830078125,
          null,
          8450.650390625,
          7888.35009765625,
          null,
          8450.650390625,
          8438.509765625,
          null,
          8839,
          8264.5595703125,
          null,
          8839,
          9243.5302734375,
          null,
          8839,
          7532.35986328125,
          null,
          7532.35986328125,
          7669.89990234375,
          null,
          7532.35986328125,
          7139.97021484375,
          null,
          7532.35986328125,
          8839,
          null,
          7285.60009765625,
          6076.0498046875,
          null,
          7285.60009765625,
          7669.89990234375,
          null,
          7285.60009765625,
          6666.669921875,
          null,
          6666.669921875,
          5149.68017578125,
          null,
          6666.669921875,
          7139.97021484375,
          null,
          6666.669921875,
          7285.60009765625,
          null,
          6666.669921875,
          6286.41015625,
          null,
          6286.41015625,
          6666.669921875,
          null,
          6286.41015625,
          6011.330078125,
          null,
          6286.41015625,
          5121.35986328125,
          null,
          5121.35986328125,
          5149.68017578125,
          null,
          5121.35986328125,
          5076.85986328125,
          null,
          5121.35986328125,
          6286.41015625,
          null,
          6011.330078125,
          5076.85986328125,
          null,
          6011.330078125,
          6480.580078125,
          null,
          6011.330078125,
          6286.41015625,
          null,
          7783.169921875,
          8264.5595703125,
          null,
          7783.169921875,
          7139.97021484375,
          null,
          7783.169921875,
          7055.02001953125,
          null,
          7055.02001953125,
          6480.580078125,
          null,
          7055.02001953125,
          7783.169921875,
          null,
          7055.02001953125,
          7544.5,
          null,
          5089,
          5076.85986328125,
          null,
          5089,
          5093.0400390625,
          null,
          5089,
          5999.18994140625,
          null,
          5999.18994140625,
          6480.580078125,
          null,
          5999.18994140625,
          5089,
          null,
          5999.18994140625,
          5796.93017578125,
          null,
          5999.18994140625,
          7281.5498046875,
          null,
          5796.93017578125,
          5093.0400390625,
          null,
          5796.93017578125,
          5999.18994140625,
          null,
          5796.93017578125,
          6092.22998046875,
          null,
          7621.35986328125,
          7532.35986328125,
          null,
          7621.35986328125,
          7888.35009765625,
          null,
          7621.35986328125,
          7212.77978515625,
          null,
          7544.5,
          7888.35009765625,
          null,
          7544.5,
          7055.02001953125,
          null,
          7544.5,
          7281.5498046875,
          null,
          7281.5498046875,
          5999.18994140625,
          null,
          7281.5498046875,
          7544.5,
          null,
          7281.5498046875,
          7212.77978515625,
          null,
          7212.77978515625,
          7621.35986328125,
          null,
          7212.77978515625,
          7281.5498046875,
          null,
          7212.77978515625,
          6092.22998046875,
          null,
          6092.22998046875,
          5796.93017578125,
          null,
          6092.22998046875,
          7212.77978515625,
          null,
          6092.22998046875,
          6104.3701171875,
          null,
          6104.3701171875,
          7532.35986328125,
          null,
          6104.3701171875,
          5093.0400390625,
          null,
          6104.3701171875,
          6092.22998046875,
          null,
          7783.169921875,
          7532.35986328125,
          null,
          5080.23779296875,
          5149.68017578125,
          null
         ],
         "yaxis": "y"
        },
        {
         "marker": {
          "color": "midnightblue",
          "line": {
           "width": 2
          },
          "size": 15,
          "symbol": "x-open"
         },
         "showlegend": false,
         "type": "scatter",
         "uid": "0775d052-a580-44a2-91e4-c8190222d33c",
         "x": [
          7111.64990234375
         ],
         "xaxis": "x",
         "y": [
          7532.35986328125
         ],
         "yaxis": "y"
        }
       ],
       "layout": {
        "annotations": [
         {
          "font": {
           "size": 16
          },
          "showarrow": false,
          "text": " ",
          "x": 0.14444444444444446,
          "xanchor": "center",
          "xref": "paper",
          "y": 1,
          "yanchor": "bottom",
          "yref": "paper"
         },
         {
          "font": {
           "size": 16
          },
          "showarrow": false,
          "text": "Comparison of hydraulic heads",
          "x": 0.6777777777777778,
          "xanchor": "center",
          "xref": "paper",
          "y": 1,
          "yanchor": "bottom",
          "yref": "paper"
         }
        ],
        "height": 800,
        "template": {
         "data": {
          "bar": [
           {
            "error_x": {
             "color": "#2a3f5f"
            },
            "error_y": {
             "color": "#2a3f5f"
            },
            "marker": {
             "line": {
              "color": "#E5ECF6",
              "width": 0.5
             },
             "pattern": {
              "fillmode": "overlay",
              "size": 10,
              "solidity": 0.2
             }
            },
            "type": "bar"
           }
          ],
          "barpolar": [
           {
            "marker": {
             "line": {
              "color": "#E5ECF6",
              "width": 0.5
             },
             "pattern": {
              "fillmode": "overlay",
              "size": 10,
              "solidity": 0.2
             }
            },
            "type": "barpolar"
           }
          ],
          "carpet": [
           {
            "aaxis": {
             "endlinecolor": "#2a3f5f",
             "gridcolor": "white",
             "linecolor": "white",
             "minorgridcolor": "white",
             "startlinecolor": "#2a3f5f"
            },
            "baxis": {
             "endlinecolor": "#2a3f5f",
             "gridcolor": "white",
             "linecolor": "white",
             "minorgridcolor": "white",
             "startlinecolor": "#2a3f5f"
            },
            "type": "carpet"
           }
          ],
          "choropleth": [
           {
            "colorbar": {
             "outlinewidth": 0,
             "ticks": ""
            },
            "type": "choropleth"
           }
          ],
          "contour": [
           {
            "colorbar": {
             "outlinewidth": 0,
             "ticks": ""
            },
            "colorscale": [
             [
              0,
              "#0d0887"
             ],
             [
              0.1111111111111111,
              "#46039f"
             ],
             [
              0.2222222222222222,
              "#7201a8"
             ],
             [
              0.3333333333333333,
              "#9c179e"
             ],
             [
              0.4444444444444444,
              "#bd3786"
             ],
             [
              0.5555555555555556,
              "#d8576b"
             ],
             [
              0.6666666666666666,
              "#ed7953"
             ],
             [
              0.7777777777777778,
              "#fb9f3a"
             ],
             [
              0.8888888888888888,
              "#fdca26"
             ],
             [
              1,
              "#f0f921"
             ]
            ],
            "type": "contour"
           }
          ],
          "contourcarpet": [
           {
            "colorbar": {
             "outlinewidth": 0,
             "ticks": ""
            },
            "type": "contourcarpet"
           }
          ],
          "heatmap": [
           {
            "colorbar": {
             "outlinewidth": 0,
             "ticks": ""
            },
            "colorscale": [
             [
              0,
              "#0d0887"
             ],
             [
              0.1111111111111111,
              "#46039f"
             ],
             [
              0.2222222222222222,
              "#7201a8"
             ],
             [
              0.3333333333333333,
              "#9c179e"
             ],
             [
              0.4444444444444444,
              "#bd3786"
             ],
             [
              0.5555555555555556,
              "#d8576b"
             ],
             [
              0.6666666666666666,
              "#ed7953"
             ],
             [
              0.7777777777777778,
              "#fb9f3a"
             ],
             [
              0.8888888888888888,
              "#fdca26"
             ],
             [
              1,
              "#f0f921"
             ]
            ],
            "type": "heatmap"
           }
          ],
          "heatmapgl": [
           {
            "colorbar": {
             "outlinewidth": 0,
             "ticks": ""
            },
            "colorscale": [
             [
              0,
              "#0d0887"
             ],
             [
              0.1111111111111111,
              "#46039f"
             ],
             [
              0.2222222222222222,
              "#7201a8"
             ],
             [
              0.3333333333333333,
              "#9c179e"
             ],
             [
              0.4444444444444444,
              "#bd3786"
             ],
             [
              0.5555555555555556,
              "#d8576b"
             ],
             [
              0.6666666666666666,
              "#ed7953"
             ],
             [
              0.7777777777777778,
              "#fb9f3a"
             ],
             [
              0.8888888888888888,
              "#fdca26"
             ],
             [
              1,
              "#f0f921"
             ]
            ],
            "type": "heatmapgl"
           }
          ],
          "histogram": [
           {
            "marker": {
             "pattern": {
              "fillmode": "overlay",
              "size": 10,
              "solidity": 0.2
             }
            },
            "type": "histogram"
           }
          ],
          "histogram2d": [
           {
            "colorbar": {
             "outlinewidth": 0,
             "ticks": ""
            },
            "colorscale": [
             [
              0,
              "#0d0887"
             ],
             [
              0.1111111111111111,
              "#46039f"
             ],
             [
              0.2222222222222222,
              "#7201a8"
             ],
             [
              0.3333333333333333,
              "#9c179e"
             ],
             [
              0.4444444444444444,
              "#bd3786"
             ],
             [
              0.5555555555555556,
              "#d8576b"
             ],
             [
              0.6666666666666666,
              "#ed7953"
             ],
             [
              0.7777777777777778,
              "#fb9f3a"
             ],
             [
              0.8888888888888888,
              "#fdca26"
             ],
             [
              1,
              "#f0f921"
             ]
            ],
            "type": "histogram2d"
           }
          ],
          "histogram2dcontour": [
           {
            "colorbar": {
             "outlinewidth": 0,
             "ticks": ""
            },
            "colorscale": [
             [
              0,
              "#0d0887"
             ],
             [
              0.1111111111111111,
              "#46039f"
             ],
             [
              0.2222222222222222,
              "#7201a8"
             ],
             [
              0.3333333333333333,
              "#9c179e"
             ],
             [
              0.4444444444444444,
              "#bd3786"
             ],
             [
              0.5555555555555556,
              "#d8576b"
             ],
             [
              0.6666666666666666,
              "#ed7953"
             ],
             [
              0.7777777777777778,
              "#fb9f3a"
             ],
             [
              0.8888888888888888,
              "#fdca26"
             ],
             [
              1,
              "#f0f921"
             ]
            ],
            "type": "histogram2dcontour"
           }
          ],
          "mesh3d": [
           {
            "colorbar": {
             "outlinewidth": 0,
             "ticks": ""
            },
            "type": "mesh3d"
           }
          ],
          "parcoords": [
           {
            "line": {
             "colorbar": {
              "outlinewidth": 0,
              "ticks": ""
             }
            },
            "type": "parcoords"
           }
          ],
          "pie": [
           {
            "automargin": true,
            "type": "pie"
           }
          ],
          "scatter": [
           {
            "fillpattern": {
             "fillmode": "overlay",
             "size": 10,
             "solidity": 0.2
            },
            "type": "scatter"
           }
          ],
          "scatter3d": [
           {
            "line": {
             "colorbar": {
              "outlinewidth": 0,
              "ticks": ""
             }
            },
            "marker": {
             "colorbar": {
              "outlinewidth": 0,
              "ticks": ""
             }
            },
            "type": "scatter3d"
           }
          ],
          "scattercarpet": [
           {
            "marker": {
             "colorbar": {
              "outlinewidth": 0,
              "ticks": ""
             }
            },
            "type": "scattercarpet"
           }
          ],
          "scattergeo": [
           {
            "marker": {
             "colorbar": {
              "outlinewidth": 0,
              "ticks": ""
             }
            },
            "type": "scattergeo"
           }
          ],
          "scattergl": [
           {
            "marker": {
             "colorbar": {
              "outlinewidth": 0,
              "ticks": ""
             }
            },
            "type": "scattergl"
           }
          ],
          "scattermapbox": [
           {
            "marker": {
             "colorbar": {
              "outlinewidth": 0,
              "ticks": ""
             }
            },
            "type": "scattermapbox"
           }
          ],
          "scatterpolar": [
           {
            "marker": {
             "colorbar": {
              "outlinewidth": 0,
              "ticks": ""
             }
            },
            "type": "scatterpolar"
           }
          ],
          "scatterpolargl": [
           {
            "marker": {
             "colorbar": {
              "outlinewidth": 0,
              "ticks": ""
             }
            },
            "type": "scatterpolargl"
           }
          ],
          "scatterternary": [
           {
            "marker": {
             "colorbar": {
              "outlinewidth": 0,
              "ticks": ""
             }
            },
            "type": "scatterternary"
           }
          ],
          "surface": [
           {
            "colorbar": {
             "outlinewidth": 0,
             "ticks": ""
            },
            "colorscale": [
             [
              0,
              "#0d0887"
             ],
             [
              0.1111111111111111,
              "#46039f"
             ],
             [
              0.2222222222222222,
              "#7201a8"
             ],
             [
              0.3333333333333333,
              "#9c179e"
             ],
             [
              0.4444444444444444,
              "#bd3786"
             ],
             [
              0.5555555555555556,
              "#d8576b"
             ],
             [
              0.6666666666666666,
              "#ed7953"
             ],
             [
              0.7777777777777778,
              "#fb9f3a"
             ],
             [
              0.8888888888888888,
              "#fdca26"
             ],
             [
              1,
              "#f0f921"
             ]
            ],
            "type": "surface"
           }
          ],
          "table": [
           {
            "cells": {
             "fill": {
              "color": "#EBF0F8"
             },
             "line": {
              "color": "white"
             }
            },
            "header": {
             "fill": {
              "color": "#C8D4E3"
             },
             "line": {
              "color": "white"
             }
            },
            "type": "table"
           }
          ]
         },
         "layout": {
          "annotationdefaults": {
           "arrowcolor": "#2a3f5f",
           "arrowhead": 0,
           "arrowwidth": 1
          },
          "autotypenumbers": "strict",
          "coloraxis": {
           "colorbar": {
            "outlinewidth": 0,
            "ticks": ""
           }
          },
          "colorscale": {
           "diverging": [
            [
             0,
             "#8e0152"
            ],
            [
             0.1,
             "#c51b7d"
            ],
            [
             0.2,
             "#de77ae"
            ],
            [
             0.3,
             "#f1b6da"
            ],
            [
             0.4,
             "#fde0ef"
            ],
            [
             0.5,
             "#f7f7f7"
            ],
            [
             0.6,
             "#e6f5d0"
            ],
            [
             0.7,
             "#b8e186"
            ],
            [
             0.8,
             "#7fbc41"
            ],
            [
             0.9,
             "#4d9221"
            ],
            [
             1,
             "#276419"
            ]
           ],
           "sequential": [
            [
             0,
             "#0d0887"
            ],
            [
             0.1111111111111111,
             "#46039f"
            ],
            [
             0.2222222222222222,
             "#7201a8"
            ],
            [
             0.3333333333333333,
             "#9c179e"
            ],
            [
             0.4444444444444444,
             "#bd3786"
            ],
            [
             0.5555555555555556,
             "#d8576b"
            ],
            [
             0.6666666666666666,
             "#ed7953"
            ],
            [
             0.7777777777777778,
             "#fb9f3a"
            ],
            [
             0.8888888888888888,
             "#fdca26"
            ],
            [
             1,
             "#f0f921"
            ]
           ],
           "sequentialminus": [
            [
             0,
             "#0d0887"
            ],
            [
             0.1111111111111111,
             "#46039f"
            ],
            [
             0.2222222222222222,
             "#7201a8"
            ],
            [
             0.3333333333333333,
             "#9c179e"
            ],
            [
             0.4444444444444444,
             "#bd3786"
            ],
            [
             0.5555555555555556,
             "#d8576b"
            ],
            [
             0.6666666666666666,
             "#ed7953"
            ],
            [
             0.7777777777777778,
             "#fb9f3a"
            ],
            [
             0.8888888888888888,
             "#fdca26"
            ],
            [
             1,
             "#f0f921"
            ]
           ]
          },
          "colorway": [
           "#636efa",
           "#EF553B",
           "#00cc96",
           "#ab63fa",
           "#FFA15A",
           "#19d3f3",
           "#FF6692",
           "#B6E880",
           "#FF97FF",
           "#FECB52"
          ],
          "font": {
           "color": "#2a3f5f"
          },
          "geo": {
           "bgcolor": "white",
           "lakecolor": "white",
           "landcolor": "#E5ECF6",
           "showlakes": true,
           "showland": true,
           "subunitcolor": "white"
          },
          "hoverlabel": {
           "align": "left"
          },
          "hovermode": "closest",
          "mapbox": {
           "style": "light"
          },
          "paper_bgcolor": "white",
          "plot_bgcolor": "#E5ECF6",
          "polar": {
           "angularaxis": {
            "gridcolor": "white",
            "linecolor": "white",
            "ticks": ""
           },
           "bgcolor": "#E5ECF6",
           "radialaxis": {
            "gridcolor": "white",
            "linecolor": "white",
            "ticks": ""
           }
          },
          "scene": {
           "xaxis": {
            "backgroundcolor": "#E5ECF6",
            "gridcolor": "white",
            "gridwidth": 2,
            "linecolor": "white",
            "showbackground": true,
            "ticks": "",
            "zerolinecolor": "white"
           },
           "yaxis": {
            "backgroundcolor": "#E5ECF6",
            "gridcolor": "white",
            "gridwidth": 2,
            "linecolor": "white",
            "showbackground": true,
            "ticks": "",
            "zerolinecolor": "white"
           },
           "zaxis": {
            "backgroundcolor": "#E5ECF6",
            "gridcolor": "white",
            "gridwidth": 2,
            "linecolor": "white",
            "showbackground": true,
            "ticks": "",
            "zerolinecolor": "white"
           }
          },
          "shapedefaults": {
           "line": {
            "color": "#2a3f5f"
           }
          },
          "ternary": {
           "aaxis": {
            "gridcolor": "white",
            "linecolor": "white",
            "ticks": ""
           },
           "baxis": {
            "gridcolor": "white",
            "linecolor": "white",
            "ticks": ""
           },
           "bgcolor": "#E5ECF6",
           "caxis": {
            "gridcolor": "white",
            "linecolor": "white",
            "ticks": ""
           }
          },
          "title": {
           "x": 0.05
          },
          "xaxis": {
           "automargin": true,
           "gridcolor": "white",
           "linecolor": "white",
           "ticks": "",
           "title": {
            "standoff": 15
           },
           "zerolinecolor": "white",
           "zerolinewidth": 2
          },
          "yaxis": {
           "automargin": true,
           "gridcolor": "white",
           "linecolor": "white",
           "ticks": "",
           "title": {
            "standoff": 15
           },
           "zerolinecolor": "white",
           "zerolinewidth": 2
          }
         }
        },
        "title": {
         "text": "Distribution of real Head at hour 0"
        },
        "width": 1600,
        "xaxis": {
         "anchor": "y",
         "domain": [
          0,
          0.2888888888888889
         ],
         "showticklabels": false
        },
        "xaxis2": {
         "anchor": "y2",
         "domain": [
          0.35555555555555557,
          1
         ],
         "title": {
          "text": "Time [hours]"
         }
        },
        "yaxis": {
         "anchor": "x",
         "domain": [
          0,
          1
         ],
         "scaleanchor": "x",
         "scaleratio": 1,
         "showticklabels": false
        },
        "yaxis2": {
         "anchor": "x2",
         "domain": [
          0,
          1
         ],
         "title": {
          "text": "Head [masl]"
         }
        }
       }
      },
      "text/html": [
       "<div>                            <div id=\"b86b7144-936c-4aad-b26f-5c112f7a277a\" class=\"plotly-graph-div\" style=\"height:800px; width:1600px;\"></div>            <script type=\"text/javascript\">                require([\"plotly\"], function(Plotly) {                    window.PLOTLYENV=window.PLOTLYENV || {};                                    if (document.getElementById(\"b86b7144-936c-4aad-b26f-5c112f7a277a\")) {                    Plotly.newPlot(                        \"b86b7144-936c-4aad-b26f-5c112f7a277a\",                        [{\"hovertemplate\":\"%{text}\",\"marker\":{\"cmax\":1,\"cmin\":0,\"color\":[2.5839879512786865,2.527036428451538,2.4387550354003906,2.361586332321167,2.2351431846618652,2.560046672821045,0.0,2.6964921951293945,2.649691343307495,2.507538318634033,2.4686360359191895,2.374688148498535,2.303804397583008,2.3777174949645996,2.451961040496826,2.5209577083587646,2.6307926177978516,2.502511739730835,2.3985390663146973,2.3955078125,2.387218475341797,2.4836924076080322,2.512960910797119,2.7328240871429443,2.529735803604126,2.443169593811035,2.486170768737793,2.632143497467041,2.544680595397949,2.5097603797912598,2.525808572769165,2.5102174282073975,2.542022705078125,2.5496528148651123,2.6062510013580322,2.6403167247772217,3.3357646465301514],\"colorbar\":{\"ticklabelposition\":\"outside\",\"x\":-0.05},\"colorscale\":[[0.0,\"rgb(255,255,217)\"],[0.125,\"rgb(237,248,177)\"],[0.25,\"rgb(199,233,180)\"],[0.375,\"rgb(127,205,187)\"],[0.5,\"rgb(65,182,196)\"],[0.625,\"rgb(29,145,192)\"],[0.75,\"rgb(34,94,168)\"],[0.875,\"rgb(37,52,148)\"],[1.0,\"rgb(8,29,88)\"]],\"line\":{\"color\":\"DarkSlateGrey\",\"width\":1},\"showscale\":true,\"size\":[2.5839879512786865,2.527036428451538,2.4387550354003906,2.361586332321167,2.2351431846618652,2.560046672821045,0.0,2.6964921951293945,2.649691343307495,2.507538318634033,2.4686360359191895,2.374688148498535,2.303804397583008,2.3777174949645996,2.451961040496826,2.5209577083587646,2.6307926177978516,2.502511739730835,2.3985390663146973,2.3955078125,2.387218475341797,2.4836924076080322,2.512960910797119,2.7328240871429443,2.529735803604126,2.443169593811035,2.486170768737793,2.632143497467041,2.544680595397949,2.5097603797912598,2.525808572769165,2.5102174282073975,2.542022705078125,2.5496528148651123,2.6062510013580322,2.6403167247772217,3.3357646465301514],\"sizemin\":1,\"sizeref\":1.6678823232650757},\"mode\":\"markers\",\"name\":\"coordinates\",\"showlegend\":false,\"text\":[\"\\u003cb\\u003e\\u003cbr\\u003e Node ID: \\u003c\\u002fb\\u003e 1 \\u003cbr\\u003e \\u003cb\\u003eValue:\\u003c\\u002fb\\u003e 2.58\",\"\\u003cb\\u003e\\u003cbr\\u003e Node ID: \\u003c\\u002fb\\u003e 2 \\u003cbr\\u003e \\u003cb\\u003eValue:\\u003c\\u002fb\\u003e 2.53\",\"\\u003cb\\u003e\\u003cbr\\u003e Node ID: \\u003c\\u002fb\\u003e 3 \\u003cbr\\u003e \\u003cb\\u003eValue:\\u003c\\u002fb\\u003e 2.44\",\"\\u003cb\\u003e\\u003cbr\\u003e Node ID: \\u003c\\u002fb\\u003e 4 \\u003cbr\\u003e \\u003cb\\u003eValue:\\u003c\\u002fb\\u003e 2.36\",\"\\u003cb\\u003e\\u003cbr\\u003e Node ID: \\u003c\\u002fb\\u003e 5 \\u003cbr\\u003e \\u003cb\\u003eValue:\\u003c\\u002fb\\u003e 2.24\",\"\\u003cb\\u003e\\u003cbr\\u003e Node ID: \\u003c\\u002fb\\u003e 6 \\u003cbr\\u003e \\u003cb\\u003eValue:\\u003c\\u002fb\\u003e 2.56\",\"\\u003cb\\u003e\\u003cbr\\u003e Node ID: \\u003c\\u002fb\\u003e 7 \\u003cbr\\u003e \\u003cb\\u003eValue:\\u003c\\u002fb\\u003e 0.00\",\"\\u003cb\\u003e\\u003cbr\\u003e Node ID: \\u003c\\u002fb\\u003e 8 \\u003cbr\\u003e \\u003cb\\u003eValue:\\u003c\\u002fb\\u003e 2.70\",\"\\u003cb\\u003e\\u003cbr\\u003e Node ID: \\u003c\\u002fb\\u003e 9 \\u003cbr\\u003e \\u003cb\\u003eValue:\\u003c\\u002fb\\u003e 2.65\",\"\\u003cb\\u003e\\u003cbr\\u003e Node ID: \\u003c\\u002fb\\u003e 10 \\u003cbr\\u003e \\u003cb\\u003eValue:\\u003c\\u002fb\\u003e 2.51\",\"\\u003cb\\u003e\\u003cbr\\u003e Node ID: \\u003c\\u002fb\\u003e 11 \\u003cbr\\u003e \\u003cb\\u003eValue:\\u003c\\u002fb\\u003e 2.47\",\"\\u003cb\\u003e\\u003cbr\\u003e Node ID: \\u003c\\u002fb\\u003e 12 \\u003cbr\\u003e \\u003cb\\u003eValue:\\u003c\\u002fb\\u003e 2.37\",\"\\u003cb\\u003e\\u003cbr\\u003e Node ID: \\u003c\\u002fb\\u003e 13 \\u003cbr\\u003e \\u003cb\\u003eValue:\\u003c\\u002fb\\u003e 2.30\",\"\\u003cb\\u003e\\u003cbr\\u003e Node ID: \\u003c\\u002fb\\u003e 14 \\u003cbr\\u003e \\u003cb\\u003eValue:\\u003c\\u002fb\\u003e 2.38\",\"\\u003cb\\u003e\\u003cbr\\u003e Node ID: \\u003c\\u002fb\\u003e 15 \\u003cbr\\u003e \\u003cb\\u003eValue:\\u003c\\u002fb\\u003e 2.45\",\"\\u003cb\\u003e\\u003cbr\\u003e Node ID: \\u003c\\u002fb\\u003e 16 \\u003cbr\\u003e \\u003cb\\u003eValue:\\u003c\\u002fb\\u003e 2.52\",\"\\u003cb\\u003e\\u003cbr\\u003e Node ID: \\u003c\\u002fb\\u003e 17 \\u003cbr\\u003e \\u003cb\\u003eValue:\\u003c\\u002fb\\u003e 2.63\",\"\\u003cb\\u003e\\u003cbr\\u003e Node ID: \\u003c\\u002fb\\u003e 18 \\u003cbr\\u003e \\u003cb\\u003eValue:\\u003c\\u002fb\\u003e 2.50\",\"\\u003cb\\u003e\\u003cbr\\u003e Node ID: \\u003c\\u002fb\\u003e 19 \\u003cbr\\u003e \\u003cb\\u003eValue:\\u003c\\u002fb\\u003e 2.40\",\"\\u003cb\\u003e\\u003cbr\\u003e Node ID: \\u003c\\u002fb\\u003e 20 \\u003cbr\\u003e \\u003cb\\u003eValue:\\u003c\\u002fb\\u003e 2.40\",\"\\u003cb\\u003e\\u003cbr\\u003e Node ID: \\u003c\\u002fb\\u003e 21 \\u003cbr\\u003e \\u003cb\\u003eValue:\\u003c\\u002fb\\u003e 2.39\",\"\\u003cb\\u003e\\u003cbr\\u003e Node ID: \\u003c\\u002fb\\u003e 22 \\u003cbr\\u003e \\u003cb\\u003eValue:\\u003c\\u002fb\\u003e 2.48\",\"\\u003cb\\u003e\\u003cbr\\u003e Node ID: \\u003c\\u002fb\\u003e 23 \\u003cbr\\u003e \\u003cb\\u003eValue:\\u003c\\u002fb\\u003e 2.51\",\"\\u003cb\\u003e\\u003cbr\\u003e Node ID: \\u003c\\u002fb\\u003e 24 \\u003cbr\\u003e \\u003cb\\u003eValue:\\u003c\\u002fb\\u003e 2.73\",\"\\u003cb\\u003e\\u003cbr\\u003e Node ID: \\u003c\\u002fb\\u003e 25 \\u003cbr\\u003e \\u003cb\\u003eValue:\\u003c\\u002fb\\u003e 2.53\",\"\\u003cb\\u003e\\u003cbr\\u003e Node ID: \\u003c\\u002fb\\u003e 26 \\u003cbr\\u003e \\u003cb\\u003eValue:\\u003c\\u002fb\\u003e 2.44\",\"\\u003cb\\u003e\\u003cbr\\u003e Node ID: \\u003c\\u002fb\\u003e 27 \\u003cbr\\u003e \\u003cb\\u003eValue:\\u003c\\u002fb\\u003e 2.49\",\"\\u003cb\\u003e\\u003cbr\\u003e Node ID: \\u003c\\u002fb\\u003e 28 \\u003cbr\\u003e \\u003cb\\u003eValue:\\u003c\\u002fb\\u003e 2.63\",\"\\u003cb\\u003e\\u003cbr\\u003e Node ID: \\u003c\\u002fb\\u003e 29 \\u003cbr\\u003e \\u003cb\\u003eValue:\\u003c\\u002fb\\u003e 2.54\",\"\\u003cb\\u003e\\u003cbr\\u003e Node ID: \\u003c\\u002fb\\u003e 30 \\u003cbr\\u003e \\u003cb\\u003eValue:\\u003c\\u002fb\\u003e 2.51\",\"\\u003cb\\u003e\\u003cbr\\u003e Node ID: \\u003c\\u002fb\\u003e 31 \\u003cbr\\u003e \\u003cb\\u003eValue:\\u003c\\u002fb\\u003e 2.53\",\"\\u003cb\\u003e\\u003cbr\\u003e Node ID: \\u003c\\u002fb\\u003e 32 \\u003cbr\\u003e \\u003cb\\u003eValue:\\u003c\\u002fb\\u003e 2.51\",\"\\u003cb\\u003e\\u003cbr\\u003e Node ID: \\u003c\\u002fb\\u003e 33 \\u003cbr\\u003e \\u003cb\\u003eValue:\\u003c\\u002fb\\u003e 2.54\",\"\\u003cb\\u003e\\u003cbr\\u003e Node ID: \\u003c\\u002fb\\u003e 34 \\u003cbr\\u003e \\u003cb\\u003eValue:\\u003c\\u002fb\\u003e 2.55\",\"\\u003cb\\u003e\\u003cbr\\u003e Node ID: \\u003c\\u002fb\\u003e 35 \\u003cbr\\u003e \\u003cb\\u003eValue:\\u003c\\u002fb\\u003e 2.61\",\"\\u003cb\\u003e\\u003cbr\\u003e Node ID: \\u003c\\u002fb\\u003e 36 \\u003cbr\\u003e \\u003cb\\u003eValue:\\u003c\\u002fb\\u003e 2.64\",\"\\u003cb\\u003e\\u003cbr\\u003e Node ID: \\u003c\\u002fb\\u003e 37 \\u003cbr\\u003e \\u003cb\\u003eValue:\\u003c\\u002fb\\u003e nan\",\"\\u003cb\\u003e\\u003cbr\\u003e Node ID: \\u003c\\u002fb\\u003e 38 \\u003cbr\\u003e \\u003cb\\u003eValue:\\u003c\\u002fb\\u003e 3.34\"],\"x\":[7111.64990234375,5679.60986328125,4862.4599609375,2750.81005859375,1852.75,1974.1099853515625,1974.1099853515625,4235.43994140625,6411.81005859375,5412.6201171875,4510.52001953125,3033.97998046875,2301.780029296875,2944.97998046875,3786.409912109375,4830.10009765625,7099.509765625,5505.66015625,3563.919921875,3167.47998046875,2730.580078125,3511.330078125,4097.89990234375,3337.3798828125,4530.740234375,4215.2099609375,5194.169921875,5218.4501953125,5622.97998046875,5950.64990234375,6614.080078125,5380.259765625,6318.77001953125,6549.35009765625,6585.759765625,7152.10009765625,7669.89990234375,818.3510131835938],\"y\":[7532.35986328125,9538.830078125,9538.830078125,9474.1103515625,8357.6103515625,6076.0498046875,5149.68017578125,5076.85986328125,5093.0400390625,7888.35009765625,8264.5595703125,9243.5302734375,8078.47998046875,7669.89990234375,7139.97021484375,6480.580078125,8438.509765625,8450.650390625,8839.0,7532.35986328125,7285.60009765625,6666.669921875,6286.41015625,5121.35986328125,6011.330078125,7783.169921875,7055.02001953125,5089.0,5999.18994140625,5796.93017578125,7621.35986328125,7544.5,7281.5498046875,7212.77978515625,6092.22998046875,6104.3701171875,7783.169921875,5080.23779296875],\"type\":\"scatter\",\"uid\":\"9c8c51f4-3ede-4d59-b216-ad07967a790a\",\"xaxis\":\"x\",\"yaxis\":\"y\"},{\"line\":{\"width\":3},\"marker\":{\"color\":\"#00A6D6\",\"size\":4},\"mode\":\"lines+markers\",\"name\":\"real\",\"x\":[0,1,2,3,4,5,6,7,8,9,10,11,12,13,14,15,16,17,18,19,20,21,22,23],\"y\":[2.5839879512786865,2.5839879512786865,2.583995819091797,2.583995819091797,2.583988904953003,2.5839879512786865,2.5839953422546387,2.5841104984283447,2.584000825881958,2.5839972496032715,2.5840001106262207,2.583991765975952,2.5839972496032715,2.583988904953003,2.5839879512786865,2.5839972496032715,2.5839874744415283,2.5839874744415283,2.5839908123016357,2.584023952484131,2.583993911743164,2.584038257598877,2.584016799926758,2.5840182304382324],\"type\":\"scatter\",\"uid\":\"6ab8b9f7-4728-4bfe-8a96-446a6b626ec5\",\"xaxis\":\"x2\",\"yaxis\":\"y2\"},{\"line\":{\"width\":3},\"marker\":{\"color\":\"#6F1D77\",\"size\":4},\"mode\":\"lines+markers\",\"name\":\"Our model\",\"x\":[0,1,2,3,4,5,6,7,8,9,10,11,12,13,14,15,16,17,18,19,20,21,22,23],\"y\":[2.5144693851470947,2.5942800045013428,2.6036529541015625,2.6124510765075684,2.620948314666748,2.6287803649902344,2.6355905532836914,2.635983943939209,2.629141092300415,2.6166417598724365,2.6009950637817383,2.5846402645111084,2.5701448917388916,2.5594687461853027,2.5538392066955566,2.554196357727051,2.5598747730255127,2.5700531005859375,2.5834789276123047,2.596862554550171,2.6088643074035645,2.614349365234375,2.606618881225586,2.5815601348876953],\"type\":\"scatter\",\"uid\":\"e9d3d864-b679-495b-b973-1e4046b6c5eb\",\"xaxis\":\"x2\",\"yaxis\":\"y2\"},{\"hoverinfo\":\"none\",\"line\":{\"color\":\"#888\",\"width\":0.5},\"mode\":\"lines\",\"showlegend\":false,\"x\":[7111.64990234375,7099.509765625,null,7111.64990234375,6614.080078125,null,7111.64990234375,7152.10009765625,null,7111.64990234375,7669.89990234375,null,5679.60986328125,4862.4599609375,null,5679.60986328125,5505.66015625,null,5679.60986328125,7099.509765625,null,4862.4599609375,5679.60986328125,null,4862.4599609375,2750.81005859375,null,4862.4599609375,4510.52001953125,null,2750.81005859375,4862.4599609375,null,2750.81005859375,1852.75,null,2750.81005859375,3033.97998046875,null,1852.75,2750.81005859375,null,1852.75,1974.1099853515625,null,1852.75,2301.780029296875,null,1974.1099853515625,1852.75,null,1974.1099853515625,1974.1099853515625,null,1974.1099853515625,2730.580078125,null,1974.1099853515625,1974.1099853515625,null,1974.1099853515625,3337.3798828125,null,1974.1099853515625,3511.330078125,null,1974.1099853515625,818.3510131835938,null,4235.43994140625,5218.4501953125,null,4235.43994140625,3337.3798828125,null,4235.43994140625,4530.740234375,null,6411.81005859375,7152.10009765625,null,6411.81005859375,5218.4501953125,null,6411.81005859375,5950.64990234375,null,5412.6201171875,4510.52001953125,null,5412.6201171875,5380.259765625,null,5412.6201171875,5505.66015625,null,5412.6201171875,6614.080078125,null,4510.52001953125,4862.4599609375,null,4510.52001953125,5412.6201171875,null,4510.52001953125,3563.919921875,null,4510.52001953125,4215.2099609375,null,3033.97998046875,2750.81005859375,null,3033.97998046875,2301.780029296875,null,3033.97998046875,3563.919921875,null,2301.780029296875,1852.75,null,2301.780029296875,3033.97998046875,null,2301.780029296875,2944.97998046875,null,2944.97998046875,2301.780029296875,null,2944.97998046875,3167.47998046875,null,2944.97998046875,2730.580078125,null,3786.409912109375,3511.330078125,null,3786.409912109375,4830.10009765625,null,3786.409912109375,3167.47998046875,null,3786.409912109375,4215.2099609375,null,4830.10009765625,3786.409912109375,null,4830.10009765625,4530.740234375,null,4830.10009765625,5622.97998046875,null,4830.10009765625,5194.169921875,null,7099.509765625,7111.64990234375,null,7099.509765625,5679.60986328125,null,7099.509765625,5505.66015625,null,5505.66015625,5679.60986328125,null,5505.66015625,5412.6201171875,null,5505.66015625,7099.509765625,null,3563.919921875,4510.52001953125,null,3563.919921875,3033.97998046875,null,3563.919921875,3167.47998046875,null,3167.47998046875,2944.97998046875,null,3167.47998046875,3786.409912109375,null,3167.47998046875,3563.919921875,null,2730.580078125,1974.1099853515625,null,2730.580078125,2944.97998046875,null,2730.580078125,3511.330078125,null,3511.330078125,1974.1099853515625,null,3511.330078125,3786.409912109375,null,3511.330078125,2730.580078125,null,3511.330078125,4097.89990234375,null,4097.89990234375,3511.330078125,null,4097.89990234375,4530.740234375,null,4097.89990234375,3337.3798828125,null,3337.3798828125,1974.1099853515625,null,3337.3798828125,4235.43994140625,null,3337.3798828125,4097.89990234375,null,4530.740234375,4235.43994140625,null,4530.740234375,4830.10009765625,null,4530.740234375,4097.89990234375,null,4215.2099609375,4510.52001953125,null,4215.2099609375,3786.409912109375,null,4215.2099609375,5194.169921875,null,5194.169921875,4830.10009765625,null,5194.169921875,4215.2099609375,null,5194.169921875,5380.259765625,null,5218.4501953125,4235.43994140625,null,5218.4501953125,6411.81005859375,null,5218.4501953125,5622.97998046875,null,5622.97998046875,4830.10009765625,null,5622.97998046875,5218.4501953125,null,5622.97998046875,5950.64990234375,null,5622.97998046875,6318.77001953125,null,5950.64990234375,6411.81005859375,null,5950.64990234375,5622.97998046875,null,5950.64990234375,6585.759765625,null,6614.080078125,7111.64990234375,null,6614.080078125,5412.6201171875,null,6614.080078125,6549.35009765625,null,5380.259765625,5412.6201171875,null,5380.259765625,5194.169921875,null,5380.259765625,6318.77001953125,null,6318.77001953125,5622.97998046875,null,6318.77001953125,5380.259765625,null,6318.77001953125,6549.35009765625,null,6549.35009765625,6614.080078125,null,6549.35009765625,6318.77001953125,null,6549.35009765625,6585.759765625,null,6585.759765625,5950.64990234375,null,6585.759765625,6549.35009765625,null,6585.759765625,7152.10009765625,null,7152.10009765625,7111.64990234375,null,7152.10009765625,6411.81005859375,null,7152.10009765625,6585.759765625,null,7669.89990234375,7111.64990234375,null,818.3510131835938,1974.1099853515625,null],\"y\":[7532.35986328125,8438.509765625,null,7532.35986328125,7621.35986328125,null,7532.35986328125,6104.3701171875,null,7532.35986328125,7783.169921875,null,9538.830078125,9538.830078125,null,9538.830078125,8450.650390625,null,9538.830078125,8438.509765625,null,9538.830078125,9538.830078125,null,9538.830078125,9474.1103515625,null,9538.830078125,8264.5595703125,null,9474.1103515625,9538.830078125,null,9474.1103515625,8357.6103515625,null,9474.1103515625,9243.5302734375,null,8357.6103515625,9474.1103515625,null,8357.6103515625,6076.0498046875,null,8357.6103515625,8078.47998046875,null,6076.0498046875,8357.6103515625,null,6076.0498046875,5149.68017578125,null,6076.0498046875,7285.60009765625,null,5149.68017578125,6076.0498046875,null,5149.68017578125,5121.35986328125,null,5149.68017578125,6666.669921875,null,5149.68017578125,5080.23779296875,null,5076.85986328125,5089.0,null,5076.85986328125,5121.35986328125,null,5076.85986328125,6011.330078125,null,5093.0400390625,6104.3701171875,null,5093.0400390625,5089.0,null,5093.0400390625,5796.93017578125,null,7888.35009765625,8264.5595703125,null,7888.35009765625,7544.5,null,7888.35009765625,8450.650390625,null,7888.35009765625,7621.35986328125,null,8264.5595703125,9538.830078125,null,8264.5595703125,7888.35009765625,null,8264.5595703125,8839.0,null,8264.5595703125,7783.169921875,null,9243.5302734375,9474.1103515625,null,9243.5302734375,8078.47998046875,null,9243.5302734375,8839.0,null,8078.47998046875,8357.6103515625,null,8078.47998046875,9243.5302734375,null,8078.47998046875,7669.89990234375,null,7669.89990234375,8078.47998046875,null,7669.89990234375,7532.35986328125,null,7669.89990234375,7285.60009765625,null,7139.97021484375,6666.669921875,null,7139.97021484375,6480.580078125,null,7139.97021484375,7532.35986328125,null,7139.97021484375,7783.169921875,null,6480.580078125,7139.97021484375,null,6480.580078125,6011.330078125,null,6480.580078125,5999.18994140625,null,6480.580078125,7055.02001953125,null,8438.509765625,7532.35986328125,null,8438.509765625,9538.830078125,null,8438.509765625,8450.650390625,null,8450.650390625,9538.830078125,null,8450.650390625,7888.35009765625,null,8450.650390625,8438.509765625,null,8839.0,8264.5595703125,null,8839.0,9243.5302734375,null,8839.0,7532.35986328125,null,7532.35986328125,7669.89990234375,null,7532.35986328125,7139.97021484375,null,7532.35986328125,8839.0,null,7285.60009765625,6076.0498046875,null,7285.60009765625,7669.89990234375,null,7285.60009765625,6666.669921875,null,6666.669921875,5149.68017578125,null,6666.669921875,7139.97021484375,null,6666.669921875,7285.60009765625,null,6666.669921875,6286.41015625,null,6286.41015625,6666.669921875,null,6286.41015625,6011.330078125,null,6286.41015625,5121.35986328125,null,5121.35986328125,5149.68017578125,null,5121.35986328125,5076.85986328125,null,5121.35986328125,6286.41015625,null,6011.330078125,5076.85986328125,null,6011.330078125,6480.580078125,null,6011.330078125,6286.41015625,null,7783.169921875,8264.5595703125,null,7783.169921875,7139.97021484375,null,7783.169921875,7055.02001953125,null,7055.02001953125,6480.580078125,null,7055.02001953125,7783.169921875,null,7055.02001953125,7544.5,null,5089.0,5076.85986328125,null,5089.0,5093.0400390625,null,5089.0,5999.18994140625,null,5999.18994140625,6480.580078125,null,5999.18994140625,5089.0,null,5999.18994140625,5796.93017578125,null,5999.18994140625,7281.5498046875,null,5796.93017578125,5093.0400390625,null,5796.93017578125,5999.18994140625,null,5796.93017578125,6092.22998046875,null,7621.35986328125,7532.35986328125,null,7621.35986328125,7888.35009765625,null,7621.35986328125,7212.77978515625,null,7544.5,7888.35009765625,null,7544.5,7055.02001953125,null,7544.5,7281.5498046875,null,7281.5498046875,5999.18994140625,null,7281.5498046875,7544.5,null,7281.5498046875,7212.77978515625,null,7212.77978515625,7621.35986328125,null,7212.77978515625,7281.5498046875,null,7212.77978515625,6092.22998046875,null,6092.22998046875,5796.93017578125,null,6092.22998046875,7212.77978515625,null,6092.22998046875,6104.3701171875,null,6104.3701171875,7532.35986328125,null,6104.3701171875,5093.0400390625,null,6104.3701171875,6092.22998046875,null,7783.169921875,7532.35986328125,null,5080.23779296875,5149.68017578125,null],\"type\":\"scatter\",\"uid\":\"8fd757c6-a44b-4de3-849f-bce88637f268\",\"xaxis\":\"x\",\"yaxis\":\"y\"},{\"marker\":{\"color\":\"midnightblue\",\"line\":{\"width\":2},\"size\":15,\"symbol\":\"x-open\"},\"showlegend\":false,\"x\":[7111.64990234375],\"y\":[7532.35986328125],\"type\":\"scatter\",\"uid\":\"0775d052-a580-44a2-91e4-c8190222d33c\",\"xaxis\":\"x\",\"yaxis\":\"y\"}],                        {\"annotations\":[{\"font\":{\"size\":16},\"showarrow\":false,\"text\":\" \",\"x\":0.14444444444444446,\"xanchor\":\"center\",\"xref\":\"paper\",\"y\":1.0,\"yanchor\":\"bottom\",\"yref\":\"paper\"},{\"font\":{\"size\":16},\"showarrow\":false,\"text\":\"Comparison of hydraulic heads\",\"x\":0.6777777777777778,\"xanchor\":\"center\",\"xref\":\"paper\",\"y\":1.0,\"yanchor\":\"bottom\",\"yref\":\"paper\"}],\"template\":{\"data\":{\"barpolar\":[{\"marker\":{\"line\":{\"color\":\"#E5ECF6\",\"width\":0.5},\"pattern\":{\"fillmode\":\"overlay\",\"size\":10,\"solidity\":0.2}},\"type\":\"barpolar\"}],\"bar\":[{\"error_x\":{\"color\":\"#2a3f5f\"},\"error_y\":{\"color\":\"#2a3f5f\"},\"marker\":{\"line\":{\"color\":\"#E5ECF6\",\"width\":0.5},\"pattern\":{\"fillmode\":\"overlay\",\"size\":10,\"solidity\":0.2}},\"type\":\"bar\"}],\"carpet\":[{\"aaxis\":{\"endlinecolor\":\"#2a3f5f\",\"gridcolor\":\"white\",\"linecolor\":\"white\",\"minorgridcolor\":\"white\",\"startlinecolor\":\"#2a3f5f\"},\"baxis\":{\"endlinecolor\":\"#2a3f5f\",\"gridcolor\":\"white\",\"linecolor\":\"white\",\"minorgridcolor\":\"white\",\"startlinecolor\":\"#2a3f5f\"},\"type\":\"carpet\"}],\"choropleth\":[{\"colorbar\":{\"outlinewidth\":0,\"ticks\":\"\"},\"type\":\"choropleth\"}],\"contourcarpet\":[{\"colorbar\":{\"outlinewidth\":0,\"ticks\":\"\"},\"type\":\"contourcarpet\"}],\"contour\":[{\"colorbar\":{\"outlinewidth\":0,\"ticks\":\"\"},\"colorscale\":[[0.0,\"#0d0887\"],[0.1111111111111111,\"#46039f\"],[0.2222222222222222,\"#7201a8\"],[0.3333333333333333,\"#9c179e\"],[0.4444444444444444,\"#bd3786\"],[0.5555555555555556,\"#d8576b\"],[0.6666666666666666,\"#ed7953\"],[0.7777777777777778,\"#fb9f3a\"],[0.8888888888888888,\"#fdca26\"],[1.0,\"#f0f921\"]],\"type\":\"contour\"}],\"heatmapgl\":[{\"colorbar\":{\"outlinewidth\":0,\"ticks\":\"\"},\"colorscale\":[[0.0,\"#0d0887\"],[0.1111111111111111,\"#46039f\"],[0.2222222222222222,\"#7201a8\"],[0.3333333333333333,\"#9c179e\"],[0.4444444444444444,\"#bd3786\"],[0.5555555555555556,\"#d8576b\"],[0.6666666666666666,\"#ed7953\"],[0.7777777777777778,\"#fb9f3a\"],[0.8888888888888888,\"#fdca26\"],[1.0,\"#f0f921\"]],\"type\":\"heatmapgl\"}],\"heatmap\":[{\"colorbar\":{\"outlinewidth\":0,\"ticks\":\"\"},\"colorscale\":[[0.0,\"#0d0887\"],[0.1111111111111111,\"#46039f\"],[0.2222222222222222,\"#7201a8\"],[0.3333333333333333,\"#9c179e\"],[0.4444444444444444,\"#bd3786\"],[0.5555555555555556,\"#d8576b\"],[0.6666666666666666,\"#ed7953\"],[0.7777777777777778,\"#fb9f3a\"],[0.8888888888888888,\"#fdca26\"],[1.0,\"#f0f921\"]],\"type\":\"heatmap\"}],\"histogram2dcontour\":[{\"colorbar\":{\"outlinewidth\":0,\"ticks\":\"\"},\"colorscale\":[[0.0,\"#0d0887\"],[0.1111111111111111,\"#46039f\"],[0.2222222222222222,\"#7201a8\"],[0.3333333333333333,\"#9c179e\"],[0.4444444444444444,\"#bd3786\"],[0.5555555555555556,\"#d8576b\"],[0.6666666666666666,\"#ed7953\"],[0.7777777777777778,\"#fb9f3a\"],[0.8888888888888888,\"#fdca26\"],[1.0,\"#f0f921\"]],\"type\":\"histogram2dcontour\"}],\"histogram2d\":[{\"colorbar\":{\"outlinewidth\":0,\"ticks\":\"\"},\"colorscale\":[[0.0,\"#0d0887\"],[0.1111111111111111,\"#46039f\"],[0.2222222222222222,\"#7201a8\"],[0.3333333333333333,\"#9c179e\"],[0.4444444444444444,\"#bd3786\"],[0.5555555555555556,\"#d8576b\"],[0.6666666666666666,\"#ed7953\"],[0.7777777777777778,\"#fb9f3a\"],[0.8888888888888888,\"#fdca26\"],[1.0,\"#f0f921\"]],\"type\":\"histogram2d\"}],\"histogram\":[{\"marker\":{\"pattern\":{\"fillmode\":\"overlay\",\"size\":10,\"solidity\":0.2}},\"type\":\"histogram\"}],\"mesh3d\":[{\"colorbar\":{\"outlinewidth\":0,\"ticks\":\"\"},\"type\":\"mesh3d\"}],\"parcoords\":[{\"line\":{\"colorbar\":{\"outlinewidth\":0,\"ticks\":\"\"}},\"type\":\"parcoords\"}],\"pie\":[{\"automargin\":true,\"type\":\"pie\"}],\"scatter3d\":[{\"line\":{\"colorbar\":{\"outlinewidth\":0,\"ticks\":\"\"}},\"marker\":{\"colorbar\":{\"outlinewidth\":0,\"ticks\":\"\"}},\"type\":\"scatter3d\"}],\"scattercarpet\":[{\"marker\":{\"colorbar\":{\"outlinewidth\":0,\"ticks\":\"\"}},\"type\":\"scattercarpet\"}],\"scattergeo\":[{\"marker\":{\"colorbar\":{\"outlinewidth\":0,\"ticks\":\"\"}},\"type\":\"scattergeo\"}],\"scattergl\":[{\"marker\":{\"colorbar\":{\"outlinewidth\":0,\"ticks\":\"\"}},\"type\":\"scattergl\"}],\"scattermapbox\":[{\"marker\":{\"colorbar\":{\"outlinewidth\":0,\"ticks\":\"\"}},\"type\":\"scattermapbox\"}],\"scatterpolargl\":[{\"marker\":{\"colorbar\":{\"outlinewidth\":0,\"ticks\":\"\"}},\"type\":\"scatterpolargl\"}],\"scatterpolar\":[{\"marker\":{\"colorbar\":{\"outlinewidth\":0,\"ticks\":\"\"}},\"type\":\"scatterpolar\"}],\"scatter\":[{\"fillpattern\":{\"fillmode\":\"overlay\",\"size\":10,\"solidity\":0.2},\"type\":\"scatter\"}],\"scatterternary\":[{\"marker\":{\"colorbar\":{\"outlinewidth\":0,\"ticks\":\"\"}},\"type\":\"scatterternary\"}],\"surface\":[{\"colorbar\":{\"outlinewidth\":0,\"ticks\":\"\"},\"colorscale\":[[0.0,\"#0d0887\"],[0.1111111111111111,\"#46039f\"],[0.2222222222222222,\"#7201a8\"],[0.3333333333333333,\"#9c179e\"],[0.4444444444444444,\"#bd3786\"],[0.5555555555555556,\"#d8576b\"],[0.6666666666666666,\"#ed7953\"],[0.7777777777777778,\"#fb9f3a\"],[0.8888888888888888,\"#fdca26\"],[1.0,\"#f0f921\"]],\"type\":\"surface\"}],\"table\":[{\"cells\":{\"fill\":{\"color\":\"#EBF0F8\"},\"line\":{\"color\":\"white\"}},\"header\":{\"fill\":{\"color\":\"#C8D4E3\"},\"line\":{\"color\":\"white\"}},\"type\":\"table\"}]},\"layout\":{\"annotationdefaults\":{\"arrowcolor\":\"#2a3f5f\",\"arrowhead\":0,\"arrowwidth\":1},\"autotypenumbers\":\"strict\",\"coloraxis\":{\"colorbar\":{\"outlinewidth\":0,\"ticks\":\"\"}},\"colorscale\":{\"diverging\":[[0,\"#8e0152\"],[0.1,\"#c51b7d\"],[0.2,\"#de77ae\"],[0.3,\"#f1b6da\"],[0.4,\"#fde0ef\"],[0.5,\"#f7f7f7\"],[0.6,\"#e6f5d0\"],[0.7,\"#b8e186\"],[0.8,\"#7fbc41\"],[0.9,\"#4d9221\"],[1,\"#276419\"]],\"sequential\":[[0.0,\"#0d0887\"],[0.1111111111111111,\"#46039f\"],[0.2222222222222222,\"#7201a8\"],[0.3333333333333333,\"#9c179e\"],[0.4444444444444444,\"#bd3786\"],[0.5555555555555556,\"#d8576b\"],[0.6666666666666666,\"#ed7953\"],[0.7777777777777778,\"#fb9f3a\"],[0.8888888888888888,\"#fdca26\"],[1.0,\"#f0f921\"]],\"sequentialminus\":[[0.0,\"#0d0887\"],[0.1111111111111111,\"#46039f\"],[0.2222222222222222,\"#7201a8\"],[0.3333333333333333,\"#9c179e\"],[0.4444444444444444,\"#bd3786\"],[0.5555555555555556,\"#d8576b\"],[0.6666666666666666,\"#ed7953\"],[0.7777777777777778,\"#fb9f3a\"],[0.8888888888888888,\"#fdca26\"],[1.0,\"#f0f921\"]]},\"colorway\":[\"#636efa\",\"#EF553B\",\"#00cc96\",\"#ab63fa\",\"#FFA15A\",\"#19d3f3\",\"#FF6692\",\"#B6E880\",\"#FF97FF\",\"#FECB52\"],\"font\":{\"color\":\"#2a3f5f\"},\"geo\":{\"bgcolor\":\"white\",\"lakecolor\":\"white\",\"landcolor\":\"#E5ECF6\",\"showlakes\":true,\"showland\":true,\"subunitcolor\":\"white\"},\"hoverlabel\":{\"align\":\"left\"},\"hovermode\":\"closest\",\"mapbox\":{\"style\":\"light\"},\"paper_bgcolor\":\"white\",\"plot_bgcolor\":\"#E5ECF6\",\"polar\":{\"angularaxis\":{\"gridcolor\":\"white\",\"linecolor\":\"white\",\"ticks\":\"\"},\"bgcolor\":\"#E5ECF6\",\"radialaxis\":{\"gridcolor\":\"white\",\"linecolor\":\"white\",\"ticks\":\"\"}},\"scene\":{\"xaxis\":{\"backgroundcolor\":\"#E5ECF6\",\"gridcolor\":\"white\",\"gridwidth\":2,\"linecolor\":\"white\",\"showbackground\":true,\"ticks\":\"\",\"zerolinecolor\":\"white\"},\"yaxis\":{\"backgroundcolor\":\"#E5ECF6\",\"gridcolor\":\"white\",\"gridwidth\":2,\"linecolor\":\"white\",\"showbackground\":true,\"ticks\":\"\",\"zerolinecolor\":\"white\"},\"zaxis\":{\"backgroundcolor\":\"#E5ECF6\",\"gridcolor\":\"white\",\"gridwidth\":2,\"linecolor\":\"white\",\"showbackground\":true,\"ticks\":\"\",\"zerolinecolor\":\"white\"}},\"shapedefaults\":{\"line\":{\"color\":\"#2a3f5f\"}},\"ternary\":{\"aaxis\":{\"gridcolor\":\"white\",\"linecolor\":\"white\",\"ticks\":\"\"},\"baxis\":{\"gridcolor\":\"white\",\"linecolor\":\"white\",\"ticks\":\"\"},\"bgcolor\":\"#E5ECF6\",\"caxis\":{\"gridcolor\":\"white\",\"linecolor\":\"white\",\"ticks\":\"\"}},\"title\":{\"x\":0.05},\"xaxis\":{\"automargin\":true,\"gridcolor\":\"white\",\"linecolor\":\"white\",\"ticks\":\"\",\"title\":{\"standoff\":15},\"zerolinecolor\":\"white\",\"zerolinewidth\":2},\"yaxis\":{\"automargin\":true,\"gridcolor\":\"white\",\"linecolor\":\"white\",\"ticks\":\"\",\"title\":{\"standoff\":15},\"zerolinecolor\":\"white\",\"zerolinewidth\":2}}},\"xaxis\":{\"anchor\":\"y\",\"domain\":[0.0,0.2888888888888889],\"showticklabels\":false},\"yaxis\":{\"anchor\":\"x\",\"domain\":[0.0,1.0],\"scaleanchor\":\"x\",\"scaleratio\":1,\"showticklabels\":false},\"xaxis2\":{\"anchor\":\"y2\",\"domain\":[0.35555555555555557,1.0],\"title\":{\"text\":\"Time [hours]\"}},\"yaxis2\":{\"anchor\":\"x2\",\"domain\":[0.0,1.0],\"title\":{\"text\":\"Head [masl]\"}},\"width\":1600,\"height\":800,\"title\":{\"text\":\"Distribution of real Head at hour 0\"}},                        {\"responsive\": true}                    ).then(function(){\n",
       "                            \n",
       "var gd = document.getElementById('b86b7144-936c-4aad-b26f-5c112f7a277a');\n",
       "var x = new MutationObserver(function (mutations, observer) {{\n",
       "        var display = window.getComputedStyle(gd).display;\n",
       "        if (!display || display === 'none') {{\n",
       "            console.log([gd, 'removed!']);\n",
       "            Plotly.purge(gd);\n",
       "            observer.disconnect();\n",
       "        }}\n",
       "}});\n",
       "\n",
       "// Listen for the removal of the full notebook cells\n",
       "var notebookContainer = gd.closest('#notebook-container');\n",
       "if (notebookContainer) {{\n",
       "    x.observe(notebookContainer, {childList: true});\n",
       "}}\n",
       "\n",
       "// Listen for the clearing of the current output cell\n",
       "var outputEl = gd.closest('.output');\n",
       "if (outputEl) {{\n",
       "    x.observe(outputEl, {childList: true});\n",
       "}}\n",
       "\n",
       "                        })                };                });            </script>        </div>"
      ]
     },
     "metadata": {},
     "output_type": "display_data"
    },
    {
     "data": {
      "application/vnd.jupyter.widget-view+json": {
       "model_id": "617d3783b8034c73be04673412c38ed8",
       "version_major": 2,
       "version_minor": 0
      },
      "text/plain": [
       "VBox(children=(Dropdown(description='Property:   ', index=1, options=('Predicted Head', 'Real Head', 'Error', …"
      ]
     },
     "metadata": {},
     "output_type": "display_data"
    }
   ],
   "source": [
    "from utils.Dashboard import Dashboard\n",
    "from IPython.display import display\n",
    "\n",
    "_,_,_, pred, real, time = testing(model, val_loader)\n",
    "pred = pred.reshape(-1,n_nodes)\n",
    "real = real.reshape(-1,n_nodes)\n",
    "\n",
    "# Array below is created to ensure proper indexing of the nodes when displaying\n",
    "type_array = (val_database[0].node_type == 0) | (val_database[0].node_type == 2)\n",
    "d = Dashboard(pd.DataFrame(real[0:24, :]),pd.DataFrame(pred[0:24, :]),to_networkx(val_dataset[0],node_attrs=['pos', 'ID']),type_array)\n",
    "f = d.display_results()\n",
    "\n",
    "for i in [0, 1, 7, 36]:\n",
    "\tplt.plot(real[0:24, i], label=\"Real\")\n",
    "\tplt.plot(pred[0:24, i], label=\"Predicted\")\n",
    "\tplt.ylabel('Head')\n",
    "\tplt.xlabel('Timestep')\n",
    "\tplt.legend()\n",
    "\t# wandb.log({f'Node {i}': wandb.Image(plt)})\n",
    "\tplt.close()\n",
    "\n",
    "# Create a table\n",
    "\n",
    "# Add Plotly figure as HTML file into Table\n",
    "# table = wandb.Table(columns = [\"Figure\" + str(i)])\n",
    "# with open('./my_HTML_' + str(i) + '.html', 'r', encoding='utf-8') as file:\n",
    "# \thtml_content = file.read()\n",
    "# table.add_data(wandb.Html(html_content))\n",
    "display(f)\n",
    "# wandb.finish()"
   ]
  },
  {
   "cell_type": "code",
   "execution_count": 12,
   "metadata": {
    "ExecuteTime": {
     "end_time": "2023-10-12T13:06:58.232284200Z",
     "start_time": "2023-10-12T13:06:56.553064500Z"
    }
   },
   "outputs": [
    {
     "name": "stdout",
     "output_type": "stream",
     "text": [
      "The latest WDN folder is: unrolling_WDN0194\n"
     ]
    },
    {
     "ename": "FileNotFoundError",
     "evalue": "[Errno 2] No such file or directory: './experiments/unrolling_WDN0194/FOS_tank/BaselineUnrolling/pred/testing/0.csv'",
     "output_type": "error",
     "traceback": [
      "\u001b[1;31m---------------------------------------------------------------------------\u001b[0m",
      "\u001b[1;31mFileNotFoundError\u001b[0m                         Traceback (most recent call last)",
      "Cell \u001b[1;32mIn[12], line 28\u001b[0m\n\u001b[0;32m     26\u001b[0m real \u001b[38;5;241m=\u001b[39m pd\u001b[38;5;241m.\u001b[39mread_csv(\u001b[38;5;124mf\u001b[39m\u001b[38;5;124m'\u001b[39m\u001b[38;5;124m./experiments/unrolling_WDN\u001b[39m\u001b[38;5;132;01m{\u001b[39;00mlatest_wdn_number\u001b[38;5;132;01m:\u001b[39;00m\u001b[38;5;124m04d\u001b[39m\u001b[38;5;132;01m}\u001b[39;00m\u001b[38;5;124m/FOS_tank/LSTM/pred/testing/real.csv\u001b[39m\u001b[38;5;124m'\u001b[39m)\u001b[38;5;241m.\u001b[39mdrop(columns\u001b[38;5;241m=\u001b[39m[\u001b[38;5;124m'\u001b[39m\u001b[38;5;124mUnnamed: 0\u001b[39m\u001b[38;5;124m'\u001b[39m])\n\u001b[0;32m     27\u001b[0m lstm_pred \u001b[38;5;241m=\u001b[39m pd\u001b[38;5;241m.\u001b[39mread_csv(\u001b[38;5;124mf\u001b[39m\u001b[38;5;124m'\u001b[39m\u001b[38;5;124m./experiments/unrolling_WDN\u001b[39m\u001b[38;5;132;01m{\u001b[39;00mlatest_wdn_number\u001b[38;5;132;01m:\u001b[39;00m\u001b[38;5;124m04d\u001b[39m\u001b[38;5;132;01m}\u001b[39;00m\u001b[38;5;124m/FOS_tank/LSTM/pred/testing/0.csv\u001b[39m\u001b[38;5;124m'\u001b[39m)\u001b[38;5;241m.\u001b[39mdrop(columns\u001b[38;5;241m=\u001b[39m[\u001b[38;5;124m'\u001b[39m\u001b[38;5;124mUnnamed: 0\u001b[39m\u001b[38;5;124m'\u001b[39m])\n\u001b[1;32m---> 28\u001b[0m unrolling_pred \u001b[38;5;241m=\u001b[39m  \u001b[43mpd\u001b[49m\u001b[38;5;241;43m.\u001b[39;49m\u001b[43mread_csv\u001b[49m\u001b[43m(\u001b[49m\u001b[38;5;124;43mf\u001b[39;49m\u001b[38;5;124;43m'\u001b[39;49m\u001b[38;5;124;43m./experiments/unrolling_WDN\u001b[39;49m\u001b[38;5;132;43;01m{\u001b[39;49;00m\u001b[43mlatest_wdn_number\u001b[49m\u001b[38;5;132;43;01m:\u001b[39;49;00m\u001b[38;5;124;43m04d\u001b[39;49m\u001b[38;5;132;43;01m}\u001b[39;49;00m\u001b[38;5;124;43m/FOS_tank/BaselineUnrolling/pred/testing/0.csv\u001b[39;49m\u001b[38;5;124;43m'\u001b[39;49m\u001b[43m)\u001b[49m\u001b[38;5;241m.\u001b[39mdrop(columns\u001b[38;5;241m=\u001b[39m[\u001b[38;5;124m'\u001b[39m\u001b[38;5;124mUnnamed: 0\u001b[39m\u001b[38;5;124m'\u001b[39m])\n",
      "File \u001b[1;32m~\\anaconda3\\lib\\site-packages\\pandas\\util\\_decorators.py:311\u001b[0m, in \u001b[0;36mdeprecate_nonkeyword_arguments.<locals>.decorate.<locals>.wrapper\u001b[1;34m(*args, **kwargs)\u001b[0m\n\u001b[0;32m    305\u001b[0m \u001b[38;5;28;01mif\u001b[39;00m \u001b[38;5;28mlen\u001b[39m(args) \u001b[38;5;241m>\u001b[39m num_allow_args:\n\u001b[0;32m    306\u001b[0m     warnings\u001b[38;5;241m.\u001b[39mwarn(\n\u001b[0;32m    307\u001b[0m         msg\u001b[38;5;241m.\u001b[39mformat(arguments\u001b[38;5;241m=\u001b[39marguments),\n\u001b[0;32m    308\u001b[0m         \u001b[38;5;167;01mFutureWarning\u001b[39;00m,\n\u001b[0;32m    309\u001b[0m         stacklevel\u001b[38;5;241m=\u001b[39mstacklevel,\n\u001b[0;32m    310\u001b[0m     )\n\u001b[1;32m--> 311\u001b[0m \u001b[38;5;28;01mreturn\u001b[39;00m func(\u001b[38;5;241m*\u001b[39margs, \u001b[38;5;241m*\u001b[39m\u001b[38;5;241m*\u001b[39mkwargs)\n",
      "File \u001b[1;32m~\\anaconda3\\lib\\site-packages\\pandas\\io\\parsers\\readers.py:680\u001b[0m, in \u001b[0;36mread_csv\u001b[1;34m(filepath_or_buffer, sep, delimiter, header, names, index_col, usecols, squeeze, prefix, mangle_dupe_cols, dtype, engine, converters, true_values, false_values, skipinitialspace, skiprows, skipfooter, nrows, na_values, keep_default_na, na_filter, verbose, skip_blank_lines, parse_dates, infer_datetime_format, keep_date_col, date_parser, dayfirst, cache_dates, iterator, chunksize, compression, thousands, decimal, lineterminator, quotechar, quoting, doublequote, escapechar, comment, encoding, encoding_errors, dialect, error_bad_lines, warn_bad_lines, on_bad_lines, delim_whitespace, low_memory, memory_map, float_precision, storage_options)\u001b[0m\n\u001b[0;32m    665\u001b[0m kwds_defaults \u001b[38;5;241m=\u001b[39m _refine_defaults_read(\n\u001b[0;32m    666\u001b[0m     dialect,\n\u001b[0;32m    667\u001b[0m     delimiter,\n\u001b[1;32m   (...)\u001b[0m\n\u001b[0;32m    676\u001b[0m     defaults\u001b[38;5;241m=\u001b[39m{\u001b[38;5;124m\"\u001b[39m\u001b[38;5;124mdelimiter\u001b[39m\u001b[38;5;124m\"\u001b[39m: \u001b[38;5;124m\"\u001b[39m\u001b[38;5;124m,\u001b[39m\u001b[38;5;124m\"\u001b[39m},\n\u001b[0;32m    677\u001b[0m )\n\u001b[0;32m    678\u001b[0m kwds\u001b[38;5;241m.\u001b[39mupdate(kwds_defaults)\n\u001b[1;32m--> 680\u001b[0m \u001b[38;5;28;01mreturn\u001b[39;00m \u001b[43m_read\u001b[49m\u001b[43m(\u001b[49m\u001b[43mfilepath_or_buffer\u001b[49m\u001b[43m,\u001b[49m\u001b[43m \u001b[49m\u001b[43mkwds\u001b[49m\u001b[43m)\u001b[49m\n",
      "File \u001b[1;32m~\\anaconda3\\lib\\site-packages\\pandas\\io\\parsers\\readers.py:575\u001b[0m, in \u001b[0;36m_read\u001b[1;34m(filepath_or_buffer, kwds)\u001b[0m\n\u001b[0;32m    572\u001b[0m _validate_names(kwds\u001b[38;5;241m.\u001b[39mget(\u001b[38;5;124m\"\u001b[39m\u001b[38;5;124mnames\u001b[39m\u001b[38;5;124m\"\u001b[39m, \u001b[38;5;28;01mNone\u001b[39;00m))\n\u001b[0;32m    574\u001b[0m \u001b[38;5;66;03m# Create the parser.\u001b[39;00m\n\u001b[1;32m--> 575\u001b[0m parser \u001b[38;5;241m=\u001b[39m TextFileReader(filepath_or_buffer, \u001b[38;5;241m*\u001b[39m\u001b[38;5;241m*\u001b[39mkwds)\n\u001b[0;32m    577\u001b[0m \u001b[38;5;28;01mif\u001b[39;00m chunksize \u001b[38;5;129;01mor\u001b[39;00m iterator:\n\u001b[0;32m    578\u001b[0m     \u001b[38;5;28;01mreturn\u001b[39;00m parser\n",
      "File \u001b[1;32m~\\anaconda3\\lib\\site-packages\\pandas\\io\\parsers\\readers.py:934\u001b[0m, in \u001b[0;36mTextFileReader.__init__\u001b[1;34m(self, f, engine, **kwds)\u001b[0m\n\u001b[0;32m    931\u001b[0m     \u001b[38;5;28mself\u001b[39m\u001b[38;5;241m.\u001b[39moptions[\u001b[38;5;124m\"\u001b[39m\u001b[38;5;124mhas_index_names\u001b[39m\u001b[38;5;124m\"\u001b[39m] \u001b[38;5;241m=\u001b[39m kwds[\u001b[38;5;124m\"\u001b[39m\u001b[38;5;124mhas_index_names\u001b[39m\u001b[38;5;124m\"\u001b[39m]\n\u001b[0;32m    933\u001b[0m \u001b[38;5;28mself\u001b[39m\u001b[38;5;241m.\u001b[39mhandles: IOHandles \u001b[38;5;241m|\u001b[39m \u001b[38;5;28;01mNone\u001b[39;00m \u001b[38;5;241m=\u001b[39m \u001b[38;5;28;01mNone\u001b[39;00m\n\u001b[1;32m--> 934\u001b[0m \u001b[38;5;28mself\u001b[39m\u001b[38;5;241m.\u001b[39m_engine \u001b[38;5;241m=\u001b[39m \u001b[38;5;28;43mself\u001b[39;49m\u001b[38;5;241;43m.\u001b[39;49m\u001b[43m_make_engine\u001b[49m\u001b[43m(\u001b[49m\u001b[43mf\u001b[49m\u001b[43m,\u001b[49m\u001b[43m \u001b[49m\u001b[38;5;28;43mself\u001b[39;49m\u001b[38;5;241;43m.\u001b[39;49m\u001b[43mengine\u001b[49m\u001b[43m)\u001b[49m\n",
      "File \u001b[1;32m~\\anaconda3\\lib\\site-packages\\pandas\\io\\parsers\\readers.py:1218\u001b[0m, in \u001b[0;36mTextFileReader._make_engine\u001b[1;34m(self, f, engine)\u001b[0m\n\u001b[0;32m   1214\u001b[0m     mode \u001b[38;5;241m=\u001b[39m \u001b[38;5;124m\"\u001b[39m\u001b[38;5;124mrb\u001b[39m\u001b[38;5;124m\"\u001b[39m\n\u001b[0;32m   1215\u001b[0m \u001b[38;5;66;03m# error: No overload variant of \"get_handle\" matches argument types\u001b[39;00m\n\u001b[0;32m   1216\u001b[0m \u001b[38;5;66;03m# \"Union[str, PathLike[str], ReadCsvBuffer[bytes], ReadCsvBuffer[str]]\"\u001b[39;00m\n\u001b[0;32m   1217\u001b[0m \u001b[38;5;66;03m# , \"str\", \"bool\", \"Any\", \"Any\", \"Any\", \"Any\", \"Any\"\u001b[39;00m\n\u001b[1;32m-> 1218\u001b[0m \u001b[38;5;28mself\u001b[39m\u001b[38;5;241m.\u001b[39mhandles \u001b[38;5;241m=\u001b[39m \u001b[43mget_handle\u001b[49m\u001b[43m(\u001b[49m\u001b[43m  \u001b[49m\u001b[38;5;66;43;03m# type: ignore[call-overload]\u001b[39;49;00m\n\u001b[0;32m   1219\u001b[0m \u001b[43m    \u001b[49m\u001b[43mf\u001b[49m\u001b[43m,\u001b[49m\n\u001b[0;32m   1220\u001b[0m \u001b[43m    \u001b[49m\u001b[43mmode\u001b[49m\u001b[43m,\u001b[49m\n\u001b[0;32m   1221\u001b[0m \u001b[43m    \u001b[49m\u001b[43mencoding\u001b[49m\u001b[38;5;241;43m=\u001b[39;49m\u001b[38;5;28;43mself\u001b[39;49m\u001b[38;5;241;43m.\u001b[39;49m\u001b[43moptions\u001b[49m\u001b[38;5;241;43m.\u001b[39;49m\u001b[43mget\u001b[49m\u001b[43m(\u001b[49m\u001b[38;5;124;43m\"\u001b[39;49m\u001b[38;5;124;43mencoding\u001b[39;49m\u001b[38;5;124;43m\"\u001b[39;49m\u001b[43m,\u001b[49m\u001b[43m \u001b[49m\u001b[38;5;28;43;01mNone\u001b[39;49;00m\u001b[43m)\u001b[49m\u001b[43m,\u001b[49m\n\u001b[0;32m   1222\u001b[0m \u001b[43m    \u001b[49m\u001b[43mcompression\u001b[49m\u001b[38;5;241;43m=\u001b[39;49m\u001b[38;5;28;43mself\u001b[39;49m\u001b[38;5;241;43m.\u001b[39;49m\u001b[43moptions\u001b[49m\u001b[38;5;241;43m.\u001b[39;49m\u001b[43mget\u001b[49m\u001b[43m(\u001b[49m\u001b[38;5;124;43m\"\u001b[39;49m\u001b[38;5;124;43mcompression\u001b[39;49m\u001b[38;5;124;43m\"\u001b[39;49m\u001b[43m,\u001b[49m\u001b[43m \u001b[49m\u001b[38;5;28;43;01mNone\u001b[39;49;00m\u001b[43m)\u001b[49m\u001b[43m,\u001b[49m\n\u001b[0;32m   1223\u001b[0m \u001b[43m    \u001b[49m\u001b[43mmemory_map\u001b[49m\u001b[38;5;241;43m=\u001b[39;49m\u001b[38;5;28;43mself\u001b[39;49m\u001b[38;5;241;43m.\u001b[39;49m\u001b[43moptions\u001b[49m\u001b[38;5;241;43m.\u001b[39;49m\u001b[43mget\u001b[49m\u001b[43m(\u001b[49m\u001b[38;5;124;43m\"\u001b[39;49m\u001b[38;5;124;43mmemory_map\u001b[39;49m\u001b[38;5;124;43m\"\u001b[39;49m\u001b[43m,\u001b[49m\u001b[43m \u001b[49m\u001b[38;5;28;43;01mFalse\u001b[39;49;00m\u001b[43m)\u001b[49m\u001b[43m,\u001b[49m\n\u001b[0;32m   1224\u001b[0m \u001b[43m    \u001b[49m\u001b[43mis_text\u001b[49m\u001b[38;5;241;43m=\u001b[39;49m\u001b[43mis_text\u001b[49m\u001b[43m,\u001b[49m\n\u001b[0;32m   1225\u001b[0m \u001b[43m    \u001b[49m\u001b[43merrors\u001b[49m\u001b[38;5;241;43m=\u001b[39;49m\u001b[38;5;28;43mself\u001b[39;49m\u001b[38;5;241;43m.\u001b[39;49m\u001b[43moptions\u001b[49m\u001b[38;5;241;43m.\u001b[39;49m\u001b[43mget\u001b[49m\u001b[43m(\u001b[49m\u001b[38;5;124;43m\"\u001b[39;49m\u001b[38;5;124;43mencoding_errors\u001b[39;49m\u001b[38;5;124;43m\"\u001b[39;49m\u001b[43m,\u001b[49m\u001b[43m \u001b[49m\u001b[38;5;124;43m\"\u001b[39;49m\u001b[38;5;124;43mstrict\u001b[39;49m\u001b[38;5;124;43m\"\u001b[39;49m\u001b[43m)\u001b[49m\u001b[43m,\u001b[49m\n\u001b[0;32m   1226\u001b[0m \u001b[43m    \u001b[49m\u001b[43mstorage_options\u001b[49m\u001b[38;5;241;43m=\u001b[39;49m\u001b[38;5;28;43mself\u001b[39;49m\u001b[38;5;241;43m.\u001b[39;49m\u001b[43moptions\u001b[49m\u001b[38;5;241;43m.\u001b[39;49m\u001b[43mget\u001b[49m\u001b[43m(\u001b[49m\u001b[38;5;124;43m\"\u001b[39;49m\u001b[38;5;124;43mstorage_options\u001b[39;49m\u001b[38;5;124;43m\"\u001b[39;49m\u001b[43m,\u001b[49m\u001b[43m \u001b[49m\u001b[38;5;28;43;01mNone\u001b[39;49;00m\u001b[43m)\u001b[49m\u001b[43m,\u001b[49m\n\u001b[0;32m   1227\u001b[0m \u001b[43m\u001b[49m\u001b[43m)\u001b[49m\n\u001b[0;32m   1228\u001b[0m \u001b[38;5;28;01massert\u001b[39;00m \u001b[38;5;28mself\u001b[39m\u001b[38;5;241m.\u001b[39mhandles \u001b[38;5;129;01mis\u001b[39;00m \u001b[38;5;129;01mnot\u001b[39;00m \u001b[38;5;28;01mNone\u001b[39;00m\n\u001b[0;32m   1229\u001b[0m f \u001b[38;5;241m=\u001b[39m \u001b[38;5;28mself\u001b[39m\u001b[38;5;241m.\u001b[39mhandles\u001b[38;5;241m.\u001b[39mhandle\n",
      "File \u001b[1;32m~\\anaconda3\\lib\\site-packages\\pandas\\io\\common.py:786\u001b[0m, in \u001b[0;36mget_handle\u001b[1;34m(path_or_buf, mode, encoding, compression, memory_map, is_text, errors, storage_options)\u001b[0m\n\u001b[0;32m    781\u001b[0m \u001b[38;5;28;01melif\u001b[39;00m \u001b[38;5;28misinstance\u001b[39m(handle, \u001b[38;5;28mstr\u001b[39m):\n\u001b[0;32m    782\u001b[0m     \u001b[38;5;66;03m# Check whether the filename is to be opened in binary mode.\u001b[39;00m\n\u001b[0;32m    783\u001b[0m     \u001b[38;5;66;03m# Binary mode does not support 'encoding' and 'newline'.\u001b[39;00m\n\u001b[0;32m    784\u001b[0m     \u001b[38;5;28;01mif\u001b[39;00m ioargs\u001b[38;5;241m.\u001b[39mencoding \u001b[38;5;129;01mand\u001b[39;00m \u001b[38;5;124m\"\u001b[39m\u001b[38;5;124mb\u001b[39m\u001b[38;5;124m\"\u001b[39m \u001b[38;5;129;01mnot\u001b[39;00m \u001b[38;5;129;01min\u001b[39;00m ioargs\u001b[38;5;241m.\u001b[39mmode:\n\u001b[0;32m    785\u001b[0m         \u001b[38;5;66;03m# Encoding\u001b[39;00m\n\u001b[1;32m--> 786\u001b[0m         handle \u001b[38;5;241m=\u001b[39m \u001b[38;5;28;43mopen\u001b[39;49m\u001b[43m(\u001b[49m\n\u001b[0;32m    787\u001b[0m \u001b[43m            \u001b[49m\u001b[43mhandle\u001b[49m\u001b[43m,\u001b[49m\n\u001b[0;32m    788\u001b[0m \u001b[43m            \u001b[49m\u001b[43mioargs\u001b[49m\u001b[38;5;241;43m.\u001b[39;49m\u001b[43mmode\u001b[49m\u001b[43m,\u001b[49m\n\u001b[0;32m    789\u001b[0m \u001b[43m            \u001b[49m\u001b[43mencoding\u001b[49m\u001b[38;5;241;43m=\u001b[39;49m\u001b[43mioargs\u001b[49m\u001b[38;5;241;43m.\u001b[39;49m\u001b[43mencoding\u001b[49m\u001b[43m,\u001b[49m\n\u001b[0;32m    790\u001b[0m \u001b[43m            \u001b[49m\u001b[43merrors\u001b[49m\u001b[38;5;241;43m=\u001b[39;49m\u001b[43merrors\u001b[49m\u001b[43m,\u001b[49m\n\u001b[0;32m    791\u001b[0m \u001b[43m            \u001b[49m\u001b[43mnewline\u001b[49m\u001b[38;5;241;43m=\u001b[39;49m\u001b[38;5;124;43m\"\u001b[39;49m\u001b[38;5;124;43m\"\u001b[39;49m\u001b[43m,\u001b[49m\n\u001b[0;32m    792\u001b[0m \u001b[43m        \u001b[49m\u001b[43m)\u001b[49m\n\u001b[0;32m    793\u001b[0m     \u001b[38;5;28;01melse\u001b[39;00m:\n\u001b[0;32m    794\u001b[0m         \u001b[38;5;66;03m# Binary mode\u001b[39;00m\n\u001b[0;32m    795\u001b[0m         handle \u001b[38;5;241m=\u001b[39m \u001b[38;5;28mopen\u001b[39m(handle, ioargs\u001b[38;5;241m.\u001b[39mmode)\n",
      "\u001b[1;31mFileNotFoundError\u001b[0m: [Errno 2] No such file or directory: './experiments/unrolling_WDN0194/FOS_tank/BaselineUnrolling/pred/testing/0.csv'"
     ]
    }
   ],
   "source": [
    "import os\n",
    "import regex as re\n",
    "# Directory path where you want to search\n",
    "directory_path = \"./experiments\"\n",
    "\n",
    "# Get a list of all subdirectories in the specified directory\n",
    "subdirectories = [d for d in os.listdir(directory_path) if os.path.isdir(os.path.join(directory_path, d))]\n",
    "\n",
    "# Filter and extract the numbers from directory names\n",
    "wdn_numbers = []\n",
    "for subdir in subdirectories:\n",
    "    match = re.match(r'unrolling_WDN(\\d{4})', subdir)\n",
    "    if match:\n",
    "        wdn_numbers.append(int(match.group(1)))\n",
    "\n",
    "# Find the latest WDN number\n",
    "latest_wdn_number = None\n",
    "if wdn_numbers:\n",
    "    latest_wdn_number = max(wdn_numbers)\n",
    "    latest_wdn_folder = f'unrolling_WDN{latest_wdn_number:04d}'\n",
    "    print(f\"The latest WDN folder is: {latest_wdn_folder}\")\n",
    "else:\n",
    "    print(\"No WDN folders found in the specified directory.\")\n",
    "\n",
    "if latest_wdn_folder is not None:\n",
    "\treal = pd.read_csv(f'./experiments/unrolling_WDN{latest_wdn_number:04d}/FOS_tank/LSTM/pred/testing/real.csv').drop(columns=['Unnamed: 0'])\n",
    "\tlstm_pred = pd.read_csv(f'./experiments/unrolling_WDN{latest_wdn_number:04d}/FOS_tank/LSTM/pred/testing/0.csv').drop(columns=['Unnamed: 0'])\n",
    "\tunrolling_pred =  pd.read_csv(f'./experiments/unrolling_WDN{latest_wdn_number:04d}/FOS_tank/BaselineUnrolling/pred/testing/0.csv').drop(columns=['Unnamed: 0'])"
   ]
  },
  {
   "cell_type": "code",
   "execution_count": null,
   "metadata": {
    "ExecuteTime": {
     "end_time": "2023-10-12T13:06:58.246242Z",
     "start_time": "2023-10-12T13:06:58.232284200Z"
    }
   },
   "outputs": [],
   "source": [
    "import matplotlib.pyplot as plt\n",
    "# Not sure if below makes sense since we now have an extra dimension\n",
    "res = real.sub(lstm_pred).pow(2).sum(axis=0)\n",
    "tot = real.sub(lstm_pred.mean(axis=0)).pow(2).sum(axis=0)\n",
    "r2_lstm = 1 - res/tot\n",
    "res = real.sub(unrolling_pred).pow(2).sum(axis=0)\n",
    "tot = real.sub(unrolling_pred.mean(axis=0)).pow(2).sum(axis=0)\n",
    "r2_unrolling = 1 - res/tot\n",
    "r2s = pd.concat([r2_lstm,r2_unrolling],axis=1).rename(columns={0:'LSTM',1:'Base-U'})\n",
    "fig, ax = plt.subplots()\n",
    "r2s.plot.box(ax=ax)\n",
    "ax.set_title(\"$R^2$ Scores Comparison for PES\")\n",
    "ax.set_ylabel('$R^2$ Score')\n",
    "plt.show()"
   ]
  },
  {
   "cell_type": "code",
   "execution_count": null,
   "metadata": {
    "ExecuteTime": {
     "start_time": "2023-10-12T13:06:58.236687300Z"
    }
   },
   "outputs": [],
   "source": [
    "model = torch.load(f'{results_folder}/{wdn}/{algorithm}/model.pickle')"
   ]
  },
  {
   "cell_type": "code",
   "execution_count": null,
   "metadata": {
    "ExecuteTime": {
     "start_time": "2023-10-12T13:06:58.236687300Z"
    }
   },
   "outputs": [],
   "source": []
  }
 ],
 "metadata": {
  "kernelspec": {
   "display_name": "Python 3 (ipykernel)",
   "language": "python",
   "name": "python3"
  },
  "language_info": {
   "codemirror_mode": {
    "name": "ipython",
    "version": 3
   },
   "file_extension": ".py",
   "mimetype": "text/x-python",
   "name": "python",
   "nbconvert_exporter": "python",
   "pygments_lexer": "ipython3",
   "version": "3.9.18"
  }
 },
 "nbformat": 4,
 "nbformat_minor": 1
}
