{
 "cells": [
  {
   "cell_type": "code",
   "execution_count": 24,
   "metadata": {
    "collapsed": true,
    "ExecuteTime": {
     "end_time": "2023-12-06T15:28:24.367168500Z",
     "start_time": "2023-12-06T15:28:24.338487300Z"
    }
   },
   "outputs": [],
   "source": [
    "from matplotlib import pyplot as plt\n",
    "import pysimdeum\n",
    "\n",
    "import wntr\n",
    "import time\n",
    "from objective_function import calculate_objective_function, run_WNTR_model\n",
    "import numpy as np"
   ]
  },
  {
   "cell_type": "markdown",
   "source": [
    "# Optimizing pump schedule function\n",
    "\n",
    "### For optimization of pumps to work the pump pattern ID needs to be 'pump_' + the pump name\n",
    "### Pattern Values are then assigned in order "
   ],
   "metadata": {
    "collapsed": false
   }
  },
  {
   "cell_type": "code",
   "execution_count": 25,
   "outputs": [],
   "source": [
    "def optimize_pump_schedule_WNTR(network_file, new_pump_pattern_values):\n",
    "    \n",
    "    # Pre-set electricity pattern values to calculate cost\n",
    "    electricity_pattern_values = [0.065, 0.06, 0.045, 0.047, 0.049, 0.07, 0.085, 0.09, 0.14, 0.19, 0.1, 0.11, 0.125, 0.095, 0.085, 0.08, 0.087, 0.087, 0.09, 0.09, 0.083, 0.18, 0.06, 0.04] \n",
    "    # in $/kWh\n",
    "    #https://www.researchgate.net/publication/238041923_A_mixed_integer_linear_formulation_for_microgrid_economic_scheduling/figures\n",
    "\n",
    "    # Run the model with the pump pattern values specified\n",
    "    output = run_WNTR_model(network_file, new_pump_pattern_values, electricity_pattern_values)\n",
    "    \n",
    "    # Calculate the objective function, which is the total energy, cost and minimum pressure per node during the run\n",
    "    \n",
    "    results = calculate_objective_function(output['wn'], output['result'], output['critical_nodes'], output['wn'].pump_name_list)\n",
    "    \n",
    "    total_energy = results[0]\n",
    "    total_cost = results[1]\n",
    "    nodal_pressures = results[2]\n",
    "    minimum_pressure_required = [5 for i in range(len(nodal_pressures))]\n",
    "    \n",
    "    pressure_surplus = [-nodal_pressures[j] + minimum_pressure_required[j] for j in range(len(nodal_pressures))]\n",
    "\n",
    "    return [total_energy, total_cost], pressure_surplus"
   ],
   "metadata": {
    "collapsed": false,
    "ExecuteTime": {
     "end_time": "2023-12-06T15:28:24.423451900Z",
     "start_time": "2023-12-06T15:28:24.345840900Z"
    }
   }
  },
  {
   "cell_type": "code",
   "execution_count": 26,
   "outputs": [
    {
     "data": {
      "text/plain": "([45772.76953125, 4106.520712760417],\n [-14.10759162902832,\n  -10.382590293884277,\n  -11.059404373168945,\n  -11.796239852905273,\n  -5.039170265197754,\n  -3.0753612518310547,\n  -12.688682556152344,\n  -5.052783012390137,\n  -6.028846740722656,\n  -14.076128005981445,\n  -13.880977630615234,\n  -12.873401641845703,\n  -8.83157730102539,\n  -10.928304672241211,\n  -12.800098419189453,\n  -11.818517684936523,\n  -10.497688293457031,\n  -13.51692008972168,\n  -13.463741302490234,\n  -11.435979843139648,\n  -9.963374137878418,\n  -11.822412490844727,\n  -10.120888710021973,\n  -3.9493331909179688,\n  -10.551101684570312,\n  -13.666032791137695,\n  -13.422769546508789,\n  -4.105134963989258,\n  -7.55220890045166,\n  -4.765007972717285,\n  -14.610063552856445,\n  -13.752239227294922,\n  -13.568737030029297,\n  -13.87747573852539,\n  -8.265019416809082,\n  -9.64751148223877])"
     },
     "execution_count": 26,
     "metadata": {},
     "output_type": "execute_result"
    }
   ],
   "source": [
    "optimize_pump_schedule_WNTR('../data_generation/networks/FOS_pump.inp', [[1]*24])"
   ],
   "metadata": {
    "collapsed": false,
    "ExecuteTime": {
     "end_time": "2023-12-06T15:28:24.425355100Z",
     "start_time": "2023-12-06T15:28:24.358879700Z"
    }
   }
  },
  {
   "cell_type": "markdown",
   "source": [
    "## Working networks"
   ],
   "metadata": {
    "collapsed": false
   }
  },
  {
   "cell_type": "markdown",
   "source": [
    "| Network name                       | Pump List | Pump Pattern List |\n",
    "|------------------------------------|-----------|-------------------|\n",
    "| Net1_modified                      | 9         | Plong             |\n",
    "| Anytown_revised_continuous_pumppat | P78       | PUMP              |\n",
    "| Custom_net                         | 5         | P5                |"
   ],
   "metadata": {
    "collapsed": false
   }
  },
  {
   "cell_type": "code",
   "execution_count": 27,
   "outputs": [],
   "source": [
    "from pymoo.core.problem import ElementwiseProblem\n",
    "from pymoo.algorithms.soo.nonconvex.ga import GA\n",
    "from pymoo.problems import get_problem\n",
    "from pymoo.termination import get_termination\n",
    "from pymoo.optimize import minimize\n",
    "from pymoo.operators.mutation.bitflip import BitflipMutation\n",
    "from pymoo.operators.crossover.pntx import TwoPointCrossover\n",
    "from pymoo.algorithms.moo.nsga2 import NSGA2\n",
    "\n",
    "\n",
    "from pymoo.operators.sampling.rnd import BinaryRandomSampling\n",
    "\n",
    "\n",
    "class SchedulePump(ElementwiseProblem):\n",
    "\n",
    "    def __init__(self, network_file, n_var=24, n_ieq_constr=36):\n",
    "        super().__init__(n_var=n_var,\n",
    "                         n_obj=2,\n",
    "                         n_ieq_constr=n_ieq_constr,\n",
    "                         xl=0,\n",
    "                         xu=1,\n",
    "                         vtype=bool)\n",
    "        \n",
    "        self.network_file=network_file\n",
    "\n",
    "    def _evaluate(self, x, out, *args, **kwargs):\n",
    "        # Minimization function\n",
    "        evaluation = optimize_pump_schedule_WNTR(self.network_file, [x])\n",
    "        \n",
    "        # The objective of the function. Total energy to minimize\n",
    "        out[\"F\"] = [evaluation[0][0], evaluation[0][1]]\n",
    "        \n",
    "        # The constraints of the function, as in pressure violations per node\n",
    "        out[\"G\"] = evaluation[1]\n",
    "\n",
    "def make_problem(input_file):\n",
    "    wn = wntr.network.WaterNetworkModel(input_file)\n",
    "    time_discrete = int(wn.options.time.duration/wn.options.time.pattern_timestep)\n",
    "    junctions = len(wn.junction_name_list)\n",
    "    return SchedulePump(network_file=input_file, n_var=time_discrete, n_ieq_constr=junctions)\n",
    "\n",
    "\n",
    "problem = make_problem('../data_generation/networks/FOS_pump_sched_3_0.inp')"
   ],
   "metadata": {
    "collapsed": false,
    "ExecuteTime": {
     "end_time": "2023-12-06T15:28:24.444754300Z",
     "start_time": "2023-12-06T15:28:24.413003900Z"
    }
   }
  },
  {
   "cell_type": "code",
   "execution_count": 30,
   "outputs": [
    {
     "name": "stdout",
     "output_type": "stream",
     "text": [
      "==========================================================================================\n",
      "n_gen  |  n_eval  | n_nds  |     cv_min    |     cv_avg    |      eps      |   indicator  \n",
      "==========================================================================================\n",
      "     1 |      100 |      1 |  9.411446E+03 |  8.081639E+04 |             - |             -\n",
      "     2 |      200 |      1 |  2.153898E+03 |  4.469764E+04 |             - |             -\n",
      "     3 |      300 |      1 |  2.087632E+03 |  2.146652E+04 |             - |             -\n",
      "     4 |      400 |      1 |  0.000000E+00 |  9.303943E+03 |             - |             -\n",
      "     5 |      500 |      2 |  0.000000E+00 |  4.600296E+03 |  1.6696297540 |         ideal\n",
      "     6 |      600 |      1 |  0.000000E+00 |  2.444680E+03 |  4.015046E+01 |         ideal\n",
      "     7 |      700 |      2 |  0.000000E+00 |  1.118309E+03 |  6.2761551840 |         ideal\n",
      "     8 |      800 |      2 |  0.000000E+00 |  6.283172E+02 |  0.000000E+00 |             f\n",
      "     9 |      900 |      1 |  0.000000E+00 |  3.555843E+02 |  1.842433E+02 |         ideal\n",
      "    10 |     1000 |      1 |  0.000000E+00 |  1.263016E+02 |  0.000000E+00 |             f\n",
      "    11 |     1100 |      1 |  0.000000E+00 |  4.336996E+01 |  1.804006E+02 |         ideal\n",
      "    12 |     1200 |      1 |  0.000000E+00 |  1.380068E+01 |  0.000000E+00 |             f\n",
      "    13 |     1300 |      1 |  0.000000E+00 |  1.209549E+01 |  0.000000E+00 |             f\n",
      "    14 |     1400 |      1 |  0.000000E+00 |  1.051903E+01 |  0.000000E+00 |             f\n",
      "    15 |     1500 |      1 |  0.000000E+00 |  8.5416574430 |  0.000000E+00 |             f\n",
      "    16 |     1600 |      1 |  0.000000E+00 |  7.8566370726 |  0.000000E+00 |             f\n",
      "    17 |     1700 |      1 |  0.000000E+00 |  6.7558348703 |  0.000000E+00 |             f\n",
      "    18 |     1800 |      1 |  0.000000E+00 |  6.1277454364 |  0.000000E+00 |             f\n",
      "    19 |     1900 |      1 |  0.000000E+00 |  5.9931261671 |  0.000000E+00 |             f\n",
      "    20 |     2000 |      1 |  0.000000E+00 |  5.8436384165 |  0.000000E+00 |             f\n"
     ]
    }
   ],
   "source": [
    "algorithm = NSGA2(pop_size=100,\n",
    "                  sampling=BinaryRandomSampling(),\n",
    "                  # crossover=TwoPointCrossover(),\n",
    "                  mutation=BitflipMutation(),\n",
    "                  eliminate_duplicates=True)\n",
    "\n",
    "termination = get_termination(\"n_gen\", 20)\n",
    "\n",
    "res = minimize(problem,\n",
    "               algorithm,\n",
    "               termination,\n",
    "               seed=1,\n",
    "               verbose=True)\n"
   ],
   "metadata": {
    "collapsed": false,
    "ExecuteTime": {
     "end_time": "2023-12-06T15:29:40.796210300Z",
     "start_time": "2023-12-06T15:29:02.015600400Z"
    }
   }
  },
  {
   "cell_type": "code",
   "execution_count": 31,
   "outputs": [
    {
     "name": "stdout",
     "output_type": "stream",
     "text": [
      "Best solution found: [[1 0 1 1 0 1 1 1 1 1 1 0 0 0 0 1 1 1 1 1 1 1 1]]\n",
      "Function value: [[13085.608  1246.381]]\n",
      "Constraint violation: [[0.]]\n"
     ]
    }
   ],
   "source": [
    "print(\"Best solution found: %s\" % res.X.astype(int))\n",
    "print(\"Function value: %s\" % res.F)\n",
    "print(\"Constraint violation: %s\" % res.CV)"
   ],
   "metadata": {
    "collapsed": false,
    "ExecuteTime": {
     "end_time": "2023-12-06T15:29:40.836629700Z",
     "start_time": "2023-12-06T15:29:40.800265200Z"
    }
   }
  },
  {
   "cell_type": "code",
   "execution_count": 29,
   "outputs": [],
   "source": [],
   "metadata": {
    "collapsed": false,
    "ExecuteTime": {
     "end_time": "2023-12-06T15:28:44.254030500Z",
     "start_time": "2023-12-06T15:28:44.221652Z"
    }
   }
  }
 ],
 "metadata": {
  "kernelspec": {
   "display_name": "Python 3",
   "language": "python",
   "name": "python3"
  },
  "language_info": {
   "codemirror_mode": {
    "name": "ipython",
    "version": 2
   },
   "file_extension": ".py",
   "mimetype": "text/x-python",
   "name": "python",
   "nbconvert_exporter": "python",
   "pygments_lexer": "ipython2",
   "version": "2.7.6"
  }
 },
 "nbformat": 4,
 "nbformat_minor": 0
}
